{
 "cells": [
  {
   "cell_type": "code",
   "execution_count": 26,
   "metadata": {},
   "outputs": [],
   "source": [
    "from scipy.io import loadmat\n",
    "import numpy as np\n",
    "import os\n",
    "import csv"
   ]
  },
  {
   "cell_type": "markdown",
   "metadata": {},
   "source": [
    "<h2> Process Multiple Files</h3>"
   ]
  },
  {
   "cell_type": "markdown",
   "metadata": {},
   "source": [
    "<h3>After training/inference: Make syllable F0 CSV files for use during WAV conversion</h3>"
   ]
  },
  {
   "cell_type": "code",
   "execution_count": 91,
   "metadata": {},
   "outputs": [
    {
     "name": "stdout",
     "output_type": "stream",
     "text": [
      "done\n"
     ]
    }
   ],
   "source": [
    "# make csv file for every entry in test_log.txt, using the contents of the relevant line in predictions.txt\n",
    "# does NOT rely on variables above - to be run AFTER model is trained and predictions have been inferred.\n",
    "\n",
    "# output format - column of integers with a newline after each (so there's an empty line at the end)\n",
    "\n",
    "# path to input files directories\n",
    "# test_log_directory_path = '/Users/robinson/Dropbox/anasynth/_data/emoVC/Olivia2006/f0_raw_syllable/out/'\n",
    "test_log_directory_path = '/Users/robinson/Dropbox/anasynth/_data/emoVC/Olivia2006/f0_raw_phoneme/out/'\n",
    "test_log_filename = 'test_log.txt'\n",
    "\n",
    "# path to input files directories\n",
    "# pred_directory_path = '/Users/robinson/Downloads/data/pred/20180628_151243/'\n",
    "pred_directory_path = '/Users/robinson/Downloads/data/pred/20180902_171045_col8_cond_i1to5'\n",
    "pred_filename = 'predictions.txt'\n",
    "\n",
    "# define output filenames and paths\n",
    "output_directory = os.path.join(pred_directory_path, 'phonemes')\n",
    "if not os.path.exists(output_directory):\n",
    "    os.mkdir(output_directory)\n",
    "\n",
    "# open source and target input files to read from\n",
    "f_test_log = open(os.path.join(test_log_directory_path, test_log_filename), 'r')\n",
    "f_pred = open(os.path.join(pred_directory_path, pred_filename), 'r')\n",
    "\n",
    "# read the input files line by line, stripping all whitespace and empty lines\n",
    "test_log_list = f_test_log.read().strip().split('\\n')  # one filename per line\n",
    "pred_strings_list = f_pred.read().strip().split('\\n')  # one string of integers separated by single whitespaces\n",
    "\n",
    "# for each line in test_log_list\n",
    "for i, syll_filename in enumerate(test_log_list): \n",
    "    # get the corresponding line from pred_strings_list and split the line by ' '\n",
    "    f0_list = pred_strings_list[i].split(' ')\n",
    "    # open a new file in output_directory, using filename from test_log_list\n",
    "    # print('syll_filename', syll_filename)\n",
    "    f_syll = open(os.path.join(output_directory, syll_filename), 'w')    \n",
    "    # write the list of strings to it, with newline after each element\n",
    "    for line in f0_list:\n",
    "        if line == 'UNK':\n",
    "            # set UNK to lowest possible value in TARGET vocab\n",
    "            f_syll.write(str(50) + '\\n')\n",
    "        else:\n",
    "            f_syll.write(line + '\\n')\n",
    "    # close the output file\n",
    "    f_syll.close()\n",
    "\n",
    "# close the two input files\n",
    "f_test_log.close()\n",
    "f_pred.close()\n",
    "\n",
    "print('done')"
   ]
  },
  {
   "cell_type": "code",
   "execution_count": null,
   "metadata": {},
   "outputs": [],
   "source": []
  }
 ],
 "metadata": {
  "kernelspec": {
   "display_name": "Python 3",
   "language": "python",
   "name": "python3"
  },
  "language_info": {
   "codemirror_mode": {
    "name": "ipython",
    "version": 3
   },
   "file_extension": ".py",
   "mimetype": "text/x-python",
   "name": "python",
   "nbconvert_exporter": "python",
   "pygments_lexer": "ipython3",
   "version": "3.6.4"
  }
 },
 "nbformat": 4,
 "nbformat_minor": 2
}
