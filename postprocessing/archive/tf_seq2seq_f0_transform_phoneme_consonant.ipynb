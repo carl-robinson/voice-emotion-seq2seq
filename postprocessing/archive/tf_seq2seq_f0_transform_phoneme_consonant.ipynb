{
 "cells": [
  {
   "cell_type": "code",
   "execution_count": 126,
   "metadata": {},
   "outputs": [
    {
     "name": "stdout",
     "output_type": "stream",
     "text": [
      "['', '/Users/robinson/Dropbox/anasynth/_code', '/Users/robinson/Dropbox/anasynth/_code/as_pysrc', '/Users/robinson/Dropbox/anasynth/_code/tf_seq2seq', '/u/formes/share/packages/anaconda3/envs/DeepLearning/lib/python36.zip', '/u/formes/share/packages/anaconda3/envs/DeepLearning/lib/python3.6', '/u/formes/share/packages/anaconda3/envs/DeepLearning/lib/python3.6/lib-dynload', '/Users/robinson/Dropbox/anasynth/_code/anaconda/lib/python3.6/site-packages', '/Users/robinson/Dropbox/anasynth/_code/seq2seq', '/Users/robinson/Dropbox/anasynth/_code/anaconda/lib/python3.6/site-packages/as_pysrc_utils_poly-0.2-py3.6-macosx-10.7-x86_64.egg', '/Users/robinson/Dropbox/anasynth/_code/anaconda/lib/python3.6/site-packages/as_pysrc_utils_levinson-0.1-py3.6-macosx-10.7-x86_64.egg', '/Users/robinson/Dropbox/anasynth/_code/anaconda/lib/python3.6/site-packages/utils_bspline-1.0.0-py3.6-macosx-10.7-x86_64.egg', '/Users/robinson/Dropbox/anasynth/_code/anaconda/lib/python3.6/site-packages/opt_congrad_sc_c-1.2.2-py3.6-macosx-10.7-x86_64.egg', '/Users/robinson/Dropbox/anasynth/_code/anaconda/lib/python3.6/site-packages/dtw_c-1.1.0-py3.6-macosx-10.7-x86_64.egg', '/Users/robinson/Dropbox/anasynth/_code/anaconda/lib/python3.6/site-packages/ar_dap_conjugate_gradient_optimization_support-1.0.1-py3.6-macosx-10.7-x86_64.egg', '/Users/robinson/Dropbox/anasynth/_code/anaconda/lib/python3.6/site-packages/sig_proc_estim_harmonics-1.0.0-py3.6-macosx-10.7-x86_64.egg', '/u/formes/share/packages/anaconda3/envs/DeepLearning/lib/python3.6/site-packages', '/u/formes/share/packages/anaconda3/envs/DeepLearning/lib/python3.6/site-packages/aeosa', '/Applications/PyCharm.app/Contents/helpers/pycharm_matplotlib_backend', '/u/formes/share/packages/anaconda3/envs/DeepLearning/lib/python3.6/site-packages/IPython/extensions', '/Users/robinson/.ipython']\n"
     ]
    }
   ],
   "source": [
    "import numpy as np\n",
    "from as_pysrc.svp_cmds import alignSnds, calc_f0_swipe\n",
    "from as_pysrc.svp_cmds.transpose_f0 import transpose_f0\n",
    "import as_pysrc.fileio.sdif.FSdifLoadFile as FSdifLoadFile\n",
    "from as_pysrc.fileio.sdif.get_f0_info import get_f0_info\n",
    "from scipy.io import wavfile, loadmat\n",
    "import os\n",
    "import glob\n",
    "from shutil import copyfile\n",
    "import sys\n",
    "print(sys.path)"
   ]
  },
  {
   "cell_type": "markdown",
   "metadata": {},
   "source": [
    "<h3>Remember: Make syllable F0 CSV files for use during WAV conversion using tf_seq2seq_data_processing_test_input.ipynb"
   ]
  },
  {
   "cell_type": "code",
   "execution_count": 127,
   "metadata": {},
   "outputs": [
    {
     "data": {
      "text/plain": [
       "\"\\n# I need a way to link the transformed syllable f0 back to it's source file and position in that file, \\nso I can assemble the sequence of transformed f0 contours for a particular phrase\\n\\n# the problem with test data is that the syllables are a subset of all syllables across all files in the dataset, \\n# so not all syllables of a particular phrase will be present.. This makes it difficult to infer only on test data \\nin order to test the conversion.\\n\\n# I could 'cheat', and just infer on the whole dataset (including data i trained on), to see what the conversion is \\nlike - DONE\\n# Or I could separate off some complete phrases to test on later (random shuffle), and train on the rest. - TODO \\n# would be good to do both, to see the difference it makes! \\n\\n\\n# for each wavfile...\\n\\n# get list of syllables, and make list of true/false to indicate voiced/unvoiced\\n\\n# make list of before-times (all the start and end times of all voiced and unvoiced parts) - this is just what's in \\nthe mat file (syll_time) - you prob don't want the final value\\n\\n# make list of end-times (all the start and end times of all voiced and unvoiced parts)\\n    # make list of durations of each voiced syllable from new f0 contour, and duration of unvoiced syllable from \\n    original file (handle missing files too..):\\n    # for each syllable in a file:\\n      # if syll is voiced\\n          # if file is present:\\n            # add NEW f0 contour length to dur-list\\n          # else add original 'before-time' syll length\\n      # else if unvoiced\\n          # add before-times unvoiced syll length to dur-list\\n\\n# make a new list for the final end-times\\n# for all elements in dur-list\\n  # add end time to end-times-list as sum of all elements currently in the list, plus next duration in the list - \\n  cumsum\\n          \\n\\n\\n\""
      ]
     },
     "execution_count": 127,
     "metadata": {},
     "output_type": "execute_result"
    }
   ],
   "source": [
    "# def alignSnds(sndfile_to_be_aligned, outfile, temporal_positions,\n",
    "#               winsize,  svpcmd=svp_executable, shape=False,\n",
    "#               transients=False, oversamp=8, vudem=3, transdet_minren=None, verbose=False) :\n",
    "#     '''\n",
    "#     use supervp to align sndfile_to_be_aligned to sndfile by means of stretching\n",
    "#     the first to align to the second.\n",
    "#     '''\n",
    "    \n",
    "'''\n",
    "# I need a way to link the transformed syllable f0 back to it's source file and position in that file, \n",
    "so I can assemble the sequence of transformed f0 contours for a particular phrase\n",
    "\n",
    "# the problem with test data is that the syllables are a subset of all syllables across all files in the dataset, \n",
    "# so not all syllables of a particular phrase will be present.. This makes it difficult to infer only on test data \n",
    "in order to test the conversion.\n",
    "\n",
    "# I could 'cheat', and just infer on the whole dataset (including data i trained on), to see what the conversion is \n",
    "like - DONE\n",
    "# Or I could separate off some complete phrases to test on later (random shuffle), and train on the rest. - TODO \n",
    "# would be good to do both, to see the difference it makes! \n",
    "\n",
    "\n",
    "# for each wavfile...\n",
    "\n",
    "# get list of syllables, and make list of true/false to indicate voiced/unvoiced\n",
    "\n",
    "# make list of before-times (all the start and end times of all voiced and unvoiced parts) - this is just what's in \n",
    "the mat file (syll_time) - you prob don't want the final value\n",
    "\n",
    "# make list of end-times (all the start and end times of all voiced and unvoiced parts)\n",
    "    # make list of durations of each voiced syllable from new f0 contour, and duration of unvoiced syllable from \n",
    "    original file (handle missing files too..):\n",
    "    # for each syllable in a file:\n",
    "      # if syll is voiced\n",
    "          # if file is present:\n",
    "            # add NEW f0 contour length to dur-list\n",
    "          # else add original 'before-time' syll length\n",
    "      # else if unvoiced\n",
    "          # add before-times unvoiced syll length to dur-list\n",
    "\n",
    "# make a new list for the final end-times\n",
    "# for all elements in dur-list\n",
    "  # add end time to end-times-list as sum of all elements currently in the list, plus next duration in the list - \n",
    "  cumsum\n",
    "          \n",
    "\n",
    "\n",
    "'''"
   ]
  },
  {
   "cell_type": "markdown",
   "metadata": {},
   "source": [
    "<h3>Make SDIFs containing F0 for original WAV files"
   ]
  },
  {
   "cell_type": "code",
   "execution_count": 128,
   "metadata": {
    "collapsed": true
   },
   "outputs": [
    {
     "name": "stdout",
     "output_type": "stream",
     "text": [
      "/Users/robinson/Downloads/data/Olivia2006/Olivia2006_AUDIO/.DS_Store\n/Users/robinson/Downloads/data/Olivia2006/Olivia2006_AUDIO/compare\n/Users/robinson/Downloads/data/Olivia2006/Olivia2006_AUDIO/f0compare\n/Users/robinson/Downloads/data/Olivia2006/Olivia2006_AUDIO/f0transpose\n/Users/robinson/Downloads/data/Olivia2006/Olivia2006_AUDIO/Olivia2006.e01.p01.i00.1.wav\n"
     ]
    },
    {
     "name": "stdout",
     "output_type": "stream",
     "text": [
      "/Users/robinson/Downloads/data/Olivia2006/Olivia2006_AUDIO/Olivia2006.e01.p01.i01.2.wav\n"
     ]
    },
    {
     "name": "stdout",
     "output_type": "stream",
     "text": [
      "/Users/robinson/Downloads/data/Olivia2006/Olivia2006_AUDIO/Olivia2006.e01.p01.i02.3.wav\n"
     ]
    },
    {
     "name": "stdout",
     "output_type": "stream",
     "text": [
      "/Users/robinson/Downloads/data/Olivia2006/Olivia2006_AUDIO/Olivia2006.e01.p01.i03.4.wav\n"
     ]
    },
    {
     "name": "stdout",
     "output_type": "stream",
     "text": [
      "/Users/robinson/Downloads/data/Olivia2006/Olivia2006_AUDIO/Olivia2006.e01.p01.i04.5.wav\n"
     ]
    },
    {
     "name": "stdout",
     "output_type": "stream",
     "text": [
      "/Users/robinson/Downloads/data/Olivia2006/Olivia2006_AUDIO/Olivia2006.e01.p01.i05.6.wav\n"
     ]
    },
    {
     "name": "stdout",
     "output_type": "stream",
     "text": [
      "/Users/robinson/Downloads/data/Olivia2006/Olivia2006_AUDIO/Olivia2006.e01.p01.i06.7.wav\n"
     ]
    },
    {
     "name": "stdout",
     "output_type": "stream",
     "text": [
      "/Users/robinson/Downloads/data/Olivia2006/Olivia2006_AUDIO/Olivia2006.e01.p02.i00.8.wav\n"
     ]
    },
    {
     "name": "stdout",
     "output_type": "stream",
     "text": [
      "/Users/robinson/Downloads/data/Olivia2006/Olivia2006_AUDIO/Olivia2006.e01.p02.i01.9.wav\n"
     ]
    },
    {
     "name": "stdout",
     "output_type": "stream",
     "text": [
      "/Users/robinson/Downloads/data/Olivia2006/Olivia2006_AUDIO/Olivia2006.e01.p02.i02.10.wav\n"
     ]
    },
    {
     "name": "stdout",
     "output_type": "stream",
     "text": [
      "/Users/robinson/Downloads/data/Olivia2006/Olivia2006_AUDIO/Olivia2006.e01.p02.i03.11.wav\n"
     ]
    },
    {
     "name": "stdout",
     "output_type": "stream",
     "text": [
      "/Users/robinson/Downloads/data/Olivia2006/Olivia2006_AUDIO/Olivia2006.e01.p02.i04.12.wav\n"
     ]
    },
    {
     "name": "stdout",
     "output_type": "stream",
     "text": [
      "/Users/robinson/Downloads/data/Olivia2006/Olivia2006_AUDIO/Olivia2006.e01.p02.i05.13.wav\n"
     ]
    },
    {
     "name": "stdout",
     "output_type": "stream",
     "text": [
      "/Users/robinson/Downloads/data/Olivia2006/Olivia2006_AUDIO/Olivia2006.e01.p03.i00.14.wav\n"
     ]
    },
    {
     "name": "stdout",
     "output_type": "stream",
     "text": [
      "/Users/robinson/Downloads/data/Olivia2006/Olivia2006_AUDIO/Olivia2006.e01.p03.i01.15.wav\n"
     ]
    },
    {
     "name": "stdout",
     "output_type": "stream",
     "text": [
      "/Users/robinson/Downloads/data/Olivia2006/Olivia2006_AUDIO/Olivia2006.e01.p03.i02.16.wav\n"
     ]
    },
    {
     "name": "stdout",
     "output_type": "stream",
     "text": [
      "/Users/robinson/Downloads/data/Olivia2006/Olivia2006_AUDIO/Olivia2006.e01.p03.i03.17.wav\n"
     ]
    },
    {
     "name": "stdout",
     "output_type": "stream",
     "text": [
      "/Users/robinson/Downloads/data/Olivia2006/Olivia2006_AUDIO/Olivia2006.e01.p03.i04.18.wav\n"
     ]
    },
    {
     "name": "stdout",
     "output_type": "stream",
     "text": [
      "/Users/robinson/Downloads/data/Olivia2006/Olivia2006_AUDIO/Olivia2006.e01.p03.i05.19.wav\n"
     ]
    },
    {
     "name": "stdout",
     "output_type": "stream",
     "text": [
      "/Users/robinson/Downloads/data/Olivia2006/Olivia2006_AUDIO/Olivia2006.e01.p04.i00.20.wav\n"
     ]
    },
    {
     "name": "stdout",
     "output_type": "stream",
     "text": [
      "/Users/robinson/Downloads/data/Olivia2006/Olivia2006_AUDIO/Olivia2006.e01.p04.i01.21.wav\n"
     ]
    },
    {
     "name": "stdout",
     "output_type": "stream",
     "text": [
      "/Users/robinson/Downloads/data/Olivia2006/Olivia2006_AUDIO/Olivia2006.e01.p04.i02.22.wav\n"
     ]
    },
    {
     "name": "stdout",
     "output_type": "stream",
     "text": [
      "/Users/robinson/Downloads/data/Olivia2006/Olivia2006_AUDIO/Olivia2006.e01.p04.i03.23.wav\n"
     ]
    },
    {
     "name": "stdout",
     "output_type": "stream",
     "text": [
      "/Users/robinson/Downloads/data/Olivia2006/Olivia2006_AUDIO/Olivia2006.e01.p04.i04.24.wav\n"
     ]
    },
    {
     "name": "stdout",
     "output_type": "stream",
     "text": [
      "/Users/robinson/Downloads/data/Olivia2006/Olivia2006_AUDIO/Olivia2006.e01.p04.i05.25.wav\n"
     ]
    },
    {
     "name": "stdout",
     "output_type": "stream",
     "text": [
      "/Users/robinson/Downloads/data/Olivia2006/Olivia2006_AUDIO/Olivia2006.e01.p05.i00.26.wav\n"
     ]
    },
    {
     "name": "stdout",
     "output_type": "stream",
     "text": [
      "/Users/robinson/Downloads/data/Olivia2006/Olivia2006_AUDIO/Olivia2006.e01.p05.i01.27.wav\n"
     ]
    },
    {
     "name": "stdout",
     "output_type": "stream",
     "text": [
      "/Users/robinson/Downloads/data/Olivia2006/Olivia2006_AUDIO/Olivia2006.e01.p05.i02.28.wav\n"
     ]
    },
    {
     "name": "stdout",
     "output_type": "stream",
     "text": [
      "/Users/robinson/Downloads/data/Olivia2006/Olivia2006_AUDIO/Olivia2006.e01.p05.i03.29.wav\n"
     ]
    },
    {
     "name": "stdout",
     "output_type": "stream",
     "text": [
      "/Users/robinson/Downloads/data/Olivia2006/Olivia2006_AUDIO/Olivia2006.e01.p05.i04.30.wav\n"
     ]
    },
    {
     "name": "stdout",
     "output_type": "stream",
     "text": [
      "/Users/robinson/Downloads/data/Olivia2006/Olivia2006_AUDIO/Olivia2006.e01.p05.i05.31.wav\n"
     ]
    },
    {
     "name": "stdout",
     "output_type": "stream",
     "text": [
      "/Users/robinson/Downloads/data/Olivia2006/Olivia2006_AUDIO/Olivia2006.e01.p06.i00.32.wav\n"
     ]
    },
    {
     "name": "stdout",
     "output_type": "stream",
     "text": [
      "/Users/robinson/Downloads/data/Olivia2006/Olivia2006_AUDIO/Olivia2006.e01.p06.i01.33.wav\n"
     ]
    },
    {
     "name": "stdout",
     "output_type": "stream",
     "text": [
      "/Users/robinson/Downloads/data/Olivia2006/Olivia2006_AUDIO/Olivia2006.e01.p06.i02.34.wav\n"
     ]
    },
    {
     "name": "stdout",
     "output_type": "stream",
     "text": [
      "/Users/robinson/Downloads/data/Olivia2006/Olivia2006_AUDIO/Olivia2006.e01.p06.i03.35.wav\n"
     ]
    },
    {
     "name": "stdout",
     "output_type": "stream",
     "text": [
      "/Users/robinson/Downloads/data/Olivia2006/Olivia2006_AUDIO/Olivia2006.e01.p06.i04.36.wav\n"
     ]
    },
    {
     "name": "stdout",
     "output_type": "stream",
     "text": [
      "/Users/robinson/Downloads/data/Olivia2006/Olivia2006_AUDIO/Olivia2006.e01.p06.i05.37.wav\n"
     ]
    },
    {
     "name": "stdout",
     "output_type": "stream",
     "text": [
      "/Users/robinson/Downloads/data/Olivia2006/Olivia2006_AUDIO/Olivia2006.e01.p07.i00.38.wav\n"
     ]
    },
    {
     "name": "stdout",
     "output_type": "stream",
     "text": [
      "/Users/robinson/Downloads/data/Olivia2006/Olivia2006_AUDIO/Olivia2006.e01.p07.i01.39.wav\n"
     ]
    },
    {
     "name": "stdout",
     "output_type": "stream",
     "text": [
      "/Users/robinson/Downloads/data/Olivia2006/Olivia2006_AUDIO/Olivia2006.e01.p07.i02.40.wav\n"
     ]
    },
    {
     "name": "stdout",
     "output_type": "stream",
     "text": [
      "/Users/robinson/Downloads/data/Olivia2006/Olivia2006_AUDIO/Olivia2006.e01.p07.i03.41.wav\n"
     ]
    },
    {
     "name": "stdout",
     "output_type": "stream",
     "text": [
      "/Users/robinson/Downloads/data/Olivia2006/Olivia2006_AUDIO/Olivia2006.e01.p07.i04.42.wav\n"
     ]
    },
    {
     "name": "stdout",
     "output_type": "stream",
     "text": [
      "/Users/robinson/Downloads/data/Olivia2006/Olivia2006_AUDIO/Olivia2006.e01.p07.i05.43.wav\n"
     ]
    },
    {
     "name": "stdout",
     "output_type": "stream",
     "text": [
      "/Users/robinson/Downloads/data/Olivia2006/Olivia2006_AUDIO/Olivia2006.e01.p08.i00.44.wav\n"
     ]
    },
    {
     "name": "stdout",
     "output_type": "stream",
     "text": [
      "/Users/robinson/Downloads/data/Olivia2006/Olivia2006_AUDIO/Olivia2006.e01.p08.i01.45.wav\n"
     ]
    },
    {
     "name": "stdout",
     "output_type": "stream",
     "text": [
      "/Users/robinson/Downloads/data/Olivia2006/Olivia2006_AUDIO/Olivia2006.e01.p08.i02.46.wav\n"
     ]
    },
    {
     "name": "stdout",
     "output_type": "stream",
     "text": [
      "/Users/robinson/Downloads/data/Olivia2006/Olivia2006_AUDIO/Olivia2006.e01.p08.i03.47.wav\n"
     ]
    },
    {
     "name": "stdout",
     "output_type": "stream",
     "text": [
      "/Users/robinson/Downloads/data/Olivia2006/Olivia2006_AUDIO/Olivia2006.e01.p08.i04.48.wav\n"
     ]
    },
    {
     "name": "stdout",
     "output_type": "stream",
     "text": [
      "/Users/robinson/Downloads/data/Olivia2006/Olivia2006_AUDIO/Olivia2006.e01.p08.i05.49.wav\n"
     ]
    },
    {
     "name": "stdout",
     "output_type": "stream",
     "text": [
      "/Users/robinson/Downloads/data/Olivia2006/Olivia2006_AUDIO/Olivia2006.e01.p09.i00.50.wav\n"
     ]
    },
    {
     "name": "stdout",
     "output_type": "stream",
     "text": [
      "/Users/robinson/Downloads/data/Olivia2006/Olivia2006_AUDIO/Olivia2006.e01.p09.i01.51.wav\n"
     ]
    },
    {
     "name": "stdout",
     "output_type": "stream",
     "text": [
      "/Users/robinson/Downloads/data/Olivia2006/Olivia2006_AUDIO/Olivia2006.e01.p09.i02.52.wav\n"
     ]
    },
    {
     "name": "stdout",
     "output_type": "stream",
     "text": [
      "/Users/robinson/Downloads/data/Olivia2006/Olivia2006_AUDIO/Olivia2006.e01.p09.i03.53.wav\n"
     ]
    },
    {
     "name": "stdout",
     "output_type": "stream",
     "text": [
      "/Users/robinson/Downloads/data/Olivia2006/Olivia2006_AUDIO/Olivia2006.e01.p09.i04.54.wav\n"
     ]
    },
    {
     "name": "stdout",
     "output_type": "stream",
     "text": [
      "/Users/robinson/Downloads/data/Olivia2006/Olivia2006_AUDIO/Olivia2006.e01.p09.i05.55.wav\n"
     ]
    },
    {
     "name": "stdout",
     "output_type": "stream",
     "text": [
      "/Users/robinson/Downloads/data/Olivia2006/Olivia2006_AUDIO/Olivia2006.e01.p10.i00.56.wav\n"
     ]
    },
    {
     "name": "stdout",
     "output_type": "stream",
     "text": [
      "/Users/robinson/Downloads/data/Olivia2006/Olivia2006_AUDIO/Olivia2006.e01.p10.i01.57.wav\n"
     ]
    },
    {
     "name": "stdout",
     "output_type": "stream",
     "text": [
      "/Users/robinson/Downloads/data/Olivia2006/Olivia2006_AUDIO/Olivia2006.e01.p10.i02.58.wav\n"
     ]
    },
    {
     "name": "stdout",
     "output_type": "stream",
     "text": [
      "/Users/robinson/Downloads/data/Olivia2006/Olivia2006_AUDIO/Olivia2006.e01.p10.i03.59.wav\n"
     ]
    },
    {
     "name": "stdout",
     "output_type": "stream",
     "text": [
      "/Users/robinson/Downloads/data/Olivia2006/Olivia2006_AUDIO/Olivia2006.e01.p10.i04.60.wav\n"
     ]
    },
    {
     "name": "stdout",
     "output_type": "stream",
     "text": [
      "/Users/robinson/Downloads/data/Olivia2006/Olivia2006_AUDIO/Olivia2006.e01.p10.i05.61.wav\n"
     ]
    },
    {
     "name": "stdout",
     "output_type": "stream",
     "text": [
      "/Users/robinson/Downloads/data/Olivia2006/Olivia2006_AUDIO/Olivia2006.e02.p01.i00.62.wav\n"
     ]
    },
    {
     "name": "stdout",
     "output_type": "stream",
     "text": [
      "/Users/robinson/Downloads/data/Olivia2006/Olivia2006_AUDIO/Olivia2006.e02.p01.i01.63.wav\n"
     ]
    },
    {
     "name": "stdout",
     "output_type": "stream",
     "text": [
      "/Users/robinson/Downloads/data/Olivia2006/Olivia2006_AUDIO/Olivia2006.e02.p01.i02.64.wav\n"
     ]
    },
    {
     "name": "stdout",
     "output_type": "stream",
     "text": [
      "/Users/robinson/Downloads/data/Olivia2006/Olivia2006_AUDIO/Olivia2006.e02.p01.i03.65.wav\n"
     ]
    },
    {
     "name": "stdout",
     "output_type": "stream",
     "text": [
      "/Users/robinson/Downloads/data/Olivia2006/Olivia2006_AUDIO/Olivia2006.e02.p01.i04.66.wav\n"
     ]
    },
    {
     "name": "stdout",
     "output_type": "stream",
     "text": [
      "/Users/robinson/Downloads/data/Olivia2006/Olivia2006_AUDIO/Olivia2006.e02.p01.i05.67.wav\n"
     ]
    },
    {
     "name": "stdout",
     "output_type": "stream",
     "text": [
      "/Users/robinson/Downloads/data/Olivia2006/Olivia2006_AUDIO/Olivia2006.e02.p02.i00.68.wav\n"
     ]
    },
    {
     "name": "stdout",
     "output_type": "stream",
     "text": [
      "/Users/robinson/Downloads/data/Olivia2006/Olivia2006_AUDIO/Olivia2006.e02.p02.i01.69.wav\n"
     ]
    },
    {
     "name": "stdout",
     "output_type": "stream",
     "text": [
      "/Users/robinson/Downloads/data/Olivia2006/Olivia2006_AUDIO/Olivia2006.e02.p02.i02.70.wav\n"
     ]
    },
    {
     "name": "stdout",
     "output_type": "stream",
     "text": [
      "/Users/robinson/Downloads/data/Olivia2006/Olivia2006_AUDIO/Olivia2006.e02.p02.i03.71.wav\n"
     ]
    },
    {
     "name": "stdout",
     "output_type": "stream",
     "text": [
      "/Users/robinson/Downloads/data/Olivia2006/Olivia2006_AUDIO/Olivia2006.e02.p02.i04.72.wav\n"
     ]
    },
    {
     "name": "stdout",
     "output_type": "stream",
     "text": [
      "/Users/robinson/Downloads/data/Olivia2006/Olivia2006_AUDIO/Olivia2006.e02.p02.i05.73.wav\n"
     ]
    },
    {
     "name": "stdout",
     "output_type": "stream",
     "text": [
      "/Users/robinson/Downloads/data/Olivia2006/Olivia2006_AUDIO/Olivia2006.e02.p03.i00.74.wav\n"
     ]
    },
    {
     "name": "stdout",
     "output_type": "stream",
     "text": [
      "/Users/robinson/Downloads/data/Olivia2006/Olivia2006_AUDIO/Olivia2006.e02.p03.i01.75.wav\n"
     ]
    },
    {
     "name": "stdout",
     "output_type": "stream",
     "text": [
      "/Users/robinson/Downloads/data/Olivia2006/Olivia2006_AUDIO/Olivia2006.e02.p03.i02.76.wav\n"
     ]
    },
    {
     "name": "stdout",
     "output_type": "stream",
     "text": [
      "/Users/robinson/Downloads/data/Olivia2006/Olivia2006_AUDIO/Olivia2006.e02.p03.i03.77.wav\n"
     ]
    },
    {
     "name": "stdout",
     "output_type": "stream",
     "text": [
      "/Users/robinson/Downloads/data/Olivia2006/Olivia2006_AUDIO/Olivia2006.e02.p03.i04.78.wav\n"
     ]
    },
    {
     "name": "stdout",
     "output_type": "stream",
     "text": [
      "/Users/robinson/Downloads/data/Olivia2006/Olivia2006_AUDIO/Olivia2006.e02.p03.i05.79.wav\n"
     ]
    },
    {
     "name": "stdout",
     "output_type": "stream",
     "text": [
      "/Users/robinson/Downloads/data/Olivia2006/Olivia2006_AUDIO/Olivia2006.e02.p04.i00.80.wav\n"
     ]
    },
    {
     "name": "stdout",
     "output_type": "stream",
     "text": [
      "/Users/robinson/Downloads/data/Olivia2006/Olivia2006_AUDIO/Olivia2006.e02.p04.i01.81.wav\n"
     ]
    },
    {
     "name": "stdout",
     "output_type": "stream",
     "text": [
      "/Users/robinson/Downloads/data/Olivia2006/Olivia2006_AUDIO/Olivia2006.e02.p04.i02.82.wav\n"
     ]
    },
    {
     "name": "stdout",
     "output_type": "stream",
     "text": [
      "/Users/robinson/Downloads/data/Olivia2006/Olivia2006_AUDIO/Olivia2006.e02.p04.i03.83.wav\n"
     ]
    },
    {
     "name": "stdout",
     "output_type": "stream",
     "text": [
      "/Users/robinson/Downloads/data/Olivia2006/Olivia2006_AUDIO/Olivia2006.e02.p04.i04.84.wav\n"
     ]
    },
    {
     "name": "stdout",
     "output_type": "stream",
     "text": [
      "/Users/robinson/Downloads/data/Olivia2006/Olivia2006_AUDIO/Olivia2006.e02.p04.i05.85.wav\n"
     ]
    },
    {
     "name": "stdout",
     "output_type": "stream",
     "text": [
      "/Users/robinson/Downloads/data/Olivia2006/Olivia2006_AUDIO/Olivia2006.e02.p05.i00.86.wav\n"
     ]
    },
    {
     "name": "stdout",
     "output_type": "stream",
     "text": [
      "/Users/robinson/Downloads/data/Olivia2006/Olivia2006_AUDIO/Olivia2006.e02.p05.i01.87.wav\n"
     ]
    },
    {
     "name": "stdout",
     "output_type": "stream",
     "text": [
      "/Users/robinson/Downloads/data/Olivia2006/Olivia2006_AUDIO/Olivia2006.e02.p05.i02.88.wav\n"
     ]
    },
    {
     "name": "stdout",
     "output_type": "stream",
     "text": [
      "/Users/robinson/Downloads/data/Olivia2006/Olivia2006_AUDIO/Olivia2006.e02.p05.i03.89.wav\n"
     ]
    },
    {
     "name": "stdout",
     "output_type": "stream",
     "text": [
      "/Users/robinson/Downloads/data/Olivia2006/Olivia2006_AUDIO/Olivia2006.e02.p05.i04.90.wav\n"
     ]
    },
    {
     "name": "stdout",
     "output_type": "stream",
     "text": [
      "/Users/robinson/Downloads/data/Olivia2006/Olivia2006_AUDIO/Olivia2006.e02.p05.i05.91.wav\n"
     ]
    },
    {
     "name": "stdout",
     "output_type": "stream",
     "text": [
      "/Users/robinson/Downloads/data/Olivia2006/Olivia2006_AUDIO/Olivia2006.e02.p06.i00.92.wav\n"
     ]
    },
    {
     "name": "stdout",
     "output_type": "stream",
     "text": [
      "/Users/robinson/Downloads/data/Olivia2006/Olivia2006_AUDIO/Olivia2006.e02.p06.i01.93.wav\n"
     ]
    },
    {
     "name": "stdout",
     "output_type": "stream",
     "text": [
      "/Users/robinson/Downloads/data/Olivia2006/Olivia2006_AUDIO/Olivia2006.e02.p06.i02.94.wav\n"
     ]
    },
    {
     "name": "stdout",
     "output_type": "stream",
     "text": [
      "/Users/robinson/Downloads/data/Olivia2006/Olivia2006_AUDIO/Olivia2006.e02.p06.i03.95.wav\n"
     ]
    },
    {
     "name": "stdout",
     "output_type": "stream",
     "text": [
      "/Users/robinson/Downloads/data/Olivia2006/Olivia2006_AUDIO/Olivia2006.e02.p06.i04.96.wav\n"
     ]
    },
    {
     "name": "stdout",
     "output_type": "stream",
     "text": [
      "/Users/robinson/Downloads/data/Olivia2006/Olivia2006_AUDIO/Olivia2006.e02.p06.i05.97.wav\n"
     ]
    },
    {
     "name": "stdout",
     "output_type": "stream",
     "text": [
      "/Users/robinson/Downloads/data/Olivia2006/Olivia2006_AUDIO/Olivia2006.e02.p07.i00.98.wav\n"
     ]
    },
    {
     "name": "stdout",
     "output_type": "stream",
     "text": [
      "/Users/robinson/Downloads/data/Olivia2006/Olivia2006_AUDIO/Olivia2006.e02.p07.i01.99.wav\n"
     ]
    },
    {
     "name": "stdout",
     "output_type": "stream",
     "text": [
      "/Users/robinson/Downloads/data/Olivia2006/Olivia2006_AUDIO/Olivia2006.e02.p07.i02.100.wav\n"
     ]
    },
    {
     "name": "stdout",
     "output_type": "stream",
     "text": [
      "/Users/robinson/Downloads/data/Olivia2006/Olivia2006_AUDIO/Olivia2006.e02.p07.i03.101.wav\n"
     ]
    },
    {
     "name": "stdout",
     "output_type": "stream",
     "text": [
      "/Users/robinson/Downloads/data/Olivia2006/Olivia2006_AUDIO/Olivia2006.e02.p07.i04.102.wav\n"
     ]
    },
    {
     "name": "stdout",
     "output_type": "stream",
     "text": [
      "/Users/robinson/Downloads/data/Olivia2006/Olivia2006_AUDIO/Olivia2006.e02.p07.i05.103.wav\n"
     ]
    },
    {
     "name": "stdout",
     "output_type": "stream",
     "text": [
      "/Users/robinson/Downloads/data/Olivia2006/Olivia2006_AUDIO/Olivia2006.e02.p08.i00.104.wav\n"
     ]
    },
    {
     "name": "stdout",
     "output_type": "stream",
     "text": [
      "/Users/robinson/Downloads/data/Olivia2006/Olivia2006_AUDIO/Olivia2006.e02.p08.i01.105.wav\n"
     ]
    },
    {
     "name": "stdout",
     "output_type": "stream",
     "text": [
      "/Users/robinson/Downloads/data/Olivia2006/Olivia2006_AUDIO/Olivia2006.e02.p08.i02.106.wav\n"
     ]
    },
    {
     "name": "stdout",
     "output_type": "stream",
     "text": [
      "/Users/robinson/Downloads/data/Olivia2006/Olivia2006_AUDIO/Olivia2006.e02.p08.i03.107.wav\n"
     ]
    },
    {
     "name": "stdout",
     "output_type": "stream",
     "text": [
      "/Users/robinson/Downloads/data/Olivia2006/Olivia2006_AUDIO/Olivia2006.e02.p08.i04.108.wav\n"
     ]
    },
    {
     "name": "stdout",
     "output_type": "stream",
     "text": [
      "/Users/robinson/Downloads/data/Olivia2006/Olivia2006_AUDIO/Olivia2006.e02.p08.i05.109.wav\n"
     ]
    },
    {
     "name": "stdout",
     "output_type": "stream",
     "text": [
      "/Users/robinson/Downloads/data/Olivia2006/Olivia2006_AUDIO/Olivia2006.e02.p09.i00.110.wav\n"
     ]
    },
    {
     "name": "stdout",
     "output_type": "stream",
     "text": [
      "/Users/robinson/Downloads/data/Olivia2006/Olivia2006_AUDIO/Olivia2006.e02.p09.i01.111.wav\n"
     ]
    },
    {
     "name": "stdout",
     "output_type": "stream",
     "text": [
      "/Users/robinson/Downloads/data/Olivia2006/Olivia2006_AUDIO/Olivia2006.e02.p09.i02.112.wav\n"
     ]
    },
    {
     "name": "stdout",
     "output_type": "stream",
     "text": [
      "/Users/robinson/Downloads/data/Olivia2006/Olivia2006_AUDIO/Olivia2006.e02.p09.i03.113.wav\n"
     ]
    },
    {
     "name": "stdout",
     "output_type": "stream",
     "text": [
      "/Users/robinson/Downloads/data/Olivia2006/Olivia2006_AUDIO/Olivia2006.e02.p09.i04.114.wav\n"
     ]
    },
    {
     "name": "stdout",
     "output_type": "stream",
     "text": [
      "/Users/robinson/Downloads/data/Olivia2006/Olivia2006_AUDIO/Olivia2006.e02.p09.i05.115.wav\n"
     ]
    },
    {
     "name": "stdout",
     "output_type": "stream",
     "text": [
      "/Users/robinson/Downloads/data/Olivia2006/Olivia2006_AUDIO/Olivia2006.e02.p10.i00.116.wav\n"
     ]
    },
    {
     "name": "stdout",
     "output_type": "stream",
     "text": [
      "/Users/robinson/Downloads/data/Olivia2006/Olivia2006_AUDIO/Olivia2006.e02.p10.i01.117.wav\n"
     ]
    },
    {
     "name": "stdout",
     "output_type": "stream",
     "text": [
      "/Users/robinson/Downloads/data/Olivia2006/Olivia2006_AUDIO/Olivia2006.e02.p10.i02.118.wav\n"
     ]
    },
    {
     "name": "stdout",
     "output_type": "stream",
     "text": [
      "/Users/robinson/Downloads/data/Olivia2006/Olivia2006_AUDIO/Olivia2006.e02.p10.i03.119.wav\n"
     ]
    },
    {
     "name": "stdout",
     "output_type": "stream",
     "text": [
      "/Users/robinson/Downloads/data/Olivia2006/Olivia2006_AUDIO/Olivia2006.e02.p10.i04.120.wav\n"
     ]
    },
    {
     "name": "stdout",
     "output_type": "stream",
     "text": [
      "/Users/robinson/Downloads/data/Olivia2006/Olivia2006_AUDIO/Olivia2006.e02.p10.i05.121.wav\n"
     ]
    },
    {
     "name": "stdout",
     "output_type": "stream",
     "text": [
      "/Users/robinson/Downloads/data/Olivia2006/Olivia2006_AUDIO/Olivia2006.e03.p01.i00.122.wav\n"
     ]
    },
    {
     "name": "stdout",
     "output_type": "stream",
     "text": [
      "/Users/robinson/Downloads/data/Olivia2006/Olivia2006_AUDIO/Olivia2006.e03.p01.i01.123.wav\n"
     ]
    },
    {
     "name": "stdout",
     "output_type": "stream",
     "text": [
      "/Users/robinson/Downloads/data/Olivia2006/Olivia2006_AUDIO/Olivia2006.e03.p01.i02.124.wav\n"
     ]
    },
    {
     "name": "stdout",
     "output_type": "stream",
     "text": [
      "/Users/robinson/Downloads/data/Olivia2006/Olivia2006_AUDIO/Olivia2006.e03.p01.i03.125.wav\n"
     ]
    },
    {
     "name": "stdout",
     "output_type": "stream",
     "text": [
      "/Users/robinson/Downloads/data/Olivia2006/Olivia2006_AUDIO/Olivia2006.e03.p01.i04.126.wav\n"
     ]
    },
    {
     "name": "stdout",
     "output_type": "stream",
     "text": [
      "/Users/robinson/Downloads/data/Olivia2006/Olivia2006_AUDIO/Olivia2006.e03.p01.i05.127.wav\n"
     ]
    },
    {
     "name": "stdout",
     "output_type": "stream",
     "text": [
      "/Users/robinson/Downloads/data/Olivia2006/Olivia2006_AUDIO/Olivia2006.e03.p02.i00.128.wav\n"
     ]
    },
    {
     "name": "stdout",
     "output_type": "stream",
     "text": [
      "/Users/robinson/Downloads/data/Olivia2006/Olivia2006_AUDIO/Olivia2006.e03.p02.i01.129.wav\n"
     ]
    },
    {
     "name": "stdout",
     "output_type": "stream",
     "text": [
      "/Users/robinson/Downloads/data/Olivia2006/Olivia2006_AUDIO/Olivia2006.e03.p02.i02.130.wav\n"
     ]
    },
    {
     "name": "stdout",
     "output_type": "stream",
     "text": [
      "/Users/robinson/Downloads/data/Olivia2006/Olivia2006_AUDIO/Olivia2006.e03.p02.i03.131.wav\n"
     ]
    },
    {
     "name": "stdout",
     "output_type": "stream",
     "text": [
      "/Users/robinson/Downloads/data/Olivia2006/Olivia2006_AUDIO/Olivia2006.e03.p02.i04.132.wav\n"
     ]
    },
    {
     "name": "stdout",
     "output_type": "stream",
     "text": [
      "/Users/robinson/Downloads/data/Olivia2006/Olivia2006_AUDIO/Olivia2006.e03.p02.i05.133.wav\n"
     ]
    },
    {
     "name": "stdout",
     "output_type": "stream",
     "text": [
      "/Users/robinson/Downloads/data/Olivia2006/Olivia2006_AUDIO/Olivia2006.e03.p03.i00.134.wav\n"
     ]
    },
    {
     "name": "stdout",
     "output_type": "stream",
     "text": [
      "/Users/robinson/Downloads/data/Olivia2006/Olivia2006_AUDIO/Olivia2006.e03.p03.i01.135.wav\n"
     ]
    },
    {
     "name": "stdout",
     "output_type": "stream",
     "text": [
      "/Users/robinson/Downloads/data/Olivia2006/Olivia2006_AUDIO/Olivia2006.e03.p03.i02.136.wav\n"
     ]
    },
    {
     "name": "stdout",
     "output_type": "stream",
     "text": [
      "/Users/robinson/Downloads/data/Olivia2006/Olivia2006_AUDIO/Olivia2006.e03.p03.i03.137.wav\n"
     ]
    },
    {
     "name": "stdout",
     "output_type": "stream",
     "text": [
      "/Users/robinson/Downloads/data/Olivia2006/Olivia2006_AUDIO/Olivia2006.e03.p03.i04.138.wav\n"
     ]
    },
    {
     "name": "stdout",
     "output_type": "stream",
     "text": [
      "/Users/robinson/Downloads/data/Olivia2006/Olivia2006_AUDIO/Olivia2006.e03.p03.i05.139.wav\n"
     ]
    },
    {
     "name": "stdout",
     "output_type": "stream",
     "text": [
      "/Users/robinson/Downloads/data/Olivia2006/Olivia2006_AUDIO/Olivia2006.e03.p04.i00.140.wav\n"
     ]
    },
    {
     "name": "stdout",
     "output_type": "stream",
     "text": [
      "/Users/robinson/Downloads/data/Olivia2006/Olivia2006_AUDIO/Olivia2006.e03.p04.i01.141.wav\n"
     ]
    },
    {
     "name": "stdout",
     "output_type": "stream",
     "text": [
      "/Users/robinson/Downloads/data/Olivia2006/Olivia2006_AUDIO/Olivia2006.e03.p04.i02.142.wav\n"
     ]
    },
    {
     "name": "stdout",
     "output_type": "stream",
     "text": [
      "/Users/robinson/Downloads/data/Olivia2006/Olivia2006_AUDIO/Olivia2006.e03.p04.i03.143.wav\n"
     ]
    },
    {
     "name": "stdout",
     "output_type": "stream",
     "text": [
      "/Users/robinson/Downloads/data/Olivia2006/Olivia2006_AUDIO/Olivia2006.e03.p04.i04.144.wav\n"
     ]
    },
    {
     "name": "stdout",
     "output_type": "stream",
     "text": [
      "/Users/robinson/Downloads/data/Olivia2006/Olivia2006_AUDIO/Olivia2006.e03.p05.i00.145.wav\n"
     ]
    },
    {
     "name": "stdout",
     "output_type": "stream",
     "text": [
      "/Users/robinson/Downloads/data/Olivia2006/Olivia2006_AUDIO/Olivia2006.e03.p05.i01.146.wav\n"
     ]
    },
    {
     "name": "stdout",
     "output_type": "stream",
     "text": [
      "/Users/robinson/Downloads/data/Olivia2006/Olivia2006_AUDIO/Olivia2006.e03.p05.i02.147.wav\n"
     ]
    },
    {
     "name": "stdout",
     "output_type": "stream",
     "text": [
      "/Users/robinson/Downloads/data/Olivia2006/Olivia2006_AUDIO/Olivia2006.e03.p05.i03.148.wav\n"
     ]
    },
    {
     "name": "stdout",
     "output_type": "stream",
     "text": [
      "/Users/robinson/Downloads/data/Olivia2006/Olivia2006_AUDIO/Olivia2006.e03.p05.i04.149.wav\n"
     ]
    },
    {
     "name": "stdout",
     "output_type": "stream",
     "text": [
      "/Users/robinson/Downloads/data/Olivia2006/Olivia2006_AUDIO/Olivia2006.e03.p05.i05.150.wav\n"
     ]
    },
    {
     "name": "stdout",
     "output_type": "stream",
     "text": [
      "/Users/robinson/Downloads/data/Olivia2006/Olivia2006_AUDIO/Olivia2006.e03.p06.i00.151.wav\n"
     ]
    },
    {
     "name": "stdout",
     "output_type": "stream",
     "text": [
      "/Users/robinson/Downloads/data/Olivia2006/Olivia2006_AUDIO/Olivia2006.e03.p06.i01.152.wav\n"
     ]
    },
    {
     "name": "stdout",
     "output_type": "stream",
     "text": [
      "/Users/robinson/Downloads/data/Olivia2006/Olivia2006_AUDIO/Olivia2006.e03.p06.i02.153.wav\n"
     ]
    },
    {
     "name": "stdout",
     "output_type": "stream",
     "text": [
      "/Users/robinson/Downloads/data/Olivia2006/Olivia2006_AUDIO/Olivia2006.e03.p06.i03.154.wav\n"
     ]
    },
    {
     "name": "stdout",
     "output_type": "stream",
     "text": [
      "/Users/robinson/Downloads/data/Olivia2006/Olivia2006_AUDIO/Olivia2006.e03.p06.i04.155.wav\n"
     ]
    },
    {
     "name": "stdout",
     "output_type": "stream",
     "text": [
      "/Users/robinson/Downloads/data/Olivia2006/Olivia2006_AUDIO/Olivia2006.e03.p06.i05.156.wav\n"
     ]
    },
    {
     "name": "stdout",
     "output_type": "stream",
     "text": [
      "/Users/robinson/Downloads/data/Olivia2006/Olivia2006_AUDIO/Olivia2006.e03.p07.i00.157.wav\n"
     ]
    },
    {
     "name": "stdout",
     "output_type": "stream",
     "text": [
      "/Users/robinson/Downloads/data/Olivia2006/Olivia2006_AUDIO/Olivia2006.e03.p07.i01.158.wav\n"
     ]
    },
    {
     "name": "stdout",
     "output_type": "stream",
     "text": [
      "/Users/robinson/Downloads/data/Olivia2006/Olivia2006_AUDIO/Olivia2006.e03.p07.i02.159.wav\n"
     ]
    },
    {
     "name": "stdout",
     "output_type": "stream",
     "text": [
      "/Users/robinson/Downloads/data/Olivia2006/Olivia2006_AUDIO/Olivia2006.e03.p07.i03.160.wav\n"
     ]
    },
    {
     "name": "stdout",
     "output_type": "stream",
     "text": [
      "/Users/robinson/Downloads/data/Olivia2006/Olivia2006_AUDIO/Olivia2006.e03.p07.i04.161.wav\n"
     ]
    },
    {
     "name": "stdout",
     "output_type": "stream",
     "text": [
      "/Users/robinson/Downloads/data/Olivia2006/Olivia2006_AUDIO/Olivia2006.e03.p07.i05.162.wav\n"
     ]
    },
    {
     "name": "stdout",
     "output_type": "stream",
     "text": [
      "/Users/robinson/Downloads/data/Olivia2006/Olivia2006_AUDIO/Olivia2006.e03.p08.i00.163.wav\n"
     ]
    },
    {
     "name": "stdout",
     "output_type": "stream",
     "text": [
      "/Users/robinson/Downloads/data/Olivia2006/Olivia2006_AUDIO/Olivia2006.e03.p08.i01.164.wav\n"
     ]
    },
    {
     "name": "stdout",
     "output_type": "stream",
     "text": [
      "/Users/robinson/Downloads/data/Olivia2006/Olivia2006_AUDIO/Olivia2006.e03.p08.i02.165.wav\n"
     ]
    },
    {
     "name": "stdout",
     "output_type": "stream",
     "text": [
      "/Users/robinson/Downloads/data/Olivia2006/Olivia2006_AUDIO/Olivia2006.e03.p08.i03.166.wav\n"
     ]
    },
    {
     "name": "stdout",
     "output_type": "stream",
     "text": [
      "/Users/robinson/Downloads/data/Olivia2006/Olivia2006_AUDIO/Olivia2006.e03.p08.i04.167.wav\n"
     ]
    },
    {
     "name": "stdout",
     "output_type": "stream",
     "text": [
      "/Users/robinson/Downloads/data/Olivia2006/Olivia2006_AUDIO/Olivia2006.e03.p08.i05.168.wav\n"
     ]
    },
    {
     "name": "stdout",
     "output_type": "stream",
     "text": [
      "/Users/robinson/Downloads/data/Olivia2006/Olivia2006_AUDIO/Olivia2006.e03.p09.i00.169.wav\n"
     ]
    },
    {
     "name": "stdout",
     "output_type": "stream",
     "text": [
      "/Users/robinson/Downloads/data/Olivia2006/Olivia2006_AUDIO/Olivia2006.e03.p09.i01.170.wav\n"
     ]
    },
    {
     "name": "stdout",
     "output_type": "stream",
     "text": [
      "/Users/robinson/Downloads/data/Olivia2006/Olivia2006_AUDIO/Olivia2006.e03.p09.i02.171.wav\n"
     ]
    },
    {
     "name": "stdout",
     "output_type": "stream",
     "text": [
      "/Users/robinson/Downloads/data/Olivia2006/Olivia2006_AUDIO/Olivia2006.e03.p09.i03.172.wav\n"
     ]
    },
    {
     "name": "stdout",
     "output_type": "stream",
     "text": [
      "/Users/robinson/Downloads/data/Olivia2006/Olivia2006_AUDIO/Olivia2006.e03.p09.i04.173.wav\n"
     ]
    },
    {
     "name": "stdout",
     "output_type": "stream",
     "text": [
      "/Users/robinson/Downloads/data/Olivia2006/Olivia2006_AUDIO/Olivia2006.e03.p09.i05.174.wav\n"
     ]
    },
    {
     "name": "stdout",
     "output_type": "stream",
     "text": [
      "/Users/robinson/Downloads/data/Olivia2006/Olivia2006_AUDIO/Olivia2006.e03.p10.i00.175.wav\n"
     ]
    },
    {
     "name": "stdout",
     "output_type": "stream",
     "text": [
      "/Users/robinson/Downloads/data/Olivia2006/Olivia2006_AUDIO/Olivia2006.e03.p10.i01.176.wav\n"
     ]
    },
    {
     "name": "stdout",
     "output_type": "stream",
     "text": [
      "/Users/robinson/Downloads/data/Olivia2006/Olivia2006_AUDIO/Olivia2006.e03.p10.i02.177.wav\n"
     ]
    },
    {
     "name": "stdout",
     "output_type": "stream",
     "text": [
      "/Users/robinson/Downloads/data/Olivia2006/Olivia2006_AUDIO/Olivia2006.e03.p10.i03.178.wav\n"
     ]
    },
    {
     "name": "stdout",
     "output_type": "stream",
     "text": [
      "/Users/robinson/Downloads/data/Olivia2006/Olivia2006_AUDIO/Olivia2006.e03.p10.i04.179.wav\n"
     ]
    },
    {
     "name": "stdout",
     "output_type": "stream",
     "text": [
      "/Users/robinson/Downloads/data/Olivia2006/Olivia2006_AUDIO/Olivia2006.e03.p10.i05.180.wav\n"
     ]
    },
    {
     "name": "stdout",
     "output_type": "stream",
     "text": [
      "/Users/robinson/Downloads/data/Olivia2006/Olivia2006_AUDIO/Olivia2006.e03.p10.i06.181.wav\n"
     ]
    },
    {
     "name": "stdout",
     "output_type": "stream",
     "text": [
      "/Users/robinson/Downloads/data/Olivia2006/Olivia2006_AUDIO/Olivia2006.e04.p01.i00.182.wav\n"
     ]
    },
    {
     "name": "stdout",
     "output_type": "stream",
     "text": [
      "/Users/robinson/Downloads/data/Olivia2006/Olivia2006_AUDIO/Olivia2006.e04.p01.i01.183.wav\n"
     ]
    },
    {
     "name": "stdout",
     "output_type": "stream",
     "text": [
      "/Users/robinson/Downloads/data/Olivia2006/Olivia2006_AUDIO/Olivia2006.e04.p01.i02.184.wav\n"
     ]
    },
    {
     "name": "stdout",
     "output_type": "stream",
     "text": [
      "/Users/robinson/Downloads/data/Olivia2006/Olivia2006_AUDIO/Olivia2006.e04.p01.i03.185.wav\n"
     ]
    },
    {
     "name": "stdout",
     "output_type": "stream",
     "text": [
      "/Users/robinson/Downloads/data/Olivia2006/Olivia2006_AUDIO/Olivia2006.e04.p01.i04.186.wav\n"
     ]
    },
    {
     "name": "stdout",
     "output_type": "stream",
     "text": [
      "/Users/robinson/Downloads/data/Olivia2006/Olivia2006_AUDIO/Olivia2006.e04.p01.i05.187.wav\n"
     ]
    },
    {
     "name": "stdout",
     "output_type": "stream",
     "text": [
      "/Users/robinson/Downloads/data/Olivia2006/Olivia2006_AUDIO/Olivia2006.e04.p02.i00.188.wav\n"
     ]
    },
    {
     "name": "stdout",
     "output_type": "stream",
     "text": [
      "/Users/robinson/Downloads/data/Olivia2006/Olivia2006_AUDIO/Olivia2006.e04.p02.i01.189.wav\n"
     ]
    },
    {
     "name": "stdout",
     "output_type": "stream",
     "text": [
      "/Users/robinson/Downloads/data/Olivia2006/Olivia2006_AUDIO/Olivia2006.e04.p02.i02.190.wav\n"
     ]
    },
    {
     "name": "stdout",
     "output_type": "stream",
     "text": [
      "/Users/robinson/Downloads/data/Olivia2006/Olivia2006_AUDIO/Olivia2006.e04.p02.i03.191.wav\n"
     ]
    },
    {
     "name": "stdout",
     "output_type": "stream",
     "text": [
      "/Users/robinson/Downloads/data/Olivia2006/Olivia2006_AUDIO/Olivia2006.e04.p02.i04.192.wav\n"
     ]
    },
    {
     "name": "stdout",
     "output_type": "stream",
     "text": [
      "/Users/robinson/Downloads/data/Olivia2006/Olivia2006_AUDIO/Olivia2006.e04.p02.i05.193.wav\n"
     ]
    },
    {
     "name": "stdout",
     "output_type": "stream",
     "text": [
      "/Users/robinson/Downloads/data/Olivia2006/Olivia2006_AUDIO/Olivia2006.e04.p03.i00.194.wav\n"
     ]
    },
    {
     "name": "stdout",
     "output_type": "stream",
     "text": [
      "/Users/robinson/Downloads/data/Olivia2006/Olivia2006_AUDIO/Olivia2006.e04.p03.i01.195.wav\n"
     ]
    },
    {
     "name": "stdout",
     "output_type": "stream",
     "text": [
      "/Users/robinson/Downloads/data/Olivia2006/Olivia2006_AUDIO/Olivia2006.e04.p03.i02.196.wav\n"
     ]
    },
    {
     "name": "stdout",
     "output_type": "stream",
     "text": [
      "/Users/robinson/Downloads/data/Olivia2006/Olivia2006_AUDIO/Olivia2006.e04.p03.i03.197.wav\n"
     ]
    },
    {
     "name": "stdout",
     "output_type": "stream",
     "text": [
      "/Users/robinson/Downloads/data/Olivia2006/Olivia2006_AUDIO/Olivia2006.e04.p03.i04.198.wav\n"
     ]
    },
    {
     "name": "stdout",
     "output_type": "stream",
     "text": [
      "/Users/robinson/Downloads/data/Olivia2006/Olivia2006_AUDIO/Olivia2006.e04.p03.i05.199.wav\n"
     ]
    },
    {
     "name": "stdout",
     "output_type": "stream",
     "text": [
      "/Users/robinson/Downloads/data/Olivia2006/Olivia2006_AUDIO/Olivia2006.e04.p04.i00.200.wav\n"
     ]
    },
    {
     "name": "stdout",
     "output_type": "stream",
     "text": [
      "/Users/robinson/Downloads/data/Olivia2006/Olivia2006_AUDIO/Olivia2006.e04.p04.i01.201.wav\n"
     ]
    },
    {
     "name": "stdout",
     "output_type": "stream",
     "text": [
      "/Users/robinson/Downloads/data/Olivia2006/Olivia2006_AUDIO/Olivia2006.e04.p04.i02.202.wav\n"
     ]
    },
    {
     "name": "stdout",
     "output_type": "stream",
     "text": [
      "/Users/robinson/Downloads/data/Olivia2006/Olivia2006_AUDIO/Olivia2006.e04.p04.i03.203.wav\n"
     ]
    },
    {
     "name": "stdout",
     "output_type": "stream",
     "text": [
      "/Users/robinson/Downloads/data/Olivia2006/Olivia2006_AUDIO/Olivia2006.e04.p04.i04.204.wav\n"
     ]
    },
    {
     "name": "stdout",
     "output_type": "stream",
     "text": [
      "/Users/robinson/Downloads/data/Olivia2006/Olivia2006_AUDIO/Olivia2006.e04.p04.i05.205.wav\n"
     ]
    },
    {
     "name": "stdout",
     "output_type": "stream",
     "text": [
      "/Users/robinson/Downloads/data/Olivia2006/Olivia2006_AUDIO/Olivia2006.e04.p05.i00.206.wav\n"
     ]
    },
    {
     "name": "stdout",
     "output_type": "stream",
     "text": [
      "/Users/robinson/Downloads/data/Olivia2006/Olivia2006_AUDIO/Olivia2006.e04.p05.i01.207.wav\n"
     ]
    },
    {
     "name": "stdout",
     "output_type": "stream",
     "text": [
      "/Users/robinson/Downloads/data/Olivia2006/Olivia2006_AUDIO/Olivia2006.e04.p05.i02.208.wav\n"
     ]
    },
    {
     "name": "stdout",
     "output_type": "stream",
     "text": [
      "/Users/robinson/Downloads/data/Olivia2006/Olivia2006_AUDIO/Olivia2006.e04.p05.i03.209.wav\n"
     ]
    },
    {
     "name": "stdout",
     "output_type": "stream",
     "text": [
      "/Users/robinson/Downloads/data/Olivia2006/Olivia2006_AUDIO/Olivia2006.e04.p05.i04.210.wav\n"
     ]
    },
    {
     "name": "stdout",
     "output_type": "stream",
     "text": [
      "/Users/robinson/Downloads/data/Olivia2006/Olivia2006_AUDIO/Olivia2006.e04.p05.i05.211.wav\n"
     ]
    },
    {
     "name": "stdout",
     "output_type": "stream",
     "text": [
      "/Users/robinson/Downloads/data/Olivia2006/Olivia2006_AUDIO/Olivia2006.e04.p06.i00.212.wav\n"
     ]
    },
    {
     "name": "stdout",
     "output_type": "stream",
     "text": [
      "/Users/robinson/Downloads/data/Olivia2006/Olivia2006_AUDIO/Olivia2006.e04.p06.i01.213.wav\n"
     ]
    },
    {
     "name": "stdout",
     "output_type": "stream",
     "text": [
      "/Users/robinson/Downloads/data/Olivia2006/Olivia2006_AUDIO/Olivia2006.e04.p06.i02.214.wav\n"
     ]
    },
    {
     "name": "stdout",
     "output_type": "stream",
     "text": [
      "/Users/robinson/Downloads/data/Olivia2006/Olivia2006_AUDIO/Olivia2006.e04.p06.i03.215.wav\n"
     ]
    },
    {
     "name": "stdout",
     "output_type": "stream",
     "text": [
      "/Users/robinson/Downloads/data/Olivia2006/Olivia2006_AUDIO/Olivia2006.e04.p06.i04.216.wav\n"
     ]
    },
    {
     "name": "stdout",
     "output_type": "stream",
     "text": [
      "/Users/robinson/Downloads/data/Olivia2006/Olivia2006_AUDIO/Olivia2006.e04.p06.i05.217.wav\n"
     ]
    },
    {
     "name": "stdout",
     "output_type": "stream",
     "text": [
      "/Users/robinson/Downloads/data/Olivia2006/Olivia2006_AUDIO/Olivia2006.e04.p07.i00.218.wav\n"
     ]
    },
    {
     "name": "stdout",
     "output_type": "stream",
     "text": [
      "/Users/robinson/Downloads/data/Olivia2006/Olivia2006_AUDIO/Olivia2006.e04.p07.i01.219.wav\n"
     ]
    },
    {
     "name": "stdout",
     "output_type": "stream",
     "text": [
      "/Users/robinson/Downloads/data/Olivia2006/Olivia2006_AUDIO/Olivia2006.e04.p07.i02.220.wav\n"
     ]
    },
    {
     "name": "stdout",
     "output_type": "stream",
     "text": [
      "/Users/robinson/Downloads/data/Olivia2006/Olivia2006_AUDIO/Olivia2006.e04.p07.i03.221.wav\n"
     ]
    },
    {
     "name": "stdout",
     "output_type": "stream",
     "text": [
      "/Users/robinson/Downloads/data/Olivia2006/Olivia2006_AUDIO/Olivia2006.e04.p07.i04.222.wav\n"
     ]
    },
    {
     "name": "stdout",
     "output_type": "stream",
     "text": [
      "/Users/robinson/Downloads/data/Olivia2006/Olivia2006_AUDIO/Olivia2006.e04.p07.i05.223.wav\n"
     ]
    },
    {
     "name": "stdout",
     "output_type": "stream",
     "text": [
      "/Users/robinson/Downloads/data/Olivia2006/Olivia2006_AUDIO/Olivia2006.e04.p08.i00.224.wav\n"
     ]
    },
    {
     "name": "stdout",
     "output_type": "stream",
     "text": [
      "/Users/robinson/Downloads/data/Olivia2006/Olivia2006_AUDIO/Olivia2006.e04.p08.i01.225.wav\n"
     ]
    },
    {
     "name": "stdout",
     "output_type": "stream",
     "text": [
      "/Users/robinson/Downloads/data/Olivia2006/Olivia2006_AUDIO/Olivia2006.e04.p08.i02.226.wav\n"
     ]
    },
    {
     "name": "stdout",
     "output_type": "stream",
     "text": [
      "/Users/robinson/Downloads/data/Olivia2006/Olivia2006_AUDIO/Olivia2006.e04.p08.i03.227.wav\n"
     ]
    },
    {
     "name": "stdout",
     "output_type": "stream",
     "text": [
      "/Users/robinson/Downloads/data/Olivia2006/Olivia2006_AUDIO/Olivia2006.e04.p08.i04.228.wav\n"
     ]
    },
    {
     "name": "stdout",
     "output_type": "stream",
     "text": [
      "/Users/robinson/Downloads/data/Olivia2006/Olivia2006_AUDIO/Olivia2006.e04.p08.i05.229.wav\n"
     ]
    },
    {
     "name": "stdout",
     "output_type": "stream",
     "text": [
      "/Users/robinson/Downloads/data/Olivia2006/Olivia2006_AUDIO/Olivia2006.e04.p09.i00.230.wav\n"
     ]
    },
    {
     "name": "stdout",
     "output_type": "stream",
     "text": [
      "/Users/robinson/Downloads/data/Olivia2006/Olivia2006_AUDIO/Olivia2006.e04.p09.i01.231.wav\n"
     ]
    },
    {
     "name": "stdout",
     "output_type": "stream",
     "text": [
      "/Users/robinson/Downloads/data/Olivia2006/Olivia2006_AUDIO/Olivia2006.e04.p09.i02.232.wav\n"
     ]
    },
    {
     "name": "stdout",
     "output_type": "stream",
     "text": [
      "/Users/robinson/Downloads/data/Olivia2006/Olivia2006_AUDIO/Olivia2006.e04.p09.i03.233.wav\n"
     ]
    },
    {
     "name": "stdout",
     "output_type": "stream",
     "text": [
      "/Users/robinson/Downloads/data/Olivia2006/Olivia2006_AUDIO/Olivia2006.e04.p09.i04.234.wav\n"
     ]
    },
    {
     "name": "stdout",
     "output_type": "stream",
     "text": [
      "/Users/robinson/Downloads/data/Olivia2006/Olivia2006_AUDIO/Olivia2006.e04.p09.i05.235.wav\n"
     ]
    },
    {
     "name": "stdout",
     "output_type": "stream",
     "text": [
      "/Users/robinson/Downloads/data/Olivia2006/Olivia2006_AUDIO/Olivia2006.e04.p10.i00.236.wav\n"
     ]
    },
    {
     "name": "stdout",
     "output_type": "stream",
     "text": [
      "/Users/robinson/Downloads/data/Olivia2006/Olivia2006_AUDIO/Olivia2006.e04.p10.i01.237.wav\n"
     ]
    },
    {
     "name": "stdout",
     "output_type": "stream",
     "text": [
      "/Users/robinson/Downloads/data/Olivia2006/Olivia2006_AUDIO/Olivia2006.e04.p10.i02.238.wav\n"
     ]
    },
    {
     "name": "stdout",
     "output_type": "stream",
     "text": [
      "/Users/robinson/Downloads/data/Olivia2006/Olivia2006_AUDIO/Olivia2006.e04.p10.i03.239.wav\n"
     ]
    },
    {
     "name": "stdout",
     "output_type": "stream",
     "text": [
      "/Users/robinson/Downloads/data/Olivia2006/Olivia2006_AUDIO/Olivia2006.e04.p10.i04.240.wav\n"
     ]
    },
    {
     "name": "stdout",
     "output_type": "stream",
     "text": [
      "/Users/robinson/Downloads/data/Olivia2006/Olivia2006_AUDIO/Olivia2006.e04.p10.i05.241.wav\n"
     ]
    },
    {
     "name": "stdout",
     "output_type": "stream",
     "text": [
      "/Users/robinson/Downloads/data/Olivia2006/Olivia2006_AUDIO/Olivia2006.e05.p01.i00.242.wav\n"
     ]
    },
    {
     "name": "stdout",
     "output_type": "stream",
     "text": [
      "/Users/robinson/Downloads/data/Olivia2006/Olivia2006_AUDIO/Olivia2006.e05.p01.i01.243.wav\n"
     ]
    },
    {
     "name": "stdout",
     "output_type": "stream",
     "text": [
      "/Users/robinson/Downloads/data/Olivia2006/Olivia2006_AUDIO/Olivia2006.e05.p01.i02.244.wav\n"
     ]
    },
    {
     "name": "stdout",
     "output_type": "stream",
     "text": [
      "/Users/robinson/Downloads/data/Olivia2006/Olivia2006_AUDIO/Olivia2006.e05.p01.i03.245.wav\n"
     ]
    },
    {
     "name": "stdout",
     "output_type": "stream",
     "text": [
      "/Users/robinson/Downloads/data/Olivia2006/Olivia2006_AUDIO/Olivia2006.e05.p01.i04.246.wav\n"
     ]
    },
    {
     "name": "stdout",
     "output_type": "stream",
     "text": [
      "/Users/robinson/Downloads/data/Olivia2006/Olivia2006_AUDIO/Olivia2006.e05.p01.i05.247.wav\n"
     ]
    },
    {
     "name": "stdout",
     "output_type": "stream",
     "text": [
      "/Users/robinson/Downloads/data/Olivia2006/Olivia2006_AUDIO/Olivia2006.e05.p02.i00.248.wav\n"
     ]
    },
    {
     "name": "stdout",
     "output_type": "stream",
     "text": [
      "/Users/robinson/Downloads/data/Olivia2006/Olivia2006_AUDIO/Olivia2006.e05.p02.i01.249.wav\n"
     ]
    },
    {
     "name": "stdout",
     "output_type": "stream",
     "text": [
      "/Users/robinson/Downloads/data/Olivia2006/Olivia2006_AUDIO/Olivia2006.e05.p02.i02.250.wav\n"
     ]
    },
    {
     "name": "stdout",
     "output_type": "stream",
     "text": [
      "/Users/robinson/Downloads/data/Olivia2006/Olivia2006_AUDIO/Olivia2006.e05.p02.i03.251.wav\n"
     ]
    },
    {
     "name": "stdout",
     "output_type": "stream",
     "text": [
      "/Users/robinson/Downloads/data/Olivia2006/Olivia2006_AUDIO/Olivia2006.e05.p02.i04.252.wav\n"
     ]
    },
    {
     "name": "stdout",
     "output_type": "stream",
     "text": [
      "/Users/robinson/Downloads/data/Olivia2006/Olivia2006_AUDIO/Olivia2006.e05.p02.i05.253.wav\n"
     ]
    },
    {
     "name": "stdout",
     "output_type": "stream",
     "text": [
      "/Users/robinson/Downloads/data/Olivia2006/Olivia2006_AUDIO/Olivia2006.e05.p03.i00.254.wav\n"
     ]
    },
    {
     "name": "stdout",
     "output_type": "stream",
     "text": [
      "/Users/robinson/Downloads/data/Olivia2006/Olivia2006_AUDIO/Olivia2006.e05.p03.i01.255.wav\n"
     ]
    },
    {
     "name": "stdout",
     "output_type": "stream",
     "text": [
      "/Users/robinson/Downloads/data/Olivia2006/Olivia2006_AUDIO/Olivia2006.e05.p03.i02.256.wav\n"
     ]
    },
    {
     "name": "stdout",
     "output_type": "stream",
     "text": [
      "/Users/robinson/Downloads/data/Olivia2006/Olivia2006_AUDIO/Olivia2006.e05.p03.i03.257.wav\n"
     ]
    },
    {
     "name": "stdout",
     "output_type": "stream",
     "text": [
      "/Users/robinson/Downloads/data/Olivia2006/Olivia2006_AUDIO/Olivia2006.e05.p03.i04.258.wav\n"
     ]
    },
    {
     "name": "stdout",
     "output_type": "stream",
     "text": [
      "/Users/robinson/Downloads/data/Olivia2006/Olivia2006_AUDIO/Olivia2006.e05.p03.i05.259.wav\n"
     ]
    },
    {
     "name": "stdout",
     "output_type": "stream",
     "text": [
      "/Users/robinson/Downloads/data/Olivia2006/Olivia2006_AUDIO/Olivia2006.e05.p04.i00.260.wav\n"
     ]
    },
    {
     "name": "stdout",
     "output_type": "stream",
     "text": [
      "/Users/robinson/Downloads/data/Olivia2006/Olivia2006_AUDIO/Olivia2006.e05.p04.i01.261.wav\n"
     ]
    },
    {
     "name": "stdout",
     "output_type": "stream",
     "text": [
      "/Users/robinson/Downloads/data/Olivia2006/Olivia2006_AUDIO/Olivia2006.e05.p04.i02.262.wav\n"
     ]
    },
    {
     "name": "stdout",
     "output_type": "stream",
     "text": [
      "/Users/robinson/Downloads/data/Olivia2006/Olivia2006_AUDIO/Olivia2006.e05.p04.i03.263.wav\n"
     ]
    },
    {
     "name": "stdout",
     "output_type": "stream",
     "text": [
      "/Users/robinson/Downloads/data/Olivia2006/Olivia2006_AUDIO/Olivia2006.e05.p04.i04.264.wav\n"
     ]
    },
    {
     "name": "stdout",
     "output_type": "stream",
     "text": [
      "/Users/robinson/Downloads/data/Olivia2006/Olivia2006_AUDIO/Olivia2006.e05.p04.i05.265.wav\n"
     ]
    },
    {
     "name": "stdout",
     "output_type": "stream",
     "text": [
      "/Users/robinson/Downloads/data/Olivia2006/Olivia2006_AUDIO/Olivia2006.e05.p05.i00.266.wav\n"
     ]
    },
    {
     "name": "stdout",
     "output_type": "stream",
     "text": [
      "/Users/robinson/Downloads/data/Olivia2006/Olivia2006_AUDIO/Olivia2006.e05.p05.i01.267.wav\n"
     ]
    },
    {
     "name": "stdout",
     "output_type": "stream",
     "text": [
      "/Users/robinson/Downloads/data/Olivia2006/Olivia2006_AUDIO/Olivia2006.e05.p05.i02.268.wav\n"
     ]
    },
    {
     "name": "stdout",
     "output_type": "stream",
     "text": [
      "/Users/robinson/Downloads/data/Olivia2006/Olivia2006_AUDIO/Olivia2006.e05.p05.i03.269.wav\n"
     ]
    },
    {
     "name": "stdout",
     "output_type": "stream",
     "text": [
      "/Users/robinson/Downloads/data/Olivia2006/Olivia2006_AUDIO/Olivia2006.e05.p05.i04.270.wav\n"
     ]
    },
    {
     "name": "stdout",
     "output_type": "stream",
     "text": [
      "/Users/robinson/Downloads/data/Olivia2006/Olivia2006_AUDIO/Olivia2006.e05.p05.i05.271.wav\n"
     ]
    },
    {
     "name": "stdout",
     "output_type": "stream",
     "text": [
      "/Users/robinson/Downloads/data/Olivia2006/Olivia2006_AUDIO/Olivia2006.e05.p06.i00.272.wav\n"
     ]
    },
    {
     "name": "stdout",
     "output_type": "stream",
     "text": [
      "/Users/robinson/Downloads/data/Olivia2006/Olivia2006_AUDIO/Olivia2006.e05.p06.i01.273.wav\n"
     ]
    },
    {
     "name": "stdout",
     "output_type": "stream",
     "text": [
      "/Users/robinson/Downloads/data/Olivia2006/Olivia2006_AUDIO/Olivia2006.e05.p06.i02.274.wav\n"
     ]
    },
    {
     "name": "stdout",
     "output_type": "stream",
     "text": [
      "/Users/robinson/Downloads/data/Olivia2006/Olivia2006_AUDIO/Olivia2006.e05.p06.i03.275.wav\n"
     ]
    },
    {
     "name": "stdout",
     "output_type": "stream",
     "text": [
      "/Users/robinson/Downloads/data/Olivia2006/Olivia2006_AUDIO/Olivia2006.e05.p06.i04.276.wav\n"
     ]
    },
    {
     "name": "stdout",
     "output_type": "stream",
     "text": [
      "/Users/robinson/Downloads/data/Olivia2006/Olivia2006_AUDIO/Olivia2006.e05.p06.i05.277.wav\n"
     ]
    },
    {
     "name": "stdout",
     "output_type": "stream",
     "text": [
      "/Users/robinson/Downloads/data/Olivia2006/Olivia2006_AUDIO/Olivia2006.e05.p06.i06.278.wav\n"
     ]
    },
    {
     "name": "stdout",
     "output_type": "stream",
     "text": [
      "/Users/robinson/Downloads/data/Olivia2006/Olivia2006_AUDIO/Olivia2006.e05.p07.i00.279.wav\n"
     ]
    },
    {
     "name": "stdout",
     "output_type": "stream",
     "text": [
      "/Users/robinson/Downloads/data/Olivia2006/Olivia2006_AUDIO/Olivia2006.e05.p07.i01.280.wav\n"
     ]
    },
    {
     "name": "stdout",
     "output_type": "stream",
     "text": [
      "/Users/robinson/Downloads/data/Olivia2006/Olivia2006_AUDIO/Olivia2006.e05.p07.i02.281.wav\n"
     ]
    },
    {
     "name": "stdout",
     "output_type": "stream",
     "text": [
      "/Users/robinson/Downloads/data/Olivia2006/Olivia2006_AUDIO/Olivia2006.e05.p07.i03.282.wav\n"
     ]
    },
    {
     "name": "stdout",
     "output_type": "stream",
     "text": [
      "/Users/robinson/Downloads/data/Olivia2006/Olivia2006_AUDIO/Olivia2006.e05.p07.i04.283.wav\n"
     ]
    },
    {
     "name": "stdout",
     "output_type": "stream",
     "text": [
      "/Users/robinson/Downloads/data/Olivia2006/Olivia2006_AUDIO/Olivia2006.e05.p07.i05.284.wav\n"
     ]
    },
    {
     "name": "stdout",
     "output_type": "stream",
     "text": [
      "/Users/robinson/Downloads/data/Olivia2006/Olivia2006_AUDIO/Olivia2006.e05.p08.i00.285.wav\n"
     ]
    },
    {
     "name": "stdout",
     "output_type": "stream",
     "text": [
      "/Users/robinson/Downloads/data/Olivia2006/Olivia2006_AUDIO/Olivia2006.e05.p08.i01.286.wav\n"
     ]
    },
    {
     "name": "stdout",
     "output_type": "stream",
     "text": [
      "/Users/robinson/Downloads/data/Olivia2006/Olivia2006_AUDIO/Olivia2006.e05.p08.i02.287.wav\n"
     ]
    },
    {
     "name": "stdout",
     "output_type": "stream",
     "text": [
      "/Users/robinson/Downloads/data/Olivia2006/Olivia2006_AUDIO/Olivia2006.e05.p08.i03.288.wav\n"
     ]
    },
    {
     "name": "stdout",
     "output_type": "stream",
     "text": [
      "/Users/robinson/Downloads/data/Olivia2006/Olivia2006_AUDIO/Olivia2006.e05.p08.i04.289.wav\n"
     ]
    },
    {
     "name": "stdout",
     "output_type": "stream",
     "text": [
      "/Users/robinson/Downloads/data/Olivia2006/Olivia2006_AUDIO/Olivia2006.e05.p08.i05.290.wav\n"
     ]
    },
    {
     "name": "stdout",
     "output_type": "stream",
     "text": [
      "/Users/robinson/Downloads/data/Olivia2006/Olivia2006_AUDIO/Olivia2006.e05.p09.i00.291.wav\n"
     ]
    },
    {
     "name": "stdout",
     "output_type": "stream",
     "text": [
      "/Users/robinson/Downloads/data/Olivia2006/Olivia2006_AUDIO/Olivia2006.e05.p09.i01.292.wav\n"
     ]
    },
    {
     "name": "stdout",
     "output_type": "stream",
     "text": [
      "/Users/robinson/Downloads/data/Olivia2006/Olivia2006_AUDIO/Olivia2006.e05.p09.i02.293.wav\n"
     ]
    },
    {
     "name": "stdout",
     "output_type": "stream",
     "text": [
      "/Users/robinson/Downloads/data/Olivia2006/Olivia2006_AUDIO/Olivia2006.e05.p09.i03.294.wav\n"
     ]
    },
    {
     "name": "stdout",
     "output_type": "stream",
     "text": [
      "/Users/robinson/Downloads/data/Olivia2006/Olivia2006_AUDIO/Olivia2006.e05.p09.i04.295.wav\n"
     ]
    },
    {
     "name": "stdout",
     "output_type": "stream",
     "text": [
      "/Users/robinson/Downloads/data/Olivia2006/Olivia2006_AUDIO/Olivia2006.e05.p09.i05.296.wav\n"
     ]
    },
    {
     "name": "stdout",
     "output_type": "stream",
     "text": [
      "/Users/robinson/Downloads/data/Olivia2006/Olivia2006_AUDIO/Olivia2006.e05.p09.i06.297.wav\n"
     ]
    },
    {
     "name": "stdout",
     "output_type": "stream",
     "text": [
      "/Users/robinson/Downloads/data/Olivia2006/Olivia2006_AUDIO/Olivia2006.e05.p10.i00.298.wav\n"
     ]
    },
    {
     "name": "stdout",
     "output_type": "stream",
     "text": [
      "/Users/robinson/Downloads/data/Olivia2006/Olivia2006_AUDIO/Olivia2006.e05.p10.i01.299.wav\n"
     ]
    },
    {
     "name": "stdout",
     "output_type": "stream",
     "text": [
      "/Users/robinson/Downloads/data/Olivia2006/Olivia2006_AUDIO/Olivia2006.e05.p10.i02.300.wav\n"
     ]
    },
    {
     "name": "stdout",
     "output_type": "stream",
     "text": [
      "/Users/robinson/Downloads/data/Olivia2006/Olivia2006_AUDIO/Olivia2006.e05.p10.i03.301.wav\n"
     ]
    },
    {
     "name": "stdout",
     "output_type": "stream",
     "text": [
      "/Users/robinson/Downloads/data/Olivia2006/Olivia2006_AUDIO/Olivia2006.e05.p10.i04.302.wav\n"
     ]
    },
    {
     "name": "stdout",
     "output_type": "stream",
     "text": [
      "/Users/robinson/Downloads/data/Olivia2006/Olivia2006_AUDIO/Olivia2006.e05.p10.i05.303.wav\n"
     ]
    },
    {
     "name": "stdout",
     "output_type": "stream",
     "text": [
      "/Users/robinson/Downloads/data/Olivia2006/Olivia2006_AUDIO/Olivia2006.e05.p10.i06.304.wav\n"
     ]
    },
    {
     "name": "stdout",
     "output_type": "stream",
     "text": [
      "/Users/robinson/Downloads/data/Olivia2006/Olivia2006_AUDIO/Olivia2006.e06.p01.i00.305.wav\n"
     ]
    },
    {
     "name": "stdout",
     "output_type": "stream",
     "text": [
      "/Users/robinson/Downloads/data/Olivia2006/Olivia2006_AUDIO/Olivia2006.e06.p01.i01.306.wav\n"
     ]
    },
    {
     "name": "stdout",
     "output_type": "stream",
     "text": [
      "/Users/robinson/Downloads/data/Olivia2006/Olivia2006_AUDIO/Olivia2006.e06.p01.i02.307.wav\n"
     ]
    },
    {
     "name": "stdout",
     "output_type": "stream",
     "text": [
      "/Users/robinson/Downloads/data/Olivia2006/Olivia2006_AUDIO/Olivia2006.e06.p01.i03.308.wav\n"
     ]
    },
    {
     "name": "stdout",
     "output_type": "stream",
     "text": [
      "/Users/robinson/Downloads/data/Olivia2006/Olivia2006_AUDIO/Olivia2006.e06.p01.i04.309.wav\n"
     ]
    },
    {
     "name": "stdout",
     "output_type": "stream",
     "text": [
      "/Users/robinson/Downloads/data/Olivia2006/Olivia2006_AUDIO/Olivia2006.e06.p01.i05.310.wav\n"
     ]
    },
    {
     "name": "stdout",
     "output_type": "stream",
     "text": [
      "/Users/robinson/Downloads/data/Olivia2006/Olivia2006_AUDIO/Olivia2006.e06.p01.i06.311.wav\n"
     ]
    },
    {
     "name": "stdout",
     "output_type": "stream",
     "text": [
      "/Users/robinson/Downloads/data/Olivia2006/Olivia2006_AUDIO/Olivia2006.e06.p02.i00.312.wav\n"
     ]
    },
    {
     "name": "stdout",
     "output_type": "stream",
     "text": [
      "/Users/robinson/Downloads/data/Olivia2006/Olivia2006_AUDIO/Olivia2006.e06.p02.i01.313.wav\n"
     ]
    },
    {
     "name": "stdout",
     "output_type": "stream",
     "text": [
      "/Users/robinson/Downloads/data/Olivia2006/Olivia2006_AUDIO/Olivia2006.e06.p02.i02.314.wav\n"
     ]
    },
    {
     "name": "stdout",
     "output_type": "stream",
     "text": [
      "/Users/robinson/Downloads/data/Olivia2006/Olivia2006_AUDIO/Olivia2006.e06.p02.i03.315.wav\n"
     ]
    },
    {
     "name": "stdout",
     "output_type": "stream",
     "text": [
      "/Users/robinson/Downloads/data/Olivia2006/Olivia2006_AUDIO/Olivia2006.e06.p02.i04.316.wav\n"
     ]
    },
    {
     "name": "stdout",
     "output_type": "stream",
     "text": [
      "/Users/robinson/Downloads/data/Olivia2006/Olivia2006_AUDIO/Olivia2006.e06.p02.i05.317.wav\n"
     ]
    },
    {
     "name": "stdout",
     "output_type": "stream",
     "text": [
      "/Users/robinson/Downloads/data/Olivia2006/Olivia2006_AUDIO/Olivia2006.e06.p03.i00.318.wav\n"
     ]
    },
    {
     "name": "stdout",
     "output_type": "stream",
     "text": [
      "/Users/robinson/Downloads/data/Olivia2006/Olivia2006_AUDIO/Olivia2006.e06.p03.i01.319.wav\n"
     ]
    },
    {
     "name": "stdout",
     "output_type": "stream",
     "text": [
      "/Users/robinson/Downloads/data/Olivia2006/Olivia2006_AUDIO/Olivia2006.e06.p03.i02.320.wav\n"
     ]
    },
    {
     "name": "stdout",
     "output_type": "stream",
     "text": [
      "/Users/robinson/Downloads/data/Olivia2006/Olivia2006_AUDIO/Olivia2006.e06.p03.i03.321.wav\n"
     ]
    },
    {
     "name": "stdout",
     "output_type": "stream",
     "text": [
      "/Users/robinson/Downloads/data/Olivia2006/Olivia2006_AUDIO/Olivia2006.e06.p03.i04.322.wav\n"
     ]
    },
    {
     "name": "stdout",
     "output_type": "stream",
     "text": [
      "/Users/robinson/Downloads/data/Olivia2006/Olivia2006_AUDIO/Olivia2006.e06.p03.i05.323.wav\n"
     ]
    },
    {
     "name": "stdout",
     "output_type": "stream",
     "text": [
      "/Users/robinson/Downloads/data/Olivia2006/Olivia2006_AUDIO/Olivia2006.e06.p04.i00.324.wav\n"
     ]
    },
    {
     "name": "stdout",
     "output_type": "stream",
     "text": [
      "/Users/robinson/Downloads/data/Olivia2006/Olivia2006_AUDIO/Olivia2006.e06.p04.i01.325.wav\n"
     ]
    },
    {
     "name": "stdout",
     "output_type": "stream",
     "text": [
      "/Users/robinson/Downloads/data/Olivia2006/Olivia2006_AUDIO/Olivia2006.e06.p04.i02.326.wav\n"
     ]
    },
    {
     "name": "stdout",
     "output_type": "stream",
     "text": [
      "/Users/robinson/Downloads/data/Olivia2006/Olivia2006_AUDIO/Olivia2006.e06.p04.i03.327.wav\n"
     ]
    },
    {
     "name": "stdout",
     "output_type": "stream",
     "text": [
      "/Users/robinson/Downloads/data/Olivia2006/Olivia2006_AUDIO/Olivia2006.e06.p04.i04.328.wav\n"
     ]
    },
    {
     "name": "stdout",
     "output_type": "stream",
     "text": [
      "/Users/robinson/Downloads/data/Olivia2006/Olivia2006_AUDIO/Olivia2006.e06.p04.i05.329.wav\n"
     ]
    },
    {
     "name": "stdout",
     "output_type": "stream",
     "text": [
      "/Users/robinson/Downloads/data/Olivia2006/Olivia2006_AUDIO/Olivia2006.e06.p05.i00.330.wav\n"
     ]
    },
    {
     "name": "stdout",
     "output_type": "stream",
     "text": [
      "/Users/robinson/Downloads/data/Olivia2006/Olivia2006_AUDIO/Olivia2006.e06.p05.i01.331.wav\n"
     ]
    },
    {
     "name": "stdout",
     "output_type": "stream",
     "text": [
      "/Users/robinson/Downloads/data/Olivia2006/Olivia2006_AUDIO/Olivia2006.e06.p05.i02.332.wav\n"
     ]
    },
    {
     "name": "stdout",
     "output_type": "stream",
     "text": [
      "/Users/robinson/Downloads/data/Olivia2006/Olivia2006_AUDIO/Olivia2006.e06.p05.i03.333.wav\n"
     ]
    },
    {
     "name": "stdout",
     "output_type": "stream",
     "text": [
      "/Users/robinson/Downloads/data/Olivia2006/Olivia2006_AUDIO/Olivia2006.e06.p05.i04.334.wav\n"
     ]
    },
    {
     "name": "stdout",
     "output_type": "stream",
     "text": [
      "/Users/robinson/Downloads/data/Olivia2006/Olivia2006_AUDIO/Olivia2006.e06.p05.i05.335.wav\n"
     ]
    },
    {
     "name": "stdout",
     "output_type": "stream",
     "text": [
      "/Users/robinson/Downloads/data/Olivia2006/Olivia2006_AUDIO/Olivia2006.e06.p06.i00.336.wav\n"
     ]
    },
    {
     "name": "stdout",
     "output_type": "stream",
     "text": [
      "/Users/robinson/Downloads/data/Olivia2006/Olivia2006_AUDIO/Olivia2006.e06.p06.i01.337.wav\n"
     ]
    },
    {
     "name": "stdout",
     "output_type": "stream",
     "text": [
      "/Users/robinson/Downloads/data/Olivia2006/Olivia2006_AUDIO/Olivia2006.e06.p06.i02.338.wav\n"
     ]
    },
    {
     "name": "stdout",
     "output_type": "stream",
     "text": [
      "/Users/robinson/Downloads/data/Olivia2006/Olivia2006_AUDIO/Olivia2006.e06.p06.i03.339.wav\n"
     ]
    },
    {
     "name": "stdout",
     "output_type": "stream",
     "text": [
      "/Users/robinson/Downloads/data/Olivia2006/Olivia2006_AUDIO/Olivia2006.e06.p06.i04.340.wav\n"
     ]
    },
    {
     "name": "stdout",
     "output_type": "stream",
     "text": [
      "/Users/robinson/Downloads/data/Olivia2006/Olivia2006_AUDIO/Olivia2006.e06.p06.i05.341.wav\n"
     ]
    },
    {
     "name": "stdout",
     "output_type": "stream",
     "text": [
      "/Users/robinson/Downloads/data/Olivia2006/Olivia2006_AUDIO/Olivia2006.e06.p07.i00.342.wav\n"
     ]
    },
    {
     "name": "stdout",
     "output_type": "stream",
     "text": [
      "/Users/robinson/Downloads/data/Olivia2006/Olivia2006_AUDIO/Olivia2006.e06.p07.i01.343.wav\n"
     ]
    },
    {
     "name": "stdout",
     "output_type": "stream",
     "text": [
      "/Users/robinson/Downloads/data/Olivia2006/Olivia2006_AUDIO/Olivia2006.e06.p07.i02.344.wav\n"
     ]
    },
    {
     "name": "stdout",
     "output_type": "stream",
     "text": [
      "/Users/robinson/Downloads/data/Olivia2006/Olivia2006_AUDIO/Olivia2006.e06.p07.i03.345.wav\n"
     ]
    },
    {
     "name": "stdout",
     "output_type": "stream",
     "text": [
      "/Users/robinson/Downloads/data/Olivia2006/Olivia2006_AUDIO/Olivia2006.e06.p07.i04.346.wav\n"
     ]
    },
    {
     "name": "stdout",
     "output_type": "stream",
     "text": [
      "/Users/robinson/Downloads/data/Olivia2006/Olivia2006_AUDIO/Olivia2006.e06.p07.i05.347.wav\n"
     ]
    },
    {
     "name": "stdout",
     "output_type": "stream",
     "text": [
      "/Users/robinson/Downloads/data/Olivia2006/Olivia2006_AUDIO/Olivia2006.e06.p08.i00.348.wav\n"
     ]
    },
    {
     "name": "stdout",
     "output_type": "stream",
     "text": [
      "/Users/robinson/Downloads/data/Olivia2006/Olivia2006_AUDIO/Olivia2006.e06.p08.i01.349.wav\n"
     ]
    },
    {
     "name": "stdout",
     "output_type": "stream",
     "text": [
      "/Users/robinson/Downloads/data/Olivia2006/Olivia2006_AUDIO/Olivia2006.e06.p08.i02.350.wav\n"
     ]
    },
    {
     "name": "stdout",
     "output_type": "stream",
     "text": [
      "/Users/robinson/Downloads/data/Olivia2006/Olivia2006_AUDIO/Olivia2006.e06.p08.i03.351.wav\n"
     ]
    },
    {
     "name": "stdout",
     "output_type": "stream",
     "text": [
      "/Users/robinson/Downloads/data/Olivia2006/Olivia2006_AUDIO/Olivia2006.e06.p08.i04.352.wav\n"
     ]
    },
    {
     "name": "stdout",
     "output_type": "stream",
     "text": [
      "/Users/robinson/Downloads/data/Olivia2006/Olivia2006_AUDIO/Olivia2006.e06.p08.i05.353.wav\n"
     ]
    },
    {
     "name": "stdout",
     "output_type": "stream",
     "text": [
      "/Users/robinson/Downloads/data/Olivia2006/Olivia2006_AUDIO/Olivia2006.e06.p09.i00.354.wav\n"
     ]
    },
    {
     "name": "stdout",
     "output_type": "stream",
     "text": [
      "/Users/robinson/Downloads/data/Olivia2006/Olivia2006_AUDIO/Olivia2006.e06.p09.i01.355.wav\n"
     ]
    },
    {
     "name": "stdout",
     "output_type": "stream",
     "text": [
      "/Users/robinson/Downloads/data/Olivia2006/Olivia2006_AUDIO/Olivia2006.e06.p09.i02.356.wav\n"
     ]
    },
    {
     "name": "stdout",
     "output_type": "stream",
     "text": [
      "/Users/robinson/Downloads/data/Olivia2006/Olivia2006_AUDIO/Olivia2006.e06.p09.i03.357.wav\n"
     ]
    },
    {
     "name": "stdout",
     "output_type": "stream",
     "text": [
      "/Users/robinson/Downloads/data/Olivia2006/Olivia2006_AUDIO/Olivia2006.e06.p09.i04.358.wav\n"
     ]
    },
    {
     "name": "stdout",
     "output_type": "stream",
     "text": [
      "/Users/robinson/Downloads/data/Olivia2006/Olivia2006_AUDIO/Olivia2006.e06.p09.i05.359.wav\n"
     ]
    },
    {
     "name": "stdout",
     "output_type": "stream",
     "text": [
      "/Users/robinson/Downloads/data/Olivia2006/Olivia2006_AUDIO/Olivia2006.e06.p10.i00.360.wav\n"
     ]
    },
    {
     "name": "stdout",
     "output_type": "stream",
     "text": [
      "/Users/robinson/Downloads/data/Olivia2006/Olivia2006_AUDIO/Olivia2006.e06.p10.i01.361.wav\n"
     ]
    },
    {
     "name": "stdout",
     "output_type": "stream",
     "text": [
      "/Users/robinson/Downloads/data/Olivia2006/Olivia2006_AUDIO/Olivia2006.e06.p10.i02.362.wav\n"
     ]
    },
    {
     "name": "stdout",
     "output_type": "stream",
     "text": [
      "/Users/robinson/Downloads/data/Olivia2006/Olivia2006_AUDIO/Olivia2006.e06.p10.i03.363.wav\n"
     ]
    },
    {
     "name": "stdout",
     "output_type": "stream",
     "text": [
      "/Users/robinson/Downloads/data/Olivia2006/Olivia2006_AUDIO/Olivia2006.e06.p10.i04.364.wav\n"
     ]
    },
    {
     "name": "stdout",
     "output_type": "stream",
     "text": [
      "/Users/robinson/Downloads/data/Olivia2006/Olivia2006_AUDIO/Olivia2006.e06.p10.i05.365.wav\n"
     ]
    },
    {
     "name": "stdout",
     "output_type": "stream",
     "text": [
      "/Users/robinson/Downloads/data/Olivia2006/Olivia2006_AUDIO/Olivia2006.e07.p01.i00.366.wav\n"
     ]
    },
    {
     "name": "stdout",
     "output_type": "stream",
     "text": [
      "/Users/robinson/Downloads/data/Olivia2006/Olivia2006_AUDIO/Olivia2006.e07.p01.i01.367.wav\n"
     ]
    },
    {
     "name": "stdout",
     "output_type": "stream",
     "text": [
      "/Users/robinson/Downloads/data/Olivia2006/Olivia2006_AUDIO/Olivia2006.e07.p01.i02.368.wav\n"
     ]
    },
    {
     "name": "stdout",
     "output_type": "stream",
     "text": [
      "/Users/robinson/Downloads/data/Olivia2006/Olivia2006_AUDIO/Olivia2006.e07.p01.i03.369.wav\n"
     ]
    },
    {
     "name": "stdout",
     "output_type": "stream",
     "text": [
      "/Users/robinson/Downloads/data/Olivia2006/Olivia2006_AUDIO/Olivia2006.e07.p01.i04.370.wav\n"
     ]
    },
    {
     "name": "stdout",
     "output_type": "stream",
     "text": [
      "/Users/robinson/Downloads/data/Olivia2006/Olivia2006_AUDIO/Olivia2006.e07.p01.i05.371.wav\n"
     ]
    },
    {
     "name": "stdout",
     "output_type": "stream",
     "text": [
      "/Users/robinson/Downloads/data/Olivia2006/Olivia2006_AUDIO/Olivia2006.e07.p02.i00.372.wav\n"
     ]
    },
    {
     "name": "stdout",
     "output_type": "stream",
     "text": [
      "/Users/robinson/Downloads/data/Olivia2006/Olivia2006_AUDIO/Olivia2006.e07.p02.i01.373.wav\n"
     ]
    },
    {
     "name": "stdout",
     "output_type": "stream",
     "text": [
      "/Users/robinson/Downloads/data/Olivia2006/Olivia2006_AUDIO/Olivia2006.e07.p02.i02.374.wav\n"
     ]
    },
    {
     "name": "stdout",
     "output_type": "stream",
     "text": [
      "/Users/robinson/Downloads/data/Olivia2006/Olivia2006_AUDIO/Olivia2006.e07.p02.i03.375.wav\n"
     ]
    },
    {
     "name": "stdout",
     "output_type": "stream",
     "text": [
      "/Users/robinson/Downloads/data/Olivia2006/Olivia2006_AUDIO/Olivia2006.e07.p02.i04.376.wav\n"
     ]
    },
    {
     "name": "stdout",
     "output_type": "stream",
     "text": [
      "/Users/robinson/Downloads/data/Olivia2006/Olivia2006_AUDIO/Olivia2006.e07.p02.i05.377.wav\n"
     ]
    },
    {
     "name": "stdout",
     "output_type": "stream",
     "text": [
      "/Users/robinson/Downloads/data/Olivia2006/Olivia2006_AUDIO/Olivia2006.e07.p03.i00.378.wav\n"
     ]
    },
    {
     "name": "stdout",
     "output_type": "stream",
     "text": [
      "/Users/robinson/Downloads/data/Olivia2006/Olivia2006_AUDIO/Olivia2006.e07.p03.i01.379.wav\n"
     ]
    },
    {
     "name": "stdout",
     "output_type": "stream",
     "text": [
      "/Users/robinson/Downloads/data/Olivia2006/Olivia2006_AUDIO/Olivia2006.e07.p03.i02.380.wav\n"
     ]
    },
    {
     "name": "stdout",
     "output_type": "stream",
     "text": [
      "/Users/robinson/Downloads/data/Olivia2006/Olivia2006_AUDIO/Olivia2006.e07.p03.i03.381.wav\n"
     ]
    },
    {
     "name": "stdout",
     "output_type": "stream",
     "text": [
      "/Users/robinson/Downloads/data/Olivia2006/Olivia2006_AUDIO/Olivia2006.e07.p03.i04.382.wav\n"
     ]
    },
    {
     "name": "stdout",
     "output_type": "stream",
     "text": [
      "/Users/robinson/Downloads/data/Olivia2006/Olivia2006_AUDIO/Olivia2006.e07.p03.i05.383.wav\n"
     ]
    },
    {
     "name": "stdout",
     "output_type": "stream",
     "text": [
      "/Users/robinson/Downloads/data/Olivia2006/Olivia2006_AUDIO/Olivia2006.e07.p04.i00.384.wav\n"
     ]
    },
    {
     "name": "stdout",
     "output_type": "stream",
     "text": [
      "/Users/robinson/Downloads/data/Olivia2006/Olivia2006_AUDIO/Olivia2006.e07.p04.i01.385.wav\n"
     ]
    },
    {
     "name": "stdout",
     "output_type": "stream",
     "text": [
      "/Users/robinson/Downloads/data/Olivia2006/Olivia2006_AUDIO/Olivia2006.e07.p04.i02.386.wav\n"
     ]
    },
    {
     "name": "stdout",
     "output_type": "stream",
     "text": [
      "/Users/robinson/Downloads/data/Olivia2006/Olivia2006_AUDIO/Olivia2006.e07.p04.i03.387.wav\n"
     ]
    },
    {
     "name": "stdout",
     "output_type": "stream",
     "text": [
      "/Users/robinson/Downloads/data/Olivia2006/Olivia2006_AUDIO/Olivia2006.e07.p04.i04.388.wav\n"
     ]
    },
    {
     "name": "stdout",
     "output_type": "stream",
     "text": [
      "/Users/robinson/Downloads/data/Olivia2006/Olivia2006_AUDIO/Olivia2006.e07.p04.i05.389.wav\n"
     ]
    },
    {
     "name": "stdout",
     "output_type": "stream",
     "text": [
      "/Users/robinson/Downloads/data/Olivia2006/Olivia2006_AUDIO/Olivia2006.e07.p05.i00.390.wav\n"
     ]
    },
    {
     "name": "stdout",
     "output_type": "stream",
     "text": [
      "/Users/robinson/Downloads/data/Olivia2006/Olivia2006_AUDIO/Olivia2006.e07.p05.i01.391.wav\n"
     ]
    },
    {
     "name": "stdout",
     "output_type": "stream",
     "text": [
      "/Users/robinson/Downloads/data/Olivia2006/Olivia2006_AUDIO/Olivia2006.e07.p05.i02.392.wav\n"
     ]
    },
    {
     "name": "stdout",
     "output_type": "stream",
     "text": [
      "/Users/robinson/Downloads/data/Olivia2006/Olivia2006_AUDIO/Olivia2006.e07.p05.i03.393.wav\n"
     ]
    },
    {
     "name": "stdout",
     "output_type": "stream",
     "text": [
      "/Users/robinson/Downloads/data/Olivia2006/Olivia2006_AUDIO/Olivia2006.e07.p05.i04.394.wav\n"
     ]
    },
    {
     "name": "stdout",
     "output_type": "stream",
     "text": [
      "/Users/robinson/Downloads/data/Olivia2006/Olivia2006_AUDIO/Olivia2006.e07.p05.i05.395.wav\n"
     ]
    },
    {
     "name": "stdout",
     "output_type": "stream",
     "text": [
      "/Users/robinson/Downloads/data/Olivia2006/Olivia2006_AUDIO/Olivia2006.e07.p06.i00.396.wav\n"
     ]
    },
    {
     "name": "stdout",
     "output_type": "stream",
     "text": [
      "/Users/robinson/Downloads/data/Olivia2006/Olivia2006_AUDIO/Olivia2006.e07.p06.i01.397.wav\n"
     ]
    },
    {
     "name": "stdout",
     "output_type": "stream",
     "text": [
      "/Users/robinson/Downloads/data/Olivia2006/Olivia2006_AUDIO/Olivia2006.e07.p06.i02.398.wav\n"
     ]
    },
    {
     "name": "stdout",
     "output_type": "stream",
     "text": [
      "/Users/robinson/Downloads/data/Olivia2006/Olivia2006_AUDIO/Olivia2006.e07.p06.i03.399.wav\n"
     ]
    },
    {
     "name": "stdout",
     "output_type": "stream",
     "text": [
      "/Users/robinson/Downloads/data/Olivia2006/Olivia2006_AUDIO/Olivia2006.e07.p06.i04.400.wav\n"
     ]
    },
    {
     "name": "stdout",
     "output_type": "stream",
     "text": [
      "/Users/robinson/Downloads/data/Olivia2006/Olivia2006_AUDIO/Olivia2006.e07.p06.i05.401.wav\n"
     ]
    },
    {
     "name": "stdout",
     "output_type": "stream",
     "text": [
      "/Users/robinson/Downloads/data/Olivia2006/Olivia2006_AUDIO/Olivia2006.e07.p07.i00.402.wav\n"
     ]
    },
    {
     "name": "stdout",
     "output_type": "stream",
     "text": [
      "/Users/robinson/Downloads/data/Olivia2006/Olivia2006_AUDIO/Olivia2006.e07.p07.i01.403.wav\n"
     ]
    },
    {
     "name": "stdout",
     "output_type": "stream",
     "text": [
      "/Users/robinson/Downloads/data/Olivia2006/Olivia2006_AUDIO/Olivia2006.e07.p07.i02.404.wav\n"
     ]
    },
    {
     "name": "stdout",
     "output_type": "stream",
     "text": [
      "/Users/robinson/Downloads/data/Olivia2006/Olivia2006_AUDIO/Olivia2006.e07.p07.i03.405.wav\n"
     ]
    },
    {
     "name": "stdout",
     "output_type": "stream",
     "text": [
      "/Users/robinson/Downloads/data/Olivia2006/Olivia2006_AUDIO/Olivia2006.e07.p07.i04.406.wav\n"
     ]
    },
    {
     "name": "stdout",
     "output_type": "stream",
     "text": [
      "/Users/robinson/Downloads/data/Olivia2006/Olivia2006_AUDIO/Olivia2006.e07.p07.i05.407.wav\n"
     ]
    },
    {
     "name": "stdout",
     "output_type": "stream",
     "text": [
      "/Users/robinson/Downloads/data/Olivia2006/Olivia2006_AUDIO/Olivia2006.e07.p07.i06.408.wav\n"
     ]
    },
    {
     "name": "stdout",
     "output_type": "stream",
     "text": [
      "/Users/robinson/Downloads/data/Olivia2006/Olivia2006_AUDIO/Olivia2006.e07.p08.i00.409.wav\n"
     ]
    },
    {
     "name": "stdout",
     "output_type": "stream",
     "text": [
      "/Users/robinson/Downloads/data/Olivia2006/Olivia2006_AUDIO/Olivia2006.e07.p08.i01.410.wav\n"
     ]
    },
    {
     "name": "stdout",
     "output_type": "stream",
     "text": [
      "/Users/robinson/Downloads/data/Olivia2006/Olivia2006_AUDIO/Olivia2006.e07.p08.i02.411.wav\n"
     ]
    },
    {
     "name": "stdout",
     "output_type": "stream",
     "text": [
      "/Users/robinson/Downloads/data/Olivia2006/Olivia2006_AUDIO/Olivia2006.e07.p08.i03.412.wav\n"
     ]
    },
    {
     "name": "stdout",
     "output_type": "stream",
     "text": [
      "/Users/robinson/Downloads/data/Olivia2006/Olivia2006_AUDIO/Olivia2006.e07.p08.i04.413.wav\n"
     ]
    },
    {
     "name": "stdout",
     "output_type": "stream",
     "text": [
      "/Users/robinson/Downloads/data/Olivia2006/Olivia2006_AUDIO/Olivia2006.e07.p08.i05.414.wav\n"
     ]
    },
    {
     "name": "stdout",
     "output_type": "stream",
     "text": [
      "/Users/robinson/Downloads/data/Olivia2006/Olivia2006_AUDIO/Olivia2006.e07.p09.i00.415.wav\n"
     ]
    },
    {
     "name": "stdout",
     "output_type": "stream",
     "text": [
      "/Users/robinson/Downloads/data/Olivia2006/Olivia2006_AUDIO/Olivia2006.e07.p09.i01.416.wav\n"
     ]
    },
    {
     "name": "stdout",
     "output_type": "stream",
     "text": [
      "/Users/robinson/Downloads/data/Olivia2006/Olivia2006_AUDIO/Olivia2006.e07.p09.i02.417.wav\n"
     ]
    },
    {
     "name": "stdout",
     "output_type": "stream",
     "text": [
      "/Users/robinson/Downloads/data/Olivia2006/Olivia2006_AUDIO/Olivia2006.e07.p09.i03.418.wav\n"
     ]
    },
    {
     "name": "stdout",
     "output_type": "stream",
     "text": [
      "/Users/robinson/Downloads/data/Olivia2006/Olivia2006_AUDIO/Olivia2006.e07.p09.i04.419.wav\n"
     ]
    },
    {
     "name": "stdout",
     "output_type": "stream",
     "text": [
      "/Users/robinson/Downloads/data/Olivia2006/Olivia2006_AUDIO/Olivia2006.e07.p09.i05.420.wav\n"
     ]
    },
    {
     "name": "stdout",
     "output_type": "stream",
     "text": [
      "/Users/robinson/Downloads/data/Olivia2006/Olivia2006_AUDIO/Olivia2006.e07.p10.i00.421.wav\n"
     ]
    },
    {
     "name": "stdout",
     "output_type": "stream",
     "text": [
      "/Users/robinson/Downloads/data/Olivia2006/Olivia2006_AUDIO/Olivia2006.e07.p10.i01.422.wav\n"
     ]
    },
    {
     "name": "stdout",
     "output_type": "stream",
     "text": [
      "/Users/robinson/Downloads/data/Olivia2006/Olivia2006_AUDIO/Olivia2006.e07.p10.i02.423.wav\n"
     ]
    },
    {
     "name": "stdout",
     "output_type": "stream",
     "text": [
      "/Users/robinson/Downloads/data/Olivia2006/Olivia2006_AUDIO/Olivia2006.e07.p10.i03.424.wav\n"
     ]
    },
    {
     "name": "stdout",
     "output_type": "stream",
     "text": [
      "/Users/robinson/Downloads/data/Olivia2006/Olivia2006_AUDIO/Olivia2006.e07.p10.i04.425.wav\n"
     ]
    },
    {
     "name": "stdout",
     "output_type": "stream",
     "text": [
      "/Users/robinson/Downloads/data/Olivia2006/Olivia2006_AUDIO/Olivia2006.e07.p10.i05.426.wav\n"
     ]
    },
    {
     "name": "stdout",
     "output_type": "stream",
     "text": [
      "/Users/robinson/Downloads/data/Olivia2006/Olivia2006_AUDIO/Olivia2006.e08.p01.i00.427.wav\n"
     ]
    },
    {
     "name": "stdout",
     "output_type": "stream",
     "text": [
      "/Users/robinson/Downloads/data/Olivia2006/Olivia2006_AUDIO/Olivia2006.e08.p01.i01.428.wav\n"
     ]
    },
    {
     "name": "stdout",
     "output_type": "stream",
     "text": [
      "/Users/robinson/Downloads/data/Olivia2006/Olivia2006_AUDIO/Olivia2006.e08.p01.i02.429.wav\n"
     ]
    },
    {
     "name": "stdout",
     "output_type": "stream",
     "text": [
      "/Users/robinson/Downloads/data/Olivia2006/Olivia2006_AUDIO/Olivia2006.e08.p01.i03.430.wav\n"
     ]
    },
    {
     "name": "stdout",
     "output_type": "stream",
     "text": [
      "/Users/robinson/Downloads/data/Olivia2006/Olivia2006_AUDIO/Olivia2006.e08.p01.i04.431.wav\n"
     ]
    },
    {
     "name": "stdout",
     "output_type": "stream",
     "text": [
      "/Users/robinson/Downloads/data/Olivia2006/Olivia2006_AUDIO/Olivia2006.e08.p01.i05.432.wav\n"
     ]
    },
    {
     "name": "stdout",
     "output_type": "stream",
     "text": [
      "/Users/robinson/Downloads/data/Olivia2006/Olivia2006_AUDIO/Olivia2006.e08.p02.i00.433.wav\n"
     ]
    },
    {
     "name": "stdout",
     "output_type": "stream",
     "text": [
      "/Users/robinson/Downloads/data/Olivia2006/Olivia2006_AUDIO/Olivia2006.e08.p02.i01.434.wav\n"
     ]
    },
    {
     "name": "stdout",
     "output_type": "stream",
     "text": [
      "/Users/robinson/Downloads/data/Olivia2006/Olivia2006_AUDIO/Olivia2006.e08.p02.i02.435.wav\n"
     ]
    },
    {
     "name": "stdout",
     "output_type": "stream",
     "text": [
      "/Users/robinson/Downloads/data/Olivia2006/Olivia2006_AUDIO/Olivia2006.e08.p02.i03.436.wav\n"
     ]
    },
    {
     "name": "stdout",
     "output_type": "stream",
     "text": [
      "/Users/robinson/Downloads/data/Olivia2006/Olivia2006_AUDIO/Olivia2006.e08.p02.i04.437.wav\n"
     ]
    },
    {
     "name": "stdout",
     "output_type": "stream",
     "text": [
      "/Users/robinson/Downloads/data/Olivia2006/Olivia2006_AUDIO/Olivia2006.e08.p02.i05.438.wav\n"
     ]
    },
    {
     "name": "stdout",
     "output_type": "stream",
     "text": [
      "/Users/robinson/Downloads/data/Olivia2006/Olivia2006_AUDIO/Olivia2006.e08.p03.i00.439.wav\n"
     ]
    },
    {
     "name": "stdout",
     "output_type": "stream",
     "text": [
      "/Users/robinson/Downloads/data/Olivia2006/Olivia2006_AUDIO/Olivia2006.e08.p03.i01.440.wav\n"
     ]
    },
    {
     "name": "stdout",
     "output_type": "stream",
     "text": [
      "/Users/robinson/Downloads/data/Olivia2006/Olivia2006_AUDIO/Olivia2006.e08.p03.i02.441.wav\n"
     ]
    },
    {
     "name": "stdout",
     "output_type": "stream",
     "text": [
      "/Users/robinson/Downloads/data/Olivia2006/Olivia2006_AUDIO/Olivia2006.e08.p03.i03.442.wav\n"
     ]
    },
    {
     "name": "stdout",
     "output_type": "stream",
     "text": [
      "/Users/robinson/Downloads/data/Olivia2006/Olivia2006_AUDIO/Olivia2006.e08.p03.i04.443.wav\n"
     ]
    },
    {
     "name": "stdout",
     "output_type": "stream",
     "text": [
      "/Users/robinson/Downloads/data/Olivia2006/Olivia2006_AUDIO/Olivia2006.e08.p03.i05.444.wav\n"
     ]
    },
    {
     "name": "stdout",
     "output_type": "stream",
     "text": [
      "/Users/robinson/Downloads/data/Olivia2006/Olivia2006_AUDIO/Olivia2006.e08.p04.i00.445.wav\n"
     ]
    },
    {
     "name": "stdout",
     "output_type": "stream",
     "text": [
      "/Users/robinson/Downloads/data/Olivia2006/Olivia2006_AUDIO/Olivia2006.e08.p04.i01.446.wav\n"
     ]
    },
    {
     "name": "stdout",
     "output_type": "stream",
     "text": [
      "/Users/robinson/Downloads/data/Olivia2006/Olivia2006_AUDIO/Olivia2006.e08.p04.i02.447.wav\n"
     ]
    },
    {
     "name": "stdout",
     "output_type": "stream",
     "text": [
      "/Users/robinson/Downloads/data/Olivia2006/Olivia2006_AUDIO/Olivia2006.e08.p04.i03.448.wav\n"
     ]
    },
    {
     "name": "stdout",
     "output_type": "stream",
     "text": [
      "/Users/robinson/Downloads/data/Olivia2006/Olivia2006_AUDIO/Olivia2006.e08.p04.i04.449.wav\n"
     ]
    },
    {
     "name": "stdout",
     "output_type": "stream",
     "text": [
      "/Users/robinson/Downloads/data/Olivia2006/Olivia2006_AUDIO/Olivia2006.e08.p04.i05.450.wav\n"
     ]
    },
    {
     "name": "stdout",
     "output_type": "stream",
     "text": [
      "/Users/robinson/Downloads/data/Olivia2006/Olivia2006_AUDIO/Olivia2006.e08.p05.i00.451.wav\n"
     ]
    },
    {
     "name": "stdout",
     "output_type": "stream",
     "text": [
      "/Users/robinson/Downloads/data/Olivia2006/Olivia2006_AUDIO/Olivia2006.e08.p05.i01.452.wav\n"
     ]
    },
    {
     "name": "stdout",
     "output_type": "stream",
     "text": [
      "/Users/robinson/Downloads/data/Olivia2006/Olivia2006_AUDIO/Olivia2006.e08.p05.i02.453.wav\n"
     ]
    },
    {
     "name": "stdout",
     "output_type": "stream",
     "text": [
      "/Users/robinson/Downloads/data/Olivia2006/Olivia2006_AUDIO/Olivia2006.e08.p05.i03.454.wav\n"
     ]
    },
    {
     "name": "stdout",
     "output_type": "stream",
     "text": [
      "/Users/robinson/Downloads/data/Olivia2006/Olivia2006_AUDIO/Olivia2006.e08.p05.i04.455.wav\n"
     ]
    },
    {
     "name": "stdout",
     "output_type": "stream",
     "text": [
      "/Users/robinson/Downloads/data/Olivia2006/Olivia2006_AUDIO/Olivia2006.e08.p05.i05.456.wav\n"
     ]
    },
    {
     "name": "stdout",
     "output_type": "stream",
     "text": [
      "/Users/robinson/Downloads/data/Olivia2006/Olivia2006_AUDIO/Olivia2006.e08.p06.i00.457.wav\n"
     ]
    },
    {
     "name": "stdout",
     "output_type": "stream",
     "text": [
      "/Users/robinson/Downloads/data/Olivia2006/Olivia2006_AUDIO/Olivia2006.e08.p06.i01.458.wav\n"
     ]
    },
    {
     "name": "stdout",
     "output_type": "stream",
     "text": [
      "/Users/robinson/Downloads/data/Olivia2006/Olivia2006_AUDIO/Olivia2006.e08.p06.i02.459.wav\n"
     ]
    },
    {
     "name": "stdout",
     "output_type": "stream",
     "text": [
      "/Users/robinson/Downloads/data/Olivia2006/Olivia2006_AUDIO/Olivia2006.e08.p06.i03.460.wav\n"
     ]
    },
    {
     "name": "stdout",
     "output_type": "stream",
     "text": [
      "/Users/robinson/Downloads/data/Olivia2006/Olivia2006_AUDIO/Olivia2006.e08.p06.i04.461.wav\n"
     ]
    },
    {
     "name": "stdout",
     "output_type": "stream",
     "text": [
      "/Users/robinson/Downloads/data/Olivia2006/Olivia2006_AUDIO/Olivia2006.e08.p06.i05.462.wav\n"
     ]
    },
    {
     "name": "stdout",
     "output_type": "stream",
     "text": [
      "/Users/robinson/Downloads/data/Olivia2006/Olivia2006_AUDIO/Olivia2006.e08.p07.i00.463.wav\n"
     ]
    },
    {
     "name": "stdout",
     "output_type": "stream",
     "text": [
      "/Users/robinson/Downloads/data/Olivia2006/Olivia2006_AUDIO/Olivia2006.e08.p07.i01.464.wav\n"
     ]
    },
    {
     "name": "stdout",
     "output_type": "stream",
     "text": [
      "/Users/robinson/Downloads/data/Olivia2006/Olivia2006_AUDIO/Olivia2006.e08.p07.i02.465.wav\n"
     ]
    },
    {
     "name": "stdout",
     "output_type": "stream",
     "text": [
      "/Users/robinson/Downloads/data/Olivia2006/Olivia2006_AUDIO/Olivia2006.e08.p07.i03.466.wav\n"
     ]
    },
    {
     "name": "stdout",
     "output_type": "stream",
     "text": [
      "/Users/robinson/Downloads/data/Olivia2006/Olivia2006_AUDIO/Olivia2006.e08.p07.i04.467.wav\n"
     ]
    },
    {
     "name": "stdout",
     "output_type": "stream",
     "text": [
      "/Users/robinson/Downloads/data/Olivia2006/Olivia2006_AUDIO/Olivia2006.e08.p07.i05.468.wav\n"
     ]
    },
    {
     "name": "stdout",
     "output_type": "stream",
     "text": [
      "/Users/robinson/Downloads/data/Olivia2006/Olivia2006_AUDIO/Olivia2006.e08.p08.i00.469.wav\n"
     ]
    },
    {
     "name": "stdout",
     "output_type": "stream",
     "text": [
      "/Users/robinson/Downloads/data/Olivia2006/Olivia2006_AUDIO/Olivia2006.e08.p08.i01.470.wav\n"
     ]
    },
    {
     "name": "stdout",
     "output_type": "stream",
     "text": [
      "/Users/robinson/Downloads/data/Olivia2006/Olivia2006_AUDIO/Olivia2006.e08.p08.i02.471.wav\n"
     ]
    },
    {
     "name": "stdout",
     "output_type": "stream",
     "text": [
      "/Users/robinson/Downloads/data/Olivia2006/Olivia2006_AUDIO/Olivia2006.e08.p08.i03.472.wav\n"
     ]
    },
    {
     "name": "stdout",
     "output_type": "stream",
     "text": [
      "/Users/robinson/Downloads/data/Olivia2006/Olivia2006_AUDIO/Olivia2006.e08.p08.i04.473.wav\n"
     ]
    },
    {
     "name": "stdout",
     "output_type": "stream",
     "text": [
      "/Users/robinson/Downloads/data/Olivia2006/Olivia2006_AUDIO/Olivia2006.e08.p08.i05.474.wav\n"
     ]
    },
    {
     "name": "stdout",
     "output_type": "stream",
     "text": [
      "/Users/robinson/Downloads/data/Olivia2006/Olivia2006_AUDIO/Olivia2006.e08.p09.i00.475.wav\n"
     ]
    },
    {
     "name": "stdout",
     "output_type": "stream",
     "text": [
      "/Users/robinson/Downloads/data/Olivia2006/Olivia2006_AUDIO/Olivia2006.e08.p09.i01.476.wav\n"
     ]
    },
    {
     "name": "stdout",
     "output_type": "stream",
     "text": [
      "/Users/robinson/Downloads/data/Olivia2006/Olivia2006_AUDIO/Olivia2006.e08.p09.i02.477.wav\n"
     ]
    },
    {
     "name": "stdout",
     "output_type": "stream",
     "text": [
      "/Users/robinson/Downloads/data/Olivia2006/Olivia2006_AUDIO/Olivia2006.e08.p09.i03.478.wav\n"
     ]
    },
    {
     "name": "stdout",
     "output_type": "stream",
     "text": [
      "/Users/robinson/Downloads/data/Olivia2006/Olivia2006_AUDIO/Olivia2006.e08.p09.i04.479.wav\n"
     ]
    },
    {
     "name": "stdout",
     "output_type": "stream",
     "text": [
      "/Users/robinson/Downloads/data/Olivia2006/Olivia2006_AUDIO/Olivia2006.e08.p09.i05.480.wav\n"
     ]
    },
    {
     "name": "stdout",
     "output_type": "stream",
     "text": [
      "/Users/robinson/Downloads/data/Olivia2006/Olivia2006_AUDIO/Olivia2006.e08.p10.i00.481.wav\n"
     ]
    },
    {
     "name": "stdout",
     "output_type": "stream",
     "text": [
      "/Users/robinson/Downloads/data/Olivia2006/Olivia2006_AUDIO/Olivia2006.e08.p10.i01.482.wav\n"
     ]
    },
    {
     "name": "stdout",
     "output_type": "stream",
     "text": [
      "/Users/robinson/Downloads/data/Olivia2006/Olivia2006_AUDIO/Olivia2006.e08.p10.i02.483.wav\n"
     ]
    },
    {
     "name": "stdout",
     "output_type": "stream",
     "text": [
      "/Users/robinson/Downloads/data/Olivia2006/Olivia2006_AUDIO/Olivia2006.e08.p10.i03.484.wav\n"
     ]
    },
    {
     "name": "stdout",
     "output_type": "stream",
     "text": [
      "/Users/robinson/Downloads/data/Olivia2006/Olivia2006_AUDIO/Olivia2006.e08.p10.i04.485.wav\n"
     ]
    },
    {
     "name": "stdout",
     "output_type": "stream",
     "text": [
      "/Users/robinson/Downloads/data/Olivia2006/Olivia2006_AUDIO/Olivia2006.e09.p01.486.wav\n"
     ]
    },
    {
     "name": "stdout",
     "output_type": "stream",
     "text": [
      "/Users/robinson/Downloads/data/Olivia2006/Olivia2006_AUDIO/Olivia2006.e09.p02.487.wav\n"
     ]
    },
    {
     "name": "stdout",
     "output_type": "stream",
     "text": [
      "/Users/robinson/Downloads/data/Olivia2006/Olivia2006_AUDIO/Olivia2006.e09.p03.488.wav\n"
     ]
    },
    {
     "name": "stdout",
     "output_type": "stream",
     "text": [
      "/Users/robinson/Downloads/data/Olivia2006/Olivia2006_AUDIO/Olivia2006.e09.p04.489.wav\n"
     ]
    },
    {
     "name": "stdout",
     "output_type": "stream",
     "text": [
      "/Users/robinson/Downloads/data/Olivia2006/Olivia2006_AUDIO/Olivia2006.e09.p05.490.wav\n"
     ]
    },
    {
     "name": "stdout",
     "output_type": "stream",
     "text": [
      "/Users/robinson/Downloads/data/Olivia2006/Olivia2006_AUDIO/Olivia2006.e09.p06.491.wav\n"
     ]
    },
    {
     "name": "stdout",
     "output_type": "stream",
     "text": [
      "/Users/robinson/Downloads/data/Olivia2006/Olivia2006_AUDIO/Olivia2006.e09.p07.492.wav\n"
     ]
    },
    {
     "name": "stdout",
     "output_type": "stream",
     "text": [
      "/Users/robinson/Downloads/data/Olivia2006/Olivia2006_AUDIO/Olivia2006.e09.p08.493.wav\n"
     ]
    },
    {
     "name": "stdout",
     "output_type": "stream",
     "text": [
      "/Users/robinson/Downloads/data/Olivia2006/Olivia2006_AUDIO/Olivia2006.e09.p09.494.wav\n"
     ]
    },
    {
     "name": "stdout",
     "output_type": "stream",
     "text": [
      "/Users/robinson/Downloads/data/Olivia2006/Olivia2006_AUDIO/Olivia2006.e09.p10.495.wav\n"
     ]
    },
    {
     "name": "stdout",
     "output_type": "stream",
     "text": [
      "/Users/robinson/Downloads/data/Olivia2006/Olivia2006_AUDIO/Olivia2006.e10.p01.496.wav\n"
     ]
    },
    {
     "name": "stdout",
     "output_type": "stream",
     "text": [
      "/Users/robinson/Downloads/data/Olivia2006/Olivia2006_AUDIO/Olivia2006.e10.p02.497.wav\n"
     ]
    },
    {
     "name": "stdout",
     "output_type": "stream",
     "text": [
      "/Users/robinson/Downloads/data/Olivia2006/Olivia2006_AUDIO/Olivia2006.e10.p03.498.wav\n"
     ]
    },
    {
     "name": "stdout",
     "output_type": "stream",
     "text": [
      "/Users/robinson/Downloads/data/Olivia2006/Olivia2006_AUDIO/Olivia2006.e10.p04.499.wav\n"
     ]
    },
    {
     "name": "stdout",
     "output_type": "stream",
     "text": [
      "/Users/robinson/Downloads/data/Olivia2006/Olivia2006_AUDIO/Olivia2006.e10.p05.500.wav\n"
     ]
    },
    {
     "name": "stdout",
     "output_type": "stream",
     "text": [
      "/Users/robinson/Downloads/data/Olivia2006/Olivia2006_AUDIO/Olivia2006.e10.p06.501.wav\n"
     ]
    },
    {
     "name": "stdout",
     "output_type": "stream",
     "text": [
      "/Users/robinson/Downloads/data/Olivia2006/Olivia2006_AUDIO/Olivia2006.e10.p07.502.wav\n"
     ]
    },
    {
     "name": "stdout",
     "output_type": "stream",
     "text": [
      "/Users/robinson/Downloads/data/Olivia2006/Olivia2006_AUDIO/Olivia2006.e10.p08.503.wav\n"
     ]
    },
    {
     "name": "stdout",
     "output_type": "stream",
     "text": [
      "/Users/robinson/Downloads/data/Olivia2006/Olivia2006_AUDIO/Olivia2006.e10.p09.504.wav\n"
     ]
    },
    {
     "name": "stdout",
     "output_type": "stream",
     "text": [
      "/Users/robinson/Downloads/data/Olivia2006/Olivia2006_AUDIO/Olivia2006.e10.p10.505.wav\n"
     ]
    },
    {
     "name": "stdout",
     "output_type": "stream",
     "text": [
      "/Users/robinson/Downloads/data/Olivia2006/Olivia2006_AUDIO/Olivia2006.e11.p01.506.wav\n"
     ]
    },
    {
     "name": "stdout",
     "output_type": "stream",
     "text": [
      "/Users/robinson/Downloads/data/Olivia2006/Olivia2006_AUDIO/Olivia2006.e11.p02.507.wav\n"
     ]
    },
    {
     "name": "stdout",
     "output_type": "stream",
     "text": [
      "/Users/robinson/Downloads/data/Olivia2006/Olivia2006_AUDIO/Olivia2006.e11.p03.508.wav\n"
     ]
    },
    {
     "name": "stdout",
     "output_type": "stream",
     "text": [
      "/Users/robinson/Downloads/data/Olivia2006/Olivia2006_AUDIO/Olivia2006.e11.p04.509.wav\n"
     ]
    },
    {
     "name": "stdout",
     "output_type": "stream",
     "text": [
      "/Users/robinson/Downloads/data/Olivia2006/Olivia2006_AUDIO/Olivia2006.e11.p05.510.wav\n"
     ]
    },
    {
     "name": "stdout",
     "output_type": "stream",
     "text": [
      "/Users/robinson/Downloads/data/Olivia2006/Olivia2006_AUDIO/Olivia2006.e11.p06.511.wav\n"
     ]
    },
    {
     "name": "stdout",
     "output_type": "stream",
     "text": [
      "/Users/robinson/Downloads/data/Olivia2006/Olivia2006_AUDIO/Olivia2006.e11.p07.512.wav\n"
     ]
    },
    {
     "name": "stdout",
     "output_type": "stream",
     "text": [
      "/Users/robinson/Downloads/data/Olivia2006/Olivia2006_AUDIO/Olivia2006.e11.p08.513.wav\n"
     ]
    },
    {
     "name": "stdout",
     "output_type": "stream",
     "text": [
      "/Users/robinson/Downloads/data/Olivia2006/Olivia2006_AUDIO/Olivia2006.e11.p09.514.wav\n"
     ]
    },
    {
     "name": "stdout",
     "output_type": "stream",
     "text": [
      "/Users/robinson/Downloads/data/Olivia2006/Olivia2006_AUDIO/Olivia2006.e11.p10.515.wav\n"
     ]
    },
    {
     "name": "stdout",
     "output_type": "stream",
     "text": [
      "/Users/robinson/Downloads/data/Olivia2006/Olivia2006_AUDIO/Olivia2006.e12.p01.516.wav\n"
     ]
    },
    {
     "name": "stdout",
     "output_type": "stream",
     "text": [
      "/Users/robinson/Downloads/data/Olivia2006/Olivia2006_AUDIO/Olivia2006.e12.p02.517.wav\n"
     ]
    },
    {
     "name": "stdout",
     "output_type": "stream",
     "text": [
      "/Users/robinson/Downloads/data/Olivia2006/Olivia2006_AUDIO/Olivia2006.e12.p03.518.wav\n"
     ]
    },
    {
     "name": "stdout",
     "output_type": "stream",
     "text": [
      "/Users/robinson/Downloads/data/Olivia2006/Olivia2006_AUDIO/Olivia2006.e12.p04.519.wav\n"
     ]
    },
    {
     "name": "stdout",
     "output_type": "stream",
     "text": [
      "/Users/robinson/Downloads/data/Olivia2006/Olivia2006_AUDIO/Olivia2006.e12.p05.520.wav\n"
     ]
    },
    {
     "name": "stdout",
     "output_type": "stream",
     "text": [
      "/Users/robinson/Downloads/data/Olivia2006/Olivia2006_AUDIO/Olivia2006.e12.p06.521.wav\n"
     ]
    },
    {
     "name": "stdout",
     "output_type": "stream",
     "text": [
      "/Users/robinson/Downloads/data/Olivia2006/Olivia2006_AUDIO/Olivia2006.e12.p07.522.wav\n"
     ]
    },
    {
     "name": "stdout",
     "output_type": "stream",
     "text": [
      "/Users/robinson/Downloads/data/Olivia2006/Olivia2006_AUDIO/Olivia2006.e12.p08.523.wav\n"
     ]
    },
    {
     "name": "stdout",
     "output_type": "stream",
     "text": [
      "/Users/robinson/Downloads/data/Olivia2006/Olivia2006_AUDIO/Olivia2006.e12.p09.524.wav\n"
     ]
    },
    {
     "name": "stdout",
     "output_type": "stream",
     "text": [
      "/Users/robinson/Downloads/data/Olivia2006/Olivia2006_AUDIO/Olivia2006.e12.p10.525.wav\n"
     ]
    },
    {
     "name": "stdout",
     "output_type": "stream",
     "text": [
      "/Users/robinson/Downloads/data/Olivia2006/Olivia2006_AUDIO/Olivia2006.e13.p01.526.wav\n"
     ]
    },
    {
     "name": "stdout",
     "output_type": "stream",
     "text": [
      "/Users/robinson/Downloads/data/Olivia2006/Olivia2006_AUDIO/Olivia2006.e13.p02.527.wav\n"
     ]
    },
    {
     "name": "stdout",
     "output_type": "stream",
     "text": [
      "/Users/robinson/Downloads/data/Olivia2006/Olivia2006_AUDIO/Olivia2006.e13.p03.528.wav\n"
     ]
    },
    {
     "name": "stdout",
     "output_type": "stream",
     "text": [
      "/Users/robinson/Downloads/data/Olivia2006/Olivia2006_AUDIO/Olivia2006.e13.p04.529.wav\n"
     ]
    },
    {
     "name": "stdout",
     "output_type": "stream",
     "text": [
      "/Users/robinson/Downloads/data/Olivia2006/Olivia2006_AUDIO/Olivia2006.e13.p05.530.wav\n"
     ]
    },
    {
     "name": "stdout",
     "output_type": "stream",
     "text": [
      "/Users/robinson/Downloads/data/Olivia2006/Olivia2006_AUDIO/Olivia2006.e13.p06.531.wav\n"
     ]
    },
    {
     "name": "stdout",
     "output_type": "stream",
     "text": [
      "/Users/robinson/Downloads/data/Olivia2006/Olivia2006_AUDIO/Olivia2006.e13.p07.532.wav\n"
     ]
    },
    {
     "name": "stdout",
     "output_type": "stream",
     "text": [
      "/Users/robinson/Downloads/data/Olivia2006/Olivia2006_AUDIO/Olivia2006.e13.p08.533.wav\n"
     ]
    },
    {
     "name": "stdout",
     "output_type": "stream",
     "text": [
      "/Users/robinson/Downloads/data/Olivia2006/Olivia2006_AUDIO/Olivia2006.e13.p09.534.wav\n"
     ]
    },
    {
     "name": "stdout",
     "output_type": "stream",
     "text": [
      "/Users/robinson/Downloads/data/Olivia2006/Olivia2006_AUDIO/Olivia2006.e13.p10.535.wav\n"
     ]
    },
    {
     "name": "stdout",
     "output_type": "stream",
     "text": [
      "/Users/robinson/Downloads/data/Olivia2006/Olivia2006_AUDIO/Olivia2006.e14.p01.536.wav\n"
     ]
    },
    {
     "name": "stdout",
     "output_type": "stream",
     "text": [
      "/Users/robinson/Downloads/data/Olivia2006/Olivia2006_AUDIO/Olivia2006.e14.p02.537.wav\n"
     ]
    },
    {
     "name": "stdout",
     "output_type": "stream",
     "text": [
      "/Users/robinson/Downloads/data/Olivia2006/Olivia2006_AUDIO/Olivia2006.e14.p03.538.wav\n"
     ]
    },
    {
     "name": "stdout",
     "output_type": "stream",
     "text": [
      "/Users/robinson/Downloads/data/Olivia2006/Olivia2006_AUDIO/Olivia2006.e14.p04.539.wav\n"
     ]
    },
    {
     "name": "stdout",
     "output_type": "stream",
     "text": [
      "/Users/robinson/Downloads/data/Olivia2006/Olivia2006_AUDIO/Olivia2006.e14.p05.540.wav\n"
     ]
    },
    {
     "name": "stdout",
     "output_type": "stream",
     "text": [
      "/Users/robinson/Downloads/data/Olivia2006/Olivia2006_AUDIO/Olivia2006.e14.p06.541.wav\n"
     ]
    },
    {
     "name": "stdout",
     "output_type": "stream",
     "text": [
      "/Users/robinson/Downloads/data/Olivia2006/Olivia2006_AUDIO/Olivia2006.e14.p07.542.wav\n"
     ]
    },
    {
     "name": "stdout",
     "output_type": "stream",
     "text": [
      "/Users/robinson/Downloads/data/Olivia2006/Olivia2006_AUDIO/Olivia2006.e14.p08.543.wav\n"
     ]
    },
    {
     "name": "stdout",
     "output_type": "stream",
     "text": [
      "/Users/robinson/Downloads/data/Olivia2006/Olivia2006_AUDIO/Olivia2006.e14.p09.544.wav\n"
     ]
    },
    {
     "name": "stdout",
     "output_type": "stream",
     "text": [
      "/Users/robinson/Downloads/data/Olivia2006/Olivia2006_AUDIO/Olivia2006.e14.p10.545.wav\n"
     ]
    },
    {
     "name": "stdout",
     "output_type": "stream",
     "text": [
      "/Users/robinson/Downloads/data/Olivia2006/Olivia2006_AUDIO/original_f0extract\n/Users/robinson/Downloads/data/Olivia2006/Olivia2006_AUDIO/timestretch\n/Users/robinson/Downloads/data/Olivia2006/Olivia2006_AUDIO/timestretch_f0extract\ndone\n"
     ]
    }
   ],
   "source": [
    "# input directory is former output_directory\n",
    "wav_input_directory_path = '/Users/robinson/Downloads/data/Olivia2006/Olivia2006_AUDIO'\n",
    "input_directory_path = wav_input_directory_path\n",
    "input_directory = os.fsencode(input_directory_path)\n",
    "\n",
    "# define new output directory and files\n",
    "output_directory_path = os.path.join(wav_input_directory_path, 'original_f0extract')\n",
    "if not os.path.exists(output_directory_path):\n",
    "    os.mkdir(output_directory_path)\n",
    "\n",
    "# for each wav file in directory\n",
    "for file in os.listdir(input_directory):\n",
    "    # get filename\n",
    "    filename = os.fsdecode(file)\n",
    "    # get filepath and decode from bytes to string\n",
    "    # filepath = os.path.abspath(file).decode(\"utf-8\") \n",
    "    filepath = os.path.join(input_directory_path, filename)\n",
    "    print(filepath)\n",
    "    \n",
    "    if filename.endswith('.wav'):\n",
    "        # build outfile sdif filename\n",
    "        sdif_file_out, ext = os.path.splitext(filename)\n",
    "        sdif_file_out = sdif_file_out + '.sdif'\n",
    "        sdif_file_out_path = os.path.join(output_directory_path, sdif_file_out)\n",
    "        \n",
    "        # extract f0 and write to sdif\n",
    "        calc_f0_swipe(filepath, sdif_file_out_path)\n",
    "        \n",
    "print('done')"
   ]
  },
  {
   "cell_type": "markdown",
   "metadata": {},
   "source": [
    "<h3>Generate before and after syllable timecode csv files, and minimum F0 file"
   ]
  },
  {
   "cell_type": "code",
   "execution_count": 160,
   "metadata": {
    "collapsed": false
   },
   "outputs": [
    {
     "name": "stdout",
     "output_type": "stream",
     "text": [
      "filename_phon  Olivia2006.e01.p01.i00.s00_###0.csv\nfilename_phon  Olivia2006.e01.p01.i00.s01_s1.csv\nfilename_phon  Olivia2006.e01.p01.i00.s01_e2.csv\nfilename_phon  Olivia2006.e01.p01.i00.s02_9~3.csv\nfilename_phon  Olivia2006.e01.p01.i00.s03_s4.csv\nfilename_phon  Olivia2006.e01.p01.i00.s03_O5.csv\nfilename_phon  Olivia2006.e01.p01.i00.s03_l6.csv\nfilename_phon  Olivia2006.e01.p01.i00.s04_d7.csv\nfilename_phon  Olivia2006.e01.p01.i00.s04_a8.csv\nfilename_phon  Olivia2006.e01.p01.i00.s05_#9.csv\nfilename_phon  Olivia2006.e01.p01.i00.s06_a10.csv\nfilename_phon  Olivia2006.e01.p01.i00.s07_S11.csv\nfilename_phon  Olivia2006.e01.p01.i00.s07_212.csv\nfilename_phon  Olivia2006.e01.p01.i00.s08_v13.csv\nfilename_phon  Olivia2006.e01.p01.i00.s08_214.csv\nfilename_phon  Olivia2006.e01.p01.i00.s09_g15.csv\nfilename_phon  Olivia2006.e01.p01.i00.s09_R16.csv\nfilename_phon  Olivia2006.e01.p01.i00.s09_i17.csv\nfilename_phon  Olivia2006.e01.p01.i00.s10_###18.csv\nfilename_phon  Olivia2006.e02.p01.i00.s00_###0.csv\nfilename_phon  Olivia2006.e02.p01.i00.s01_s1.csv\nfilename_phon  Olivia2006.e02.p01.i00.s01_e2.csv\nfilename_phon  Olivia2006.e02.p01.i00.s02_t3.csv\nfilename_phon  Olivia2006.e02.p01.i00.s02_9~4.csv\nfilename_phon  Olivia2006.e02.p01.i00.s03_s5.csv\nfilename_phon  Olivia2006.e02.p01.i00.s03_O6.csv\nfilename_phon  Olivia2006.e02.p01.i00.s03_l7.csv\nfilename_phon  Olivia2006.e02.p01.i00.s04_d8.csv\nfilename_phon  Olivia2006.e02.p01.i00.s04_a9.csv\nfilename_phon  Olivia2006.e02.p01.i00.s05_##10.csv\nfilename_phon  Olivia2006.e02.p01.i00.s06_a11.csv\nfilename_phon  Olivia2006.e02.p01.i00.s07_S12.csv\nfilename_phon  Olivia2006.e02.p01.i00.s07_213.csv\nfilename_phon  Olivia2006.e02.p01.i00.s08_v14.csv\nfilename_phon  Olivia2006.e02.p01.i00.s08_215.csv\nfilename_phon  Olivia2006.e02.p01.i00.s09_g16.csv\nfilename_phon  Olivia2006.e02.p01.i00.s09_R17.csv\nfilename_phon  Olivia2006.e02.p01.i00.s09_i18.csv\nfilename_phon  Olivia2006.e02.p01.i00.s10_###19.csv\nfilename_phon  Olivia2006.e03.p01.i00.s00_###0.csv\nfilename_phon  Olivia2006.e03.p01.i00.s01_s1.csv\nfilename_phon  Olivia2006.e03.p01.i00.s01_e2.csv\nfilename_phon  Olivia2006.e03.p01.i00.s02_t3.csv\nfilename_phon  Olivia2006.e03.p01.i00.s02_9~4.csv\nfilename_phon  Olivia2006.e03.p01.i00.s03_s5.csv\nfilename_phon  Olivia2006.e03.p01.i00.s03_O6.csv\nfilename_phon  Olivia2006.e03.p01.i00.s03_l7.csv\nfilename_phon  Olivia2006.e03.p01.i00.s04_d8.csv\nfilename_phon  Olivia2006.e03.p01.i00.s04_a9.csv\nfilename_phon  Olivia2006.e03.p01.i00.s05_##10.csv\nfilename_phon  Olivia2006.e03.p01.i00.s06_a11.csv\nfilename_phon  Olivia2006.e03.p01.i00.s07_S12.csv\nfilename_phon  Olivia2006.e03.p01.i00.s07_213.csv\nfilename_phon  Olivia2006.e03.p01.i00.s08_v14.csv\nfilename_phon  Olivia2006.e03.p01.i00.s08_215.csv\nfilename_phon  Olivia2006.e03.p01.i00.s09_g16.csv\nfilename_phon  Olivia2006.e03.p01.i00.s09_R17.csv\nfilename_phon  Olivia2006.e03.p01.i00.s09_i18.csv\nfilename_phon  Olivia2006.e03.p01.i00.s10_###19.csv\nfilename_phon  Olivia2006.e04.p01.i00.s00_###0.csv\nfilename_phon  Olivia2006.e04.p01.i00.s01_s1.csv\nfilename_phon  Olivia2006.e04.p01.i00.s01_e2.csv\nfilename_phon  Olivia2006.e04.p01.i00.s02_9~3.csv\nfilename_phon  Olivia2006.e04.p01.i00.s03_s4.csv\nfilename_phon  Olivia2006.e04.p01.i00.s03_O5.csv\nfilename_phon  Olivia2006.e04.p01.i00.s03_l6.csv\nfilename_phon  Olivia2006.e04.p01.i00.s04_d7.csv\nfilename_phon  Olivia2006.e04.p01.i00.s04_a8.csv\nfilename_phon  Olivia2006.e04.p01.i00.s05_##9.csv\nfilename_phon  Olivia2006.e04.p01.i00.s06_a10.csv\nfilename_phon  Olivia2006.e04.p01.i00.s07_S11.csv\nfilename_phon  Olivia2006.e04.p01.i00.s07_212.csv\nfilename_phon  Olivia2006.e04.p01.i00.s08_v13.csv\nfilename_phon "
     ]
    },
    {
     "name": "stdout",
     "output_type": "stream",
     "text": [
      " Olivia2006.e04.p01.i00.s08_214.csv\nfilename_phon  Olivia2006.e04.p01.i00.s09_g15.csv\nfilename_phon  Olivia2006.e04.p01.i00.s09_R16.csv\nfilename_phon  Olivia2006.e04.p01.i00.s09_i17.csv\nfilename_phon  Olivia2006.e04.p01.i00.s10_###18.csv\nfilename_phon  Olivia2006.e05.p01.i00.s00_###0.csv\nfilename_phon  Olivia2006.e05.p01.i00.s01_s1.csv\nfilename_phon  Olivia2006.e05.p01.i00.s01_e2.csv\nfilename_phon  Olivia2006.e05.p01.i00.s02_9~3.csv\nfilename_phon  Olivia2006.e05.p01.i00.s03_s4.csv\nfilename_phon  Olivia2006.e05.p01.i00.s03_O5.csv\nfilename_phon  Olivia2006.e05.p01.i00.s03_l6.csv\nfilename_phon  Olivia2006.e05.p01.i00.s04_d7.csv\nfilename_phon  Olivia2006.e05.p01.i00.s04_a8.csv\nfilename_phon  Olivia2006.e05.p01.i00.s05_##9.csv\nfilename_phon  Olivia2006.e05.p01.i00.s06_a10.csv\nfilename_phon  Olivia2006.e05.p01.i00.s07_S11.csv\nfilename_phon  Olivia2006.e05.p01.i00.s07_212.csv\nfilename_phon  Olivia2006.e05.p01.i00.s08_v13.csv\nfilename_phon  Olivia2006.e05.p01.i00.s08_214.csv\nfilename_phon  Olivia2006.e05.p01.i00.s09_g15.csv\nfilename_phon  Olivia2006.e05.p01.i00.s09_R16.csv\nfilename_phon  Olivia2006.e05.p01.i00.s09_i17.csv\nfilename_phon  Olivia2006.e05.p01.i00.s10_###18.csv\nfilename_phon  Olivia2006.e06.p01.i00.s00_###0.csv\nfilename_phon  Olivia2006.e06.p01.i00.s01_s1.csv\nfilename_phon  Olivia2006.e06.p01.i00.s01_e2.csv\nfilename_phon  Olivia2006.e06.p01.i00.s02_t3.csv\nfilename_phon  Olivia2006.e06.p01.i00.s02_9~4.csv\nfilename_phon  Olivia2006.e06.p01.i00.s03_s5.csv\nfilename_phon  Olivia2006.e06.p01.i00.s03_O6.csv\nfilename_phon  Olivia2006.e06.p01.i00.s03_l7.csv\nfilename_phon  Olivia2006.e06.p01.i00.s04_d8.csv\nfilename_phon  Olivia2006.e06.p01.i00.s04_a9.csv\nfilename_phon  Olivia2006.e06.p01.i00.s05_##10.csv\nfilename_phon  Olivia2006.e06.p01.i00.s06_a11.csv\nfilename_phon  Olivia2006.e06.p01.i00.s07_S12.csv\nfilename_phon  Olivia2006.e06.p01.i00.s07_213.csv\nfilename_phon  Olivia2006.e06.p01.i00.s08_v14.csv\nfilename_phon  Olivia2006.e06.p01.i00.s08_215.csv\nfilename_phon  Olivia2006.e06.p01.i00.s09_g16.csv\nfilename_phon  Olivia2006.e06.p01.i00.s09_R17.csv\nfilename_phon  Olivia2006.e06.p01.i00.s09_i18.csv\nfilename_phon  Olivia2006.e06.p01.i00.s10_###19.csv\nfilename_phon  Olivia2006.e07.p01.i00.s00_###0.csv\nfilename_phon  Olivia2006.e07.p01.i00.s01_s1.csv\nfilename_phon  Olivia2006.e07.p01.i00.s01_E2.csv\nfilename_phon  Olivia2006.e07.p01.i00.s02_##3.csv\nfilename_phon  Olivia2006.e07.p01.i00.s03_9~4.csv\nfilename_phon  Olivia2006.e07.p01.i00.s04_s5.csv\nfilename_phon  Olivia2006.e07.p01.i00.s04_O6.csv\nfilename_phon  Olivia2006.e07.p01.i00.s04_l7.csv\nfilename_phon  Olivia2006.e07.p01.i00.s05_d8.csv\nfilename_phon  Olivia2006.e07.p01.i00.s05_a9.csv\nfilename_phon  Olivia2006.e07.p01.i00.s06_##10.csv\nfilename_phon  Olivia2006.e07.p01.i00.s07_a11.csv\nfilename_phon  Olivia2006.e07.p01.i00.s08_S12.csv\nfilename_phon  Olivia2006.e07.p01.i00.s08_213.csv\nfilename_phon  Olivia2006.e07.p01.i00.s09_v14.csv\nfilename_phon  Olivia2006.e07.p01.i00.s09_215.csv\nfilename_phon  Olivia2006.e07.p01.i00.s10_g16.csv\nfilename_phon  Olivia2006.e07.p01.i00.s10_R17.csv\nfilename_phon  Olivia2006.e07.p01.i00.s10_i18.csv\nfilename_phon  Olivia2006.e07.p01.i00.s11_###19.csv\nfilename_phon  Olivia2006.e08.p01.i00.s00_###0.csv\nfilename_phon  Olivia2006.e08.p01.i00.s01_s1.csv\nfilename_phon  Olivia2006.e08.p01.i00.s01_e2.csv\nfilename_phon  Olivia2006.e08.p01.i00.s02_9~3.csv\nfilename_phon  Olivia2006.e08.p01.i00.s03_s4.csv\nfilename_phon  Olivia2006.e08.p01.i00.s03_O5.csv\nfilename_phon  Olivia2006.e08.p01.i00.s03_l6.csv\nfilename_phon  Olivia2006.e08.p01.i00.s04_d7.csv\nfilename_phon  Olivia2006.e08.p01.i00.s04_a8.csv\nfilename_phon  Olivia2006.e08.p01.i00.s05_##9.csv\nfilename_phon  Olivia2006.e08.p01.i00.s06_a10.csv\nfilename_phon  Olivia2006.e08.p01.i00.s07_S11.csv\nfilename_phon  Olivia2006.e08.p01.i00.s07_212.csv\nfilename_phon  Olivia2006.e08.p01.i00.s08_v13.csv\nfilename_phon  Olivia2006.e08.p01.i00.s08_214.csv\nfilename_phon  Olivia2006.e08.p01.i00.s09_g15.csv\nfilename_phon  Olivia2006.e08.p01.i00.s09_R16.csv\nfilename_phon  Olivia2006.e08.p01.i00.s09_i17.csv\nfilename_phon  Olivia2006.e08.p01.i00.s10_###18.csv\nfilename_phon  Olivia2006.e01.p02.i00.s00_###0.csv\nfilename_phon  Olivia2006.e01.p02.i00.s01_a1.csv\nfilename_phon  Olivia2006.e01.p02.i00.s01_l2.csv\nfilename_phon  Olivia2006.e01.p02.i00.s02_f3.csv\nfilename_phon "
     ]
    },
    {
     "name": "stdout",
     "output_type": "stream",
     "text": [
      " Olivia2006.e01.p02.i00.s02_R4.csv\nfilename_phon  Olivia2006.e01.p02.i00.s02_E5.csv\nfilename_phon  Olivia2006.e01.p02.i00.s03_d6.csv\nfilename_phon  Olivia2006.e01.p02.i00.s03_@7.csv\nfilename_phon  Olivia2006.e01.p02.i00.s04_##8.csv\nfilename_phon  Olivia2006.e01.p02.i00.s05_p9.csv\nfilename_phon  Olivia2006.e01.p02.i00.s05_R10.csv\nfilename_phon  Olivia2006.e01.p02.i00.s05_i11.csv\nfilename_phon  Olivia2006.e01.p02.i00.s06_l12.csv\nfilename_phon  Olivia2006.e01.p02.i00.s06_a13.csv\nfilename_phon  Olivia2006.e01.p02.i00.s07_t14.csv\nfilename_phon  Olivia2006.e01.p02.i00.s07_E15.csv\nfilename_phon  Olivia2006.e01.p02.i00.s07_t16.csv\nfilename_phon  Olivia2006.e01.p02.i00.s08_d17.csv\nfilename_phon  Olivia2006.e01.p02.i00.s08_218.csv\nfilename_phon  Olivia2006.e01.p02.i00.s09_l19.csv\nfilename_phon  Olivia2006.e01.p02.i00.s09_e20.csv\nfilename_phon  Olivia2006.e01.p02.i00.s09_k21.csv\nfilename_phon  Olivia2006.e01.p02.i00.s09_s22.csv\nfilename_phon  Olivia2006.e01.p02.i00.s10_p23.csv\nfilename_phon  Olivia2006.e01.p02.i00.s10_e24.csv\nfilename_phon  Olivia2006.e01.p02.i00.s11_d25.csv\nfilename_phon  Olivia2006.e01.p02.i00.s11_i26.csv\nfilename_phon  Olivia2006.e01.p02.i00.s12_s27.csv\nfilename_phon  Olivia2006.e01.p02.i00.s12_j28.csv\nfilename_phon  Olivia2006.e01.p02.i00.s12_o~29.csv\nfilename_phon  Olivia2006.e01.p02.i00.s13_###30.csv\nfilename_phon  Olivia2006.e02.p02.i00.s00_###0.csv\nfilename_phon  Olivia2006.e02.p02.i00.s01_a1.csv\nfilename_phon  Olivia2006.e02.p02.i00.s01_l2.csv\nfilename_phon  Olivia2006.e02.p02.i00.s02_f3.csv\nfilename_phon  Olivia2006.e02.p02.i00.s02_R4.csv\nfilename_phon  Olivia2006.e02.p02.i00.s02_E5.csv\nfilename_phon  Olivia2006.e02.p02.i00.s03_d6.csv\nfilename_phon  Olivia2006.e02.p02.i00.s03_@7.csv\nfilename_phon  Olivia2006.e02.p02.i00.s04_##8.csv\nfilename_phon  Olivia2006.e02.p02.i00.s05_p9.csv\nfilename_phon  Olivia2006.e02.p02.i00.s05_R10.csv\nfilename_phon  Olivia2006.e02.p02.i00.s05_i11.csv\nfilename_phon  Olivia2006.e02.p02.i00.s06_l12.csv\nfilename_phon  Olivia2006.e02.p02.i00.s06_a13.csv\nfilename_phon  Olivia2006.e02.p02.i00.s07_t14.csv\nfilename_phon  Olivia2006.e02.p02.i00.s07_E15.csv\nfilename_phon  Olivia2006.e02.p02.i00.s08_t16.csv\nfilename_phon  Olivia2006.e02.p02.i00.s08_@17.csv\nfilename_phon  Olivia2006.e02.p02.i00.s09_#18.csv\nfilename_phon  Olivia2006.e02.p02.i00.s10_d19.csv\nfilename_phon  Olivia2006.e02.p02.i00.s10_220.csv\nfilename_phon  Olivia2006.e02.p02.i00.s11_l21.csv\nfilename_phon  Olivia2006.e02.p02.i00.s11_e22.csv\nfilename_phon  Olivia2006.e02.p02.i00.s11_k23.csv\nfilename_phon  Olivia2006.e02.p02.i00.s11_s24.csv\nfilename_phon  Olivia2006.e02.p02.i00.s12_p25.csv\nfilename_phon  Olivia2006.e02.p02.i00.s12_e26.csv\nfilename_phon  Olivia2006.e02.p02.i00.s13_d27.csv\nfilename_phon  Olivia2006.e02.p02.i00.s13_i28.csv\nfilename_phon  Olivia2006.e02.p02.i00.s14_s29.csv\nfilename_phon  Olivia2006.e02.p02.i00.s14_j30.csv\nfilename_phon  Olivia2006.e02.p02.i00.s14_o~31.csv\nfilename_phon  Olivia2006.e02.p02.i00.s15_###32.csv\nfilename_phon  Olivia2006.e03.p02.i00.s00_###0.csv\nfilename_phon  Olivia2006.e03.p02.i00.s01_a1.csv\nfilename_phon  Olivia2006.e03.p02.i00.s01_l2.csv\nfilename_phon  Olivia2006.e03.p02.i00.s02_f3.csv\nfilename_phon  Olivia2006.e03.p02.i00.s02_R4.csv\nfilename_phon  Olivia2006.e03.p02.i00.s02_E5.csv\nfilename_phon  Olivia2006.e03.p02.i00.s03_d6.csv\nfilename_phon  Olivia2006.e03.p02.i00.s03_@7.csv\nfilename_phon  Olivia2006.e03.p02.i00.s04_##8.csv\nfilename_phon  Olivia2006.e03.p02.i00.s05_p9.csv\nfilename_phon  Olivia2006.e03.p02.i00.s05_R10.csv\nfilename_phon  Olivia2006.e03.p02.i00.s05_i11.csv\nfilename_phon  Olivia2006.e03.p02.i00.s06_l12.csv\nfilename_phon  Olivia2006.e03.p02.i00.s06_a13.csv\nfilename_phon  Olivia2006.e03.p02.i00.s07_t14.csv\nfilename_phon  Olivia2006.e03.p02.i00.s07_E15.csv\nfilename_phon  Olivia2006.e03.p02.i00.s07_t16.csv\nfilename_phon  Olivia2006.e03.p02.i00.s08_d17.csv\nfilename_phon  Olivia2006.e03.p02.i00.s08_218.csv\nfilename_phon  Olivia2006.e03.p02.i00.s09_l19.csv\nfilename_phon  Olivia2006.e03.p02.i00.s09_e20.csv\nfilename_phon  Olivia2006.e03.p02.i00.s09_k21.csv\nfilename_phon  Olivia2006.e03.p02.i00.s09_s22.csv\nfilename_phon  Olivia2006.e03.p02.i00.s10_p23.csv\nfilename_phon  Olivia2006.e03.p02.i00.s10_e24.csv\nfilename_phon  Olivia2006.e03.p02.i00.s11_d25.csv\nfilename_phon  Olivia2006.e03.p02.i00.s11_i26.csv\nfilename_phon  Olivia2006.e03.p02.i00.s12_s27.csv\nfilename_phon  Olivia2006.e03.p02.i00.s12_j28.csv\nfilename_phon  Olivia2006.e03.p02.i00.s12_o~29.csv\nfilename_phon  Olivia2006.e03.p02.i00.s13_###30.csv\nfilename_phon  Olivia2006.e04.p02.i00.s00_###0.csv\nfilename_phon  Olivia2006.e04.p02.i00.s01_a1.csv\nfilename_phon  Olivia2006.e04.p02.i00.s01_l2.csv\nfilename_phon  Olivia2006.e04.p02.i00.s02_f3.csv\nfilename_phon  Olivia2006.e04.p02.i00.s02_R4.csv\nfilename_phon  Olivia2006.e04.p02.i00.s02_E5.csv\nfilename_phon  Olivia2006.e04.p02.i00.s03_d6.csv\nfilename_phon  Olivia2006.e04.p02.i00.s03_@7.csv\nfilename_phon  Olivia2006.e04.p02.i00.s04_##8.csv\nfilename_phon  Olivia2006.e04.p02.i00.s05_p9.csv\nfilename_phon  Olivia2006.e04.p02.i00.s05_R10.csv\nfilename_phon  Olivia2006.e04.p02.i00.s05_i11.csv\nfilename_phon  Olivia2006.e04.p02.i00.s06_l12.csv\nfilename_phon  Olivia2006.e04.p02.i00.s06_a13.csv\nfilename_phon  Olivia2006.e04.p02.i00.s07_t14.csv\nfilename_phon  Olivia2006.e04.p02.i00.s07_E15.csv\nfilename_phon  Olivia2006.e04.p02.i00.s07_t16.csv\nfilename_phon  Olivia2006.e04.p02.i00.s08_d17.csv\nfilename_phon  Olivia2006.e04.p02.i00.s08_218.csv\nfilename_phon  Olivia2006.e04.p02.i00.s09_l19.csv\nfilename_phon  Olivia2006.e04.p02.i00.s09_e20.csv\nfilename_phon  Olivia2006.e04.p02.i00.s09_k21.csv\nfilename_phon  Olivia2006.e04.p02.i00.s09_s22.csv\nfilename_phon  Olivia2006.e04.p02.i00.s10_p23.csv\nfilename_phon  Olivia2006.e04.p02.i00.s10_e24.csv\nfilename_phon  Olivia2006.e04.p02.i00.s11_d25.csv\nfilename_phon  Olivia2006.e04.p02.i00.s11_i26.csv\nfilename_phon  Olivia2006.e04.p02.i00.s12_s27.csv\nfilename_phon  Olivia2006.e04.p02.i00.s12_j28.csv\nfilename_phon "
     ]
    },
    {
     "name": "stdout",
     "output_type": "stream",
     "text": [
      " Olivia2006.e04.p02.i00.s12_o29.csv\nfilename_phon  Olivia2006.e04.p02.i00.s13_###30.csv\nfilename_phon  Olivia2006.e05.p02.i00.s00_###0.csv\nfilename_phon  Olivia2006.e05.p02.i00.s01_a1.csv\nfilename_phon  Olivia2006.e05.p02.i00.s01_l2.csv\nfilename_phon  Olivia2006.e05.p02.i00.s02_f3.csv\nfilename_phon  Olivia2006.e05.p02.i00.s02_R4.csv\nfilename_phon  Olivia2006.e05.p02.i00.s02_E5.csv\nfilename_phon  Olivia2006.e05.p02.i00.s03_d6.csv\nfilename_phon  Olivia2006.e05.p02.i00.s03_@7.csv\nfilename_phon  Olivia2006.e05.p02.i00.s04_##8.csv\nfilename_phon  Olivia2006.e05.p02.i00.s04__9.csv\nfilename_phon  Olivia2006.e05.p02.i00.s05_p10.csv\nfilename_phon  Olivia2006.e05.p02.i00.s05_R11.csv\nfilename_phon  Olivia2006.e05.p02.i00.s05_i12.csv\nfilename_phon  Olivia2006.e05.p02.i00.s06_l13.csv\nfilename_phon  Olivia2006.e05.p02.i00.s06_a14.csv\nfilename_phon  Olivia2006.e05.p02.i00.s07_t15.csv\nfilename_phon  Olivia2006.e05.p02.i00.s07_E16.csv\nfilename_phon  Olivia2006.e05.p02.i00.s07_t17.csv\nfilename_phon  Olivia2006.e05.p02.i00.s08_d18.csv\nfilename_phon  Olivia2006.e05.p02.i00.s08_219.csv\nfilename_phon  Olivia2006.e05.p02.i00.s09_l20.csv\nfilename_phon  Olivia2006.e05.p02.i00.s09_e21.csv\nfilename_phon  Olivia2006.e05.p02.i00.s09_k22.csv\nfilename_phon  Olivia2006.e05.p02.i00.s09_s23.csv\nfilename_phon  Olivia2006.e05.p02.i00.s10_p24.csv\nfilename_phon  Olivia2006.e05.p02.i00.s10_e25.csv\nfilename_phon  Olivia2006.e05.p02.i00.s11_d26.csv\nfilename_phon  Olivia2006.e05.p02.i00.s11_i27.csv\nfilename_phon  Olivia2006.e05.p02.i00.s12_s28.csv\nfilename_phon  Olivia2006.e05.p02.i00.s12_j29.csv\nfilename_phon  Olivia2006.e05.p02.i00.s12_o~30.csv\nfilename_phon  Olivia2006.e05.p02.i00.s13_###31.csv\nfilename_phon  Olivia2006.e06.p02.i00.s00_###0.csv\nfilename_phon  Olivia2006.e06.p02.i00.s00__1.csv\nfilename_phon  Olivia2006.e06.p02.i00.s00_##2.csv\nfilename_phon  Olivia2006.e06.p02.i00.s01_a3.csv\nfilename_phon  Olivia2006.e06.p02.i00.s01_l4.csv\nfilename_phon  Olivia2006.e06.p02.i00.s02_f5.csv\nfilename_phon  Olivia2006.e06.p02.i00.s02_R6.csv\nfilename_phon  Olivia2006.e06.p02.i00.s02_E7.csv\nfilename_phon  Olivia2006.e06.p02.i00.s03_d8.csv\nfilename_phon  Olivia2006.e06.p02.i00.s03_@9.csv\nfilename_phon  Olivia2006.e06.p02.i00.s04_##10.csv\nfilename_phon  Olivia2006.e06.p02.i00.s05_p11.csv\nfilename_phon  Olivia2006.e06.p02.i00.s05_R12.csv\nfilename_phon  Olivia2006.e06.p02.i00.s05_i13.csv\nfilename_phon  Olivia2006.e06.p02.i00.s06_l14.csv\nfilename_phon  Olivia2006.e06.p02.i00.s06_a15.csv\nfilename_phon  Olivia2006.e06.p02.i00.s07_t16.csv\nfilename_phon  Olivia2006.e06.p02.i00.s07_E17.csv\nfilename_phon  Olivia2006.e06.p02.i00.s08_t18.csv\nfilename_phon  Olivia2006.e06.p02.i00.s08_@19.csv\nfilename_phon  Olivia2006.e06.p02.i00.s09_#20.csv\nfilename_phon  Olivia2006.e06.p02.i00.s10_d21.csv\nfilename_phon  Olivia2006.e06.p02.i00.s10_222.csv\nfilename_phon  Olivia2006.e06.p02.i00.s11_l23.csv\nfilename_phon  Olivia2006.e06.p02.i00.s11_e24.csv\nfilename_phon  Olivia2006.e06.p02.i00.s11_k25.csv\nfilename_phon  Olivia2006.e06.p02.i00.s11_s26.csv\nfilename_phon  Olivia2006.e06.p02.i00.s12_p27.csv\nfilename_phon  Olivia2006.e06.p02.i00.s12_e28.csv\nfilename_phon  Olivia2006.e06.p02.i00.s13_d29.csv\nfilename_phon  Olivia2006.e06.p02.i00.s13_i30.csv\nfilename_phon  Olivia2006.e06.p02.i00.s14_s31.csv\nfilename_phon  Olivia2006.e06.p02.i00.s14_j32.csv\nfilename_phon  Olivia2006.e06.p02.i00.s14_o~33.csv\nfilename_phon  Olivia2006.e06.p02.i00.s15__34.csv\nfilename_phon  Olivia2006.e06.p02.i00.s15_###35.csv\nfilename_phon  Olivia2006.e07.p02.i00.s00_###0.csv\nfilename_phon  Olivia2006.e07.p02.i00.s01_a1.csv\nfilename_phon  Olivia2006.e07.p02.i00.s01_l2.csv\nfilename_phon  Olivia2006.e07.p02.i00.s02_f3.csv\nfilename_phon  Olivia2006.e07.p02.i00.s02_R4.csv\nfilename_phon  Olivia2006.e07.p02.i00.s02_E5.csv\nfilename_phon  Olivia2006.e07.p02.i00.s03_d6.csv\nfilename_phon  Olivia2006.e07.p02.i00.s03_97.csv\nfilename_phon  Olivia2006.e07.p02.i00.s04_##8.csv\nfilename_phon  Olivia2006.e07.p02.i00.s05_p9.csv\nfilename_phon  Olivia2006.e07.p02.i00.s05_R10.csv\nfilename_phon  Olivia2006.e07.p02.i00.s05_i11.csv\nfilename_phon  Olivia2006.e07.p02.i00.s06_l12.csv\nfilename_phon  Olivia2006.e07.p02.i00.s06_a13.csv\nfilename_phon  Olivia2006.e07.p02.i00.s07_t14.csv\nfilename_phon  Olivia2006.e07.p02.i00.s07_E15.csv\nfilename_phon  Olivia2006.e07.p02.i00.s08_t16.csv\nfilename_phon  Olivia2006.e07.p02.i00.s08_@17.csv\nfilename_phon  Olivia2006.e07.p02.i00.s09_#18.csv\nfilename_phon  Olivia2006.e07.p02.i00.s09__19.csv\nfilename_phon  Olivia2006.e07.p02.i00.s10_d20.csv\nfilename_phon  Olivia2006.e07.p02.i00.s10_221.csv\nfilename_phon  Olivia2006.e07.p02.i00.s11_l22.csv\nfilename_phon  Olivia2006.e07.p02.i00.s11_e23.csv\nfilename_phon  Olivia2006.e07.p02.i00.s11_k24.csv\nfilename_phon  Olivia2006.e07.p02.i00.s11_s25.csv\nfilename_phon  Olivia2006.e07.p02.i00.s12_p26.csv\nfilename_phon  Olivia2006.e07.p02.i00.s12_e27.csv\nfilename_phon  Olivia2006.e07.p02.i00.s13_d28.csv\nfilename_phon  Olivia2006.e07.p02.i00.s13_i29.csv\nfilename_phon  Olivia2006.e07.p02.i00.s14_s30.csv\nfilename_phon  Olivia2006.e07.p02.i00.s14_j31.csv\nfilename_phon  Olivia2006.e07.p02.i00.s14_o~32.csv\nfilename_phon  Olivia2006.e07.p02.i00.s15__33.csv\nfilename_phon  Olivia2006.e07.p02.i00.s15_###34.csv\nfilename_phon  Olivia2006.e08.p02.i00.s00_###0.csv\nfilename_phon  Olivia2006.e08.p02.i00.s01_a1.csv\nfilename_phon  Olivia2006.e08.p02.i00.s01_l2.csv\nfilename_phon  Olivia2006.e08.p02.i00.s02_f3.csv\nfilename_phon  Olivia2006.e08.p02.i00.s02_R4.csv\nfilename_phon  Olivia2006.e08.p02.i00.s02_E5.csv\nfilename_phon  Olivia2006.e08.p02.i00.s03_d6.csv\nfilename_phon  Olivia2006.e08.p02.i00.s03_97.csv\nfilename_phon  Olivia2006.e08.p02.i00.s04_##8.csv\nfilename_phon  Olivia2006.e08.p02.i00.s05_p9.csv\nfilename_phon  Olivia2006.e08.p02.i00.s05_R10.csv\nfilename_phon  Olivia2006.e08.p02.i00.s05_i11.csv\nfilename_phon  Olivia2006.e08.p02.i00.s06_l12.csv\nfilename_phon  Olivia2006.e08.p02.i00.s06_a13.csv\nfilename_phon  Olivia2006.e08.p02.i00.s07_t14.csv\nfilename_phon  Olivia2006.e08.p02.i00.s07_E15.csv\nfilename_phon  Olivia2006.e08.p02.i00.s08_t16.csv\nfilename_phon  Olivia2006.e08.p02.i00.s08_@17.csv\nfilename_phon  Olivia2006.e08.p02.i00.s09_##18.csv\nfilename_phon  Olivia2006.e08.p02.i00.s09__19.csv\nfilename_phon  Olivia2006.e08.p02.i00.s10_d20.csv\nfilename_phon  Olivia2006.e08.p02.i00.s10_221.csv\nfilename_phon  Olivia2006.e08.p02.i00.s11_l22.csv\nfilename_phon  Olivia2006.e08.p02.i00.s11_e23.csv\nfilename_phon  Olivia2006.e08.p02.i00.s11_k24.csv\nfilename_phon  Olivia2006.e08.p02.i00.s11_s25.csv\nfilename_phon  Olivia2006.e08.p02.i00.s12_p26.csv\nfilename_phon  Olivia2006.e08.p02.i00.s12_e27.csv\nfilename_phon  Olivia2006.e08.p02.i00.s13_d28.csv\nfilename_phon  Olivia2006.e08.p02.i00.s13_i29.csv\nfilename_phon  Olivia2006.e08.p02.i00.s14_s30.csv\nfilename_phon  Olivia2006.e08.p02.i00.s14_j31.csv\nfilename_phon  Olivia2006.e08.p02.i00.s14_o~32.csv\nfilename_phon  Olivia2006.e08.p02.i00.s15__33.csv\nfilename_phon  Olivia2006.e08.p02.i00.s15_###34.csv\nfilename_phon  Olivia2006.e01.p03.i00.s00_###0.csv\nfilename_phon  Olivia2006.e01.p03.i00.s01_i1.csv\nfilename_phon  Olivia2006.e01.p03.i00.s01_l2.csv\nfilename_phon  Olivia2006.e01.p03.i00.s02_n3.csv\nfilename_phon  Olivia2006.e01.p03.i00.s02_24.csv\nfilename_phon  Olivia2006.e01.p03.i00.s03_p5.csv\nfilename_phon  Olivia2006.e01.p03.i00.s03_u6.csv\nfilename_phon  Olivia2006.e01.p03.i00.s04_R7.csv\nfilename_phon  Olivia2006.e01.p03.i00.s04_a8.csv\nfilename_phon  Olivia2006.e01.p03.i00.s05_p9.csv\nfilename_phon  Olivia2006.e01.p03.i00.s05_a10.csv\nfilename_phon  Olivia2006.e01.p03.i00.s06_m11.csv\nfilename_phon  Olivia2006.e01.p03.i00.s06_@12.csv\nfilename_phon  Olivia2006.e01.p03.i00.s07_v13.csv\nfilename_phon  Olivia2006.e01.p03.i00.s07_w14.csv\nfilename_phon  Olivia2006.e01.p03.i00.s07_a15.csv\nfilename_phon  Olivia2006.e01.p03.i00.s07_R16.csv\nfilename_phon  Olivia2006.e01.p03.i00.s08_s17.csv\nfilename_phon  Olivia2006.e01.p03.i00.s08_i18.csv\nfilename_phon  Olivia2006.e01.p03.i00.s09_Z19.csv\nfilename_phon  Olivia2006.e01.p03.i00.s09_e20.csv\nfilename_phon  Olivia2006.e01.p03.i00.s10_t21.csv\nfilename_phon  Olivia2006.e01.p03.i00.s10_e~22.csv\nfilename_phon  Olivia2006.e01.p03.i00.s11_l23.csv\nfilename_phon  Olivia2006.e01.p03.i00.s11_a24.csv\nfilename_phon  Olivia2006.e01.p03.i00.s12_l25.csv\nfilename_phon  Olivia2006.e01.p03.i00.s12_a~26.csv\nfilename_phon  Olivia2006.e01.p03.i00.s12_p27.csv\nfilename_phon  Olivia2006.e01.p03.i00.s13_###28.csv\nfilename_phon  Olivia2006.e02.p03.i00.s00_###0.csv\nfilename_phon  Olivia2006.e02.p03.i00.s01_i1.csv\nfilename_phon  Olivia2006.e02.p03.i00.s01_l2.csv\nfilename_phon  Olivia2006.e02.p03.i00.s02_n3.csv\nfilename_phon  Olivia2006.e02.p03.i00.s02_24.csv\nfilename_phon  Olivia2006.e02.p03.i00.s03_p5.csv\nfilename_phon  Olivia2006.e02.p03.i00.s03_u6.csv\nfilename_phon  Olivia2006.e02.p03.i00.s04_R7.csv\nfilename_phon  Olivia2006.e02.p03.i00.s04_a8.csv\nfilename_phon  Olivia2006.e02.p03.i00.s05_p9.csv\nfilename_phon  Olivia2006.e02.p03.i00.s05_a10.csv\nfilename_phon  Olivia2006.e02.p03.i00.s06_m11.csv\nfilename_phon  Olivia2006.e02.p03.i00.s06_212.csv\nfilename_phon  Olivia2006.e02.p03.i00.s07_v13.csv\nfilename_phon  Olivia2006.e02.p03.i00.s07_w14.csv\nfilename_phon  Olivia2006.e02.p03.i00.s07_a15.csv\nfilename_phon  Olivia2006.e02.p03.i00.s07_R16.csv\nfilename_phon  Olivia2006.e02.p03.i00.s08_s17.csv\nfilename_phon  Olivia2006.e02.p03.i00.s08_i18.csv\nfilename_phon  Olivia2006.e02.p03.i00.s09_Z19.csv\nfilename_phon  Olivia2006.e02.p03.i00.s09_e20.csv\nfilename_phon  Olivia2006.e02.p03.i00.s10_t21.csv\nfilename_phon  Olivia2006.e02.p03.i00.s10_e~22.csv\nfilename_phon  Olivia2006.e02.p03.i00.s11_l23.csv\nfilename_phon  Olivia2006.e02.p03.i00.s11_a24.csv\nfilename_phon  Olivia2006.e02.p03.i00.s12_l25.csv\nfilename_phon  Olivia2006.e02.p03.i00.s12_a~26.csv\nfilename_phon  Olivia2006.e02.p03.i00.s12_p27.csv\nfilename_phon  Olivia2006.e02.p03.i00.s13_###28.csv\nfilename_phon  Olivia2006.e03.p03.i00.s00_###0.csv\nfilename_phon  Olivia2006.e03.p03.i00.s00__1.csv\nfilename_phon  Olivia2006.e03.p03.i00.s00_##2.csv\nfilename_phon  Olivia2006.e03.p03.i00.s01_i3.csv\nfilename_phon  Olivia2006.e03.p03.i00.s01_l4.csv\nfilename_phon  Olivia2006.e03.p03.i00.s02_n5.csv\nfilename_phon  Olivia2006.e03.p03.i00.s02_26.csv\nfilename_phon  Olivia2006.e03.p03.i00.s03_p7.csv\nfilename_phon  Olivia2006.e03.p03.i00.s03_u8.csv\nfilename_phon  Olivia2006.e03.p03.i00.s04_R9.csv\nfilename_phon  Olivia2006.e03.p03.i00.s04_a10.csv\nfilename_phon  Olivia2006.e03.p03.i00.s05_p11.csv\nfilename_phon  Olivia2006.e03.p03.i00.s05_a12.csv\nfilename_phon  Olivia2006.e03.p03.i00.s06_m13.csv\nfilename_phon  Olivia2006.e03.p03.i00.s06_914.csv\nfilename_phon  Olivia2006.e03.p03.i00.s07_v15.csv\nfilename_phon  Olivia2006.e03.p03.i00.s07_w16.csv\nfilename_phon  Olivia2006.e03.p03.i00.s07_a17.csv\nfilename_phon  Olivia2006.e03.p03.i00.s08_R18.csv\nfilename_phon  Olivia2006.e03.p03.i00.s08_@19.csv\nfilename_phon  Olivia2006.e03.p03.i00.s09_##20.csv\nfilename_phon  Olivia2006.e03.p03.i00.s10_s21.csv\nfilename_phon  Olivia2006.e03.p03.i00.s10_i22.csv\nfilename_phon  Olivia2006.e03.p03.i00.s11_Z23.csv\nfilename_phon  Olivia2006.e03.p03.i00.s11_e24.csv\nfilename_phon  Olivia2006.e03.p03.i00.s12_t25.csv\nfilename_phon  Olivia2006.e03.p03.i00.s12_e~26.csv\nfilename_phon  Olivia2006.e03.p03.i00.s13_l27.csv\nfilename_phon  Olivia2006.e03.p03.i00.s13_a28.csv\nfilename_phon  Olivia2006.e03.p03.i00.s14_l29.csv\nfilename_phon  Olivia2006.e03.p03.i00.s14_a~30.csv\nfilename_phon  Olivia2006.e03.p03.i00.s15_p31.csv\nfilename_phon  Olivia2006.e03.p03.i00.s15_@32.csv\nfilename_phon  Olivia2006.e03.p03.i00.s16_###33.csv\nfilename_phon  Olivia2006.e04.p03.i00.s00_###0.csv\nfilename_phon  Olivia2006.e04.p03.i00.s01_i1.csv\nfilename_phon  Olivia2006.e04.p03.i00.s01_l2.csv\nfilename_phon  Olivia2006.e04.p03.i00.s02_n3.csv\nfilename_phon  Olivia2006.e04.p03.i00.s02_24.csv\nfilename_phon  Olivia2006.e04.p03.i00.s03_p5.csv\nfilename_phon  Olivia2006.e04.p03.i00.s03_u6.csv\nfilename_phon  Olivia2006.e04.p03.i00.s04_R7.csv\nfilename_phon  Olivia2006.e04.p03.i00.s04_a8.csv\nfilename_phon  Olivia2006.e04.p03.i00.s05_p9.csv\nfilename_phon  Olivia2006.e04.p03.i00.s05_a10.csv\nfilename_phon  Olivia2006.e04.p03.i00.s06_m11.csv\nfilename_phon  Olivia2006.e04.p03.i00.s06_212.csv\nfilename_phon  Olivia2006.e04.p03.i00.s07_v13.csv\nfilename_phon  Olivia2006.e04.p03.i00.s07_w14.csv\nfilename_phon  Olivia2006.e04.p03.i00.s07_a15.csv\nfilename_phon  Olivia2006.e04.p03.i00.s08_R16.csv\nfilename_phon  Olivia2006.e04.p03.i00.s08_@17.csv\nfilename_phon  Olivia2006.e04.p03.i00.s09_##18.csv\nfilename_phon  Olivia2006.e04.p03.i00.s10_s19.csv"
     ]
    },
    {
     "name": "stdout",
     "output_type": "stream",
     "text": [
      "\nfilename_phon  Olivia2006.e04.p03.i00.s10_i20.csv\nfilename_phon  Olivia2006.e04.p03.i00.s11_Z21.csv\nfilename_phon  Olivia2006.e04.p03.i00.s11_e22.csv\nfilename_phon  Olivia2006.e04.p03.i00.s12_t23.csv\nfilename_phon  Olivia2006.e04.p03.i00.s12_a24.csv\nfilename_phon  Olivia2006.e04.p03.i00.s13_l25.csv\nfilename_phon  Olivia2006.e04.p03.i00.s13_a26.csv\nfilename_phon  Olivia2006.e04.p03.i00.s14_l27.csv\nfilename_phon  Olivia2006.e04.p03.i00.s14_a~28.csv\nfilename_phon  Olivia2006.e04.p03.i00.s15_p29.csv\nfilename_phon  Olivia2006.e04.p03.i00.s15_@30.csv\nfilename_phon  Olivia2006.e04.p03.i00.s16_###31.csv\nfilename_phon  Olivia2006.e05.p03.i00.s00_###0.csv\nfilename_phon  Olivia2006.e05.p03.i00.s00__1.csv\nfilename_phon  Olivia2006.e05.p03.i00.s00_##2.csv\nfilename_phon  Olivia2006.e05.p03.i00.s01_i3.csv\nfilename_phon  Olivia2006.e05.p03.i00.s01_l4.csv\nfilename_phon  Olivia2006.e05.p03.i00.s02_n5.csv\nfilename_phon  Olivia2006.e05.p03.i00.s02_26.csv\nfilename_phon  Olivia2006.e05.p03.i00.s03_p7.csv\nfilename_phon  Olivia2006.e05.p03.i00.s03_u8.csv\nfilename_phon  Olivia2006.e05.p03.i00.s04_R9.csv\nfilename_phon  Olivia2006.e05.p03.i00.s04_a10.csv\nfilename_phon  Olivia2006.e05.p03.i00.s05_p11.csv\nfilename_phon  Olivia2006.e05.p03.i00.s05_a12.csv\nfilename_phon  Olivia2006.e05.p03.i00.s06_m13.csv\nfilename_phon  Olivia2006.e05.p03.i00.s06_214.csv\nfilename_phon  Olivia2006.e05.p03.i00.s07_v15.csv\nfilename_phon  Olivia2006.e05.p03.i00.s07_w16.csv\nfilename_phon  Olivia2006.e05.p03.i00.s07_a17.csv\nfilename_phon  Olivia2006.e05.p03.i00.s07_R18.csv\nfilename_phon  Olivia2006.e05.p03.i00.s08_s19.csv\nfilename_phon  Olivia2006.e05.p03.i00.s08_i20.csv\nfilename_phon  Olivia2006.e05.p03.i00.s09_Z21.csv\nfilename_phon  Olivia2006.e05.p03.i00.s09_e22.csv\nfilename_phon  Olivia2006.e05.p03.i00.s10_t23.csv\nfilename_phon  Olivia2006.e05.p03.i00.s10_e~24.csv\nfilename_phon  Olivia2006.e05.p03.i00.s11_l25.csv\nfilename_phon  Olivia2006.e05.p03.i00.s11_a26.csv\nfilename_phon  Olivia2006.e05.p03.i00.s12_l27.csv\nfilename_phon  Olivia2006.e05.p03.i00.s12_a~28.csv\nfilename_phon  Olivia2006.e05.p03.i00.s13_p29.csv\nfilename_phon  Olivia2006.e05.p03.i00.s13_@30.csv\nfilename_phon  Olivia2006.e05.p03.i00.s14_###31.csv\nfilename_phon  Olivia2006.e06.p03.i00.s00_###0.csv\nfilename_phon  Olivia2006.e06.p03.i00.s01_i1.csv\nfilename_phon  Olivia2006.e06.p03.i00.s01_l2.csv\nfilename_phon  Olivia2006.e06.p03.i00.s02_n3.csv\nfilename_phon  Olivia2006.e06.p03.i00.s02_24.csv\nfilename_phon  Olivia2006.e06.p03.i00.s03_p5.csv\nfilename_phon  Olivia2006.e06.p03.i00.s03_u6.csv\nfilename_phon  Olivia2006.e06.p03.i00.s04_R7.csv\nfilename_phon  Olivia2006.e06.p03.i00.s04_a8.csv\nfilename_phon  Olivia2006.e06.p03.i00.s05_p9.csv\nfilename_phon  Olivia2006.e06.p03.i00.s05_a10.csv\nfilename_phon  Olivia2006.e06.p03.i00.s06_m11.csv\nfilename_phon  Olivia2006.e06.p03.i00.s06_212.csv\nfilename_phon  Olivia2006.e06.p03.i00.s07_v13.csv\nfilename_phon  Olivia2006.e06.p03.i00.s07_w14.csv\nfilename_phon  Olivia2006.e06.p03.i00.s07_a15.csv\nfilename_phon  Olivia2006.e06.p03.i00.s08_R16.csv\nfilename_phon  Olivia2006.e06.p03.i00.s08_@17.csv\nfilename_phon  Olivia2006.e06.p03.i00.s09_##18.csv\nfilename_phon  Olivia2006.e06.p03.i00.s10_s19.csv\nfilename_phon  Olivia2006.e06.p03.i00.s10_i20.csv\nfilename_phon  Olivia2006.e06.p03.i00.s11_Z21.csv\nfilename_phon  Olivia2006.e06.p03.i00.s11_e22.csv\nfilename_phon  Olivia2006.e06.p03.i00.s12_t23.csv\nfilename_phon  Olivia2006.e06.p03.i00.s12_e~24.csv\nfilename_phon  Olivia2006.e06.p03.i00.s13_l25.csv\nfilename_phon  Olivia2006.e06.p03.i00.s13_a26.csv\nfilename_phon  Olivia2006.e06.p03.i00.s14_l27.csv\nfilename_phon  Olivia2006.e06.p03.i00.s14_a~28.csv\nfilename_phon  Olivia2006.e06.p03.i00.s15_p29.csv\nfilename_phon  Olivia2006.e06.p03.i00.s15_@30.csv\nfilename_phon  Olivia2006.e06.p03.i00.s16_###31.csv\nfilename_phon  Olivia2006.e07.p03.i00.s00_###0.csv\nfilename_phon  Olivia2006.e07.p03.i00.s01_i1.csv\nfilename_phon  Olivia2006.e07.p03.i00.s01_l2.csv\nfilename_phon  Olivia2006.e07.p03.i00.s02_n3.csv\nfilename_phon  Olivia2006.e07.p03.i00.s02_24.csv\nfilename_phon  Olivia2006.e07.p03.i00.s03_p5.csv\nfilename_phon  Olivia2006.e07.p03.i00.s03_u6.csv\nfilename_phon  Olivia2006.e07.p03.i00.s04_R7.csv\nfilename_phon  Olivia2006.e07.p03.i00.s04_a8.csv\nfilename_phon  Olivia2006.e07.p03.i00.s05_p9.csv\nfilename_phon  Olivia2006.e07.p03.i00.s05_a10.csv\nfilename_phon  Olivia2006.e07.p03.i00.s06_m11.csv\nfilename_phon  Olivia2006.e07.p03.i00.s06_212.csv\nfilename_phon  Olivia2006.e07.p03.i00.s07_v13.csv\nfilename_phon  Olivia2006.e07.p03.i00.s07_w14.csv\nfilename_phon  Olivia2006.e07.p03.i00.s07_a15.csv\nfilename_phon  Olivia2006.e07.p03.i00.s08_R16.csv\nfilename_phon  Olivia2006.e07.p03.i00.s08_917.csv\nfilename_phon  Olivia2006.e07.p03.i00.s09_##18.csv\nfilename_phon  Olivia2006.e07.p03.i00.s10_s19.csv\nfilename_phon  Olivia2006.e07.p03.i00.s10_i20.csv\nfilename_phon  Olivia2006.e07.p03.i00.s11_Z21.csv\nfilename_phon  Olivia2006.e07.p03.i00.s11_e22.csv\nfilename_phon  Olivia2006.e07.p03.i00.s12_t23.csv\nfilename_phon  Olivia2006.e07.p03.i00.s12_e~24.csv\nfilename_phon  Olivia2006.e07.p03.i00.s13_l25.csv\nfilename_phon  Olivia2006.e07.p03.i00.s13_a26.csv\nfilename_phon  Olivia2006.e07.p03.i00.s14_l27.csv\nfilename_phon  Olivia2006.e07.p03.i00.s14_a~28.csv\nfilename_phon  Olivia2006.e07.p03.i00.s15_p29.csv\nfilename_phon  Olivia2006.e07.p03.i00.s15_930.csv\nfilename_phon  Olivia2006.e07.p03.i00.s16_###31.csv\nfilename_phon  Olivia2006.e08.p03.i00.s00_###0.csv\nfilename_phon  Olivia2006.e08.p03.i00.s01_i1.csv\nfilename_phon  Olivia2006.e08.p03.i00.s01_l2.csv\nfilename_phon  Olivia2006.e08.p03.i00.s02_n3.csv\nfilename_phon  Olivia2006.e08.p03.i00.s02_24.csv\nfilename_phon  Olivia2006.e08.p03.i00.s03_p5.csv\nfilename_phon  Olivia2006.e08.p03.i00.s03_u6.csv\nfilename_phon  Olivia2006.e08.p03.i00.s04_R7.csv\nfilename_phon  Olivia2006.e08.p03.i00.s04_a8.csv\nfilename_phon  Olivia2006.e08.p03.i00.s05_p9.csv\nfilename_phon  Olivia2006.e08.p03.i00.s05_a10.csv\nfilename_phon  Olivia2006.e08.p03.i00.s06_m11.csv\nfilename_phon  Olivia2006.e08.p03.i00.s06_212.csv\nfilename_phon  Olivia2006.e08.p03.i00.s07_v13.csv\nfilename_phon  Olivia2006.e08.p03.i00.s07_w14.csv\nfilename_phon  Olivia2006.e08.p03.i00.s07_a15.csv\nfilename_phon  Olivia2006.e08.p03.i00.s08_R16.csv\nfilename_phon  Olivia2006.e08.p03.i00.s08_917.csv\nfilename_phon  Olivia2006.e08.p03.i00.s09_##18.csv\nfilename_phon  Olivia2006.e08.p03.i00.s10_s19.csv\nfilename_phon  Olivia2006.e08.p03.i00.s10_i20.csv\nfilename_phon  Olivia2006.e08.p03.i00.s11_Z21.csv\nfilename_phon  Olivia2006.e08.p03.i00.s11_e22.csv\nfilename_phon  Olivia2006.e08.p03.i00.s12_t23.csv\nfilename_phon  Olivia2006.e08.p03.i00.s12_e~24.csv\nfilename_phon  Olivia2006.e08.p03.i00.s13_l25.csv\nfilename_phon  Olivia2006.e08.p03.i00.s13_a26.csv\nfilename_phon  Olivia2006.e08.p03.i00.s14_l27.csv\nfilename_phon  Olivia2006.e08.p03.i00.s14_a~28.csv\nfilename_phon  Olivia2006.e08.p03.i00.s15_p29.csv\nfilename_phon  Olivia2006.e08.p03.i00.s15_a30.csv\nfilename_phon  Olivia2006.e08.p03.i00.s16_###31.csv\nfilename_phon  Olivia2006.e01.p04.i00.s00_###0.csv\nfilename_phon  Olivia2006.e01.p04.i00.s01_i1.csv\nfilename_phon  Olivia2006.e01.p04.i00.s02_l2.csv\nfilename_phon  Olivia2006.e01.p04.i00.s02_a~3.csv\nfilename_phon  Olivia2006.e01.p04.i00.s03_t4.csv\nfilename_phon  Olivia2006.e01.p04.i00.s03_R5.csv\nfilename_phon  Olivia2006.e01.p04.i00.s03_a6.csv\nfilename_phon  Olivia2006.e01.p04.i00.s04_v7.csv\nfilename_phon  Olivia2006.e01.p04.i00.s04_E8.csv\nfilename_phon  Olivia2006.e01.p04.i00.s04_k9.csv\nfilename_phon  Olivia2006.e01.p04.i00.s05_s10.csv\nfilename_phon  Olivia2006.e01.p04.i00.s05_a11.csv\nfilename_phon  Olivia2006.e01.p04.i00.s06_S12.csv\nfilename_phon  Olivia2006.e01.p04.i00.s06_a~13.csv\nfilename_phon  Olivia2006.e01.p04.i00.s07_d14.csv\nfilename_phon  Olivia2006.e01.p04.i00.s07_E15.csv\nfilename_phon  Olivia2006.e01.p04.i00.s08_l16.csv\nfilename_phon  Olivia2006.e01.p04.i00.s08_@17.csv\nfilename_phon  Olivia2006.e01.p04.i00.s09_##18.csv\nfilename_phon  Olivia2006.e01.p04.i00.s10_d19.csv\nfilename_phon  Olivia2006.e01.p04.i00.s10_a~20.csv\nfilename_phon  Olivia2006.e01.p04.i00.s11_l21.csv\nfilename_phon  Olivia2006.e01.p04.i00.s11_a22.csv\nfilename_phon  Olivia2006.e01.p04.i00.s12_v23.csv\nfilename_phon  Olivia2006.e01.p04.i00.s12_j24.csv\nfilename_phon  Olivia2006.e01.p04.i00.s12_E25.csv\nfilename_phon  Olivia2006.e01.p04.i00.s12_j26.csv\nfilename_phon  Olivia2006.e01.p04.i00.s13_S27.csv\nfilename_phon  Olivia2006.e01.p04.i00.s13_a~28.csv\nfilename_phon  Olivia2006.e01.p04.i00.s13_b29.csv\nfilename_phon  Olivia2006.e01.p04.i00.s13_R30.csv\nfilename_phon  Olivia2006.e01.p04.i00.s14_###31.csv\nfilename_phon  Olivia2006.e02.p04.i00.s00_###0.csv\nfilename_phon  Olivia2006.e02.p04.i00.s01_i1.csv\nfilename_phon  Olivia2006.e02.p04.i00.s02_l2.csv\nfilename_phon  Olivia2006.e02.p04.i00.s02_a~3.csv\nfilename_phon  Olivia2006.e02.p04.i00.s03_t4.csv\nfilename_phon  Olivia2006.e02.p04.i00.s03_R5.csv\nfilename_phon  Olivia2006.e02.p04.i00.s03_a6.csv\nfilename_phon  Olivia2006.e02.p04.i00.s04_v7.csv\nfilename_phon  Olivia2006.e02.p04.i00.s04_E8.csv\nfilename_phon  Olivia2006.e02.p04.i00.s04_k9.csv\nfilename_phon  Olivia2006.e02.p04.i00.s05_s10.csv\nfilename_phon  Olivia2006.e02.p04.i00.s05_a11.csv\nfilename_phon  Olivia2006.e02.p04.i00.s06_S12.csv\nfilename_phon  Olivia2006.e02.p04.i00.s06_a~13.csv\nfilename_phon  Olivia2006.e02.p04.i00.s07_d14.csv\nfilename_phon  Olivia2006.e02.p04.i00.s07_E15.csv\nfilename_phon  Olivia2006.e02.p04.i00.s08_l16.csv\nfilename_phon  Olivia2006.e02.p04.i00.s08_@17.csv\nfilename_phon  Olivia2006.e02.p04.i00.s09_##18.csv\nfilename_phon  Olivia2006.e02.p04.i00.s10_d19.csv\nfilename_phon  Olivia2006.e02.p04.i00.s10_a~20.csv\nfilename_phon  Olivia2006.e02.p04.i00.s11_l21.csv\nfilename_phon  Olivia2006.e02.p04.i00.s11_a22.csv\nfilename_phon  Olivia2006.e02.p04.i00.s12_v23.csv\nfilename_phon  Olivia2006.e02.p04.i00.s12_j24.csv\nfilename_phon  Olivia2006.e02.p04.i00.s12_E25.csv\nfilename_phon  Olivia2006.e02.p04.i00.s12_j26.csv\nfilename_phon  Olivia2006.e02.p04.i00.s13_S27.csv\nfilename_phon  Olivia2006.e02.p04.i00.s13_a~28.csv\nfilename_phon  Olivia2006.e02.p04.i00.s14_b29.csv\nfilename_phon  Olivia2006.e02.p04.i00.s14_R30.csv\nfilename_phon  Olivia2006.e02.p04.i00.s14_@31.csv\nfilename_phon  Olivia2006.e02.p04.i00.s15_###32.csv\nfilename_phon  Olivia2006.e03.p04.i00.s00_###0.csv\nfilename_phon  Olivia2006.e03.p04.i00.s00__1.csv\nfilename_phon  Olivia2006.e03.p04.i00.s00_##2.csv\nfilename_phon  Olivia2006.e03.p04.i00.s01_i3.csv\nfilename_phon  Olivia2006.e03.p04.i00.s02_l4.csv\nfilename_phon  Olivia2006.e03.p04.i00.s02_a~5.csv\nfilename_phon  Olivia2006.e03.p04.i00.s03_t6.csv\nfilename_phon  Olivia2006.e03.p04.i00.s03_R7.csv\nfilename_phon  Olivia2006.e03.p04.i00.s03_@8.csv\nfilename_phon  Olivia2006.e03.p04.i00.s04_##9.csv\nfilename_phon  Olivia2006.e03.p04.i00.s05_a10.csv\nfilename_phon  Olivia2006.e03.p04.i00.s06_v11.csv\nfilename_phon  Olivia2006.e03.p04.i00.s06_E12.csv\nfilename_phon  Olivia2006.e03.p04.i00.s06_k13.csv\nfilename_phon  Olivia2006.e03.p04.i00.s07_s14.csv\nfilename_phon  Olivia2006.e03.p04.i00.s07_a15.csv\nfilename_phon  Olivia2006.e03.p04.i00.s08_S16.csv\nfilename_phon  Olivia2006.e03.p04.i00.s08_a~17.csv\nfilename_phon  Olivia2006.e03.p04.i00.s09_d18.csv\nfilename_phon  Olivia2006.e03.p04.i00.s09_E19.csv\nfilename_phon  Olivia2006.e03.p04.i00.s10_l20.csv\nfilename_phon  Olivia2006.e03.p04.i00.s10_@21.csv\nfilename_phon  Olivia2006.e03.p04.i00.s11_##22.csv\nfilename_phon  Olivia2006.e03.p04.i00.s12_d23.csv\nfilename_phon  Olivia2006.e03.p04.i00.s12_a~24.csv\nfilename_phon  Olivia2006.e03.p04.i00.s13_l25.csv\nfilename_phon  Olivia2006.e03.p04.i00.s13_a26.csv\nfilename_phon  Olivia2006.e03.p04.i00.s14_v27.csv\nfilename_phon  Olivia2006.e03.p04.i00.s14_j28.csv\nfilename_phon  Olivia2006.e03.p04.i00.s14_E29.csv\nfilename_phon  Olivia2006.e03.p04.i00.s15_e30.csv\nfilename_phon  Olivia2006.e03.p04.i00.s16_S31.csv\nfilename_phon  Olivia2006.e03.p04.i00.s16_a~32.csv\nfilename_phon  Olivia2006.e03.p04.i00.s17_b33.csv\nfilename_phon  Olivia2006.e03.p04.i00.s17_R34.csv\nfilename_phon  Olivia2006.e03.p04.i00.s17_@35.csv\nfilename_phon  Olivia2006.e03.p04.i00.s18_###36.csv\nfilename_phon  Olivia2006.e04.p04.i00.s00_###0.csv\nfilename_phon  Olivia2006.e04.p04.i00.s00__1.csv\nfilename_phon  Olivia2006.e04.p04.i00.s00_##2.csv\nfilename_phon  Olivia2006.e04.p04.i00.s01_i3.csv\nfilename_phon  Olivia2006.e04.p04.i00.s02_l4.csv\nfilename_phon  Olivia2006.e04.p04.i00.s02_a~5.csv\nfilename_phon  Olivia2006.e04.p04.i00.s03_t6.csv\nfilename_phon  Olivia2006.e04.p04.i00.s03_R7.csv\nfilename_phon  Olivia2006.e04.p04.i00.s03_a8.csv\nfilename_phon  Olivia2006.e04.p04.i00.s04_v9.csv\nfilename_phon  Olivia2006.e04.p04.i00.s04_E10.csv\nfilename_phon  Olivia2006.e04.p04.i00.s04_k11.csv\nfilename_phon  Olivia2006.e04.p04.i00.s05_s12.csv\nfilename_phon  Olivia2006.e04.p04.i00.s05_a13.csv\nfilename_phon  Olivia2006.e04.p04.i00.s06_S14.csv\nfilename_phon  Olivia2006.e04.p04.i00.s06_a~15.csv\nfilename_phon  Olivia2006.e04.p04.i00.s07_d16.csv\nfilename_phon  Olivia2006.e04.p04.i00.s07_E17.csv\nfilename_phon  Olivia2006.e04.p04.i00.s08_l18.csv\nfilename_phon  Olivia2006.e04.p04.i00.s08_@19.csv\nfilename_phon  Olivia2006.e04.p04.i00.s09_##20.csv\nfilename_phon  Olivia2006.e04.p04.i00.s10_d21.csv\nfilename_phon  Olivia2006.e04.p04.i00.s10_a~22.csv\nfilename_phon  Olivia2006.e04.p04.i00.s11_l23.csv\nfilename_phon  Olivia2006.e04.p04.i00.s11_a24.csv\nfilename_phon  Olivia2006.e04.p04.i00.s12_v25.csv\nfilename_phon  Olivia2006.e04.p04.i00.s12_j26.csv\nfilename_phon  Olivia2006.e04.p04.i00.s12_E27.csv\nfilename_phon  Olivia2006.e04.p04.i00.s12_j28.csv\nfilename_phon  Olivia2006.e04.p04.i00.s13_S29.csv\nfilename_phon  Olivia2006.e04.p04.i00.s13_a~30.csv\nfilename_phon  Olivia2006.e04.p04.i00.s14_b31.csv\nfilename_phon  Olivia2006.e04.p04.i00.s14_R32.csv\nfilename_phon  Olivia2006.e04.p04.i00.s14_@33.csv\nfilename_phon  Olivia2006.e04.p04.i00.s15_###34.csv\nfilename_phon  Olivia2006.e05.p04.i00.s00_###0.csv\nfilename_phon  Olivia2006.e05.p04.i00.s00__1.csv\nfilename_phon  Olivia2006.e05.p04.i00.s00_##2.csv\nfilename_phon  Olivia2006.e05.p04.i00.s01_i3.csv\nfilename_phon  Olivia2006.e05.p04.i00.s02_l4.csv\nfilename_phon  Olivia2006.e05.p04.i00.s02_a~5.csv\nfilename_phon  Olivia2006.e05.p04.i00.s03_t6.csv\nfilename_phon  Olivia2006.e05.p04.i00.s03_R7.csv\nfilename_phon  Olivia2006.e05.p04.i00.s03_a8.csv\nfilename_phon  Olivia2006.e05.p04.i00.s04_v9.csv\nfilename_phon  Olivia2006.e05.p04.i00.s04_E10.csv\nfilename_phon  Olivia2006.e05.p04.i00.s04_k11.csv\nfilename_phon  Olivia2006.e05.p04.i00.s05_s12.csv\nfilename_phon  Olivia2006.e05.p04.i00.s05_a13.csv\nfilename_phon  Olivia2006.e05.p04.i00.s06_S14.csv\nfilename_phon  Olivia2006.e05.p04.i00.s06_a~15.csv\nfilename_phon  Olivia2006.e05.p04.i00.s07_d16.csv\nfilename_phon  Olivia2006.e05.p04.i00.s07_E17.csv\nfilename_phon  Olivia2006.e05.p04.i00.s08_l18.csv\nfilename_phon  Olivia2006.e05.p04.i00.s08_@19.csv\nfilename_phon  Olivia2006.e05.p04.i00.s09_##20.csv\nfilename_phon  Olivia2006.e05.p04.i00.s10_d21.csv\nfilename_phon  Olivia2006.e05.p04.i00.s10_a~22.csv\nfilename_phon  Olivia2006.e05.p04.i00.s11_l23.csv\nfilename_phon  Olivia2006.e05.p04.i00.s11_a24.csv\nfilename_phon  Olivia2006.e05.p04.i00.s12_v25.csv\nfilename_phon  Olivia2006.e05.p04.i00.s12_j26.csv\nfilename_phon  Olivia2006.e05.p04.i00.s12_E27.csv\nfilename_phon  Olivia2006.e05.p04.i00.s12_j28.csv\nfilename_phon  Olivia2006.e05.p04.i00.s13_S29.csv\nfilename_phon  Olivia2006.e05.p04.i00.s13_a~30.csv\nfilename_phon  Olivia2006.e05.p04.i00.s14_b31.csv\nfilename_phon  Olivia2006.e05.p04.i00.s14_R32.csv\nfilename_phon  Olivia2006.e05.p04.i00.s14_933.csv\nfilename_phon  Olivia2006.e05.p04.i00.s15_###34.csv\nfilename_phon  Olivia2006.e06.p04.i00.s00_###0.csv\nfilename_phon  Olivia2006.e06.p04.i00.s01_i1.csv\nfilename_phon  Olivia2006.e06.p04.i00.s02_l2.csv\nfilename_phon  Olivia2006.e06.p04.i00.s02_a~3.csv\nfilename_phon  Olivia2006.e06.p04.i00.s03_t4.csv\nfilename_phon  Olivia2006.e06.p04.i00.s03_R5.csv\nfilename_phon  Olivia2006.e06.p04.i00.s03_a6.csv\nfilename_phon  Olivia2006.e06.p04.i00.s04_v7.csv\nfilename_phon  Olivia2006.e06.p04.i00.s04_E8.csv\nfilename_phon  Olivia2006.e06.p04.i00.s04_k9.csv\nfilename_phon  Olivia2006.e06.p04.i00.s05_s10.csv\nfilename_phon  Olivia2006.e06.p04.i00.s05_a11.csv\nfilename_phon  Olivia2006.e06.p04.i00.s06_S12.csv\nfilename_phon  Olivia2006.e06.p04.i00.s06_a~13.csv\nfilename_phon  Olivia2006.e06.p04.i00.s07_d14.csv\nfilename_phon  Olivia2006.e06.p04.i00.s07_E15.csv\nfilename_phon  Olivia2006.e06.p04.i00.s08_l16.csv\nfilename_phon  Olivia2006.e06.p04.i00.s08_@17.csv\nfilename_phon  Olivia2006.e06.p04.i00.s09_##18.csv\nfilename_phon  Olivia2006.e06.p04.i00.s10_d19.csv\nfilename_phon  Olivia2006.e06.p04.i00.s10_a~20.csv\nfilename_phon  Olivia2006.e06.p04.i00.s11_l21.csv\nfilename_phon  Olivia2006.e06.p04.i00.s11_a22.csv\nfilename_phon  Olivia2006.e06.p04.i00.s12_v23.csv\nfilename_phon  Olivia2006.e06.p04.i00.s12_j24.csv\nfilename_phon  Olivia2006.e06.p04.i00.s12_E25.csv\nfilename_phon  Olivia2006.e06.p04.i00.s12_j26.csv\nfilename_phon "
     ]
    },
    {
     "name": "stdout",
     "output_type": "stream",
     "text": [
      " Olivia2006.e06.p04.i00.s13_S27.csv\nfilename_phon  Olivia2006.e06.p04.i00.s13_a~28.csv\nfilename_phon  Olivia2006.e06.p04.i00.s14_b29.csv\nfilename_phon  Olivia2006.e06.p04.i00.s14_R30.csv\nfilename_phon  Olivia2006.e06.p04.i00.s14_@31.csv\nfilename_phon  Olivia2006.e06.p04.i00.s15_###32.csv\nfilename_phon  Olivia2006.e07.p04.i00.s00_###0.csv\nfilename_phon  Olivia2006.e07.p04.i00.s01_i1.csv\nfilename_phon  Olivia2006.e07.p04.i00.s02_l2.csv\nfilename_phon  Olivia2006.e07.p04.i00.s02_a~3.csv\nfilename_phon  Olivia2006.e07.p04.i00.s03_t4.csv\nfilename_phon  Olivia2006.e07.p04.i00.s03_R5.csv\nfilename_phon  Olivia2006.e07.p04.i00.s03_@6.csv\nfilename_phon  Olivia2006.e07.p04.i00.s04_##7.csv\nfilename_phon  Olivia2006.e07.p04.i00.s05_a8.csv\nfilename_phon  Olivia2006.e07.p04.i00.s06_v9.csv\nfilename_phon  Olivia2006.e07.p04.i00.s06_E10.csv\nfilename_phon  Olivia2006.e07.p04.i00.s06_k11.csv\nfilename_phon  Olivia2006.e07.p04.i00.s07_s12.csv\nfilename_phon  Olivia2006.e07.p04.i00.s07_a13.csv\nfilename_phon  Olivia2006.e07.p04.i00.s08_S14.csv\nfilename_phon  Olivia2006.e07.p04.i00.s08_a~15.csv\nfilename_phon  Olivia2006.e07.p04.i00.s09_d16.csv\nfilename_phon  Olivia2006.e07.p04.i00.s09_E17.csv\nfilename_phon  Olivia2006.e07.p04.i00.s10_l18.csv\nfilename_phon  Olivia2006.e07.p04.i00.s10_@19.csv\nfilename_phon  Olivia2006.e07.p04.i00.s11_##20.csv\nfilename_phon  Olivia2006.e07.p04.i00.s12_d21.csv\nfilename_phon  Olivia2006.e07.p04.i00.s12_a~22.csv\nfilename_phon  Olivia2006.e07.p04.i00.s13_l23.csv\nfilename_phon  Olivia2006.e07.p04.i00.s13_a24.csv\nfilename_phon  Olivia2006.e07.p04.i00.s14_v25.csv\nfilename_phon  Olivia2006.e07.p04.i00.s14_j26.csv\nfilename_phon  Olivia2006.e07.p04.i00.s14_E27.csv\nfilename_phon  Olivia2006.e07.p04.i00.s14_j28.csv\nfilename_phon  Olivia2006.e07.p04.i00.s15_S29.csv\nfilename_phon  Olivia2006.e07.p04.i00.s15_a~30.csv\nfilename_phon  Olivia2006.e07.p04.i00.s16_b31.csv\nfilename_phon  Olivia2006.e07.p04.i00.s16_R32.csv\nfilename_phon  Olivia2006.e07.p04.i00.s16_@33.csv\nfilename_phon  Olivia2006.e07.p04.i00.s17_###34.csv\nfilename_phon  Olivia2006.e08.p04.i00.s00_###0.csv\nfilename_phon  Olivia2006.e08.p04.i00.s01_i1.csv\nfilename_phon  Olivia2006.e08.p04.i00.s02_l2.csv\nfilename_phon  Olivia2006.e08.p04.i00.s02_a~3.csv\nfilename_phon  Olivia2006.e08.p04.i00.s03_t4.csv\nfilename_phon  Olivia2006.e08.p04.i00.s03_R5.csv\nfilename_phon  Olivia2006.e08.p04.i00.s03_@6.csv\nfilename_phon  Olivia2006.e08.p04.i00.s04_##7.csv\nfilename_phon  Olivia2006.e08.p04.i00.s05_a8.csv\nfilename_phon  Olivia2006.e08.p04.i00.s06_v9.csv\nfilename_phon  Olivia2006.e08.p04.i00.s06_E10.csv\nfilename_phon  Olivia2006.e08.p04.i00.s06_k11.csv\nfilename_phon  Olivia2006.e08.p04.i00.s07_s12.csv\nfilename_phon  Olivia2006.e08.p04.i00.s07_a13.csv\nfilename_phon  Olivia2006.e08.p04.i00.s08_S14.csv\nfilename_phon  Olivia2006.e08.p04.i00.s08_a~15.csv\nfilename_phon  Olivia2006.e08.p04.i00.s09_d16.csv\nfilename_phon  Olivia2006.e08.p04.i00.s09_E17.csv\nfilename_phon  Olivia2006.e08.p04.i00.s10_l18.csv\nfilename_phon  Olivia2006.e08.p04.i00.s10_@19.csv\nfilename_phon  Olivia2006.e08.p04.i00.s11_##20.csv\nfilename_phon  Olivia2006.e08.p04.i00.s12_d21.csv\nfilename_phon  Olivia2006.e08.p04.i00.s12_a~22.csv\nfilename_phon  Olivia2006.e08.p04.i00.s13_l23.csv\nfilename_phon  Olivia2006.e08.p04.i00.s13_a24.csv\nfilename_phon  Olivia2006.e08.p04.i00.s14_v25.csv\nfilename_phon  Olivia2006.e08.p04.i00.s14_j26.csv\nfilename_phon  Olivia2006.e08.p04.i00.s14_E27.csv\nfilename_phon  Olivia2006.e08.p04.i00.s14_j28.csv\nfilename_phon  Olivia2006.e08.p04.i00.s15_S29.csv\nfilename_phon  Olivia2006.e08.p04.i00.s15_a~30.csv\nfilename_phon  Olivia2006.e08.p04.i00.s16_b31.csv\nfilename_phon  Olivia2006.e08.p04.i00.s16_R32.csv\nfilename_phon  Olivia2006.e08.p04.i00.s16_933.csv\nfilename_phon  Olivia2006.e08.p04.i00.s17_###34.csv\nfilename_phon  Olivia2006.e01.p05.i00.s00_###0.csv\nfilename_phon  Olivia2006.e01.p05.i00.s01_l1.csv\nfilename_phon  Olivia2006.e01.p05.i00.s01_22.csv\nfilename_phon  Olivia2006.e01.p05.i00.s02_n3.csv\nfilename_phon  Olivia2006.e01.p05.i00.s02_e4.csv\nfilename_phon  Olivia2006.e01.p05.i00.s03_d5.csv\nfilename_phon  Olivia2006.e01.p05.i00.s03_y6.csv\nfilename_phon  Olivia2006.e01.p05.i00.s04_p7.csv\nfilename_phon  Olivia2006.e01.p05.i00.s04_e8.csv\nfilename_phon  Olivia2006.e01.p05.i00.s04_R9.csv\nfilename_phon  Olivia2006.e01.p05.i00.s05_s10.csv\nfilename_phon  Olivia2006.e01.p05.i00.s05_O11.csv\nfilename_phon  Olivia2006.e01.p05.i00.s06_n12.csv\nfilename_phon  Olivia2006.e01.p05.i00.s06_a13.csv\nfilename_phon  Olivia2006.e01.p05.i00.s06_Z14.csv\nfilename_phon  Olivia2006.e01.p05.i00.s07_s15.csv\nfilename_phon  Olivia2006.e01.p05.i00.s07_a16.csv\nfilename_phon  Olivia2006.e01.p05.i00.s08_b17.csv\nfilename_phon  Olivia2006.e01.p05.i00.s08_E18.csv\nfilename_phon  Olivia2006.e01.p05.i00.s08_s19.csv\nfilename_phon  Olivia2006.e01.p05.i00.s09_##20.csv\nfilename_phon  Olivia2006.e01.p05.i00.s10_o21.csv\nfilename_phon  Olivia2006.e01.p05.i00.s11_d22.csv\nfilename_phon  Olivia2006.e01.p05.i00.s11_223.csv\nfilename_phon  Olivia2006.e01.p05.i00.s12_s24.csv\nfilename_phon  Olivia2006.e01.p05.i00.s12_y25.csv\nfilename_phon  Olivia2006.e01.p05.i00.s13_d26.csv\nfilename_phon  Olivia2006.e01.p05.i00.s13_227.csv\nfilename_phon  Olivia2006.e01.p05.i00.s14_s28.csv\nfilename_phon  Olivia2006.e01.p05.i00.s14_a29.csv\nfilename_phon  Olivia2006.e01.p05.i00.s15_m30.csv\nfilename_phon  Olivia2006.e01.p05.i00.s15_u31.csv\nfilename_phon  Olivia2006.e01.p05.i00.s15_s32.csv\nfilename_phon  Olivia2006.e01.p05.i00.s16_t33.csv\nfilename_phon  Olivia2006.e01.p05.i00.s16_a34.csv\nfilename_phon  Olivia2006.e01.p05.i00.s16_S35.csv\nfilename_phon  Olivia2006.e01.p05.i00.s17_###36.csv\nfilename_phon  Olivia2006.e02.p05.i00.s00_###0.csv\nfilename_phon  Olivia2006.e02.p05.i00.s01_l1.csv\nfilename_phon  Olivia2006.e02.p05.i00.s01_22.csv\nfilename_phon  Olivia2006.e02.p05.i00.s02_n3.csv\nfilename_phon  Olivia2006.e02.p05.i00.s02_e4.csv\nfilename_phon  Olivia2006.e02.p05.i00.s03_d5.csv\nfilename_phon  Olivia2006.e02.p05.i00.s03_y6.csv\nfilename_phon  Olivia2006.e02.p05.i00.s04_p7.csv\nfilename_phon  Olivia2006.e02.p05.i00.s04_E8.csv\nfilename_phon  Olivia2006.e02.p05.i00.s04_R9.csv\nfilename_phon  Olivia2006.e02.p05.i00.s05_s10.csv\nfilename_phon  Olivia2006.e02.p05.i00.s05_O11.csv\nfilename_phon  Olivia2006.e02.p05.i00.s06_n12.csv\nfilename_phon  Olivia2006.e02.p05.i00.s06_a13.csv\nfilename_phon  Olivia2006.e02.p05.i00.s07_Z14.csv\nfilename_phon  Olivia2006.e02.p05.i00.s07_@15.csv\nfilename_phon  Olivia2006.e02.p05.i00.s08_s16.csv\nfilename_phon  Olivia2006.e02.p05.i00.s08_a17.csv\nfilename_phon  Olivia2006.e02.p05.i00.s09_b18.csv\nfilename_phon  Olivia2006.e02.p05.i00.s09_E19.csv\nfilename_phon  Olivia2006.e02.p05.i00.s09_s20.csv\nfilename_phon  Olivia2006.e02.p05.i00.s10_##21.csv\nfilename_phon  Olivia2006.e02.p05.i00.s11_o22.csv\nfilename_phon  Olivia2006.e02.p05.i00.s12_d23.csv\nfilename_phon  Olivia2006.e02.p05.i00.s12_224.csv\nfilename_phon  Olivia2006.e02.p05.i00.s13_s25.csv\nfilename_phon  Olivia2006.e02.p05.i00.s13_y26.csv\nfilename_phon  Olivia2006.e02.p05.i00.s14_d27.csv\nfilename_phon  Olivia2006.e02.p05.i00.s14_228.csv\nfilename_phon  Olivia2006.e02.p05.i00.s15_s29.csv\nfilename_phon  Olivia2006.e02.p05.i00.s15_a30.csv\nfilename_phon  Olivia2006.e02.p05.i00.s16_m31.csv\nfilename_phon  Olivia2006.e02.p05.i00.s16_u32.csv\nfilename_phon  Olivia2006.e02.p05.i00.s16_s33.csv\nfilename_phon  Olivia2006.e02.p05.i00.s17_t34.csv\nfilename_phon  Olivia2006.e02.p05.i00.s17_a35.csv\nfilename_phon  Olivia2006.e02.p05.i00.s18_S36.csv\nfilename_phon  Olivia2006.e02.p05.i00.s18_@37.csv\nfilename_phon  Olivia2006.e02.p05.i00.s19_###38.csv\nfilename_phon  Olivia2006.e03.p05.i00.s00_###0.csv\nfilename_phon  Olivia2006.e03.p05.i00.s01_l1.csv\nfilename_phon  Olivia2006.e03.p05.i00.s01_22.csv\nfilename_phon  Olivia2006.e03.p05.i00.s02_n3.csv\nfilename_phon  Olivia2006.e03.p05.i00.s02_e4.csv\nfilename_phon  Olivia2006.e03.p05.i00.s03_d5.csv\nfilename_phon  Olivia2006.e03.p05.i00.s03_y6.csv\nfilename_phon  Olivia2006.e03.p05.i00.s04_p7.csv\nfilename_phon  Olivia2006.e03.p05.i00.s04_E8.csv\nfilename_phon  Olivia2006.e03.p05.i00.s04_R9.csv\nfilename_phon  Olivia2006.e03.p05.i00.s05_s10.csv\nfilename_phon  Olivia2006.e03.p05.i00.s05_O11.csv\nfilename_phon  Olivia2006.e03.p05.i00.s06_n12.csv\nfilename_phon  Olivia2006.e03.p05.i00.s06_a13.csv\nfilename_phon  Olivia2006.e03.p05.i00.s06_Z14.csv\nfilename_phon  Olivia2006.e03.p05.i00.s07_s15.csv\nfilename_phon  Olivia2006.e03.p05.i00.s07_a16.csv\nfilename_phon  Olivia2006.e03.p05.i00.s08_b17.csv\nfilename_phon  Olivia2006.e03.p05.i00.s08_E18.csv\nfilename_phon  Olivia2006.e03.p05.i00.s09_s19.csv\nfilename_phon  Olivia2006.e03.p05.i00.s09_@20.csv\nfilename_phon  Olivia2006.e03.p05.i00.s10_##21.csv\nfilename_phon  Olivia2006.e03.p05.i00.s11_o22.csv\nfilename_phon  Olivia2006.e03.p05.i00.s12_d23.csv\nfilename_phon  Olivia2006.e03.p05.i00.s12_224.csv\nfilename_phon  Olivia2006.e03.p05.i00.s13_s25.csv\nfilename_phon  Olivia2006.e03.p05.i00.s13_y26.csv\nfilename_phon  Olivia2006.e03.p05.i00.s14_d27.csv\nfilename_phon  Olivia2006.e03.p05.i00.s14_228.csv\nfilename_phon  Olivia2006.e03.p05.i00.s15_s29.csv\nfilename_phon  Olivia2006.e03.p05.i00.s15_a30.csv\nfilename_phon  Olivia2006.e03.p05.i00.s16_m31.csv\nfilename_phon  Olivia2006.e03.p05.i00.s16_u32.csv\nfilename_phon  Olivia2006.e03.p05.i00.s16_s33.csv\nfilename_phon  Olivia2006.e03.p05.i00.s17_t34.csv\nfilename_phon  Olivia2006.e03.p05.i00.s17_a35.csv\nfilename_phon  Olivia2006.e03.p05.i00.s17_S36.csv\nfilename_phon  Olivia2006.e03.p05.i00.s18_###37.csv\nfilename_phon  Olivia2006.e04.p05.i00.s00_###0.csv\nfilename_phon  Olivia2006.e04.p05.i00.s01_l1.csv\nfilename_phon  Olivia2006.e04.p05.i00.s01_22.csv\nfilename_phon  Olivia2006.e04.p05.i00.s02_n3.csv\nfilename_phon  Olivia2006.e04.p05.i00.s02_e4.csv\nfilename_phon  Olivia2006.e04.p05.i00.s03_d5.csv\nfilename_phon  Olivia2006.e04.p05.i00.s03_y6.csv\nfilename_phon  Olivia2006.e04.p05.i00.s04_p7.csv\nfilename_phon  Olivia2006.e04.p05.i00.s04_E8.csv\nfilename_phon  Olivia2006.e04.p05.i00.s04_R9.csv\nfilename_phon  Olivia2006.e04.p05.i00.s05_s10.csv\nfilename_phon  Olivia2006.e04.p05.i00.s05_O11.csv\nfilename_phon  Olivia2006.e04.p05.i00.s06_n12.csv\nfilename_phon  Olivia2006.e04.p05.i00.s06_a13.csv\nfilename_phon  Olivia2006.e04.p05.i00.s06_Z14.csv\nfilename_phon  Olivia2006.e04.p05.i00.s07_s15.csv\nfilename_phon  Olivia2006.e04.p05.i00.s07_a16.csv\nfilename_phon  Olivia2006.e04.p05.i00.s08_b17.csv\nfilename_phon  Olivia2006.e04.p05.i00.s08_E18.csv\nfilename_phon  Olivia2006.e04.p05.i00.s08_s19.csv\nfilename_phon  Olivia2006.e04.p05.i00.s09_##20.csv\nfilename_phon  Olivia2006.e04.p05.i00.s10_o21.csv\nfilename_phon  Olivia2006.e04.p05.i00.s11_d22.csv\nfilename_phon  Olivia2006.e04.p05.i00.s11_223.csv\nfilename_phon  Olivia2006.e04.p05.i00.s12_s24.csv\nfilename_phon  Olivia2006.e04.p05.i00.s12_y25.csv\nfilename_phon  Olivia2006.e04.p05.i00.s13_d26.csv\nfilename_phon  Olivia2006.e04.p05.i00.s13_227.csv\nfilename_phon  Olivia2006.e04.p05.i00.s14_s28.csv\nfilename_phon  Olivia2006.e04.p05.i00.s14_a29.csv\nfilename_phon  Olivia2006.e04.p05.i00.s15_m30.csv\nfilename_phon  Olivia2006.e04.p05.i00.s15_u31.csv\nfilename_phon  Olivia2006.e04.p05.i00.s15_s32.csv\nfilename_phon  Olivia2006.e04.p05.i00.s16_t33.csv\nfilename_phon  Olivia2006.e04.p05.i00.s16_a34.csv\nfilename_phon  Olivia2006.e04.p05.i00.s17_S35.csv\nfilename_phon  Olivia2006.e04.p05.i00.s17_@36.csv\nfilename_phon  Olivia2006.e04.p05.i00.s18_###37.csv\nfilename_phon  Olivia2006.e05.p05.i00.s00_###0.csv\nfilename_phon  Olivia2006.e05.p05.i00.s00__1.csv\nfilename_phon  Olivia2006.e05.p05.i00.s00_##2.csv\nfilename_phon  Olivia2006.e05.p05.i00.s01_l3.csv\nfilename_phon  Olivia2006.e05.p05.i00.s01_24.csv\nfilename_phon  Olivia2006.e05.p05.i00.s02_n5.csv\nfilename_phon  Olivia2006.e05.p05.i00.s02_e6.csv\nfilename_phon  Olivia2006.e05.p05.i00.s03_d7.csv\nfilename_phon  Olivia2006.e05.p05.i00.s03_y8.csv\nfilename_phon  Olivia2006.e05.p05.i00.s04_p9.csv\nfilename_phon  Olivia2006.e05.p05.i00.s04_E10.csv\nfilename_phon  Olivia2006.e05.p05.i00.s04_R11.csv\nfilename_phon  Olivia2006.e05.p05.i00.s05_s12.csv\nfilename_phon  Olivia2006.e05.p05.i00.s05_O13.csv\nfilename_phon  Olivia2006.e05.p05.i00.s06_n14.csv\nfilename_phon  Olivia2006.e05.p05.i00.s06_a15.csv\nfilename_phon  Olivia2006.e05.p05.i00.s06_Z16.csv\nfilename_phon  Olivia2006.e05.p05.i00.s07_s17.csv\nfilename_phon  Olivia2006.e05.p05.i00.s07_a18.csv\nfilename_phon  Olivia2006.e05.p05.i00.s08_b19.csv\nfilename_phon  Olivia2006.e05.p05.i00.s08_E20.csv\nfilename_phon  Olivia2006.e05.p05.i00.s08_s21.csv\nfilename_phon  Olivia2006.e05.p05.i00.s09_##22.csv\nfilename_phon  Olivia2006.e05.p05.i00.s10_o23.csv\nfilename_phon  Olivia2006.e05.p05.i00.s11_d24.csv\nfilename_phon  Olivia2006.e05.p05.i00.s11_225.csv\nfilename_phon  Olivia2006.e05.p05.i00.s12_s26.csv\nfilename_phon  Olivia2006.e05.p05.i00.s12_y27.csv\nfilename_phon  Olivia2006.e05.p05.i00.s13_d28.csv\nfilename_phon  Olivia2006.e05.p05.i00.s13_229.csv\nfilename_phon  Olivia2006.e05.p05.i00.s14_s30.csv\nfilename_phon  Olivia2006.e05.p05.i00.s14_a31.csv\nfilename_phon  Olivia2006.e05.p05.i00.s15_m32.csv\nfilename_phon  Olivia2006.e05.p05.i00.s15_u33.csv\nfilename_phon  Olivia2006.e05.p05.i00.s15_s34.csv\nfilename_phon  Olivia2006.e05.p05.i00.s16_t35.csv\nfilename_phon  Olivia2006.e05.p05.i00.s16_a36.csv\nfilename_phon  Olivia2006.e05.p05.i00.s17_S37.csv\nfilename_phon  Olivia2006.e05.p05.i00.s17_@38.csv\nfilename_phon  Olivia2006.e05.p05.i00.s18_###39.csv\nfilename_phon  Olivia2006.e06.p05.i00.s00_###0.csv\nfilename_phon  Olivia2006.e06.p05.i00.s01_l1.csv\nfilename_phon  Olivia2006.e06.p05.i00.s01_22.csv\nfilename_phon  Olivia2006.e06.p05.i00.s02_n3.csv\nfilename_phon  Olivia2006.e06.p05.i00.s02_e4.csv\nfilename_phon  Olivia2006.e06.p05.i00.s03_d5.csv\nfilename_phon  Olivia2006.e06.p05.i00.s03_y6.csv\nfilename_phon  Olivia2006.e06.p05.i00.s04_p7.csv\nfilename_phon  Olivia2006.e06.p05.i00.s04_E8.csv\nfilename_phon  Olivia2006.e06.p05.i00.s04_R9.csv\nfilename_phon  Olivia2006.e06.p05.i00.s05_s10.csv\nfilename_phon  Olivia2006.e06.p05.i00.s05_211.csv\nfilename_phon  Olivia2006.e06.p05.i00.s06_n12.csv\nfilename_phon  Olivia2006.e06.p05.i00.s06_a13.csv\nfilename_phon  Olivia2006.e06.p05.i00.s06_Z14.csv\nfilename_phon  Olivia2006.e06.p05.i00.s07_s15.csv\nfilename_phon  Olivia2006.e06.p05.i00.s07_a16.csv\nfilename_phon  Olivia2006.e06.p05.i00.s08_b17.csv\nfilename_phon  Olivia2006.e06.p05.i00.s08_E18.csv\nfilename_phon  Olivia2006.e06.p05.i00.s08_s19.csv\nfilename_phon  Olivia2006.e06.p05.i00.s09_##20.csv\nfilename_phon  Olivia2006.e06.p05.i00.s10_o21.csv\nfilename_phon  Olivia2006.e06.p05.i00.s11_d22.csv\nfilename_phon  Olivia2006.e06.p05.i00.s11_223.csv\nfilename_phon  Olivia2006.e06.p05.i00.s12_s24.csv\nfilename_phon  Olivia2006.e06.p05.i00.s12_y25.csv\nfilename_phon  Olivia2006.e06.p05.i00.s13_d26.csv\nfilename_phon  Olivia2006.e06.p05.i00.s13_227.csv\nfilename_phon  Olivia2006.e06.p05.i00.s14_s28.csv\nfilename_phon  Olivia2006.e06.p05.i00.s14_a29.csv\nfilename_phon  Olivia2006.e06.p05.i00.s15_m30.csv\nfilename_phon  Olivia2006.e06.p05.i00.s15_u31.csv\nfilename_phon  Olivia2006.e06.p05.i00.s15_s32.csv\nfilename_phon  Olivia2006.e06.p05.i00.s16_t33.csv\nfilename_phon  Olivia2006.e06.p05.i00.s16_a34.csv\nfilename_phon  Olivia2006.e06.p05.i00.s17_S35.csv\nfilename_phon  Olivia2006.e06.p05.i00.s17_a36.csv\nfilename_phon  Olivia2006.e06.p05.i00.s18_###37.csv\nfilename_phon  Olivia2006.e07.p05.i00.s00_###0.csv\nfilename_phon  Olivia2006.e07.p05.i00.s00__1.csv\nfilename_phon  Olivia2006.e07.p05.i00.s00_##2.csv\nfilename_phon  Olivia2006.e07.p05.i00.s01_l3.csv\nfilename_phon  Olivia2006.e07.p05.i00.s01_24.csv\nfilename_phon  Olivia2006.e07.p05.i00.s02_n5.csv\nfilename_phon  Olivia2006.e07.p05.i00.s02_e6.csv\nfilename_phon  Olivia2006.e07.p05.i00.s03_#7.csv\nfilename_phon  Olivia2006.e07.p05.i00.s04_d8.csv\nfilename_phon  Olivia2006.e07.p05.i00.s04_y9.csv\nfilename_phon  Olivia2006.e07.p05.i00.s05_p10.csv\nfilename_phon  Olivia2006.e07.p05.i00.s05_E11.csv\nfilename_phon  Olivia2006.e07.p05.i00.s05_R12.csv\nfilename_phon  Olivia2006.e07.p05.i00.s06_s13.csv\nfilename_phon  Olivia2006.e07.p05.i00.s06_214.csv\nfilename_phon  Olivia2006.e07.p05.i00.s07_n15.csv\nfilename_phon  Olivia2006.e07.p05.i00.s07_a16.csv\nfilename_phon  Olivia2006.e07.p05.i00.s08_Z17.csv\nfilename_phon  Olivia2006.e07.p05.i00.s08_@18.csv\nfilename_phon  Olivia2006.e07.p05.i00.s09_#19.csv\nfilename_phon  Olivia2006.e07.p05.i00.s10_s20.csv\nfilename_phon  Olivia2006.e07.p05.i00.s10_a21.csv\nfilename_phon  Olivia2006.e07.p05.i00.s11_b22.csv\nfilename_phon  Olivia2006.e07.p05.i00.s11_E23.csv\nfilename_phon  Olivia2006.e07.p05.i00.s11_s24.csv\nfilename_phon  Olivia2006.e07.p05.i00.s12_##25.csv\nfilename_phon  Olivia2006.e07.p05.i00.s13_o26.csv\nfilename_phon  Olivia2006.e07.p05.i00.s14_d27.csv\nfilename_phon  Olivia2006.e07.p05.i00.s14_228.csv\nfilename_phon  Olivia2006.e07.p05.i00.s15_s29.csv\nfilename_phon  Olivia2006.e07.p05.i00.s15_y30.csv\nfilename_phon  Olivia2006.e07.p05.i00.s16_d31.csv\nfilename_phon  Olivia2006.e07.p05.i00.s16_232.csv\nfilename_phon  Olivia2006.e07.p05.i00.s17_s33.csv\nfilename_phon  Olivia2006.e07.p05.i00.s17_a34.csv\nfilename_phon  Olivia2006.e07.p05.i00.s18_m35.csv\nfilename_phon  Olivia2006.e07.p05.i00.s18_u36.csv\nfilename_phon  Olivia2006.e07.p05.i00.s18_s37.csv\nfilename_phon  Olivia2006.e07.p05.i00.s19_t38.csv\nfilename_phon  Olivia2006.e07.p05.i00.s19_a39.csv\nfilename_phon  Olivia2006.e07.p05.i00.s20_S40.csv\nfilename_phon  Olivia2006.e07.p05.i00.s20_@41.csv\nfilename_phon  Olivia2006.e07.p05.i00.s21_###42.csv\nfilename_phon  Olivia2006.e08.p05.i00.s00_###0.csv\nfilename_phon  Olivia2006.e08.p05.i00.s01_l1.csv\nfilename_phon  Olivia2006.e08.p05.i00.s01_22.csv\nfilename_phon  Olivia2006.e08.p05.i00.s02_n3.csv\nfilename_phon  Olivia2006.e08.p05.i00.s02_e4.csv\nfilename_phon  Olivia2006.e08.p05.i00.s03_#5.csv\nfilename_phon  Olivia2006.e08.p05.i00.s03__6.csv\nfilename_phon  Olivia2006.e08.p05.i00.s04_d7.csv\nfilename_phon  Olivia2006.e08.p05.i00.s04_y8.csv\nfilename_phon  Olivia2006.e08.p05.i00.s05_p9.csv\nfilename_phon  Olivia2006.e08.p05.i00.s05_E10.csv\nfilename_phon  Olivia2006.e08.p05.i00.s05_R11.csv\nfilename_phon  Olivia2006.e08.p05.i00.s06_s12.csv\nfilename_phon  Olivia2006.e08.p05.i00.s06_213.csv\nfilename_phon  Olivia2006.e08.p05.i00.s07_n14.csv\nfilename_phon  Olivia2006.e08.p05.i00.s07_a15.csv\nfilename_phon  Olivia2006.e08.p05.i00.s08_Z16.csv\nfilename_phon  Olivia2006.e08.p05.i00.s08_917.csv\nfilename_phon  Olivia2006.e08.p05.i00.s09_#18.csv\nfilename_phon  Olivia2006.e08.p05.i00.s09__19.csv\nfilename_phon  Olivia2006.e08.p05.i00.s10_s20.csv\nfilename_phon  Olivia2006.e08.p05.i00.s10_a21.csv\nfilename_phon  Olivia2006.e08.p05.i00.s11_b22.csv\nfilename_phon  Olivia2006.e08.p05.i00.s11_E23.csv\nfilename_phon  Olivia2006.e08.p05.i00.s12_s24.csv\nfilename_phon  Olivia2006.e08.p05.i00.s12_925.csv\nfilename_phon  Olivia2006.e08.p05.i00.s13_##26.csv\nfilename_phon  Olivia2006.e08.p05.i00.s14_o27.csv\nfilename_phon  Olivia2006.e08.p05.i00.s15_d28.csv\nfilename_phon  Olivia2006.e08.p05.i00.s15_229.csv\nfilename_phon  Olivia2006.e08.p05.i00.s16_s30.csv\nfilename_phon  Olivia2006.e08.p05.i00.s16_y31.csv\nfilename_phon  Olivia2006.e08.p05.i00.s17_d32.csv\nfilename_phon  Olivia2006.e08.p05.i00.s17_233.csv\nfilename_phon  Olivia2006.e08.p05.i00.s18_s34.csv\nfilename_phon  Olivia2006.e08.p05.i00.s18_a35.csv\nfilename_phon  Olivia2006.e08.p05.i00.s19_m36.csv\nfilename_phon  Olivia2006.e08.p05.i00.s19_u37.csv\nfilename_phon  Olivia2006.e08.p05.i00.s19_s38.csv\nfilename_phon  Olivia2006.e08.p05.i00.s20_t39.csv\nfilename_phon  Olivia2006.e08.p05.i00.s20_a40.csv\nfilename_phon  Olivia2006.e08.p05.i00.s20_S41.csv\nfilename_phon  Olivia2006.e08.p05.i00.s21__42.csv\nfilename_phon  Olivia2006.e08.p05.i00.s21_###43.csv\nfilename_phon  Olivia2006.e01.p06.i00.s00_###0.csv\nfilename_phon  Olivia2006.e01.p06.i00.s01_v1.csv\nfilename_phon  Olivia2006.e01.p06.i00.s01_u2.csv\nfilename_phon  Olivia2006.e01.p06.i00.s02_z3.csv\nfilename_phon  Olivia2006.e01.p06.i00.s02_E4.csv\nfilename_phon  Olivia2006.e01.p06.i00.s02_t5.csv\nfilename_phon  Olivia2006.e01.p06.i00.s03_v6.csv\nfilename_phon  Olivia2006.e01.p06.i00.s03_R7.csv\nfilename_phon  Olivia2006.e01.p06.i00.s03_E8.csv\nfilename_phon  Olivia2006.e01.p06.i00.s04_m9.csv\nfilename_phon  Olivia2006.e01.p06.i00.s04_a~10.csv\nfilename_phon  Olivia2006.e01.p06.i00.s05_O11.csv\nfilename_phon  Olivia2006.e01.p06.i00.s06_b12.csv\nfilename_phon  Olivia2006.e01.p06.i00.s06_e13.csv\nfilename_phon  Olivia2006.e01.p06.i00.s07_i14.csv\nfilename_phon  Olivia2006.e01.p06.i00.s08_s15.csv\nfilename_phon  Olivia2006.e01.p06.i00.s08_a~16.csv\nfilename_phon  Olivia2006.e01.p06.i00.s09_###17.csv\nfilename_phon  Olivia2006.e02.p06.i00.s00_###0.csv\nfilename_phon  Olivia2006.e02.p06.i00.s01_v1.csv\nfilename_phon  Olivia2006.e02.p06.i00.s01_u2.csv\nfilename_phon  Olivia2006.e02.p06.i00.s02_z3.csv\nfilename_phon  Olivia2006.e02.p06.i00.s02_E4.csv\nfilename_phon  Olivia2006.e02.p06.i00.s02_d5.csv\nfilename_phon  Olivia2006.e02.p06.i00.s03_v6.csv\nfilename_phon  Olivia2006.e02.p06.i00.s03_R7.csv\n"
     ]
    },
    {
     "name": "stdout",
     "output_type": "stream",
     "text": [
      "filename_phon  Olivia2006.e02.p06.i00.s03_E8.csv\nfilename_phon  Olivia2006.e02.p06.i00.s04_m9.csv\nfilename_phon  Olivia2006.e02.p06.i00.s04_a~10.csv\nfilename_phon  Olivia2006.e02.p06.i00.s05_o11.csv\nfilename_phon  Olivia2006.e02.p06.i00.s06_b12.csv\nfilename_phon  Olivia2006.e02.p06.i00.s06_e13.csv\nfilename_phon  Olivia2006.e02.p06.i00.s07_i14.csv\nfilename_phon  Olivia2006.e02.p06.i00.s08_s15.csv\nfilename_phon  Olivia2006.e02.p06.i00.s08_a~16.csv\nfilename_phon  Olivia2006.e02.p06.i00.s09_###17.csv\nfilename_phon  Olivia2006.e03.p06.i00.s00_###0.csv\nfilename_phon  Olivia2006.e03.p06.i00.s00__1.csv\nfilename_phon  Olivia2006.e03.p06.i00.s00_##2.csv\nfilename_phon  Olivia2006.e03.p06.i00.s01_v3.csv\nfilename_phon  Olivia2006.e03.p06.i00.s01_u4.csv\nfilename_phon  Olivia2006.e03.p06.i00.s02_z5.csv\nfilename_phon  Olivia2006.e03.p06.i00.s02_E6.csv\nfilename_phon  Olivia2006.e03.p06.i00.s02_t7.csv\nfilename_phon  Olivia2006.e03.p06.i00.s03_v8.csv\nfilename_phon  Olivia2006.e03.p06.i00.s03_R9.csv\nfilename_phon  Olivia2006.e03.p06.i00.s03_E10.csv\nfilename_phon  Olivia2006.e03.p06.i00.s04_m11.csv\nfilename_phon  Olivia2006.e03.p06.i00.s04_a~12.csv\nfilename_phon  Olivia2006.e03.p06.i00.s05_##13.csv\nfilename_phon  Olivia2006.e03.p06.i00.s06_o14.csv\nfilename_phon  Olivia2006.e03.p06.i00.s07_b15.csv\nfilename_phon  Olivia2006.e03.p06.i00.s07_e16.csv\nfilename_phon  Olivia2006.e03.p06.i00.s08_i17.csv\nfilename_phon  Olivia2006.e03.p06.i00.s09_s18.csv\nfilename_phon  Olivia2006.e03.p06.i00.s09_a~19.csv\nfilename_phon  Olivia2006.e03.p06.i00.s10_###20.csv\nfilename_phon  Olivia2006.e04.p06.i00.s00_###0.csv\nfilename_phon  Olivia2006.e04.p06.i00.s01_v1.csv\nfilename_phon  Olivia2006.e04.p06.i00.s01_u2.csv\nfilename_phon  Olivia2006.e04.p06.i00.s02_z3.csv\nfilename_phon  Olivia2006.e04.p06.i00.s02_E4.csv\nfilename_phon  Olivia2006.e04.p06.i00.s02_t5.csv\nfilename_phon  Olivia2006.e04.p06.i00.s03_v6.csv\nfilename_phon  Olivia2006.e04.p06.i00.s03_R7.csv\nfilename_phon  Olivia2006.e04.p06.i00.s03_E8.csv\nfilename_phon  Olivia2006.e04.p06.i00.s04_m9.csv\nfilename_phon  Olivia2006.e04.p06.i00.s04_a~10.csv\nfilename_phon  Olivia2006.e04.p06.i00.s05_O11.csv\nfilename_phon  Olivia2006.e04.p06.i00.s06_b12.csv\nfilename_phon  Olivia2006.e04.p06.i00.s06_e13.csv\nfilename_phon  Olivia2006.e04.p06.i00.s07_i14.csv\nfilename_phon  Olivia2006.e04.p06.i00.s08_s15.csv\nfilename_phon  Olivia2006.e04.p06.i00.s08_a~16.csv\nfilename_phon  Olivia2006.e04.p06.i00.s09_###17.csv\nfilename_phon  Olivia2006.e05.p06.i00.s00_###0.csv\nfilename_phon  Olivia2006.e05.p06.i00.s01_v1.csv\nfilename_phon  Olivia2006.e05.p06.i00.s01_u2.csv\nfilename_phon  Olivia2006.e05.p06.i00.s02_z3.csv\nfilename_phon  Olivia2006.e05.p06.i00.s02_E4.csv\nfilename_phon  Olivia2006.e05.p06.i00.s02_t5.csv\nfilename_phon  Olivia2006.e05.p06.i00.s03_v6.csv\nfilename_phon  Olivia2006.e05.p06.i00.s03_R7.csv\nfilename_phon  Olivia2006.e05.p06.i00.s03_E8.csv\nfilename_phon  Olivia2006.e05.p06.i00.s04_m9.csv\nfilename_phon  Olivia2006.e05.p06.i00.s04_a~10.csv\nfilename_phon  Olivia2006.e05.p06.i00.s05_O11.csv\nfilename_phon  Olivia2006.e05.p06.i00.s06_b12.csv\nfilename_phon  Olivia2006.e05.p06.i00.s06_e13.csv\nfilename_phon  Olivia2006.e05.p06.i00.s07_i14.csv\nfilename_phon  Olivia2006.e05.p06.i00.s08_s15.csv\nfilename_phon  Olivia2006.e05.p06.i00.s08_a~16.csv\nfilename_phon  Olivia2006.e05.p06.i00.s09__17.csv\nfilename_phon  Olivia2006.e05.p06.i00.s09_###18.csv\nfilename_phon  Olivia2006.e06.p06.i00.s00_###0.csv\nfilename_phon  Olivia2006.e06.p06.i00.s00__1.csv\nfilename_phon  Olivia2006.e06.p06.i00.s00_##2.csv\nfilename_phon  Olivia2006.e06.p06.i00.s01_v3.csv\nfilename_phon  Olivia2006.e06.p06.i00.s01_u4.csv\nfilename_phon  Olivia2006.e06.p06.i00.s02_z5.csv\nfilename_phon  Olivia2006.e06.p06.i00.s02_E6.csv\nfilename_phon  Olivia2006.e06.p06.i00.s02_t7.csv\nfilename_phon  Olivia2006.e06.p06.i00.s03_v8.csv\nfilename_phon  Olivia2006.e06.p06.i00.s03_R9.csv\nfilename_phon  Olivia2006.e06.p06.i00.s03_E10.csv\nfilename_phon  Olivia2006.e06.p06.i00.s04_m11.csv\nfilename_phon  Olivia2006.e06.p06.i00.s04_a~12.csv\nfilename_phon  Olivia2006.e06.p06.i00.s05_#13.csv\nfilename_phon  Olivia2006.e06.p06.i00.s06_o14.csv\nfilename_phon  Olivia2006.e06.p06.i00.s07_b15.csv\nfilename_phon  Olivia2006.e06.p06.i00.s07_e16.csv\nfilename_phon  Olivia2006.e06.p06.i00.s08_i17.csv\nfilename_phon  Olivia2006.e06.p06.i00.s09_s18.csv\nfilename_phon  Olivia2006.e06.p06.i00.s09_a~19.csv\nfilename_phon  Olivia2006.e06.p06.i00.s10_###20.csv\nfilename_phon  Olivia2006.e07.p06.i00.s00_###0.csv\nfilename_phon  Olivia2006.e07.p06.i00.s01_v1.csv\nfilename_phon  Olivia2006.e07.p06.i00.s01_u2.csv\nfilename_phon  Olivia2006.e07.p06.i00.s02_z3.csv\nfilename_phon  Olivia2006.e07.p06.i00.s02_E4.csv\nfilename_phon  Olivia2006.e07.p06.i00.s03_t5.csv\nfilename_phon  Olivia2006.e07.p06.i00.s03_@6.csv\nfilename_phon  Olivia2006.e07.p06.i00.s04_v7.csv\nfilename_phon  Olivia2006.e07.p06.i00.s04_R8.csv\nfilename_phon  Olivia2006.e07.p06.i00.s04_E9.csv\nfilename_phon  Olivia2006.e07.p06.i00.s05_m10.csv\nfilename_phon  Olivia2006.e07.p06.i00.s05_a~11.csv\nfilename_phon  Olivia2006.e07.p06.i00.s06_#12.csv\nfilename_phon  Olivia2006.e07.p06.i00.s07_o13.csv\nfilename_phon  Olivia2006.e07.p06.i00.s08_b14.csv\nfilename_phon  Olivia2006.e07.p06.i00.s08_e15.csv\nfilename_phon  Olivia2006.e07.p06.i00.s09_i16.csv\nfilename_phon  Olivia2006.e07.p06.i00.s10_s17.csv\nfilename_phon  Olivia2006.e07.p06.i00.s10_a~18.csv\nfilename_phon  Olivia2006.e07.p06.i00.s11_###19.csv\nfilename_phon  Olivia2006.e08.p06.i00.s00_###0.csv\nfilename_phon  Olivia2006.e08.p06.i00.s01_v1.csv\nfilename_phon  Olivia2006.e08.p06.i00.s01_u2.csv\nfilename_phon  Olivia2006.e08.p06.i00.s02_z3.csv\nfilename_phon  Olivia2006.e08.p06.i00.s02_E4.csv\nfilename_phon  Olivia2006.e08.p06.i00.s02_t5.csv\nfilename_phon  Olivia2006.e08.p06.i00.s03_v6.csv\nfilename_phon  Olivia2006.e08.p06.i00.s03_R7.csv\nfilename_phon  Olivia2006.e08.p06.i00.s03_E8.csv\nfilename_phon  Olivia2006.e08.p06.i00.s04_m9.csv\nfilename_phon  Olivia2006.e08.p06.i00.s04_a~10.csv\nfilename_phon  Olivia2006.e08.p06.i00.s05_##11.csv\nfilename_phon  Olivia2006.e08.p06.i00.s06_o12.csv\nfilename_phon  Olivia2006.e08.p06.i00.s07_b13.csv\nfilename_phon  Olivia2006.e08.p06.i00.s07_e14.csv\nfilename_phon  Olivia2006.e08.p06.i00.s08_i15.csv\nfilename_phon  Olivia2006.e08.p06.i00.s09_s16.csv\nfilename_phon  Olivia2006.e08.p06.i00.s09_a~17.csv\nfilename_phon  Olivia2006.e08.p06.i00.s10__18.csv\nfilename_phon  Olivia2006.e08.p06.i00.s10_###19.csv\nfilename_phon  Olivia2006.e01.p07.i00.s00_###0.csv\nfilename_phon  Olivia2006.e01.p07.i00.s01_a~1.csv\nfilename_phon  Olivia2006.e01.p07.i00.s02_n2.csv\nfilename_phon  Olivia2006.e01.p07.i00.s02_a3.csv\nfilename_phon  Olivia2006.e01.p07.i00.s03_t4.csv\nfilename_phon  Olivia2006.e01.p07.i00.s03_a~5.csv\nfilename_phon  Olivia2006.e01.p07.i00.s04_d6.csv\nfilename_phon  Olivia2006.e01.p07.i00.s04_a~7.csv\nfilename_phon  Olivia2006.e01.p07.i00.s05_##8.csv\nfilename_phon  Olivia2006.e01.p07.i00.s06_s9.csv\nfilename_phon  Olivia2006.e01.p07.i00.s06_e10.csv\nfilename_phon  Olivia2006.e01.p07.i00.s07_m11.csv\nfilename_phon  Olivia2006.e01.p07.i00.s07_w12.csv\nfilename_phon  Olivia2006.e01.p07.i00.s07_a13.csv\nfilename_phon  Olivia2006.e01.p07.i00.s08_k14.csv\nfilename_phon  Olivia2006.e01.p07.i00.s08_i15.csv\nfilename_phon  Olivia2006.e01.p07.i00.s09_v16.csv\nfilename_phon  Olivia2006.e01.p07.i00.s09_e17.csv\nfilename_phon  Olivia2006.e01.p07.i00.s10_u18.csv\nfilename_phon  Olivia2006.e01.p07.i00.s11_v19.csv\nfilename_phon  Olivia2006.e01.p07.i00.s11_R20.csv\nfilename_phon  Olivia2006.e01.p07.i00.s11_i21.csv\nfilename_phon  Olivia2006.e01.p07.i00.s11_R22.csv\nfilename_phon  Olivia2006.e01.p07.i00.s12_###23.csv\nfilename_phon  Olivia2006.e02.p07.i00.s00_###0.csv\nfilename_phon  Olivia2006.e02.p07.i00.s01_a~1.csv\nfilename_phon  Olivia2006.e02.p07.i00.s02_n2.csv\nfilename_phon  Olivia2006.e02.p07.i00.s02_a3.csv\nfilename_phon  Olivia2006.e02.p07.i00.s03_t4.csv\nfilename_phon  Olivia2006.e02.p07.i00.s03_a~5.csv\nfilename_phon  Olivia2006.e02.p07.i00.s04_d6.csv\nfilename_phon  Olivia2006.e02.p07.i00.s04_a~7.csv\nfilename_phon  Olivia2006.e02.p07.i00.s05_##8.csv\nfilename_phon  Olivia2006.e02.p07.i00.s06_s9.csv\nfilename_phon  Olivia2006.e02.p07.i00.s06_e10.csv\nfilename_phon  Olivia2006.e02.p07.i00.s07_m11.csv\nfilename_phon  Olivia2006.e02.p07.i00.s07_w12.csv\nfilename_phon  Olivia2006.e02.p07.i00.s07_a13.csv\nfilename_phon  Olivia2006.e02.p07.i00.s08_#14.csv\nfilename_phon  Olivia2006.e02.p07.i00.s09_k15.csv\nfilename_phon  Olivia2006.e02.p07.i00.s09_i16.csv\nfilename_phon  Olivia2006.e02.p07.i00.s10_v17.csv\nfilename_phon  Olivia2006.e02.p07.i00.s10_e18.csv\nfilename_phon  Olivia2006.e02.p07.i00.s11_u19.csv\nfilename_phon  Olivia2006.e02.p07.i00.s12_v20.csv\nfilename_phon  Olivia2006.e02.p07.i00.s12_R21.csv\nfilename_phon  Olivia2006.e02.p07.i00.s12_i22.csv\nfilename_phon  Olivia2006.e02.p07.i00.s13_R23.csv\nfilename_phon  Olivia2006.e02.p07.i00.s13_@24.csv\nfilename_phon  Olivia2006.e02.p07.i00.s14_###25.csv\nfilename_phon  Olivia2006.e03.p07.i00.s00_###0.csv\nfilename_phon  Olivia2006.e03.p07.i00.s00__1.csv\nfilename_phon  Olivia2006.e03.p07.i00.s00_##2.csv\nfilename_phon  Olivia2006.e03.p07.i00.s01_a~3.csv\nfilename_phon  Olivia2006.e03.p07.i00.s02_n4.csv\nfilename_phon  Olivia2006.e03.p07.i00.s02_a5.csv\nfilename_phon  Olivia2006.e03.p07.i00.s03_t6.csv\nfilename_phon  Olivia2006.e03.p07.i00.s03_a~7.csv\nfilename_phon  Olivia2006.e03.p07.i00.s04_d8.csv\nfilename_phon  Olivia2006.e03.p07.i00.s04_a~9.csv\nfilename_phon  Olivia2006.e03.p07.i00.s05_##10.csv\nfilename_phon  Olivia2006.e03.p07.i00.s06_s11.csv\nfilename_phon  Olivia2006.e03.p07.i00.s06_e12.csv\nfilename_phon  Olivia2006.e03.p07.i00.s07_m13.csv\nfilename_phon  Olivia2006.e03.p07.i00.s07_w14.csv\nfilename_phon  Olivia2006.e03.p07.i00.s07_a15.csv\nfilename_phon  Olivia2006.e03.p07.i00.s08_k16.csv\nfilename_phon  Olivia2006.e03.p07.i00.s08_i17.csv\nfilename_phon  Olivia2006.e03.p07.i00.s09_v18.csv\nfilename_phon  Olivia2006.e03.p07.i00.s09_e19.csv\nfilename_phon  Olivia2006.e03.p07.i00.s10_u20.csv\nfilename_phon  Olivia2006.e03.p07.i00.s11_v21.csv\nfilename_phon  Olivia2006.e03.p07.i00.s11_R22.csv\nfilename_phon  Olivia2006.e03.p07.i00.s11_i23.csv\nfilename_phon  Olivia2006.e03.p07.i00.s12_R24.csv\nfilename_phon  Olivia2006.e03.p07.i00.s12_@25.csv\nfilename_phon  Olivia2006.e03.p07.i00.s13_##26.csv\nfilename_phon  Olivia2006.e03.p07.i00.s13__27.csv\nfilename_phon  Olivia2006.e03.p07.i00.s13_###28.csv\nfilename_phon  Olivia2006.e04.p07.i00.s00_###0.csv\nfilename_phon  Olivia2006.e04.p07.i00.s01_a~1.csv\nfilename_phon  Olivia2006.e04.p07.i00.s02_n2.csv\nfilename_phon  Olivia2006.e04.p07.i00.s02_a3.csv\nfilename_phon  Olivia2006.e04.p07.i00.s03_t4.csv\nfilename_phon  Olivia2006.e04.p07.i00.s03_a~5.csv\nfilename_phon  Olivia2006.e04.p07.i00.s04_d6.csv\nfilename_phon  Olivia2006.e04.p07.i00.s04_a~7.csv\nfilename_phon  Olivia2006.e04.p07.i00.s05_##8.csv\nfilename_phon  Olivia2006.e04.p07.i00.s06_s9.csv\nfilename_phon  Olivia2006.e04.p07.i00.s06_e10.csv\nfilename_phon  Olivia2006.e04.p07.i00.s07_m11.csv\nfilename_phon  Olivia2006.e04.p07.i00.s07_w12.csv\nfilename_phon  Olivia2006.e04.p07.i00.s07_a13.csv\nfilename_phon  Olivia2006.e04.p07.i00.s08_k14.csv\nfilename_phon  Olivia2006.e04.p07.i00.s08_i15.csv\nfilename_phon  Olivia2006.e04.p07.i00.s09_v16.csv\nfilename_phon  Olivia2006.e04.p07.i00.s09_e17.csv\nfilename_phon  Olivia2006.e04.p07.i00.s10_u18.csv\nfilename_phon  Olivia2006.e04.p07.i00.s11_v19.csv\nfilename_phon  Olivia2006.e04.p07.i00.s11_R20.csv\nfilename_phon  Olivia2006.e04.p07.i00.s11_i21.csv\nfilename_phon  Olivia2006.e04.p07.i00.s12_R22.csv\nfilename_phon  Olivia2006.e04.p07.i00.s12_@23.csv\nfilename_phon  Olivia2006.e04.p07.i00.s13_###24.csv\nfilename_phon  Olivia2006.e05.p07.i00.s00_###0.csv\nfilename_phon  Olivia2006.e05.p07.i00.s00__1.csv\nfilename_phon  Olivia2006.e05.p07.i00.s00_##2.csv\nfilename_phon  Olivia2006.e05.p07.i00.s01_a~3.csv\nfilename_phon  Olivia2006.e05.p07.i00.s02_n4.csv\nfilename_phon  Olivia2006.e05.p07.i00.s02_a5.csv\nfilename_phon  Olivia2006.e05.p07.i00.s03_t6.csv\nfilename_phon  Olivia2006.e05.p07.i00.s03_a~7.csv\nfilename_phon  Olivia2006.e05.p07.i00.s04_d8.csv\nfilename_phon  Olivia2006.e05.p07.i00.s04_a~9.csv\nfilename_phon  Olivia2006.e05.p07.i00.s05_##10.csv\nfilename_phon  Olivia2006.e05.p07.i00.s06_s11.csv\nfilename_phon  Olivia2006.e05.p07.i00.s06_e12.csv\nfilename_phon  Olivia2006.e05.p07.i00.s07_m13.csv\nfilename_phon  Olivia2006.e05.p07.i00.s07_w14.csv\nfilename_phon  Olivia2006.e05.p07.i00.s07_a15.csv\nfilename_phon  Olivia2006.e05.p07.i00.s08_k16.csv\nfilename_phon  Olivia2006.e05.p07.i00.s08_i17.csv\nfilename_phon  Olivia2006.e05.p07.i00.s09_v18.csv\nfilename_phon  Olivia2006.e05.p07.i00.s09_e19.csv\nfilename_phon  Olivia2006.e05.p07.i00.s10_u20.csv\nfilename_phon  Olivia2006.e05.p07.i00.s11_v21.csv\nfilename_phon  Olivia2006.e05.p07.i00.s11_R22.csv\nfilename_phon  Olivia2006.e05.p07.i00.s11_i23.csv\nfilename_phon  Olivia2006.e05.p07.i00.s12_R24.csv\nfilename_phon  Olivia2006.e05.p07.i00.s12_@25.csv\nfilename_phon  Olivia2006.e05.p07.i00.s13_###26.csv\nfilename_phon  Olivia2006.e06.p07.i00.s00_###0.csv\nfilename_phon  Olivia2006.e06.p07.i00.s00__1.csv\nfilename_phon  Olivia2006.e06.p07.i00.s00_##2.csv\nfilename_phon  Olivia2006.e06.p07.i00.s00__3.csv\nfilename_phon  Olivia2006.e06.p07.i00.s00_##4.csv\nfilename_phon  Olivia2006.e06.p07.i00.s01_a~5.csv\nfilename_phon  Olivia2006.e06.p07.i00.s02_n6.csv\nfilename_phon  Olivia2006.e06.p07.i00.s02_a7.csv\nfilename_phon  Olivia2006.e06.p07.i00.s03_t8.csv\nfilename_phon  Olivia2006.e06.p07.i00.s03_a~9.csv\nfilename_phon  Olivia2006.e06.p07.i00.s04_d10.csv\nfilename_phon  Olivia2006.e06.p07.i00.s04_a~11.csv\nfilename_phon  Olivia2006.e06.p07.i00.s05_##12.csv\nfilename_phon  Olivia2006.e06.p07.i00.s06_s13.csv\nfilename_phon  Olivia2006.e06.p07.i00.s06_e14.csv\nfilename_phon  Olivia2006.e06.p07.i00.s07_m15.csv\nfilename_phon  Olivia2006.e06.p07.i00.s07_w16.csv\nfilename_phon  Olivia2006.e06.p07.i00.s07_a17.csv\nfilename_phon  Olivia2006.e06.p07.i00.s08_k18.csv\nfilename_phon  Olivia2006.e06.p07.i00.s08_i19.csv\nfilename_phon  Olivia2006.e06.p07.i00.s09_v20.csv\nfilename_phon  Olivia2006.e06.p07.i00.s09_e21.csv\nfilename_phon  Olivia2006.e06.p07.i00.s10_u22.csv\nfilename_phon  Olivia2006.e06.p07.i00.s11_v23.csv\nfilename_phon  Olivia2006.e06.p07.i00.s11_R24.csv\nfilename_phon  Olivia2006.e06.p07.i00.s11_i25.csv\nfilename_phon  Olivia2006.e06.p07.i00.s12_R26.csv\nfilename_phon  Olivia2006.e06.p07.i00.s12_@27.csv\nfilename_phon  Olivia2006.e06.p07.i00.s13_###28.csv\nfilename_phon  Olivia2006.e07.p07.i00.s00_###0.csv\nfilename_phon  Olivia2006.e07.p07.i00.s00__1.csv\nfilename_phon  Olivia2006.e07.p07.i00.s00_#2.csv\nfilename_phon  Olivia2006.e07.p07.i00.s01_a~3.csv\nfilename_phon  Olivia2006.e07.p07.i00.s02_n4.csv\nfilename_phon  Olivia2006.e07.p07.i00.s02_a5.csv\nfilename_phon  Olivia2006.e07.p07.i00.s03_t6.csv\nfilename_phon  Olivia2006.e07.p07.i00.s03_a~7.csv\nfilename_phon  Olivia2006.e07.p07.i00.s04_d8.csv\nfilename_phon  Olivia2006.e07.p07.i00.s04_a~9.csv\nfilename_phon  Olivia2006.e07.p07.i00.s05_##10.csv\nfilename_phon  Olivia2006.e07.p07.i00.s06_s11.csv\nfilename_phon  Olivia2006.e07.p07.i00.s06_e12.csv\nfilename_phon  Olivia2006.e07.p07.i00.s07_m13.csv\nfilename_phon  Olivia2006.e07.p07.i00.s07_w14.csv\nfilename_phon  Olivia2006.e07.p07.i00.s07_a15.csv\nfilename_phon  Olivia2006.e07.p07.i00.s08_k16.csv\nfilename_phon  Olivia2006.e07.p07.i00.s08_i17.csv\nfilename_phon  Olivia2006.e07.p07.i00.s09_v18.csv\nfilename_phon  Olivia2006.e07.p07.i00.s09_e19.csv\nfilename_phon  Olivia2006.e07.p07.i00.s10_u20.csv\nfilename_phon  Olivia2006.e07.p07.i00.s11_v21.csv\nfilename_phon  Olivia2006.e07.p07.i00.s11_R22.csv\nfilename_phon  Olivia2006.e07.p07.i00.s11_i23.csv\nfilename_phon  Olivia2006.e07.p07.i00.s12_R24.csv\nfilename_phon  Olivia2006.e07.p07.i00.s12_@25.csv\nfilename_phon  Olivia2006.e07.p07.i00.s13_###26.csv\nfilename_phon  Olivia2006.e08.p07.i00.s00_###0.csv\nfilename_phon  Olivia2006.e08.p07.i00.s01_a~1.csv\nfilename_phon  Olivia2006.e08.p07.i00.s02_n2.csv\nfilename_phon  Olivia2006.e08.p07.i00.s02_a3.csv\nfilename_phon  Olivia2006.e08.p07.i00.s03_t4.csv\nfilename_phon  Olivia2006.e08.p07.i00.s03_a~5.csv\nfilename_phon  Olivia2006.e08.p07.i00.s04_d6.csv\nfilename_phon  Olivia2006.e08.p07.i00.s04_a~7.csv\nfilename_phon  Olivia2006.e08.p07.i00.s05_##8.csv\nfilename_phon  Olivia2006.e08.p07.i00.s05__9.csv\nfilename_phon  Olivia2006.e08.p07.i00.s06_s10.csv\nfilename_phon  Olivia2006.e08.p07.i00.s06_e11.csv\nfilename_phon  Olivia2006.e08.p07.i00.s07_m12.csv\nfilename_phon  Olivia2006.e08.p07.i00.s07_w13.csv\nfilename_phon  Olivia2006.e08.p07.i00.s07_a14.csv\nfilename_phon  Olivia2006.e08.p07.i00.s08_#15.csv\nfilename_phon  Olivia2006.e08.p07.i00.s08__16.csv\nfilename_phon  Olivia2006.e08.p07.i00.s09_k17.csv\nfilename_phon  Olivia2006.e08.p07.i00.s09_i18.csv\nfilename_phon  Olivia2006.e08.p07.i00.s10_v19.csv\nfilename_phon  Olivia2006.e08.p07.i00.s10_e20.csv\nfilename_phon  Olivia2006.e08.p07.i00.s11_u21.csv\nfilename_phon  Olivia2006.e08.p07.i00.s12_v22.csv\nfilename_phon  Olivia2006.e08.p07.i00.s12_R23.csv\nfilename_phon  Olivia2006.e08.p07.i00.s12_i24.csv\nfilename_phon  Olivia2006.e08.p07.i00.s13_R25.csv\nfilename_phon  Olivia2006.e08.p07.i00.s13_926.csv\nfilename_phon  Olivia2006.e08.p07.i00.s14_###27.csv\nfilename_phon  Olivia2006.e01.p08.i00.s00_###0.csv\nfilename_phon  Olivia2006.e01.p08.i00.s01_Z1.csv\nfilename_phon  Olivia2006.e01.p08.i00.s01_22.csv\nfilename_phon  Olivia2006.e01.p08.i00.s02_n3.csv\nfilename_phon  Olivia2006.e01.p08.i00.s02_24.csv\nfilename_phon  Olivia2006.e01.p08.i00.s03_p5.csv\nfilename_phon  Olivia2006.e01.p08.i00.s03_u6.csv\nfilename_phon  Olivia2006.e01.p08.i00.s04_R7.csv\nfilename_phon  Olivia2006.e01.p08.i00.s04_E8.csv\nfilename_phon  Olivia2006.e01.p08.i00.s05_Z9.csv\nfilename_phon  Olivia2006.e01.p08.i00.s05_a10.csv\nfilename_phon  Olivia2006.e01.p08.i00.s06_m11.csv\nfilename_phon  Olivia2006.e01.p08.i00.s06_E12.csv\nfilename_phon  Olivia2006.e01.p08.i00.s07_##13.csv\nfilename_phon  Olivia2006.e01.p08.i00.s08_m14.csv\nfilename_phon  Olivia2006.e01.p08.i00.s08_215.csv\nfilename_phon  Olivia2006.e01.p08.i00.s09_p16.csv\nfilename_phon  Olivia2006.e01.p08.i00.s09_l17.csv\nfilename_phon  Olivia2006.e01.p08.i00.s09_i18.csv\nfilename_phon  Olivia2006.e01.p08.i00.s10_j19.csv\nfilename_phon  Olivia2006.e01.p08.i00.s10_e20.csv\nfilename_phon  Olivia2006.e01.p08.i00.s11_a21.csv\nfilename_phon  Olivia2006.e01.p08.i00.s12_s22.csv\nfilename_phon  Olivia2006.e01.p08.i00.s12_o~23.csv\nfilename_phon  Olivia2006.e01.p08.i00.s13_n24.csv\nfilename_phon  Olivia2006.e01.p08.i00.s13_225.csv\nfilename_phon  Olivia2006.e01.p08.i00.s14_t26.csv\nfilename_phon  Olivia2006.e01.p08.i00.s14_O27.csv\nfilename_phon  Olivia2006.e01.p08.i00.s15_R28.csv\nfilename_phon  Olivia2006.e01.p08.i00.s15_i29.csv\nfilename_phon  Olivia2006.e01.p08.i00.s16_t30.csv\nfilename_phon  Olivia2006.e01.p08.i00.s16_e31.csv\nfilename_phon  Olivia2006.e01.p08.i00.s17_###32.csv\nfilename_phon  Olivia2006.e02.p08.i00.s00_###0.csv\nfilename_phon  Olivia2006.e02.p08.i00.s01_Z1.csv\nfilename_phon  Olivia2006.e02.p08.i00.s01_22.csv\nfilename_phon  Olivia2006.e02.p08.i00.s02_n3.csv\nfilename_phon  Olivia2006.e02.p08.i00.s02_24.csv\nfilename_phon  Olivia2006.e02.p08.i00.s03_p5.csv\nfilename_phon  Olivia2006.e02.p08.i00.s03_u6.csv\nfilename_phon  Olivia2006.e02.p08.i00.s04_R7.csv\nfilename_phon  Olivia2006.e02.p08.i00.s04_E8.csv\nfilename_phon  Olivia2006.e02.p08.i00.s05_Z9.csv\nfilename_phon  Olivia2006.e02.p08.i00.s05_a10.csv\nfilename_phon  Olivia2006.e02.p08.i00.s06_m11.csv\nfilename_phon  Olivia2006.e02.p08.i00.s06_E12.csv\nfilename_phon  Olivia2006.e02.p08.i00.s07_##13.csv\nfilename_phon  Olivia2006.e02.p08.i00.s08_m14.csv\nfilename_phon  Olivia2006.e02.p08.i00.s08_215.csv\nfilename_phon  Olivia2006.e02.p08.i00.s09_p16.csv\nfilename_phon  Olivia2006.e02.p08.i00.s09_l17.csv\nfilename_phon  Olivia2006.e02.p08.i00.s09_i18.csv\nfilename_phon  Olivia2006.e02.p08.i00.s10_j19.csv\nfilename_phon  Olivia2006.e02.p08.i00.s10_e20.csv\nfilename_phon  Olivia2006.e02.p08.i00.s11_#21.csv\nfilename_phon  Olivia2006.e02.p08.i00.s12_a22.csv\nfilename_phon  Olivia2006.e02.p08.i00.s13_s23.csv\nfilename_phon  Olivia2006.e02.p08.i00.s13_o~24.csv\nfilename_phon  Olivia2006.e02.p08.i00.s14_n25.csv\nfilename_phon  Olivia2006.e02.p08.i00.s14_o26.csv\nfilename_phon  Olivia2006.e02.p08.i00.s15_t27.csv\nfilename_phon  Olivia2006.e02.p08.i00.s15_O28.csv\nfilename_phon  Olivia2006.e02.p08.i00.s16_R29.csv\nfilename_phon  Olivia2006.e02.p08.i00.s16_i30.csv\nfilename_phon  Olivia2006.e02.p08.i00.s17_t31.csv\nfilename_phon  Olivia2006.e02.p08.i00.s17_e32.csv\nfilename_phon  Olivia2006.e02.p08.i00.s18_###33.csv\nfilename_phon  Olivia2006.e03.p08.i00.s00_###0.csv\nfilename_phon  Olivia2006.e03.p08.i00.s00__1.csv\nfilename_phon  Olivia2006.e03.p08.i00.s00_##2.csv\nfilename_phon  Olivia2006.e03.p08.i00.s01_Z3.csv\nfilename_phon  Olivia2006.e03.p08.i00.s01_24.csv\nfilename_phon  Olivia2006.e03.p08.i00.s02_n5.csv\nfilename_phon  Olivia2006.e03.p08.i00.s02_26.csv\nfilename_phon  Olivia2006.e03.p08.i00.s03_p7.csv\nfilename_phon  Olivia2006.e03.p08.i00.s03_u8.csv\nfilename_phon  Olivia2006.e03.p08.i00.s04_R9.csv\nfilename_phon  Olivia2006.e03.p08.i00.s04_E10.csv\nfilename_phon  Olivia2006.e03.p08.i00.s05_Z11.csv\nfilename_phon  Olivia2006.e03.p08.i00.s05_a12.csv\nfilename_phon  Olivia2006.e03.p08.i00.s06_m13.csv\nfilename_phon  Olivia2006.e03.p08.i00.s06_E14.csv\nfilename_phon  Olivia2006.e03.p08.i00.s07_##15.csv\nfilename_phon  Olivia2006.e03.p08.i00.s08_m16.csv\nfilename_phon  Olivia2006.e03.p08.i00.s08_217.csv\nfilename_phon  Olivia2006.e03.p08.i00.s09_p18.csv\nfilename_phon  Olivia2006.e03.p08.i00.s09_l19.csv\nfilename_phon  Olivia2006.e03.p08.i00.s09_i20.csv\nfilename_phon  Olivia2006.e03.p08.i00.s10_j21.csv\nfilename_phon  Olivia2006.e03.p08.i00.s10_e22.csv\nfilename_phon  Olivia2006.e03.p08.i00.s11_#23.csv\nfilename_phon  Olivia2006.e03.p08.i00.s12_a24.csv\nfilename_phon  Olivia2006.e03.p08.i00.s13_s25.csv\nfilename_phon  Olivia2006.e03.p08.i00.s13_o~26.csv\nfilename_phon  Olivia2006.e03.p08.i00.s14_n27.csv\nfilename_phon  Olivia2006.e03.p08.i00.s14_o28.csv\nfilename_phon  Olivia2006.e03.p08.i00.s15_t29.csv\nfilename_phon  Olivia2006.e03.p08.i00.s15_O30.csv\nfilename_phon  Olivia2006.e03.p08.i00.s16_R31.csv"
     ]
    },
    {
     "name": "stdout",
     "output_type": "stream",
     "text": [
      "\nfilename_phon  Olivia2006.e03.p08.i00.s16_i32.csv\nfilename_phon  Olivia2006.e03.p08.i00.s17_t33.csv\nfilename_phon  Olivia2006.e03.p08.i00.s17_e34.csv\nfilename_phon  Olivia2006.e03.p08.i00.s18_###35.csv\nfilename_phon  Olivia2006.e04.p08.i00.s00_###0.csv\nfilename_phon  Olivia2006.e04.p08.i00.s01_Z1.csv\nfilename_phon  Olivia2006.e04.p08.i00.s01_22.csv\nfilename_phon  Olivia2006.e04.p08.i00.s02_n3.csv\nfilename_phon  Olivia2006.e04.p08.i00.s02_24.csv\nfilename_phon  Olivia2006.e04.p08.i00.s03_p5.csv\nfilename_phon  Olivia2006.e04.p08.i00.s03_u6.csv\nfilename_phon  Olivia2006.e04.p08.i00.s04_R7.csv\nfilename_phon  Olivia2006.e04.p08.i00.s04_E8.csv\nfilename_phon  Olivia2006.e04.p08.i00.s05_Z9.csv\nfilename_phon  Olivia2006.e04.p08.i00.s05_a10.csv\nfilename_phon  Olivia2006.e04.p08.i00.s06_m11.csv\nfilename_phon  Olivia2006.e04.p08.i00.s06_E12.csv\nfilename_phon  Olivia2006.e04.p08.i00.s07_##13.csv\nfilename_phon  Olivia2006.e04.p08.i00.s08_m14.csv\nfilename_phon  Olivia2006.e04.p08.i00.s08_215.csv\nfilename_phon  Olivia2006.e04.p08.i00.s09_p16.csv\nfilename_phon  Olivia2006.e04.p08.i00.s09_l17.csv\nfilename_phon  Olivia2006.e04.p08.i00.s09_i18.csv\nfilename_phon  Olivia2006.e04.p08.i00.s10_j19.csv\nfilename_phon  Olivia2006.e04.p08.i00.s10_e20.csv\nfilename_phon  Olivia2006.e04.p08.i00.s11_a21.csv\nfilename_phon  Olivia2006.e04.p08.i00.s12_s22.csv\nfilename_phon  Olivia2006.e04.p08.i00.s12_o~23.csv\nfilename_phon  Olivia2006.e04.p08.i00.s13_n24.csv\nfilename_phon  Olivia2006.e04.p08.i00.s13_225.csv\nfilename_phon  Olivia2006.e04.p08.i00.s14_t26.csv\nfilename_phon  Olivia2006.e04.p08.i00.s14_o27.csv\nfilename_phon  Olivia2006.e04.p08.i00.s15_R28.csv\nfilename_phon  Olivia2006.e04.p08.i00.s15_i29.csv\nfilename_phon  Olivia2006.e04.p08.i00.s16_t30.csv\nfilename_phon  Olivia2006.e04.p08.i00.s16_e31.csv\nfilename_phon  Olivia2006.e04.p08.i00.s17_###32.csv\nfilename_phon  Olivia2006.e05.p08.i00.s00_###0.csv\nfilename_phon  Olivia2006.e05.p08.i00.s01_Z1.csv\nfilename_phon  Olivia2006.e05.p08.i00.s01_22.csv\nfilename_phon  Olivia2006.e05.p08.i00.s02_n3.csv\nfilename_phon  Olivia2006.e05.p08.i00.s02_24.csv\nfilename_phon  Olivia2006.e05.p08.i00.s03_p5.csv\nfilename_phon  Olivia2006.e05.p08.i00.s03_u6.csv\nfilename_phon  Olivia2006.e05.p08.i00.s04_R7.csv\nfilename_phon  Olivia2006.e05.p08.i00.s04_E8.csv\nfilename_phon  Olivia2006.e05.p08.i00.s05_Z9.csv\nfilename_phon  Olivia2006.e05.p08.i00.s05_a10.csv\nfilename_phon  Olivia2006.e05.p08.i00.s06_m11.csv\nfilename_phon  Olivia2006.e05.p08.i00.s06_E12.csv\nfilename_phon  Olivia2006.e05.p08.i00.s07_m13.csv\nfilename_phon  Olivia2006.e05.p08.i00.s07_214.csv\nfilename_phon  Olivia2006.e05.p08.i00.s08_p15.csv\nfilename_phon  Olivia2006.e05.p08.i00.s08_l16.csv\nfilename_phon  Olivia2006.e05.p08.i00.s08_i17.csv\nfilename_phon  Olivia2006.e05.p08.i00.s09_j18.csv\nfilename_phon  Olivia2006.e05.p08.i00.s09_e19.csv\nfilename_phon  Olivia2006.e05.p08.i00.s10_#20.csv\nfilename_phon  Olivia2006.e05.p08.i00.s11_a21.csv\nfilename_phon  Olivia2006.e05.p08.i00.s12_s22.csv\nfilename_phon  Olivia2006.e05.p08.i00.s12_o~23.csv\nfilename_phon  Olivia2006.e05.p08.i00.s13_n24.csv\nfilename_phon  Olivia2006.e05.p08.i00.s13_o25.csv\nfilename_phon  Olivia2006.e05.p08.i00.s14_t26.csv\nfilename_phon  Olivia2006.e05.p08.i00.s14_o27.csv\nfilename_phon  Olivia2006.e05.p08.i00.s15_R28.csv\nfilename_phon  Olivia2006.e05.p08.i00.s15_i29.csv\nfilename_phon  Olivia2006.e05.p08.i00.s16_t30.csv\nfilename_phon  Olivia2006.e05.p08.i00.s16_e31.csv\nfilename_phon  Olivia2006.e05.p08.i00.s17__32.csv\nfilename_phon  Olivia2006.e05.p08.i00.s17_##33.csv\nfilename_phon  Olivia2006.e05.p08.i00.s17__34.csv\nfilename_phon  Olivia2006.e05.p08.i00.s17_###35.csv\nfilename_phon  Olivia2006.e06.p08.i00.s00_###0.csv\nfilename_phon  Olivia2006.e06.p08.i00.s01_Z1.csv\nfilename_phon  Olivia2006.e06.p08.i00.s01_22.csv\nfilename_phon  Olivia2006.e06.p08.i00.s02_n3.csv\nfilename_phon  Olivia2006.e06.p08.i00.s02_24.csv\nfilename_phon  Olivia2006.e06.p08.i00.s03_p5.csv\nfilename_phon  Olivia2006.e06.p08.i00.s03_u6.csv\nfilename_phon  Olivia2006.e06.p08.i00.s04_R7.csv\nfilename_phon  Olivia2006.e06.p08.i00.s04_E8.csv\nfilename_phon  Olivia2006.e06.p08.i00.s05_Z9.csv\nfilename_phon  Olivia2006.e06.p08.i00.s05_a10.csv\nfilename_phon  Olivia2006.e06.p08.i00.s06_m11.csv\nfilename_phon  Olivia2006.e06.p08.i00.s06_E12.csv\nfilename_phon  Olivia2006.e06.p08.i00.s07_##13.csv\nfilename_phon  Olivia2006.e06.p08.i00.s08_m14.csv\nfilename_phon  Olivia2006.e06.p08.i00.s08_215.csv\nfilename_phon  Olivia2006.e06.p08.i00.s09_p16.csv\nfilename_phon  Olivia2006.e06.p08.i00.s09_l17.csv\nfilename_phon  Olivia2006.e06.p08.i00.s09_i18.csv\nfilename_phon  Olivia2006.e06.p08.i00.s10_j19.csv\nfilename_phon  Olivia2006.e06.p08.i00.s10_e20.csv\nfilename_phon  Olivia2006.e06.p08.i00.s11_##21.csv\nfilename_phon  Olivia2006.e06.p08.i00.s12_a22.csv\nfilename_phon  Olivia2006.e06.p08.i00.s13_s23.csv\nfilename_phon  Olivia2006.e06.p08.i00.s13_o~24.csv\nfilename_phon  Olivia2006.e06.p08.i00.s14_n25.csv\nfilename_phon  Olivia2006.e06.p08.i00.s14_226.csv\nfilename_phon  Olivia2006.e06.p08.i00.s15_t27.csv\nfilename_phon  Olivia2006.e06.p08.i00.s15_o28.csv\nfilename_phon  Olivia2006.e06.p08.i00.s16_R29.csv\nfilename_phon  Olivia2006.e06.p08.i00.s16_i30.csv\nfilename_phon  Olivia2006.e06.p08.i00.s17_t31.csv\nfilename_phon  Olivia2006.e06.p08.i00.s17_e32.csv\nfilename_phon  Olivia2006.e06.p08.i00.s18_###33.csv\nfilename_phon  Olivia2006.e07.p08.i00.s00_###0.csv\nfilename_phon  Olivia2006.e07.p08.i00.s00__1.csv\nfilename_phon  Olivia2006.e07.p08.i00.s01_Z2.csv\nfilename_phon  Olivia2006.e07.p08.i00.s01_23.csv\nfilename_phon  Olivia2006.e07.p08.i00.s02_n4.csv\nfilename_phon  Olivia2006.e07.p08.i00.s02_25.csv\nfilename_phon  Olivia2006.e07.p08.i00.s03_p6.csv\nfilename_phon  Olivia2006.e07.p08.i00.s03_u7.csv\nfilename_phon  Olivia2006.e07.p08.i00.s04_R8.csv\nfilename_phon  Olivia2006.e07.p08.i00.s04_E9.csv\nfilename_phon  Olivia2006.e07.p08.i00.s05_Z10.csv\nfilename_phon  Olivia2006.e07.p08.i00.s05_a11.csv\nfilename_phon  Olivia2006.e07.p08.i00.s06_m12.csv\nfilename_phon  Olivia2006.e07.p08.i00.s06_E13.csv\nfilename_phon  Olivia2006.e07.p08.i00.s07__14.csv\nfilename_phon  Olivia2006.e07.p08.i00.s07_##15.csv\nfilename_phon  Olivia2006.e07.p08.i00.s08_m16.csv\nfilename_phon  Olivia2006.e07.p08.i00.s08_217.csv\nfilename_phon  Olivia2006.e07.p08.i00.s09_p18.csv\nfilename_phon  Olivia2006.e07.p08.i00.s09_l19.csv\nfilename_phon  Olivia2006.e07.p08.i00.s09_i20.csv\nfilename_phon  Olivia2006.e07.p08.i00.s10_j21.csv\nfilename_phon  Olivia2006.e07.p08.i00.s10_e22.csv\nfilename_phon  Olivia2006.e07.p08.i00.s11_#23.csv\nfilename_phon  Olivia2006.e07.p08.i00.s12_a24.csv\nfilename_phon  Olivia2006.e07.p08.i00.s13_s25.csv\nfilename_phon  Olivia2006.e07.p08.i00.s13_o~26.csv\nfilename_phon  Olivia2006.e07.p08.i00.s14_n27.csv\nfilename_phon  Olivia2006.e07.p08.i00.s14_228.csv\nfilename_phon  Olivia2006.e07.p08.i00.s15_t29.csv\nfilename_phon  Olivia2006.e07.p08.i00.s15_O30.csv\nfilename_phon  Olivia2006.e07.p08.i00.s16_R31.csv\nfilename_phon  Olivia2006.e07.p08.i00.s16_i32.csv\nfilename_phon  Olivia2006.e07.p08.i00.s17_t33.csv\nfilename_phon  Olivia2006.e07.p08.i00.s17_e34.csv\nfilename_phon  Olivia2006.e07.p08.i00.s18_###35.csv\nfilename_phon  Olivia2006.e08.p08.i00.s00_###0.csv\nfilename_phon  Olivia2006.e08.p08.i00.s01_Z1.csv\nfilename_phon  Olivia2006.e08.p08.i00.s01_22.csv\nfilename_phon  Olivia2006.e08.p08.i00.s02_n3.csv\nfilename_phon  Olivia2006.e08.p08.i00.s02_24.csv\nfilename_phon  Olivia2006.e08.p08.i00.s03_p5.csv\nfilename_phon  Olivia2006.e08.p08.i00.s03_u6.csv\nfilename_phon  Olivia2006.e08.p08.i00.s04_R7.csv\nfilename_phon  Olivia2006.e08.p08.i00.s04_E8.csv\nfilename_phon  Olivia2006.e08.p08.i00.s05_#9.csv\nfilename_phon  Olivia2006.e08.p08.i00.s06_Z10.csv\nfilename_phon  Olivia2006.e08.p08.i00.s06_a11.csv\nfilename_phon  Olivia2006.e08.p08.i00.s07_m12.csv\nfilename_phon  Olivia2006.e08.p08.i00.s07_E13.csv\nfilename_phon  Olivia2006.e08.p08.i00.s08_#14.csv\nfilename_phon  Olivia2006.e08.p08.i00.s09_m15.csv\nfilename_phon  Olivia2006.e08.p08.i00.s09_216.csv\nfilename_phon  Olivia2006.e08.p08.i00.s10_p17.csv\nfilename_phon  Olivia2006.e08.p08.i00.s10_l18.csv\nfilename_phon  Olivia2006.e08.p08.i00.s10_i19.csv\nfilename_phon  Olivia2006.e08.p08.i00.s11_j20.csv\nfilename_phon  Olivia2006.e08.p08.i00.s11_e21.csv\nfilename_phon  Olivia2006.e08.p08.i00.s12_#22.csv\nfilename_phon  Olivia2006.e08.p08.i00.s13_a23.csv\nfilename_phon  Olivia2006.e08.p08.i00.s14_s24.csv\nfilename_phon  Olivia2006.e08.p08.i00.s14_o~25.csv\nfilename_phon  Olivia2006.e08.p08.i00.s15_n26.csv\nfilename_phon  Olivia2006.e08.p08.i00.s15_o27.csv\nfilename_phon  Olivia2006.e08.p08.i00.s16_t28.csv\nfilename_phon  Olivia2006.e08.p08.i00.s16_O29.csv\nfilename_phon  Olivia2006.e08.p08.i00.s17_R30.csv\nfilename_phon  Olivia2006.e08.p08.i00.s17_i31.csv\nfilename_phon  Olivia2006.e08.p08.i00.s18_t32.csv\nfilename_phon  Olivia2006.e08.p08.i00.s18_e33.csv\nfilename_phon  Olivia2006.e08.p08.i00.s19_###34.csv\nfilename_phon  Olivia2006.e01.p09.i00.s00_###0.csv\nfilename_phon  Olivia2006.e01.p09.i00.s01_t1.csv\nfilename_phon  Olivia2006.e01.p09.i00.s01_u2.csv\nfilename_phon  Olivia2006.e01.p09.i00.s02_l3.csv\nfilename_phon  Olivia2006.e01.p09.i00.s02_24.csv\nfilename_phon  Olivia2006.e01.p09.i00.s03_m5.csv\nfilename_phon  Olivia2006.e01.p09.i00.s03_o~6.csv\nfilename_phon  Olivia2006.e01.p09.i00.s03_d7.csv\nfilename_phon  Olivia2006.e01.p09.i00.s04_s8.csv\nfilename_phon  Olivia2006.e01.p09.i00.s04_E9.csv\nfilename_phon  Olivia2006.e01.p09.i00.s05_k10.csv\nfilename_phon  Olivia2006.e01.p09.i00.s05_@11.csv\nfilename_phon  Olivia2006.e01.p09.i00.s06_t12.csv\nfilename_phon  Olivia2006.e01.p09.i00.s06_y13.csv\nfilename_phon  Olivia2006.e01.p09.i00.s07_E14.csv\nfilename_phon  Olivia2006.e01.p09.i00.s08_l15.csv\nfilename_phon  Olivia2006.e01.p09.i00.s08_a16.csv\nfilename_phon  Olivia2006.e01.p09.i00.s09_m17.csv\nfilename_phon  Olivia2006.e01.p09.i00.s09_E18.csv\nfilename_phon  Olivia2006.e01.p09.i00.s10_j19.csv\nfilename_phon  Olivia2006.e01.p09.i00.s10_920.csv\nfilename_phon  Olivia2006.e01.p09.i00.s10_R21.csv\nfilename_phon  Olivia2006.e01.p09.i00.s11_###22.csv\nfilename_phon  Olivia2006.e02.p09.i00.s00_###0.csv\nfilename_phon  Olivia2006.e02.p09.i00.s01_t1.csv\nfilename_phon  Olivia2006.e02.p09.i00.s01_u2.csv\nfilename_phon  Olivia2006.e02.p09.i00.s02_l3.csv\nfilename_phon  Olivia2006.e02.p09.i00.s02_24.csv\nfilename_phon  Olivia2006.e02.p09.i00.s03_m5.csv\nfilename_phon  Olivia2006.e02.p09.i00.s03_o~6.csv\nfilename_phon  Olivia2006.e02.p09.i00.s04_d7.csv\nfilename_phon  Olivia2006.e02.p09.i00.s04_98.csv\nfilename_phon  Olivia2006.e02.p09.i00.s05_s9.csv\nfilename_phon  Olivia2006.e02.p09.i00.s05_E10.csv\nfilename_phon  Olivia2006.e02.p09.i00.s06_##11.csv\nfilename_phon  Olivia2006.e02.p09.i00.s07_k12.csv\nfilename_phon  Olivia2006.e02.p09.i00.s07_213.csv\nfilename_phon  Olivia2006.e02.p09.i00.s08_t14.csv\nfilename_phon  Olivia2006.e02.p09.i00.s08_y15.csv\nfilename_phon  Olivia2006.e02.p09.i00.s09_E16.csv\nfilename_phon  Olivia2006.e02.p09.i00.s10_l17.csv\nfilename_phon  Olivia2006.e02.p09.i00.s10_a18.csv\nfilename_phon  Olivia2006.e02.p09.i00.s11_m19.csv\nfilename_phon  Olivia2006.e02.p09.i00.s11_e20.csv\nfilename_phon  Olivia2006.e02.p09.i00.s12_j21.csv\nfilename_phon  Olivia2006.e02.p09.i00.s12_922.csv\nfilename_phon  Olivia2006.e02.p09.i00.s12_R23.csv\nfilename_phon  Olivia2006.e02.p09.i00.s13_###24.csv\nfilename_phon  Olivia2006.e03.p09.i00.s00_###0.csv\nfilename_phon  Olivia2006.e03.p09.i00.s01_t1.csv\nfilename_phon  Olivia2006.e03.p09.i00.s01_u2.csv\nfilename_phon  Olivia2006.e03.p09.i00.s02_l3.csv\nfilename_phon  Olivia2006.e03.p09.i00.s02_24.csv\nfilename_phon  Olivia2006.e03.p09.i00.s03_m5.csv\nfilename_phon  Olivia2006.e03.p09.i00.s03_o~6.csv\nfilename_phon  Olivia2006.e03.p09.i00.s04_d7.csv\nfilename_phon  Olivia2006.e03.p09.i00.s04_@8.csv\nfilename_phon  Olivia2006.e03.p09.i00.s05_#9.csv\nfilename_phon  Olivia2006.e03.p09.i00.s06_s10.csv\nfilename_phon  Olivia2006.e03.p09.i00.s06_E11.csv\nfilename_phon  Olivia2006.e03.p09.i00.s07_#12.csv\nfilename_phon  Olivia2006.e03.p09.i00.s08_k13.csv\nfilename_phon  Olivia2006.e03.p09.i00.s08_214.csv\nfilename_phon  Olivia2006.e03.p09.i00.s09_t15.csv\nfilename_phon  Olivia2006.e03.p09.i00.s09_y16.csv\nfilename_phon  Olivia2006.e03.p09.i00.s10_e17.csv\nfilename_phon  Olivia2006.e03.p09.i00.s11_l18.csv\nfilename_phon  Olivia2006.e03.p09.i00.s11_a19.csv\nfilename_phon  Olivia2006.e03.p09.i00.s12_m20.csv\nfilename_phon  Olivia2006.e03.p09.i00.s12_E21.csv\nfilename_phon  Olivia2006.e03.p09.i00.s13_j22.csv\nfilename_phon  Olivia2006.e03.p09.i00.s13_923.csv\nfilename_phon  Olivia2006.e03.p09.i00.s14_R24.csv\nfilename_phon  Olivia2006.e03.p09.i00.s14_@25.csv\nfilename_phon  Olivia2006.e03.p09.i00.s15_###26.csv\nfilename_phon  Olivia2006.e04.p09.i00.s00_###0.csv\nfilename_phon  Olivia2006.e04.p09.i00.s00__1.csv\nfilename_phon  Olivia2006.e04.p09.i00.s00_##2.csv\nfilename_phon  Olivia2006.e04.p09.i00.s01_t3.csv\nfilename_phon  Olivia2006.e04.p09.i00.s01_u4.csv\nfilename_phon  Olivia2006.e04.p09.i00.s02_l5.csv\nfilename_phon  Olivia2006.e04.p09.i00.s02_26.csv\nfilename_phon  Olivia2006.e04.p09.i00.s03_m7.csv\nfilename_phon  Olivia2006.e04.p09.i00.s03_o~8.csv\nfilename_phon  Olivia2006.e04.p09.i00.s03_d9.csv\nfilename_phon  Olivia2006.e04.p09.i00.s04_s10.csv\nfilename_phon  Olivia2006.e04.p09.i00.s04_E11.csv\nfilename_phon  Olivia2006.e04.p09.i00.s05__12.csv\nfilename_phon  Olivia2006.e04.p09.i00.s06_k13.csv\nfilename_phon  Olivia2006.e04.p09.i00.s06_214.csv\nfilename_phon  Olivia2006.e04.p09.i00.s07_t15.csv\nfilename_phon  Olivia2006.e04.p09.i00.s07_y16.csv\nfilename_phon  Olivia2006.e04.p09.i00.s08_e17.csv\nfilename_phon  Olivia2006.e04.p09.i00.s09_l18.csv\nfilename_phon  Olivia2006.e04.p09.i00.s09_a19.csv\nfilename_phon  Olivia2006.e04.p09.i00.s10_m20.csv\nfilename_phon  Olivia2006.e04.p09.i00.s10_e21.csv\nfilename_phon  Olivia2006.e04.p09.i00.s11_j22.csv\nfilename_phon  Olivia2006.e04.p09.i00.s11_923.csv\nfilename_phon  Olivia2006.e04.p09.i00.s11_R24.csv\nfilename_phon  Olivia2006.e04.p09.i00.s12_###25.csv\nfilename_phon  Olivia2006.e05.p09.i00.s00_###0.csv\nfilename_phon  Olivia2006.e05.p09.i00.s00__1.csv\nfilename_phon  Olivia2006.e05.p09.i00.s00_##2.csv\nfilename_phon  Olivia2006.e05.p09.i00.s01_t3.csv\nfilename_phon  Olivia2006.e05.p09.i00.s01_u4.csv\nfilename_phon  Olivia2006.e05.p09.i00.s02_l5.csv\nfilename_phon  Olivia2006.e05.p09.i00.s02_26.csv\nfilename_phon  Olivia2006.e05.p09.i00.s03_m7.csv\nfilename_phon  Olivia2006.e05.p09.i00.s03_o~8.csv\nfilename_phon  Olivia2006.e05.p09.i00.s03_d9.csv\nfilename_phon  Olivia2006.e05.p09.i00.s04_s10.csv\nfilename_phon  Olivia2006.e05.p09.i00.s04_E11.csv\nfilename_phon  Olivia2006.e05.p09.i00.s05_#12.csv\nfilename_phon  Olivia2006.e05.p09.i00.s05__13.csv\nfilename_phon  Olivia2006.e05.p09.i00.s06_k14.csv\nfilename_phon  Olivia2006.e05.p09.i00.s06_215.csv\nfilename_phon  Olivia2006.e05.p09.i00.s07_t16.csv\nfilename_phon  Olivia2006.e05.p09.i00.s07_y17.csv\nfilename_phon  Olivia2006.e05.p09.i00.s08_e18.csv\nfilename_phon  Olivia2006.e05.p09.i00.s09_l19.csv\nfilename_phon  Olivia2006.e05.p09.i00.s09_a20.csv\nfilename_phon  Olivia2006.e05.p09.i00.s10_m21.csv\nfilename_phon  Olivia2006.e05.p09.i00.s10_e22.csv\nfilename_phon  Olivia2006.e05.p09.i00.s11_j23.csv\nfilename_phon  Olivia2006.e05.p09.i00.s11_924.csv\nfilename_phon  Olivia2006.e05.p09.i00.s11_R25.csv\nfilename_phon  Olivia2006.e05.p09.i00.s12_###26.csv\nfilename_phon  Olivia2006.e06.p09.i00.s00_###0.csv\nfilename_phon  Olivia2006.e06.p09.i00.s00__1.csv\nfilename_phon  Olivia2006.e06.p09.i00.s00_##2.csv\nfilename_phon  Olivia2006.e06.p09.i00.s00__3.csv\nfilename_phon  Olivia2006.e06.p09.i00.s00_##4.csv\nfilename_phon  Olivia2006.e06.p09.i00.s00__5.csv\nfilename_phon  Olivia2006.e06.p09.i00.s00_##6.csv\nfilename_phon  Olivia2006.e06.p09.i00.s01_t7.csv\nfilename_phon  Olivia2006.e06.p09.i00.s01_u8.csv\nfilename_phon  Olivia2006.e06.p09.i00.s02_l9.csv\nfilename_phon  Olivia2006.e06.p09.i00.s02_210.csv\nfilename_phon  Olivia2006.e06.p09.i00.s03_m11.csv\nfilename_phon  Olivia2006.e06.p09.i00.s03_o~12.csv\nfilename_phon  Olivia2006.e06.p09.i00.s03_d13.csv\nfilename_phon  Olivia2006.e06.p09.i00.s04_s14.csv\nfilename_phon  Olivia2006.e06.p09.i00.s04_E15.csv\nfilename_phon  Olivia2006.e06.p09.i00.s05_#16.csv\nfilename_phon  Olivia2006.e06.p09.i00.s05__17.csv\nfilename_phon  Olivia2006.e06.p09.i00.s06_k18.csv\nfilename_phon  Olivia2006.e06.p09.i00.s06_219.csv\n"
     ]
    },
    {
     "name": "stdout",
     "output_type": "stream",
     "text": [
      "filename_phon  Olivia2006.e06.p09.i00.s07_t20.csv\nfilename_phon  Olivia2006.e06.p09.i00.s07_y21.csv\nfilename_phon  Olivia2006.e06.p09.i00.s08_e22.csv\nfilename_phon  Olivia2006.e06.p09.i00.s09_l23.csv\nfilename_phon  Olivia2006.e06.p09.i00.s09_a24.csv\nfilename_phon  Olivia2006.e06.p09.i00.s10_m25.csv\nfilename_phon  Olivia2006.e06.p09.i00.s10_e26.csv\nfilename_phon  Olivia2006.e06.p09.i00.s11_j27.csv\nfilename_phon  Olivia2006.e06.p09.i00.s11_928.csv\nfilename_phon  Olivia2006.e06.p09.i00.s11_R29.csv\nfilename_phon  Olivia2006.e06.p09.i00.s12_###30.csv\nfilename_phon  Olivia2006.e07.p09.i00.s00_###0.csv\nfilename_phon  Olivia2006.e07.p09.i00.s01_t1.csv\nfilename_phon  Olivia2006.e07.p09.i00.s01_u2.csv\nfilename_phon  Olivia2006.e07.p09.i00.s02_l3.csv\nfilename_phon  Olivia2006.e07.p09.i00.s02_24.csv\nfilename_phon  Olivia2006.e07.p09.i00.s03_m5.csv\nfilename_phon  Olivia2006.e07.p09.i00.s03_o~6.csv\nfilename_phon  Olivia2006.e07.p09.i00.s03_d7.csv\nfilename_phon  Olivia2006.e07.p09.i00.s04_s8.csv\nfilename_phon  Olivia2006.e07.p09.i00.s04_E9.csv\nfilename_phon  Olivia2006.e07.p09.i00.s05_#10.csv\nfilename_phon  Olivia2006.e07.p09.i00.s05__11.csv\nfilename_phon  Olivia2006.e07.p09.i00.s06_k12.csv\nfilename_phon  Olivia2006.e07.p09.i00.s06_213.csv\nfilename_phon  Olivia2006.e07.p09.i00.s07_t14.csv\nfilename_phon  Olivia2006.e07.p09.i00.s07_y15.csv\nfilename_phon  Olivia2006.e07.p09.i00.s08_e16.csv\nfilename_phon  Olivia2006.e07.p09.i00.s09_l17.csv\nfilename_phon  Olivia2006.e07.p09.i00.s09_a18.csv\nfilename_phon  Olivia2006.e07.p09.i00.s10_m19.csv\nfilename_phon  Olivia2006.e07.p09.i00.s10_E20.csv\nfilename_phon  Olivia2006.e07.p09.i00.s11_j21.csv\nfilename_phon  Olivia2006.e07.p09.i00.s11_922.csv\nfilename_phon  Olivia2006.e07.p09.i00.s12_R23.csv\nfilename_phon  Olivia2006.e07.p09.i00.s12_@24.csv\nfilename_phon  Olivia2006.e07.p09.i00.s13__25.csv\nfilename_phon  Olivia2006.e07.p09.i00.s13_###26.csv\nfilename_phon  Olivia2006.e08.p09.i00.s00_###0.csv\nfilename_phon  Olivia2006.e08.p09.i00.s01_t1.csv\nfilename_phon  Olivia2006.e08.p09.i00.s01_u2.csv\nfilename_phon  Olivia2006.e08.p09.i00.s02_l3.csv\nfilename_phon  Olivia2006.e08.p09.i00.s02_24.csv\nfilename_phon  Olivia2006.e08.p09.i00.s03_m5.csv\nfilename_phon  Olivia2006.e08.p09.i00.s03_o~6.csv\nfilename_phon  Olivia2006.e08.p09.i00.s03_d7.csv\nfilename_phon  Olivia2006.e08.p09.i00.s04_s8.csv\nfilename_phon  Olivia2006.e08.p09.i00.s04_E9.csv\nfilename_phon  Olivia2006.e08.p09.i00.s05_##10.csv\nfilename_phon  Olivia2006.e08.p09.i00.s05__11.csv\nfilename_phon  Olivia2006.e08.p09.i00.s06_k12.csv\nfilename_phon  Olivia2006.e08.p09.i00.s06_213.csv\nfilename_phon  Olivia2006.e08.p09.i00.s07_t14.csv\nfilename_phon  Olivia2006.e08.p09.i00.s07_y15.csv\nfilename_phon  Olivia2006.e08.p09.i00.s08_e16.csv\nfilename_phon  Olivia2006.e08.p09.i00.s09_l17.csv\nfilename_phon  Olivia2006.e08.p09.i00.s09_a18.csv\nfilename_phon  Olivia2006.e08.p09.i00.s10_m19.csv\nfilename_phon  Olivia2006.e08.p09.i00.s10_e20.csv\nfilename_phon  Olivia2006.e08.p09.i00.s11_j21.csv\nfilename_phon  Olivia2006.e08.p09.i00.s11_922.csv\nfilename_phon  Olivia2006.e08.p09.i00.s12_R23.csv\nfilename_phon  Olivia2006.e08.p09.i00.s12_@24.csv\nfilename_phon  Olivia2006.e08.p09.i00.s13_###25.csv\nfilename_phon  Olivia2006.e01.p10.i00.s00_###0.csv\nfilename_phon  Olivia2006.e01.p10.i00.s01_Z1.csv\nfilename_phon  Olivia2006.e01.p10.i00.s01_22.csv\nfilename_phon  Olivia2006.e01.p10.i00.s02_m3.csv\nfilename_phon  Olivia2006.e01.p10.i00.s02_24.csv\nfilename_phon  Olivia2006.e01.p10.i00.s03_d5.csv\nfilename_phon  Olivia2006.e01.p10.i00.s03_26.csv\nfilename_phon  Olivia2006.e01.p10.i00.s04_m7.csv\nfilename_phon  Olivia2006.e01.p10.i00.s04_a~8.csv\nfilename_phon  Olivia2006.e01.p10.i00.s05_d9.csv\nfilename_phon  Olivia2006.e01.p10.i00.s05_210.csv\nfilename_phon  Olivia2006.e01.p10.i00.s06_##11.csv\nfilename_phon  Olivia2006.e01.p10.i00.s07_u12.csv\nfilename_phon  Olivia2006.e01.p10.i00.s08_s13.csv\nfilename_phon  Olivia2006.e01.p10.i00.s08_214.csv\nfilename_phon  Olivia2006.e01.p10.i00.s09_t15.csv\nfilename_phon  Olivia2006.e01.p10.i00.s09_R16.csv\nfilename_phon  Olivia2006.e01.p10.i00.s09_u17.csv\nfilename_phon  Olivia2006.e01.p10.i00.s09_v18.csv\nfilename_phon  Olivia2006.e01.p10.i00.s10_s19.csv\nfilename_phon  Olivia2006.e01.p10.i00.s10_E20.csv\nfilename_phon  Olivia2006.e01.p10.i00.s11_t21.csv\nfilename_phon  Olivia2006.e01.p10.i00.s11_a~22.csv\nfilename_phon  Olivia2006.e01.p10.i00.s12_d23.csv\nfilename_phon  Olivia2006.e01.p10.i00.s12_R24.csv\nfilename_phon  Olivia2006.e01.p10.i00.s12_w25.csv\nfilename_phon  Olivia2006.e01.p10.i00.s12_a26.csv\nfilename_phon  Olivia2006.e01.p10.i00.s13_###27.csv\nfilename_phon  Olivia2006.e02.p10.i00.s00_###0.csv\nfilename_phon  Olivia2006.e02.p10.i00.s01_Z1.csv\nfilename_phon  Olivia2006.e02.p10.i00.s01_22.csv\nfilename_phon  Olivia2006.e02.p10.i00.s02_m3.csv\nfilename_phon  Olivia2006.e02.p10.i00.s02_24.csv\nfilename_phon  Olivia2006.e02.p10.i00.s03_d5.csv\nfilename_phon  Olivia2006.e02.p10.i00.s03_26.csv\nfilename_phon  Olivia2006.e02.p10.i00.s04_m7.csv\nfilename_phon  Olivia2006.e02.p10.i00.s04_a~8.csv\nfilename_phon  Olivia2006.e02.p10.i00.s05_d9.csv\nfilename_phon  Olivia2006.e02.p10.i00.s05_@10.csv\nfilename_phon  Olivia2006.e02.p10.i00.s06_##11.csv\nfilename_phon  Olivia2006.e02.p10.i00.s07_u12.csv\nfilename_phon  Olivia2006.e02.p10.i00.s08_s13.csv\nfilename_phon  Olivia2006.e02.p10.i00.s08_214.csv\nfilename_phon  Olivia2006.e02.p10.i00.s09_t15.csv\nfilename_phon  Olivia2006.e02.p10.i00.s09_R16.csv\nfilename_phon  Olivia2006.e02.p10.i00.s09_u17.csv\nfilename_phon  Olivia2006.e02.p10.i00.s09_v18.csv\nfilename_phon  Olivia2006.e02.p10.i00.s10_s19.csv\nfilename_phon  Olivia2006.e02.p10.i00.s10_E20.csv\nfilename_phon  Olivia2006.e02.p10.i00.s11_t21.csv\nfilename_phon  Olivia2006.e02.p10.i00.s11_a~22.csv\nfilename_phon  Olivia2006.e02.p10.i00.s12_d23.csv\nfilename_phon  Olivia2006.e02.p10.i00.s12_R24.csv\nfilename_phon  Olivia2006.e02.p10.i00.s12_w25.csv\nfilename_phon  Olivia2006.e02.p10.i00.s12_a26.csv\nfilename_phon  Olivia2006.e02.p10.i00.s13_###27.csv\nfilename_phon  Olivia2006.e03.p10.i00.s00_###0.csv\nfilename_phon  Olivia2006.e03.p10.i00.s00__1.csv\nfilename_phon  Olivia2006.e03.p10.i00.s00_##2.csv\nfilename_phon  Olivia2006.e03.p10.i00.s01_Z3.csv\nfilename_phon  Olivia2006.e03.p10.i00.s01_24.csv\nfilename_phon  Olivia2006.e03.p10.i00.s02_m5.csv\nfilename_phon  Olivia2006.e03.p10.i00.s02_26.csv\nfilename_phon  Olivia2006.e03.p10.i00.s03_d7.csv\nfilename_phon  Olivia2006.e03.p10.i00.s03_28.csv\nfilename_phon  Olivia2006.e03.p10.i00.s04_m9.csv\nfilename_phon  Olivia2006.e03.p10.i00.s04_a~10.csv\nfilename_phon  Olivia2006.e03.p10.i00.s05_d11.csv\nfilename_phon  Olivia2006.e03.p10.i00.s05_212.csv\nfilename_phon  Olivia2006.e03.p10.i00.s06_##13.csv\nfilename_phon  Olivia2006.e03.p10.i00.s07_u14.csv\nfilename_phon  Olivia2006.e03.p10.i00.s08_s15.csv\nfilename_phon  Olivia2006.e03.p10.i00.s08_216.csv\nfilename_phon  Olivia2006.e03.p10.i00.s09_t17.csv\nfilename_phon  Olivia2006.e03.p10.i00.s09_R18.csv\nfilename_phon  Olivia2006.e03.p10.i00.s09_u19.csv\nfilename_phon  Olivia2006.e03.p10.i00.s09_v20.csv\nfilename_phon  Olivia2006.e03.p10.i00.s10_s21.csv\nfilename_phon  Olivia2006.e03.p10.i00.s10_E22.csv\nfilename_phon  Olivia2006.e03.p10.i00.s11_t23.csv\nfilename_phon  Olivia2006.e03.p10.i00.s11_a~24.csv\nfilename_phon  Olivia2006.e03.p10.i00.s12_d25.csv\nfilename_phon  Olivia2006.e03.p10.i00.s12_R26.csv\nfilename_phon  Olivia2006.e03.p10.i00.s12_w27.csv\nfilename_phon  Olivia2006.e03.p10.i00.s12_a28.csv\nfilename_phon  Olivia2006.e03.p10.i00.s13_###29.csv\nfilename_phon  Olivia2006.e04.p10.i00.s00_###0.csv\nfilename_phon  Olivia2006.e04.p10.i00.s00__1.csv\nfilename_phon  Olivia2006.e04.p10.i00.s00_##2.csv\nfilename_phon  Olivia2006.e04.p10.i00.s01_Z3.csv\nfilename_phon  Olivia2006.e04.p10.i00.s01_24.csv\nfilename_phon  Olivia2006.e04.p10.i00.s02_m5.csv\nfilename_phon  Olivia2006.e04.p10.i00.s02_26.csv\nfilename_phon  Olivia2006.e04.p10.i00.s03_d7.csv\nfilename_phon  Olivia2006.e04.p10.i00.s03_28.csv\nfilename_phon  Olivia2006.e04.p10.i00.s04_m9.csv\nfilename_phon  Olivia2006.e04.p10.i00.s04_a~10.csv\nfilename_phon  Olivia2006.e04.p10.i00.s05_d11.csv\nfilename_phon  Olivia2006.e04.p10.i00.s05_912.csv\nfilename_phon  Olivia2006.e04.p10.i00.s06_##13.csv\nfilename_phon  Olivia2006.e04.p10.i00.s07_u14.csv\nfilename_phon  Olivia2006.e04.p10.i00.s08_s15.csv\nfilename_phon  Olivia2006.e04.p10.i00.s08_216.csv\nfilename_phon  Olivia2006.e04.p10.i00.s09_t17.csv\nfilename_phon  Olivia2006.e04.p10.i00.s09_R18.csv\nfilename_phon  Olivia2006.e04.p10.i00.s09_u19.csv\nfilename_phon  Olivia2006.e04.p10.i00.s09_v20.csv\nfilename_phon  Olivia2006.e04.p10.i00.s10_s21.csv\nfilename_phon  Olivia2006.e04.p10.i00.s10_E22.csv\nfilename_phon  Olivia2006.e04.p10.i00.s11_t23.csv\nfilename_phon  Olivia2006.e04.p10.i00.s11_a~24.csv\nfilename_phon  Olivia2006.e04.p10.i00.s12_d25.csv\nfilename_phon  Olivia2006.e04.p10.i00.s12_R26.csv\nfilename_phon  Olivia2006.e04.p10.i00.s12_w27.csv\nfilename_phon  Olivia2006.e04.p10.i00.s12_a28.csv\nfilename_phon  Olivia2006.e04.p10.i00.s13_###29.csv\nfilename_phon  Olivia2006.e05.p10.i00.s00_###0.csv\nfilename_phon  Olivia2006.e05.p10.i00.s01_Z1.csv\nfilename_phon  Olivia2006.e05.p10.i00.s01_22.csv\nfilename_phon  Olivia2006.e05.p10.i00.s02_m3.csv\nfilename_phon  Olivia2006.e05.p10.i00.s02_24.csv\nfilename_phon  Olivia2006.e05.p10.i00.s03_d5.csv\nfilename_phon  Olivia2006.e05.p10.i00.s03_26.csv\nfilename_phon  Olivia2006.e05.p10.i00.s04_m7.csv\nfilename_phon  Olivia2006.e05.p10.i00.s04_a~8.csv\nfilename_phon  Olivia2006.e05.p10.i00.s05_d9.csv\nfilename_phon  Olivia2006.e05.p10.i00.s05_910.csv\nfilename_phon  Olivia2006.e05.p10.i00.s06_##11.csv\nfilename_phon  Olivia2006.e05.p10.i00.s07_u12.csv\nfilename_phon  Olivia2006.e05.p10.i00.s08_s13.csv\nfilename_phon  Olivia2006.e05.p10.i00.s08_214.csv\nfilename_phon  Olivia2006.e05.p10.i00.s09_t15.csv\nfilename_phon  Olivia2006.e05.p10.i00.s09_R16.csv\nfilename_phon  Olivia2006.e05.p10.i00.s09_u17.csv\nfilename_phon  Olivia2006.e05.p10.i00.s09_v18.csv\nfilename_phon  Olivia2006.e05.p10.i00.s10_s19.csv\nfilename_phon  Olivia2006.e05.p10.i00.s10_E20.csv\nfilename_phon  Olivia2006.e05.p10.i00.s11_t21.csv\nfilename_phon  Olivia2006.e05.p10.i00.s11_a~22.csv\nfilename_phon  Olivia2006.e05.p10.i00.s12_d23.csv\nfilename_phon  Olivia2006.e05.p10.i00.s12_R24.csv\nfilename_phon  Olivia2006.e05.p10.i00.s12_w25.csv\nfilename_phon  Olivia2006.e05.p10.i00.s12_a26.csv\nfilename_phon  Olivia2006.e05.p10.i00.s13__27.csv\nfilename_phon  Olivia2006.e05.p10.i00.s13_###28.csv\nfilename_phon  Olivia2006.e06.p10.i00.s00_###0.csv\nfilename_phon  Olivia2006.e06.p10.i00.s00__1.csv\nfilename_phon  Olivia2006.e06.p10.i00.s00_##2.csv\nfilename_phon  Olivia2006.e06.p10.i00.s01_Z3.csv\nfilename_phon  Olivia2006.e06.p10.i00.s01_24.csv\nfilename_phon  Olivia2006.e06.p10.i00.s02_m5.csv\nfilename_phon  Olivia2006.e06.p10.i00.s02_26.csv\nfilename_phon  Olivia2006.e06.p10.i00.s03_d7.csv\nfilename_phon  Olivia2006.e06.p10.i00.s03_28.csv\nfilename_phon  Olivia2006.e06.p10.i00.s04_m9.csv\nfilename_phon  Olivia2006.e06.p10.i00.s04_a~10.csv\nfilename_phon  Olivia2006.e06.p10.i00.s05_d11.csv\nfilename_phon  Olivia2006.e06.p10.i00.s05_912.csv\nfilename_phon  Olivia2006.e06.p10.i00.s06_##13.csv\nfilename_phon  Olivia2006.e06.p10.i00.s07_u14.csv\nfilename_phon  Olivia2006.e06.p10.i00.s08_s15.csv\nfilename_phon  Olivia2006.e06.p10.i00.s08_216.csv\nfilename_phon  Olivia2006.e06.p10.i00.s09_t17.csv\nfilename_phon  Olivia2006.e06.p10.i00.s09_R18.csv\nfilename_phon  Olivia2006.e06.p10.i00.s09_u19.csv\nfilename_phon  Olivia2006.e06.p10.i00.s09_v20.csv\nfilename_phon  Olivia2006.e06.p10.i00.s10_s21.csv\nfilename_phon  Olivia2006.e06.p10.i00.s10_E22.csv\nfilename_phon  Olivia2006.e06.p10.i00.s11_t23.csv\nfilename_phon  Olivia2006.e06.p10.i00.s11_a~24.csv\nfilename_phon  Olivia2006.e06.p10.i00.s12_d25.csv\nfilename_phon  Olivia2006.e06.p10.i00.s12_R26.csv\nfilename_phon  Olivia2006.e06.p10.i00.s12_w27.csv\nfilename_phon  Olivia2006.e06.p10.i00.s12_a28.csv\nfilename_phon  Olivia2006.e06.p10.i00.s13_###29.csv\nfilename_phon  Olivia2006.e07.p10.i00.s00_###0.csv\nfilename_phon  Olivia2006.e07.p10.i00.s00__1.csv\nfilename_phon  Olivia2006.e07.p10.i00.s00_##2.csv\nfilename_phon  Olivia2006.e07.p10.i00.s01_Z3.csv\nfilename_phon  Olivia2006.e07.p10.i00.s01_24.csv\nfilename_phon  Olivia2006.e07.p10.i00.s02_m5.csv\nfilename_phon  Olivia2006.e07.p10.i00.s02_26.csv\nfilename_phon  Olivia2006.e07.p10.i00.s03_d7.csv\nfilename_phon  Olivia2006.e07.p10.i00.s03_28.csv\nfilename_phon  Olivia2006.e07.p10.i00.s04_m9.csv\nfilename_phon  Olivia2006.e07.p10.i00.s04_a~10.csv\nfilename_phon  Olivia2006.e07.p10.i00.s05_d11.csv\nfilename_phon  Olivia2006.e07.p10.i00.s05_212.csv\nfilename_phon  Olivia2006.e07.p10.i00.s06_##13.csv\nfilename_phon  Olivia2006.e07.p10.i00.s07_u14.csv\nfilename_phon  Olivia2006.e07.p10.i00.s08_s15.csv\nfilename_phon  Olivia2006.e07.p10.i00.s08_216.csv\nfilename_phon  Olivia2006.e07.p10.i00.s09_t17.csv\nfilename_phon  Olivia2006.e07.p10.i00.s09_R18.csv\nfilename_phon  Olivia2006.e07.p10.i00.s09_u19.csv\nfilename_phon  Olivia2006.e07.p10.i00.s09_v20.csv\nfilename_phon  Olivia2006.e07.p10.i00.s10_s21.csv\nfilename_phon  Olivia2006.e07.p10.i00.s10_E22.csv\nfilename_phon  Olivia2006.e07.p10.i00.s11_t23.csv\nfilename_phon  Olivia2006.e07.p10.i00.s11_a~24.csv\nfilename_phon  Olivia2006.e07.p10.i00.s12_d25.csv\nfilename_phon  Olivia2006.e07.p10.i00.s12_R26.csv\nfilename_phon  Olivia2006.e07.p10.i00.s12_w27.csv\nfilename_phon  Olivia2006.e07.p10.i00.s12_a28.csv\nfilename_phon  Olivia2006.e07.p10.i00.s13_###29.csv\nfilename_phon  Olivia2006.e08.p10.i00.s00_###0.csv\nfilename_phon  Olivia2006.e08.p10.i00.s01_Z1.csv\nfilename_phon  Olivia2006.e08.p10.i00.s01_22.csv\nfilename_phon  Olivia2006.e08.p10.i00.s02_m3.csv\nfilename_phon  Olivia2006.e08.p10.i00.s02_24.csv\nfilename_phon  Olivia2006.e08.p10.i00.s03_d5.csv\nfilename_phon  Olivia2006.e08.p10.i00.s03_26.csv\nfilename_phon  Olivia2006.e08.p10.i00.s04_m7.csv\nfilename_phon  Olivia2006.e08.p10.i00.s04_a~8.csv\nfilename_phon  Olivia2006.e08.p10.i00.s05_d9.csv\nfilename_phon  Olivia2006.e08.p10.i00.s05_210.csv\nfilename_phon  Olivia2006.e08.p10.i00.s06__11.csv\nfilename_phon  Olivia2006.e08.p10.i00.s06_##12.csv\nfilename_phon  Olivia2006.e08.p10.i00.s07_u13.csv\nfilename_phon  Olivia2006.e08.p10.i00.s08_s14.csv\nfilename_phon  Olivia2006.e08.p10.i00.s08_215.csv\nfilename_phon  Olivia2006.e08.p10.i00.s09_t16.csv\nfilename_phon  Olivia2006.e08.p10.i00.s09_R17.csv\nfilename_phon  Olivia2006.e08.p10.i00.s09_u18.csv\nfilename_phon  Olivia2006.e08.p10.i00.s09_v19.csv\nfilename_phon  Olivia2006.e08.p10.i00.s10_s20.csv\nfilename_phon  Olivia2006.e08.p10.i00.s10_E21.csv\nfilename_phon  Olivia2006.e08.p10.i00.s11_t22.csv\nfilename_phon  Olivia2006.e08.p10.i00.s11_a~23.csv\nfilename_phon  Olivia2006.e08.p10.i00.s12_d24.csv\nfilename_phon  Olivia2006.e08.p10.i00.s12_R25.csv\nfilename_phon  Olivia2006.e08.p10.i00.s12_w26.csv\nfilename_phon  Olivia2006.e08.p10.i00.s12_a27.csv\nfilename_phon  Olivia2006.e08.p10.i00.s13_###28.csv\ndone\n"
     ]
    }
   ],
   "source": [
    "# path to directory for test_log.txt\n",
    "csv_input_directory_path = '/Users/robinson/Dropbox/anasynth/_data/emoVC/Olivia2006/f0_raw_phoneme'\n",
    "# Olivia2006.e01.p01.i00.s01_s e1.csv\n",
    "csv_input_file_extension = '.csv'\n",
    "\n",
    "# path to predicted F0 CSV input files directory\n",
    "phon_input_directory_path = '/Users/robinson/Downloads/data/pred/20180727_135143/phonemes'\n",
    "# Olivia2006.e01.p01.i00.s01_s e1.csv\n",
    "phon_input_file_extension = '.csv'\n",
    "\n",
    "# path to MAT input files directory\n",
    "mat_input_directory_path = '/Users/robinson/Dropbox/anasynth/_data/emoVC/Olivia2006'\n",
    "# Olivia2006.e01.p01.i00.mat\n",
    "mat_input_file_extension = '.mat'\n",
    "\n",
    "# path to WAV input files directory\n",
    "wav_input_directory_path = '/Users/robinson/Downloads/data/Olivia2006/Olivia2006_AUDIO'\n",
    "# Olivia2006.e01.p01.i00.1.wav\n",
    "wav_input_file_extension = '.wav'\n",
    "\n",
    "# path to SDIF f0 input files directory\n",
    "sdif_input_directory_path = '/Users/robinson/Downloads/data/Olivia2006/Olivia2006_AUDIO/original_f0extract'\n",
    "# Olivia2006.e01.p01.i00.mat\n",
    "sdif_input_file_extension = '.sdif'\n",
    "\n",
    "# define input file root - common to all filetypes\n",
    "input_file_root = 'Olivia2006'\n",
    "\n",
    "# set window step time \n",
    "step_s = 0.005  # 5ms, which I assume is what was used to sample the file\n",
    "\n",
    "# define output directory and files\n",
    "output_directory = os.path.join(wav_input_directory_path, 'timestretch')\n",
    "if not os.path.exists(output_directory):\n",
    "    os.mkdir(output_directory)\n",
    "\n",
    "\n",
    "# define phrase range\n",
    "phrase_from = 1\n",
    "phrase_to = 10\n",
    "# define source and target emotion ranges\n",
    "source_emotion_from = 1\n",
    "source_emotion_to = 8\n",
    "# define source and target intensity ranges\n",
    "source_intensity_from = 0\n",
    "source_intensity_to = 0\n",
    "\n",
    "# flag to set whether consonant time stretch is applied too\n",
    "consonant = False\n",
    "\n",
    "# open test_log.txt and split into list of lines\n",
    "f_test_log = open(os.path.join(csv_input_directory_path, 'out', 'test_log.txt'), 'r')\n",
    "test_log = f_test_log.read().split('\\n')\n",
    "# print(test_log)\n",
    "\n",
    "# output filenames\n",
    "filename_wav_files = 'wav_files.txt'\n",
    "filename_phon_time = 'phon_time.txt'\n",
    "filename_new_phon_time = 'phon_time_new.txt'\n",
    "filename_phon_vals_min = 'phon_vals_min.txt'\n",
    "# open output files in subdirectory of input files directory (must create manually)\n",
    "f_wav_files = open(os.path.join(output_directory, filename_wav_files), 'w')\n",
    "f_phon_time = open(os.path.join(output_directory, filename_phon_time), 'w')\n",
    "f_new_phon_time = open(os.path.join(output_directory, filename_new_phon_time), 'w')\n",
    "f_phon_vals_min = open(os.path.join(output_directory, filename_phon_vals_min), 'w')\n",
    "\n",
    "# for each wavfile that we want to treat..\n",
    "# for each phrase\n",
    "for p in range(phrase_from, phrase_to + 1):\n",
    "    # for each source emotion\n",
    "    for e_s in range(source_emotion_from, source_emotion_to + 1):\n",
    "        # for each source intensity\n",
    "        for i_s in range(source_intensity_from, source_intensity_to + 1):\n",
    "            # build the source file path\n",
    "            filename_base = ''.join([input_file_root, \n",
    "                                        '.e', format(e_s, '02d'),\n",
    "                                        '.p', format(p, '02d'),\n",
    "                                        '.i', format(i_s, '02d')])\n",
    "            # to handle the number at the end, get all files beginning with name (there should only be one)\n",
    "            glob_filepath = os.path.join(wav_input_directory_path, filename_base + '.*')\n",
    "            wav_filepath_list = glob.glob(glob_filepath)\n",
    "            wav_filepath = wav_filepath_list[0]\n",
    "            # print(wav_filepath)\n",
    "            _, wav_filename = os.path.split(wav_filepath)\n",
    "            # print('*********************')\n",
    "            # print('******** WAV ********')\n",
    "            # print('wav_filename) ', wav_filename)\n",
    "\n",
    "            # load corresponding mat file\n",
    "            mat_filename = ''.join([filename_base, mat_input_file_extension])\n",
    "            mat_filepath = os.path.join(mat_input_directory_path, mat_filename)\n",
    "            # print(mat_filepath)\n",
    "            mat_dict = loadmat(mat_filepath)\n",
    "            \n",
    "            syll_label = mat_dict['syll_label']\n",
    "            syll_label = syll_label.reshape((syll_label.shape[1],))        \n",
    "            # print(syll_label.shape)\n",
    "            # print(syll_label)\n",
    "            # syll_time.shape (2, 11)\n",
    "            # I want syll_time.shape (11, 2) BUT with the start and end times in different 'columns' - just transpose!\n",
    "            syll_time = mat_dict['syll_time']\n",
    "            # print('syll_time.shape', syll_time.shape)\n",
    "            syll_time = syll_time.T            \n",
    "            \n",
    "            # get list of phonemes\n",
    "            phon_label = mat_dict['phone_label']\n",
    "            phon_label = phon_label.reshape((phon_label.shape[1],))\n",
    "            \n",
    "            # make list of before-times (all the start and end times of all vowels and nonvowel parts) - this is just what's in \n",
    "            # the mat file (phon_time) - you prob don't want the final value. Also, phoneme times are not \n",
    "            # consecutive - one phoneme ends, then there's a gap, then the next begins. So you have to handle the \n",
    "            # start and end times of both\n",
    "            # get list of phoneme start/end times\n",
    "            phon_time = mat_dict['phone_time']\n",
    "            # print(phon_time.shape)\n",
    "            # print(phon_time)\n",
    "            # phon_time = phon_time.reshape((phon_time.shape[1], phon_time.shape[0]))  # wrong!\n",
    "            phon_time = phon_time.T # much better\n",
    "            # print(phon_time.shape)\n",
    "            # print(phon_time)\n",
    "            # print(phon_time.shape) # (11, 2)\n",
    "            # print('phon_time = ', phon_time)\n",
    "            # print(type(phon_time)) # <class 'numpy.ndarray'>\n",
    "            \n",
    "            # make list of true/false to indicate vowels(true)/nonvowel(false)\n",
    "            vowel_phonemes = ['e~', '9~', 'a~', 'o~', 'i', 'e', 'E', 'a', 'A', 'O', 'o', 'u', 'y', '2', '9', '@']\n",
    "            # [a if C else b for i in items]\n",
    "            vowels = [True if phon[0] in vowel_phonemes else False for i, phon in enumerate(phon_label)]\n",
    "            # print('vowels ', vowels)\n",
    "            \n",
    "            # make new_phon_time list as flattened version of original start and end times, to modify later\n",
    "            # new_phon_time = list(phon_time.flatten(order='C'))\n",
    "            # print('phon_time = ', new_phon_time)\n",
    "            new_phon_time = [0.0] + [x for x in phon_time[:, 1]]  # just get second column, plus add a 0.0 at the start\n",
    "            # print(new_phon_time)\n",
    "            \n",
    "            # make list to store stretch syll_vowel_ratios of new phon time to orig phon time\n",
    "            syll_vowel_ratios = []\n",
    "\n",
    "            # adjust non-vowel phon times based on syll_vowel_ratios in list\n",
    "            # for each syllable\n",
    "            # for each syll in syll_label\n",
    "            for i, syll in enumerate(syll_label):\n",
    "    \n",
    "                # # if syll_label doesn't contain a '#' in it\n",
    "                # if '#' not in syll[0]:\n",
    "                # print(syll[0])\n",
    "\n",
    "                # get syll_time start and end times\n",
    "                # print('i = ', i)\n",
    "                syll_start_time = syll_time[i, 0]\n",
    "                syll_end_time = syll_time[i, 1]                    \n",
    "\n",
    "                phone_id_list = []\n",
    "                syll_vowel_index = -1\n",
    "                # for each phone label in phone_label (this mat file)\n",
    "                for j, label in enumerate(phon_label):\n",
    "                    # get start/end times from phone_time\n",
    "                    phone_start_time = phon_time[j, 0]\n",
    "                    phone_end_time = phon_time[j, 1]\n",
    "                    # if start time => syll_start_time AND end time <= syll_end_time then this phoneme is in the syllable\n",
    "                    if phone_start_time >= syll_start_time and phone_end_time <= syll_end_time:\n",
    "                        # add phoneme label id to a list (to use to reference label and start/end times)\n",
    "                        phone_id_list.append(j)    \n",
    "                        # check if phon is a vowel - if so, save index (assumes only one vowel per syll\n",
    "                        if label in vowel_phonemes:\n",
    "                            syll_vowel_index = j\n",
    "                            # print('syll_vowel_index', syll_vowel_index)\n",
    "                            # print('phon_label[syll_vowel_index]', phon_label[syll_vowel_index])\n",
    "        \n",
    "                # create empty list to store all phon_vals, to later calculate the minimum f0 in the vowels regions\n",
    "                # phon_vals_all = []\n",
    "                # for each phoneme in the wav file\n",
    "                for k in phone_id_list:\n",
    "                    # print('******** SYL ********')\n",
    "                    # if phoneme is nonvowel, skip to next phoneme\n",
    "                    # if not vowels[k]:\n",
    "                    #     # print('!!! nonvowel')\n",
    "                    #     continue\n",
    "\n",
    "                    # should NOT use all_phon_counter for .s value... must have been broken before!\n",
    "                    # build the filename of the phoneme\n",
    "                    filename_phon = ''.join([filename_base, '.s', format(i, '02d'), '_', phon_label[k][0], \n",
    "                                             str(k), csv_input_file_extension])\n",
    "                    print('filename_phon ', filename_phon)\n",
    "\n",
    "                    # check if phon file is in test_log.txt\n",
    "                    # phon file is not empty, so:\n",
    "                    if filename_phon in test_log:\n",
    "                        # get duration of original phoneme contour\n",
    "                        phon_dur_orig = phon_time[k, 1] - phon_time[k, 0]\n",
    "                        # print('phon_dur_orig = ', phon_dur_orig)\n",
    "\n",
    "                        # get duration of new phoneme contour\n",
    "                        # get number of lines from file\n",
    "                        fphon = open(os.path.join(phon_input_directory_path, filename_phon), 'r')\n",
    "                        phon_vals = fphon.read().strip().split('\\n')\n",
    "                        # print('phon_vals=', phon_vals)\n",
    "                        num_lines = len(phon_vals)\n",
    "                        # print('num_lines= ', num_lines)\n",
    "\n",
    "                        # multiply by window step size to get time, and add half a window\n",
    "                        phon_dur_new = (num_lines * step_s) + step_s\n",
    "                        # print('phon_dur_new = ', phon_dur_new)\n",
    "\n",
    "                        # calculate the diff (will be positive if new duration is larger)\n",
    "                        diff = phon_dur_new - phon_dur_orig\n",
    "                        # print('diff = ', diff)\n",
    "                        # print('********')\n",
    "\n",
    "                        # add ratio to list\n",
    "                        # print('phon_dur_new / phon_dur_orig', phon_dur_new / phon_dur_orig)\n",
    "                        syll_vowel_ratios.append(phon_dur_new / phon_dur_orig)\n",
    "\n",
    "                        # # append phon_vals to end of list, to later calculate the minimum f0 in the vowels regions\n",
    "                        # # print(phon_vals)\n",
    "                        # phon_vals_all += phon_vals\n",
    "                        # # print('phon_vals_all ', phon_vals_all)\n",
    "\n",
    "                    # phon file is either missing or empty, so make diff = 0\n",
    "                    else:\n",
    "                        diff = 0\n",
    "                        # print('!!! file missing: ', filename_phon)\n",
    "                        # print('diff = ', diff)\n",
    "\n",
    "                        # add default ratio to list (1 means they are the same)\n",
    "                        syll_vowel_ratios.append(1)\n",
    "\n",
    "                    # print('new_phon_time BEFORE UPDATE', new_phon_time)\n",
    "                    # run through the new_phon_time list, adding the (positive/negative) diff to end time of phon, \n",
    "                    # and start and end times of all subsequent phonemes\n",
    "                    # new_phon_time = [time if i-1 < all_phon_counter * 2 else time + diff for i, time in enumerate(\n",
    "                    #     new_phon_time)]\n",
    "                    new_phon_time = [time if i-1 < k else time + diff for i, time in enumerate(\n",
    "                        new_phon_time)]\n",
    "                    # print('new_phon_time AFTER UPDATE = ', new_phon_time)\n",
    "\n",
    "                # print('syll_vowel_ratios', syll_vowel_ratios)\n",
    "                \n",
    "                if consonant:\n",
    "                    # for each phoneme in syllable - (have to do this after changing all the vowel times\n",
    "                    # iterate through phonemes of this syllable\n",
    "                    for k in phone_id_list:                                                    \n",
    "                        # if this phoneme is NOT a vowel\n",
    "                        if not vowels[k]:\n",
    "                            # find ratio of that vowel in ratio list\n",
    "                            # print('syll_vowel_index', syll_vowel_index)\n",
    "                            syll_vowel_ratio = syll_vowel_ratios[syll_vowel_index]\n",
    "                            # calc diff based on that ratio\n",
    "                            # get start/end times from phone_time\n",
    "                            phone_start_time = phon_time[k, 0]\n",
    "                            phone_end_time = phon_time[k, 1]\n",
    "                            phone_dur_orig = phone_end_time - phone_start_time\n",
    "                            phone_dur_new = phone_dur_orig * syll_vowel_ratio\n",
    "                            dur_diff = phone_dur_new - phone_dur_orig   \n",
    "                            # apply diff to the non-vowel phoneme in that syllable in new_phon_time\n",
    "                            # run through the new_phon_time list, adding the (positive/negative) diff to end time of phon, \n",
    "                            # and start and end times of all subsequent phonemes\n",
    "                            # new_phon_time = [time if i-1 < all_phon_counter * 2 else time + diff for i, time in enumerate(\n",
    "                            #     new_phon_time)]\n",
    "                            # new_phon_time = [time if i-1 < all_phon_counter else time + diff for i, time in enumerate(\n",
    "                            #     new_phon_time)]     \n",
    "                            new_phon_time = [time if i-1 < k else time + dur_diff for i, time in enumerate(new_phon_time)]   \n",
    "            \n",
    "            \n",
    "            # convert phon_time to a list\n",
    "            # phon_time = [val for i, val in enumerate(phon_time)]  \n",
    "            # phon_time = list(phon_time.flatten(order='C')) # don't need both columns, it just duplicates the times\n",
    "            phon_time = [0.0] + [x for x in phon_time[:, 1]]  # just get second column, plus add a 0.0 at the start\n",
    "            # print(phon_time)\n",
    "            # append phon_time, new_phon_time to outfiles            \n",
    "            [f_phon_time.write(str(val) + ',') if i < len(phon_time) - 1 else f_phon_time.write(str(val)) for i, \n",
    "                                                                                                          val in enumerate(phon_time)]\n",
    "            f_phon_time.write('\\n')\n",
    "            \n",
    "            \n",
    "            # [f_new_phon_time.write(str(val) + ',') for val in new_phon_time]\n",
    "            [f_new_phon_time.write(str(val) + ',') if i < len(new_phon_time) - 1 else f_new_phon_time.write(str(val)) for i, \n",
    "                                                                                                          val in enumerate(new_phon_time)]\n",
    "            f_new_phon_time.write('\\n')\n",
    "            # print to stdout to check\n",
    "            # [sys.stdout.write(str(val) + ',') for val in new_phon_time]\n",
    "            # sys.stdout.write('\\n')\n",
    "            \n",
    "            # print wav file name to file\n",
    "            f_wav_files.write(wav_filename + '\\n')\n",
    "            \n",
    "            # # convert phon_vals_all to numpy array of integers, get minimum and write to text file\n",
    "            # # print(phon_vals_all)\n",
    "            # phon_vals_all = [int(x) for x in phon_vals_all]\n",
    "            # phon_vals_all = np.array(phon_vals_all)\n",
    "            # # print(phon_vals_all)\n",
    "            # phon_vals_min = phon_vals_all.min()\n",
    "            # # print(phon_vals_min) \n",
    "        \n",
    "            # build original sdif file name\n",
    "            sdif_glob_filepath = os.path.join(sdif_input_directory_path, filename_base + '.*')\n",
    "            # print('sdif_glob_filepath ', sdif_glob_filepath)\n",
    "            sdif_filepath_list = glob.glob(sdif_glob_filepath)\n",
    "            # print('sdif_filepath_list ', sdif_filepath_list)\n",
    "            sdif_filepath = sdif_filepath_list[0] \n",
    "            # print('sdif_filepath ', sdif_filepath)\n",
    "            \n",
    "            # set harmonicity_threshold\n",
    "            harmonicity_threshold = 0.3\n",
    "            # read in time/f0/harm from corresponding sdif file - returns tuple of ndarrays\n",
    "            (f0time, f0harm, f0val) = get_f0_info(sdif_filepath)\n",
    "            # filter lines when harm >= threshold e.g. 0.3\n",
    "            f0val = f0val[(f0harm >= harmonicity_threshold).nonzero()]            \n",
    "            # get minimum f0 in remaining set and write to file\n",
    "            f0val_min = f0val.min()\n",
    "            # print(f0val_min)\n",
    "            \n",
    "            # if the value is 50 or over then write to file, otherwise default to 50 (eliminates erroneous low values)\n",
    "            if f0val_min >= 50:\n",
    "                f_phon_vals_min.write(str(f0val_min) + '\\n')\n",
    "            else:\n",
    "                f_phon_vals_min.write(str(50) + '\\n')            \n",
    "                \n",
    "\n",
    "# close the files         \n",
    "f_test_log.close()\n",
    "f_wav_files.close()\n",
    "f_phon_time.close()\n",
    "f_new_phon_time.close()\n",
    "f_phon_vals_min.close()\n",
    "\n",
    "print('done')"
   ]
  },
  {
   "cell_type": "markdown",
   "metadata": {},
   "source": [
    "<h3>Read in syllable timecode csv files and perform timestretch on WAV files"
   ]
  },
  {
   "cell_type": "code",
   "execution_count": 161,
   "metadata": {
    "collapsed": false
   },
   "outputs": [
    {
     "name": "stderr",
     "output_type": "stream",
     "text": [
      "07/27/2018 17:15:35 : alignSnds::INFO::run: supervp -P0 -Afft -Z -sync_pc 1 -D/tmp/alignD52307.par -M0.0231279s -oversamp 8 -S /Users/robinson/Downloads/data/Olivia2006/Olivia2006_AUDIO/Olivia2006.e01.p01.i00.1.wav -shape 1 -vu_f0lim 1,5 -Vuf -4 -vu_dem 3 /Users/robinson/Downloads/data/Olivia2006/Olivia2006_AUDIO/timestretch/Olivia2006.e01.p01.i00.1.OUT.wav\n"
     ]
    },
    {
     "name": "stderr",
     "output_type": "stream",
     "text": [
      "07/27/2018 17:15:36 : alignSnds::INFO::run: supervp -P0 -Afft -Z -sync_pc 1 -D/tmp/alignD52307.par -M0.0232535s -oversamp 8 -S /Users/robinson/Downloads/data/Olivia2006/Olivia2006_AUDIO/Olivia2006.e02.p01.i00.62.wav -shape 1 -vu_f0lim 1,5 -Vuf -4 -vu_dem 3 /Users/robinson/Downloads/data/Olivia2006/Olivia2006_AUDIO/timestretch/Olivia2006.e02.p01.i00.62.OUT.wav\n"
     ]
    },
    {
     "name": "stderr",
     "output_type": "stream",
     "text": [
      "07/27/2018 17:15:36 : alignSnds::INFO::run: supervp -P0 -Afft -Z -sync_pc 1 -D/tmp/alignD52307.par -M0.0225101s -oversamp 8 -S /Users/robinson/Downloads/data/Olivia2006/Olivia2006_AUDIO/Olivia2006.e03.p01.i00.122.wav -shape 1 -vu_f0lim 1,5 -Vuf -4 -vu_dem 3 /Users/robinson/Downloads/data/Olivia2006/Olivia2006_AUDIO/timestretch/Olivia2006.e03.p01.i00.122.OUT.wav\n"
     ]
    },
    {
     "name": "stderr",
     "output_type": "stream",
     "text": [
      "07/27/2018 17:15:37 : alignSnds::INFO::run: supervp -P0 -Afft -Z -sync_pc 1 -D/tmp/alignD52307.par -M0.0207914s -oversamp 8 -S /Users/robinson/Downloads/data/Olivia2006/Olivia2006_AUDIO/Olivia2006.e04.p01.i00.182.wav -shape 1 -vu_f0lim 1,5 -Vuf -4 -vu_dem 3 /Users/robinson/Downloads/data/Olivia2006/Olivia2006_AUDIO/timestretch/Olivia2006.e04.p01.i00.182.OUT.wav\n"
     ]
    },
    {
     "name": "stderr",
     "output_type": "stream",
     "text": [
      "07/27/2018 17:15:37 : alignSnds::INFO::run: supervp -P0 -Afft -Z -sync_pc 1 -D/tmp/alignD52307.par -M0.0217512s -oversamp 8 -S /Users/robinson/Downloads/data/Olivia2006/Olivia2006_AUDIO/Olivia2006.e05.p01.i00.242.wav -shape 1 -vu_f0lim 1,5 -Vuf -4 -vu_dem 3 /Users/robinson/Downloads/data/Olivia2006/Olivia2006_AUDIO/timestretch/Olivia2006.e05.p01.i00.242.OUT.wav\n"
     ]
    },
    {
     "name": "stderr",
     "output_type": "stream",
     "text": [
      "07/27/2018 17:15:37 : alignSnds::INFO::run: supervp -P0 -Afft -Z -sync_pc 1 -D/tmp/alignD52307.par -M0.0218102s -oversamp 8 -S /Users/robinson/Downloads/data/Olivia2006/Olivia2006_AUDIO/Olivia2006.e06.p01.i00.305.wav -shape 1 -vu_f0lim 1,5 -Vuf -4 -vu_dem 3 /Users/robinson/Downloads/data/Olivia2006/Olivia2006_AUDIO/timestretch/Olivia2006.e06.p01.i00.305.OUT.wav\n"
     ]
    },
    {
     "name": "stderr",
     "output_type": "stream",
     "text": [
      "07/27/2018 17:15:38 : alignSnds::INFO::run: supervp -P0 -Afft -Z -sync_pc 1 -D/tmp/alignD52307.par -M0.0224898s -oversamp 8 -S /Users/robinson/Downloads/data/Olivia2006/Olivia2006_AUDIO/Olivia2006.e07.p01.i00.366.wav -shape 1 -vu_f0lim 1,5 -Vuf -4 -vu_dem 3 /Users/robinson/Downloads/data/Olivia2006/Olivia2006_AUDIO/timestretch/Olivia2006.e07.p01.i00.366.OUT.wav\n"
     ]
    },
    {
     "name": "stderr",
     "output_type": "stream",
     "text": [
      "07/27/2018 17:15:38 : alignSnds::INFO::run: supervp -P0 -Afft -Z -sync_pc 1 -D/tmp/alignD52307.par -M0.0218693s -oversamp 8 -S /Users/robinson/Downloads/data/Olivia2006/Olivia2006_AUDIO/Olivia2006.e08.p01.i00.427.wav -shape 1 -vu_f0lim 1,5 -Vuf -4 -vu_dem 3 /Users/robinson/Downloads/data/Olivia2006/Olivia2006_AUDIO/timestretch/Olivia2006.e08.p01.i00.427.OUT.wav\n"
     ]
    },
    {
     "name": "stderr",
     "output_type": "stream",
     "text": [
      "07/27/2018 17:15:39 : alignSnds::INFO::run: supervp -P0 -Afft -Z -sync_pc 1 -D/tmp/alignD52307.par -M0.0243049s -oversamp 8 -S /Users/robinson/Downloads/data/Olivia2006/Olivia2006_AUDIO/Olivia2006.e01.p02.i00.8.wav -shape 1 -vu_f0lim 1,5 -Vuf -4 -vu_dem 3 /Users/robinson/Downloads/data/Olivia2006/Olivia2006_AUDIO/timestretch/Olivia2006.e01.p02.i00.8.OUT.wav\n"
     ]
    },
    {
     "name": "stderr",
     "output_type": "stream",
     "text": [
      "07/27/2018 17:15:39 : alignSnds::INFO::run: supervp -P0 -Afft -Z -sync_pc 1 -D/tmp/alignD52307.par -M0.0270607s -oversamp 8 -S /Users/robinson/Downloads/data/Olivia2006/Olivia2006_AUDIO/Olivia2006.e02.p02.i00.68.wav -shape 1 -vu_f0lim 1,5 -Vuf -4 -vu_dem 3 /Users/robinson/Downloads/data/Olivia2006/Olivia2006_AUDIO/timestretch/Olivia2006.e02.p02.i00.68.OUT.wav\n"
     ]
    },
    {
     "name": "stderr",
     "output_type": "stream",
     "text": [
      "07/27/2018 17:15:40 : alignSnds::INFO::run: supervp -P0 -Afft -Z -sync_pc 1 -D/tmp/alignD52307.par -M0.0222275s -oversamp 8 -S /Users/robinson/Downloads/data/Olivia2006/Olivia2006_AUDIO/Olivia2006.e03.p02.i00.128.wav -shape 1 -vu_f0lim 1,5 -Vuf -4 -vu_dem 3 /Users/robinson/Downloads/data/Olivia2006/Olivia2006_AUDIO/timestretch/Olivia2006.e03.p02.i00.128.OUT.wav\n"
     ]
    },
    {
     "name": "stderr",
     "output_type": "stream",
     "text": [
      "07/27/2018 17:15:40 : alignSnds::INFO::run: supervp -P0 -Afft -Z -sync_pc 1 -D/tmp/alignD52307.par -M0.0257967s -oversamp 8 -S /Users/robinson/Downloads/data/Olivia2006/Olivia2006_AUDIO/Olivia2006.e04.p02.i00.188.wav -shape 1 -vu_f0lim 1,5 -Vuf -4 -vu_dem 3 /Users/robinson/Downloads/data/Olivia2006/Olivia2006_AUDIO/timestretch/Olivia2006.e04.p02.i00.188.OUT.wav\n"
     ]
    },
    {
     "name": "stderr",
     "output_type": "stream",
     "text": [
      "07/27/2018 17:15:41 : alignSnds::INFO::run: supervp -P0 -Afft -Z -sync_pc 1 -D/tmp/alignD52307.par -M0.0227552s -oversamp 8 -S /Users/robinson/Downloads/data/Olivia2006/Olivia2006_AUDIO/Olivia2006.e05.p02.i00.248.wav -shape 1 -vu_f0lim 1,5 -Vuf -4 -vu_dem 3 /Users/robinson/Downloads/data/Olivia2006/Olivia2006_AUDIO/timestretch/Olivia2006.e05.p02.i00.248.OUT.wav\n"
     ]
    },
    {
     "name": "stderr",
     "output_type": "stream",
     "text": [
      "07/27/2018 17:15:41 : alignSnds::INFO::run: supervp -P0 -Afft -Z -sync_pc 1 -D/tmp/alignD52307.par -M0.0218102s -oversamp 8 -S /Users/robinson/Downloads/data/Olivia2006/Olivia2006_AUDIO/Olivia2006.e06.p02.i00.312.wav -shape 1 -vu_f0lim 1,5 -Vuf -4 -vu_dem 3 /Users/robinson/Downloads/data/Olivia2006/Olivia2006_AUDIO/timestretch/Olivia2006.e06.p02.i00.312.OUT.wav\n"
     ]
    },
    {
     "name": "stderr",
     "output_type": "stream",
     "text": [
      "07/27/2018 17:15:42 : alignSnds::INFO::run: supervp -P0 -Afft -Z -sync_pc 1 -D/tmp/alignD52307.par -M0.0263616s -oversamp 8 -S /Users/robinson/Downloads/data/Olivia2006/Olivia2006_AUDIO/Olivia2006.e07.p02.i00.372.wav -shape 1 -vu_f0lim 1,5 -Vuf -4 -vu_dem 3 /Users/robinson/Downloads/data/Olivia2006/Olivia2006_AUDIO/timestretch/Olivia2006.e07.p02.i00.372.OUT.wav\n"
     ]
    },
    {
     "name": "stderr",
     "output_type": "stream",
     "text": [
      "07/27/2018 17:15:42 : alignSnds::INFO::run: supervp -P0 -Afft -Z -sync_pc 1 -D/tmp/alignD52307.par -M0.024703s -oversamp 8 -S /Users/robinson/Downloads/data/Olivia2006/Olivia2006_AUDIO/Olivia2006.e08.p02.i00.433.wav -shape 1 -vu_f0lim 1,5 -Vuf -4 -vu_dem 3 /Users/robinson/Downloads/data/Olivia2006/Olivia2006_AUDIO/timestretch/Olivia2006.e08.p02.i00.433.OUT.wav\n"
     ]
    },
    {
     "name": "stderr",
     "output_type": "stream",
     "text": [
      "07/27/2018 17:15:43 : alignSnds::INFO::run: supervp -P0 -Afft -Z -sync_pc 1 -D/tmp/alignD52307.par -M0.0199639s -oversamp 8 -S /Users/robinson/Downloads/data/Olivia2006/Olivia2006_AUDIO/Olivia2006.e01.p03.i00.14.wav -shape 1 -vu_f0lim 1,5 -Vuf -4 -vu_dem 3 /Users/robinson/Downloads/data/Olivia2006/Olivia2006_AUDIO/timestretch/Olivia2006.e01.p03.i00.14.OUT.wav\n"
     ]
    },
    {
     "name": "stderr",
     "output_type": "stream",
     "text": [
      "07/27/2018 17:15:43 : alignSnds::INFO::run: supervp -P0 -Afft -Z -sync_pc 1 -D/tmp/alignD52307.par -M0.022429s -oversamp 8 -S /Users/robinson/Downloads/data/Olivia2006/Olivia2006_AUDIO/Olivia2006.e02.p03.i00.74.wav -shape 1 -vu_f0lim 1,5 -Vuf -4 -vu_dem 3 /Users/robinson/Downloads/data/Olivia2006/Olivia2006_AUDIO/timestretch/Olivia2006.e02.p03.i00.74.OUT.wav\n"
     ]
    },
    {
     "name": "stderr",
     "output_type": "stream",
     "text": [
      "07/27/2018 17:15:43 : alignSnds::INFO::run: supervp -P0 -Afft -Z -sync_pc 1 -D/tmp/alignD52307.par -M0.0243049s -oversamp 8 -S /Users/robinson/Downloads/data/Olivia2006/Olivia2006_AUDIO/Olivia2006.e03.p03.i00.134.wav -shape 1 -vu_f0lim 1,5 -Vuf -4 -vu_dem 3 /Users/robinson/Downloads/data/Olivia2006/Olivia2006_AUDIO/timestretch/Olivia2006.e03.p03.i00.134.OUT.wav\n"
     ]
    },
    {
     "name": "stderr",
     "output_type": "stream",
     "text": [
      "07/27/2018 17:15:44 : alignSnds::INFO::run: supervp -P0 -Afft -Z -sync_pc 1 -D/tmp/alignD52307.par -M0.0246807s -oversamp 8 -S /Users/robinson/Downloads/data/Olivia2006/Olivia2006_AUDIO/Olivia2006.e04.p03.i00.194.wav -shape 1 -vu_f0lim 1,5 -Vuf -4 -vu_dem 3 /Users/robinson/Downloads/data/Olivia2006/Olivia2006_AUDIO/timestretch/Olivia2006.e04.p03.i00.194.OUT.wav\n"
     ]
    },
    {
     "name": "stderr",
     "output_type": "stream",
     "text": [
      "07/27/2018 17:15:44 : alignSnds::INFO::run: supervp -P0 -Afft -Z -sync_pc 1 -D/tmp/alignD52307.par -M0.019892s -oversamp 8 -S /Users/robinson/Downloads/data/Olivia2006/Olivia2006_AUDIO/Olivia2006.e05.p03.i00.254.wav -shape 1 -vu_f0lim 1,5 -Vuf -4 -vu_dem 3 /Users/robinson/Downloads/data/Olivia2006/Olivia2006_AUDIO/timestretch/Olivia2006.e05.p03.i00.254.OUT.wav\n"
     ]
    },
    {
     "name": "stderr",
     "output_type": "stream",
     "text": [
      "07/27/2018 17:15:45 : alignSnds::INFO::run: supervp -P0 -Afft -Z -sync_pc 1 -D/tmp/alignD52307.par -M0.0243929s -oversamp 8 -S /Users/robinson/Downloads/data/Olivia2006/Olivia2006_AUDIO/Olivia2006.e06.p03.i00.318.wav -shape 1 -vu_f0lim 1,5 -Vuf -4 -vu_dem 3 /Users/robinson/Downloads/data/Olivia2006/Olivia2006_AUDIO/timestretch/Olivia2006.e06.p03.i00.318.OUT.wav\n"
     ]
    },
    {
     "name": "stderr",
     "output_type": "stream",
     "text": [
      "07/27/2018 17:15:45 : alignSnds::INFO::run: supervp -P0 -Afft -Z -sync_pc 1 -D/tmp/alignD52307.par -M0.0268175s -oversamp 8 -S /Users/robinson/Downloads/data/Olivia2006/Olivia2006_AUDIO/Olivia2006.e07.p03.i00.378.wav -shape 1 -vu_f0lim 1,5 -Vuf -4 -vu_dem 3 /Users/robinson/Downloads/data/Olivia2006/Olivia2006_AUDIO/timestretch/Olivia2006.e07.p03.i00.378.OUT.wav\n"
     ]
    },
    {
     "name": "stderr",
     "output_type": "stream",
     "text": [
      "07/27/2018 17:15:46 : alignSnds::INFO::run: supervp -P0 -Afft -Z -sync_pc 1 -D/tmp/alignD52307.par -M0.0272322s -oversamp 8 -S /Users/robinson/Downloads/data/Olivia2006/Olivia2006_AUDIO/Olivia2006.e08.p03.i00.439.wav -shape 1 -vu_f0lim 1,5 -Vuf -4 -vu_dem 3 /Users/robinson/Downloads/data/Olivia2006/Olivia2006_AUDIO/timestretch/Olivia2006.e08.p03.i00.439.OUT.wav\n"
     ]
    },
    {
     "name": "stderr",
     "output_type": "stream",
     "text": [
      "07/27/2018 17:15:46 : alignSnds::INFO::run: supervp -P0 -Afft -Z -sync_pc 1 -D/tmp/alignD52307.par -M0.0496743s -oversamp 8 -S /Users/robinson/Downloads/data/Olivia2006/Olivia2006_AUDIO/Olivia2006.e01.p04.i00.20.wav -shape 1 -vu_f0lim 1,5 -Vuf -4 -vu_dem 3 /Users/robinson/Downloads/data/Olivia2006/Olivia2006_AUDIO/timestretch/Olivia2006.e01.p04.i00.20.OUT.wav\n"
     ]
    },
    {
     "name": "stderr",
     "output_type": "stream",
     "text": [
      "07/27/2018 17:15:47 : alignSnds::INFO::run: supervp -P0 -Afft -Z -sync_pc 1 -D/tmp/alignD52307.par -M0.0264331s -oversamp 8 -S /Users/robinson/Downloads/data/Olivia2006/Olivia2006_AUDIO/Olivia2006.e02.p04.i00.80.wav -shape 1 -vu_f0lim 1,5 -Vuf -4 -vu_dem 3 /Users/robinson/Downloads/data/Olivia2006/Olivia2006_AUDIO/timestretch/Olivia2006.e02.p04.i00.80.OUT.wav\n"
     ]
    },
    {
     "name": "stderr",
     "output_type": "stream",
     "text": [
      "07/27/2018 17:15:47 : alignSnds::INFO::run: supervp -P0 -Afft -Z -sync_pc 1 -D/tmp/alignD52307.par -M0.0290343s -oversamp 8 -S /Users/robinson/Downloads/data/Olivia2006/Olivia2006_AUDIO/Olivia2006.e03.p04.i00.140.wav -shape 1 -vu_f0lim 1,5 -Vuf -4 -vu_dem 3 /Users/robinson/Downloads/data/Olivia2006/Olivia2006_AUDIO/timestretch/Olivia2006.e03.p04.i00.140.OUT.wav\n"
     ]
    },
    {
     "name": "stderr",
     "output_type": "stream",
     "text": [
      "07/27/2018 17:15:48 : alignSnds::INFO::run: supervp -P0 -Afft -Z -sync_pc 1 -D/tmp/alignD52307.par -M0.0255188s -oversamp 8 -S /Users/robinson/Downloads/data/Olivia2006/Olivia2006_AUDIO/Olivia2006.e04.p04.i00.200.wav -shape 1 -vu_f0lim 1,5 -Vuf -4 -vu_dem 3 /Users/robinson/Downloads/data/Olivia2006/Olivia2006_AUDIO/timestretch/Olivia2006.e04.p04.i00.200.OUT.wav\n"
     ]
    },
    {
     "name": "stderr",
     "output_type": "stream",
     "text": [
      "07/27/2018 17:15:48 : alignSnds::INFO::run: supervp -P0 -Afft -Z -sync_pc 1 -D/tmp/alignD52307.par -M0.0236984s -oversamp 8 -S /Users/robinson/Downloads/data/Olivia2006/Olivia2006_AUDIO/Olivia2006.e05.p04.i00.260.wav -shape 1 -vu_f0lim 1,5 -Vuf -4 -vu_dem 3 /Users/robinson/Downloads/data/Olivia2006/Olivia2006_AUDIO/timestretch/Olivia2006.e05.p04.i00.260.OUT.wav\n"
     ]
    },
    {
     "name": "stderr",
     "output_type": "stream",
     "text": [
      "07/27/2018 17:15:49 : alignSnds::INFO::run: supervp -P0 -Afft -Z -sync_pc 1 -D/tmp/alignD52307.par -M0.0256806s -oversamp 8 -S /Users/robinson/Downloads/data/Olivia2006/Olivia2006_AUDIO/Olivia2006.e06.p04.i00.324.wav -shape 1 -vu_f0lim 1,5 -Vuf -4 -vu_dem 3 /Users/robinson/Downloads/data/Olivia2006/Olivia2006_AUDIO/timestretch/Olivia2006.e06.p04.i00.324.OUT.wav\n"
     ]
    },
    {
     "name": "stderr",
     "output_type": "stream",
     "text": [
      "07/27/2018 17:15:49 : alignSnds::INFO::run: supervp -P0 -Afft -Z -sync_pc 1 -D/tmp/alignD52307.par -M0.026866s -oversamp 8 -S /Users/robinson/Downloads/data/Olivia2006/Olivia2006_AUDIO/Olivia2006.e07.p04.i00.384.wav -shape 1 -vu_f0lim 1,5 -Vuf -4 -vu_dem 3 /Users/robinson/Downloads/data/Olivia2006/Olivia2006_AUDIO/timestretch/Olivia2006.e07.p04.i00.384.OUT.wav\n"
     ]
    },
    {
     "name": "stderr",
     "output_type": "stream",
     "text": [
      "07/27/2018 17:15:50 : alignSnds::INFO::run: supervp -P0 -Afft -Z -sync_pc 1 -D/tmp/alignD52307.par -M0.0270119s -oversamp 8 -S /Users/robinson/Downloads/data/Olivia2006/Olivia2006_AUDIO/Olivia2006.e08.p04.i00.445.wav -shape 1 -vu_f0lim 1,5 -Vuf -4 -vu_dem 3 /Users/robinson/Downloads/data/Olivia2006/Olivia2006_AUDIO/timestretch/Olivia2006.e08.p04.i00.445.OUT.wav\n"
     ]
    },
    {
     "name": "stderr",
     "output_type": "stream",
     "text": [
      "07/27/2018 17:15:50 : alignSnds::INFO::run: supervp -P0 -Afft -Z -sync_pc 1 -D/tmp/alignD52307.par -M0.0250397s -oversamp 8 -S /Users/robinson/Downloads/data/Olivia2006/Olivia2006_AUDIO/Olivia2006.e01.p05.i00.26.wav -shape 1 -vu_f0lim 1,5 -Vuf -4 -vu_dem 3 /Users/robinson/Downloads/data/Olivia2006/Olivia2006_AUDIO/timestretch/Olivia2006.e01.p05.i00.26.OUT.wav\n"
     ]
    },
    {
     "name": "stderr",
     "output_type": "stream",
     "text": [
      "07/27/2018 17:15:51 : alignSnds::INFO::run: supervp -P0 -Afft -Z -sync_pc 1 -D/tmp/alignD52307.par -M0.024283s -oversamp 8 -S /Users/robinson/Downloads/data/Olivia2006/Olivia2006_AUDIO/Olivia2006.e02.p05.i00.86.wav -shape 1 -vu_f0lim 1,5 -Vuf -4 -vu_dem 3 /Users/robinson/Downloads/data/Olivia2006/Olivia2006_AUDIO/timestretch/Olivia2006.e02.p05.i00.86.OUT.wav\n"
     ]
    },
    {
     "name": "stderr",
     "output_type": "stream",
     "text": [
      "07/27/2018 17:15:51 : alignSnds::INFO::run: supervp -P0 -Afft -Z -sync_pc 1 -D/tmp/alignD52307.par -M0.0249946s -oversamp 8 -S /Users/robinson/Downloads/data/Olivia2006/Olivia2006_AUDIO/Olivia2006.e03.p05.i00.145.wav -shape 1 -vu_f0lim 1,5 -Vuf -4 -vu_dem 3 /Users/robinson/Downloads/data/Olivia2006/Olivia2006_AUDIO/timestretch/Olivia2006.e03.p05.i00.145.OUT.wav\n"
     ]
    },
    {
     "name": "stderr",
     "output_type": "stream",
     "text": [
      "07/27/2018 17:15:52 : alignSnds::INFO::run: supervp -P0 -Afft -Z -sync_pc 1 -D/tmp/alignD52307.par -M0.0246585s -oversamp 8 -S /Users/robinson/Downloads/data/Olivia2006/Olivia2006_AUDIO/Olivia2006.e04.p05.i00.206.wav -shape 1 -vu_f0lim 1,5 -Vuf -4 -vu_dem 3 /Users/robinson/Downloads/data/Olivia2006/Olivia2006_AUDIO/timestretch/Olivia2006.e04.p05.i00.206.OUT.wav\n"
     ]
    },
    {
     "name": "stderr",
     "output_type": "stream",
     "text": [
      "07/27/2018 17:15:52 : alignSnds::INFO::run: supervp -P0 -Afft -Z -sync_pc 1 -D/tmp/alignD52307.par -M0.0203827s -oversamp 8 -S /Users/robinson/Downloads/data/Olivia2006/Olivia2006_AUDIO/Olivia2006.e05.p05.i00.266.wav -shape 1 -vu_f0lim 1,5 -Vuf -4 -vu_dem 3 /Users/robinson/Downloads/data/Olivia2006/Olivia2006_AUDIO/timestretch/Olivia2006.e05.p05.i00.266.OUT.wav\n"
     ]
    },
    {
     "name": "stderr",
     "output_type": "stream",
     "text": [
      "07/27/2018 17:15:53 : alignSnds::INFO::run: supervp -P0 -Afft -Z -sync_pc 1 -D/tmp/alignD52307.par -M0.025381s -oversamp 8 -S /Users/robinson/Downloads/data/Olivia2006/Olivia2006_AUDIO/Olivia2006.e06.p05.i00.330.wav -shape 1 -vu_f0lim 1,5 -Vuf -4 -vu_dem 3 /Users/robinson/Downloads/data/Olivia2006/Olivia2006_AUDIO/timestretch/Olivia2006.e06.p05.i00.330.OUT.wav\n"
     ]
    },
    {
     "name": "stderr",
     "output_type": "stream",
     "text": [
      "07/27/2018 17:15:53 : alignSnds::INFO::run: supervp -P0 -Afft -Z -sync_pc 1 -D/tmp/alignD52307.par -M0.0268175s -oversamp 8 -S /Users/robinson/Downloads/data/Olivia2006/Olivia2006_AUDIO/Olivia2006.e07.p05.i00.390.wav -shape 1 -vu_f0lim 1,5 -Vuf -4 -vu_dem 3 /Users/robinson/Downloads/data/Olivia2006/Olivia2006_AUDIO/timestretch/Olivia2006.e07.p05.i00.390.OUT.wav\n"
     ]
    },
    {
     "name": "stderr",
     "output_type": "stream",
     "text": [
      "07/27/2018 17:15:54 : alignSnds::INFO::run: supervp -P0 -Afft -Z -sync_pc 1 -D/tmp/alignD52307.par -M0.0258433s -oversamp 8 -S /Users/robinson/Downloads/data/Olivia2006/Olivia2006_AUDIO/Olivia2006.e08.p05.i00.451.wav -shape 1 -vu_f0lim 1,5 -Vuf -4 -vu_dem 3 /Users/robinson/Downloads/data/Olivia2006/Olivia2006_AUDIO/timestretch/Olivia2006.e08.p05.i00.451.OUT.wav\n"
     ]
    },
    {
     "name": "stderr",
     "output_type": "stream",
     "text": [
      "07/27/2018 17:15:54 : alignSnds::INFO::run: supervp -P0 -Afft -Z -sync_pc 1 -D/tmp/alignD52307.par -M0.0277532s -oversamp 8 -S /Users/robinson/Downloads/data/Olivia2006/Olivia2006_AUDIO/Olivia2006.e01.p06.i00.32.wav -shape 1 -vu_f0lim 1,5 -Vuf -4 -vu_dem 3 /Users/robinson/Downloads/data/Olivia2006/Olivia2006_AUDIO/timestretch/Olivia2006.e01.p06.i00.32.OUT.wav\n"
     ]
    },
    {
     "name": "stderr",
     "output_type": "stream",
     "text": [
      "07/27/2018 17:15:55 : alignSnds::INFO::run: supervp -P0 -Afft -Z -sync_pc 1 -D/tmp/alignD52307.par -M0.0260071s -oversamp 8 -S /Users/robinson/Downloads/data/Olivia2006/Olivia2006_AUDIO/Olivia2006.e02.p06.i00.92.wav -shape 1 -vu_f0lim 1,5 -Vuf -4 -vu_dem 3 /Users/robinson/Downloads/data/Olivia2006/Olivia2006_AUDIO/timestretch/Olivia2006.e02.p06.i00.92.OUT.wav\n"
     ]
    },
    {
     "name": "stderr",
     "output_type": "stream",
     "text": [
      "07/27/2018 17:15:55 : alignSnds::INFO::run: supervp -P0 -Afft -Z -sync_pc 1 -D/tmp/alignD52307.par -M0.0269145s -oversamp 8 -S /Users/robinson/Downloads/data/Olivia2006/Olivia2006_AUDIO/Olivia2006.e03.p06.i00.151.wav -shape 1 -vu_f0lim 1,5 -Vuf -4 -vu_dem 3 /Users/robinson/Downloads/data/Olivia2006/Olivia2006_AUDIO/timestretch/Olivia2006.e03.p06.i00.151.OUT.wav\n"
     ]
    },
    {
     "name": "stderr",
     "output_type": "stream",
     "text": [
      "07/27/2018 17:15:55 : alignSnds::INFO::run: supervp -P0 -Afft -Z -sync_pc 1 -D/tmp/alignD52307.par -M0.0209421s -oversamp 8 -S /Users/robinson/Downloads/data/Olivia2006/Olivia2006_AUDIO/Olivia2006.e04.p06.i00.212.wav -shape 1 -vu_f0lim 1,5 -Vuf -4 -vu_dem 3 /Users/robinson/Downloads/data/Olivia2006/Olivia2006_AUDIO/timestretch/Olivia2006.e04.p06.i00.212.OUT.wav\n"
     ]
    },
    {
     "name": "stderr",
     "output_type": "stream",
     "text": [
      "07/27/2018 17:15:56 : alignSnds::INFO::run: supervp -P0 -Afft -Z -sync_pc 1 -D/tmp/alignD52307.par -M0.0237412s -oversamp 8 -S /Users/robinson/Downloads/data/Olivia2006/Olivia2006_AUDIO/Olivia2006.e05.p06.i00.272.wav -shape 1 -vu_f0lim 1,5 -Vuf -4 -vu_dem 3 /Users/robinson/Downloads/data/Olivia2006/Olivia2006_AUDIO/timestretch/Olivia2006.e05.p06.i00.272.OUT.wav\n"
     ]
    },
    {
     "name": "stderr",
     "output_type": "stream",
     "text": [
      "07/27/2018 17:15:56 : alignSnds::INFO::run: supervp -P0 -Afft -Z -sync_pc 1 -D/tmp/alignD52307.par -M0.0197667s -oversamp 8 -S /Users/robinson/Downloads/data/Olivia2006/Olivia2006_AUDIO/Olivia2006.e06.p06.i00.336.wav -shape 1 -vu_f0lim 1,5 -Vuf -4 -vu_dem 3 /Users/robinson/Downloads/data/Olivia2006/Olivia2006_AUDIO/timestretch/Olivia2006.e06.p06.i00.336.OUT.wav\n"
     ]
    },
    {
     "name": "stderr",
     "output_type": "stream",
     "text": [
      "07/27/2018 17:15:57 : alignSnds::INFO::run: supervp -P0 -Afft -Z -sync_pc 1 -D/tmp/alignD52307.par -M0.0290606s -oversamp 8 -S /Users/robinson/Downloads/data/Olivia2006/Olivia2006_AUDIO/Olivia2006.e07.p06.i00.396.wav -shape 1 -vu_f0lim 1,5 -Vuf -4 -vu_dem 3 /Users/robinson/Downloads/data/Olivia2006/Olivia2006_AUDIO/timestretch/Olivia2006.e07.p06.i00.396.OUT.wav\n"
     ]
    },
    {
     "name": "stderr",
     "output_type": "stream",
     "text": [
      "07/27/2018 17:15:57 : alignSnds::INFO::run: supervp -P0 -Afft -Z -sync_pc 1 -D/tmp/alignD52307.par -M0.0206046s -oversamp 8 -S /Users/robinson/Downloads/data/Olivia2006/Olivia2006_AUDIO/Olivia2006.e08.p06.i00.457.wav -shape 1 -vu_f0lim 1,5 -Vuf -4 -vu_dem 3 /Users/robinson/Downloads/data/Olivia2006/Olivia2006_AUDIO/timestretch/Olivia2006.e08.p06.i00.457.OUT.wav\n"
     ]
    },
    {
     "name": "stderr",
     "output_type": "stream",
     "text": [
      "07/27/2018 17:15:58 : alignSnds::INFO::run: supervp -P0 -Afft -Z -sync_pc 1 -D/tmp/alignD52307.par -M0.0493615s -oversamp 8 -S /Users/robinson/Downloads/data/Olivia2006/Olivia2006_AUDIO/Olivia2006.e01.p07.i00.38.wav -shape 1 -vu_f0lim 1,5 -Vuf -4 -vu_dem 3 /Users/robinson/Downloads/data/Olivia2006/Olivia2006_AUDIO/timestretch/Olivia2006.e01.p07.i00.38.OUT.wav\n"
     ]
    },
    {
     "name": "stderr",
     "output_type": "stream",
     "text": [
      "07/27/2018 17:15:58 : alignSnds::INFO::run: supervp -P0 -Afft -Z -sync_pc 1 -D/tmp/alignD52307.par -M0.025727s -oversamp 8 -S /Users/robinson/Downloads/data/Olivia2006/Olivia2006_AUDIO/Olivia2006.e02.p07.i00.98.wav -shape 1 -vu_f0lim 1,5 -Vuf -4 -vu_dem 3 /Users/robinson/Downloads/data/Olivia2006/Olivia2006_AUDIO/timestretch/Olivia2006.e02.p07.i00.98.OUT.wav\n"
     ]
    },
    {
     "name": "stderr",
     "output_type": "stream",
     "text": [
      "07/27/2018 17:15:58 : alignSnds::INFO::run: supervp -P0 -Afft -Z -sync_pc 1 -D/tmp/alignD52307.par -M0.0267209s -oversamp 8 -S /Users/robinson/Downloads/data/Olivia2006/Olivia2006_AUDIO/Olivia2006.e03.p07.i00.157.wav -shape 1 -vu_f0lim 1,5 -Vuf -4 -vu_dem 3 /Users/robinson/Downloads/data/Olivia2006/Olivia2006_AUDIO/timestretch/Olivia2006.e03.p07.i00.157.OUT.wav\n"
     ]
    },
    {
     "name": "stderr",
     "output_type": "stream",
     "text": [
      "07/27/2018 17:15:59 : alignSnds::INFO::run: supervp -P0 -Afft -Z -sync_pc 1 -D/tmp/alignD52307.par -M0.0243708s -oversamp 8 -S /Users/robinson/Downloads/data/Olivia2006/Olivia2006_AUDIO/Olivia2006.e04.p07.i00.218.wav -shape 1 -vu_f0lim 1,5 -Vuf -4 -vu_dem 3 /Users/robinson/Downloads/data/Olivia2006/Olivia2006_AUDIO/timestretch/Olivia2006.e04.p07.i00.218.OUT.wav\n"
     ]
    },
    {
     "name": "stderr",
     "output_type": "stream",
     "text": [
      "07/27/2018 17:15:59 : alignSnds::INFO::run: supervp -P0 -Afft -Z -sync_pc 1 -D/tmp/alignD52307.par -M0.0242174s -oversamp 8 -S /Users/robinson/Downloads/data/Olivia2006/Olivia2006_AUDIO/Olivia2006.e05.p07.i00.279.wav -shape 1 -vu_f0lim 1,5 -Vuf -4 -vu_dem 3 /Users/robinson/Downloads/data/Olivia2006/Olivia2006_AUDIO/timestretch/Olivia2006.e05.p07.i00.279.OUT.wav\n"
     ]
    },
    {
     "name": "stderr",
     "output_type": "stream",
     "text": [
      "07/27/2018 17:16:00 : alignSnds::INFO::run: supervp -P0 -Afft -Z -sync_pc 1 -D/tmp/alignD52307.par -M0.0226528s -oversamp 8 -S /Users/robinson/Downloads/data/Olivia2006/Olivia2006_AUDIO/Olivia2006.e06.p07.i00.342.wav -shape 1 -vu_f0lim 1,5 -Vuf -4 -vu_dem 3 /Users/robinson/Downloads/data/Olivia2006/Olivia2006_AUDIO/timestretch/Olivia2006.e06.p07.i00.342.OUT.wav\n"
     ]
    },
    {
     "name": "stderr",
     "output_type": "stream",
     "text": [
      "07/27/2018 17:16:00 : alignSnds::INFO::run: supervp -P0 -Afft -Z -sync_pc 1 -D/tmp/alignD52307.par -M0.0263616s -oversamp 8 -S /Users/robinson/Downloads/data/Olivia2006/Olivia2006_AUDIO/Olivia2006.e07.p07.i00.402.wav -shape 1 -vu_f0lim 1,5 -Vuf -4 -vu_dem 3 /Users/robinson/Downloads/data/Olivia2006/Olivia2006_AUDIO/timestretch/Olivia2006.e07.p07.i00.402.OUT.wav\n"
     ]
    },
    {
     "name": "stderr",
     "output_type": "stream",
     "text": [
      "07/27/2018 17:16:01 : alignSnds::INFO::run: supervp -P0 -Afft -Z -sync_pc 1 -D/tmp/alignD52307.par -M0.0232535s -oversamp 8 -S /Users/robinson/Downloads/data/Olivia2006/Olivia2006_AUDIO/Olivia2006.e08.p07.i00.463.wav -shape 1 -vu_f0lim 1,5 -Vuf -4 -vu_dem 3 /Users/robinson/Downloads/data/Olivia2006/Olivia2006_AUDIO/timestretch/Olivia2006.e08.p07.i00.463.OUT.wav\n"
     ]
    },
    {
     "name": "stderr",
     "output_type": "stream",
     "text": [
      "07/27/2018 17:16:01 : alignSnds::INFO::run: supervp -P0 -Afft -Z -sync_pc 1 -D/tmp/alignD52307.par -M0.0252212s -oversamp 8 -S /Users/robinson/Downloads/data/Olivia2006/Olivia2006_AUDIO/Olivia2006.e01.p08.i00.44.wav -shape 1 -vu_f0lim 1,5 -Vuf -4 -vu_dem 3 /Users/robinson/Downloads/data/Olivia2006/Olivia2006_AUDIO/timestretch/Olivia2006.e01.p08.i00.44.OUT.wav\n"
     ]
    },
    {
     "name": "stderr",
     "output_type": "stream",
     "text": [
      "07/27/2018 17:16:02 : alignSnds::INFO::run: supervp -P0 -Afft -Z -sync_pc 1 -D/tmp/alignD52307.par -M0.0261483s -oversamp 8 -S /Users/robinson/Downloads/data/Olivia2006/Olivia2006_AUDIO/Olivia2006.e02.p08.i00.104.wav -shape 1 -vu_f0lim 1,5 -Vuf -4 -vu_dem 3 /Users/robinson/Downloads/data/Olivia2006/Olivia2006_AUDIO/timestretch/Olivia2006.e02.p08.i00.104.OUT.wav\n"
     ]
    },
    {
     "name": "stderr",
     "output_type": "stream",
     "text": [
      "07/27/2018 17:16:02 : alignSnds::INFO::run: supervp -P0 -Afft -Z -sync_pc 1 -D/tmp/alignD52307.par -M0.0251984s -oversamp 8 -S /Users/robinson/Downloads/data/Olivia2006/Olivia2006_AUDIO/Olivia2006.e03.p08.i00.163.wav -shape 1 -vu_f0lim 1,5 -Vuf -4 -vu_dem 3 /Users/robinson/Downloads/data/Olivia2006/Olivia2006_AUDIO/timestretch/Olivia2006.e03.p08.i00.163.OUT.wav\n"
     ]
    },
    {
     "name": "stderr",
     "output_type": "stream",
     "text": [
      "07/27/2018 17:16:03 : alignSnds::INFO::run: supervp -P0 -Afft -Z -sync_pc 1 -D/tmp/alignD52307.par -M0.0219286s -oversamp 8 -S /Users/robinson/Downloads/data/Olivia2006/Olivia2006_AUDIO/Olivia2006.e04.p08.i00.224.wav -shape 1 -vu_f0lim 1,5 -Vuf -4 -vu_dem 3 /Users/robinson/Downloads/data/Olivia2006/Olivia2006_AUDIO/timestretch/Olivia2006.e04.p08.i00.224.OUT.wav\n"
     ]
    },
    {
     "name": "stderr",
     "output_type": "stream",
     "text": [
      "07/27/2018 17:16:03 : alignSnds::INFO::run: supervp -P0 -Afft -Z -sync_pc 1 -D/tmp/alignD52307.par -M0.0212851s -oversamp 8 -S /Users/robinson/Downloads/data/Olivia2006/Olivia2006_AUDIO/Olivia2006.e05.p08.i00.285.wav -shape 1 -vu_f0lim 1,5 -Vuf -4 -vu_dem 3 /Users/robinson/Downloads/data/Olivia2006/Olivia2006_AUDIO/timestretch/Olivia2006.e05.p08.i00.285.OUT.wav\n"
     ]
    },
    {
     "name": "stderr",
     "output_type": "stream",
     "text": [
      "07/27/2018 17:16:04 : alignSnds::INFO::run: supervp -P0 -Afft -Z -sync_pc 1 -D/tmp/alignD52307.par -M0.0225508s -oversamp 8 -S /Users/robinson/Downloads/data/Olivia2006/Olivia2006_AUDIO/Olivia2006.e06.p08.i00.348.wav -shape 1 -vu_f0lim 1,5 -Vuf -4 -vu_dem 3 /Users/robinson/Downloads/data/Olivia2006/Olivia2006_AUDIO/timestretch/Olivia2006.e06.p08.i00.348.OUT.wav\n"
     ]
    },
    {
     "name": "stderr",
     "output_type": "stream",
     "text": [
      "07/27/2018 17:16:04 : alignSnds::INFO::run: supervp -P0 -Afft -Z -sync_pc 1 -D/tmp/alignD52307.par -M0.0262903s -oversamp 8 -S /Users/robinson/Downloads/data/Olivia2006/Olivia2006_AUDIO/Olivia2006.e07.p08.i00.409.wav -shape 1 -vu_f0lim 1,5 -Vuf -4 -vu_dem 3 /Users/robinson/Downloads/data/Olivia2006/Olivia2006_AUDIO/timestretch/Olivia2006.e07.p08.i00.409.OUT.wav\n"
     ]
    },
    {
     "name": "stderr",
     "output_type": "stream",
     "text": [
      "07/27/2018 17:16:05 : alignSnds::INFO::run: supervp -P0 -Afft -Z -sync_pc 1 -D/tmp/alignD52307.par -M0.0232116s -oversamp 8 -S /Users/robinson/Downloads/data/Olivia2006/Olivia2006_AUDIO/Olivia2006.e08.p08.i00.469.wav -shape 1 -vu_f0lim 1,5 -Vuf -4 -vu_dem 3 /Users/robinson/Downloads/data/Olivia2006/Olivia2006_AUDIO/timestretch/Olivia2006.e08.p08.i00.469.OUT.wav\n"
     ]
    },
    {
     "name": "stderr",
     "output_type": "stream",
     "text": [
      "07/27/2018 17:16:05 : alignSnds::INFO::run: supervp -P0 -Afft -Z -sync_pc 1 -D/tmp/alignD52307.par -M0.0240648s -oversamp 8 -S /Users/robinson/Downloads/data/Olivia2006/Olivia2006_AUDIO/Olivia2006.e01.p09.i00.50.wav -shape 1 -vu_f0lim 1,5 -Vuf -4 -vu_dem 3 /Users/robinson/Downloads/data/Olivia2006/Olivia2006_AUDIO/timestretch/Olivia2006.e01.p09.i00.50.OUT.wav\n"
     ]
    },
    {
     "name": "stderr",
     "output_type": "stream",
     "text": [
      "07/27/2018 17:16:06 : alignSnds::INFO::run: supervp -P0 -Afft -Z -sync_pc 1 -D/tmp/alignD52307.par -M0.0284635s -oversamp 8 -S /Users/robinson/Downloads/data/Olivia2006/Olivia2006_AUDIO/Olivia2006.e02.p09.i00.110.wav -shape 1 -vu_f0lim 1,5 -Vuf -4 -vu_dem 3 /Users/robinson/Downloads/data/Olivia2006/Olivia2006_AUDIO/timestretch/Olivia2006.e02.p09.i00.110.OUT.wav\n"
     ]
    },
    {
     "name": "stderr",
     "output_type": "stream",
     "text": [
      "07/27/2018 17:16:06 : alignSnds::INFO::run: supervp -P0 -Afft -Z -sync_pc 1 -D/tmp/alignD52307.par -M0.0280049s -oversamp 8 -S /Users/robinson/Downloads/data/Olivia2006/Olivia2006_AUDIO/Olivia2006.e03.p09.i00.169.wav -shape 1 -vu_f0lim 1,5 -Vuf -4 -vu_dem 3 /Users/robinson/Downloads/data/Olivia2006/Olivia2006_AUDIO/timestretch/Olivia2006.e03.p09.i00.169.OUT.wav\n"
     ]
    },
    {
     "name": "stderr",
     "output_type": "stream",
     "text": [
      "07/27/2018 17:16:07 : alignSnds::INFO::run: supervp -P0 -Afft -Z -sync_pc 1 -D/tmp/alignD52307.par -M0.0251757s -oversamp 8 -S /Users/robinson/Downloads/data/Olivia2006/Olivia2006_AUDIO/Olivia2006.e04.p09.i00.230.wav -shape 1 -vu_f0lim 1,5 -Vuf -4 -vu_dem 3 /Users/robinson/Downloads/data/Olivia2006/Olivia2006_AUDIO/timestretch/Olivia2006.e04.p09.i00.230.OUT.wav\n"
     ]
    },
    {
     "name": "stderr",
     "output_type": "stream",
     "text": [
      "07/27/2018 17:16:07 : alignSnds::INFO::run: supervp -P0 -Afft -Z -sync_pc 1 -D/tmp/alignD52307.par -M0.0244369s -oversamp 8 -S /Users/robinson/Downloads/data/Olivia2006/Olivia2006_AUDIO/Olivia2006.e05.p09.i00.291.wav -shape 1 -vu_f0lim 1,5 -Vuf -4 -vu_dem 3 /Users/robinson/Downloads/data/Olivia2006/Olivia2006_AUDIO/timestretch/Olivia2006.e05.p09.i00.291.OUT.wav\n"
     ]
    },
    {
     "name": "stderr",
     "output_type": "stream",
     "text": [
      "07/27/2018 17:16:08 : alignSnds::INFO::run: supervp -P0 -Afft -Z -sync_pc 1 -D/tmp/alignD52307.par -M0.0252896s -oversamp 8 -S /Users/robinson/Downloads/data/Olivia2006/Olivia2006_AUDIO/Olivia2006.e06.p09.i00.354.wav -shape 1 -vu_f0lim 1,5 -Vuf -4 -vu_dem 3 /Users/robinson/Downloads/data/Olivia2006/Olivia2006_AUDIO/timestretch/Olivia2006.e06.p09.i00.354.OUT.wav\n"
     ]
    },
    {
     "name": "stderr",
     "output_type": "stream",
     "text": [
      "07/27/2018 17:16:08 : alignSnds::INFO::run: supervp -P0 -Afft -Z -sync_pc 1 -D/tmp/alignD52307.par -M0.025153s -oversamp 8 -S /Users/robinson/Downloads/data/Olivia2006/Olivia2006_AUDIO/Olivia2006.e07.p09.i00.415.wav -shape 1 -vu_f0lim 1,5 -Vuf -4 -vu_dem 3 /Users/robinson/Downloads/data/Olivia2006/Olivia2006_AUDIO/timestretch/Olivia2006.e07.p09.i00.415.OUT.wav\n"
     ]
    },
    {
     "name": "stderr",
     "output_type": "stream",
     "text": [
      "07/27/2018 17:16:09 : alignSnds::INFO::run: supervp -P0 -Afft -Z -sync_pc 1 -D/tmp/alignD52307.par -M0.0274048s -oversamp 8 -S /Users/robinson/Downloads/data/Olivia2006/Olivia2006_AUDIO/Olivia2006.e08.p09.i00.475.wav -shape 1 -vu_f0lim 1,5 -Vuf -4 -vu_dem 3 /Users/robinson/Downloads/data/Olivia2006/Olivia2006_AUDIO/timestretch/Olivia2006.e08.p09.i00.475.OUT.wav\n"
     ]
    },
    {
     "name": "stderr",
     "output_type": "stream",
     "text": [
      "07/27/2018 17:16:09 : alignSnds::INFO::run: supervp -P0 -Afft -Z -sync_pc 1 -D/tmp/alignD52307.par -M0.0282078s -oversamp 8 -S /Users/robinson/Downloads/data/Olivia2006/Olivia2006_AUDIO/Olivia2006.e01.p10.i00.56.wav -shape 1 -vu_f0lim 1,5 -Vuf -4 -vu_dem 3 /Users/robinson/Downloads/data/Olivia2006/Olivia2006_AUDIO/timestretch/Olivia2006.e01.p10.i00.56.OUT.wav\n"
     ]
    },
    {
     "name": "stderr",
     "output_type": "stream",
     "text": [
      "07/27/2018 17:16:10 : alignSnds::INFO::run: supervp -P0 -Afft -Z -sync_pc 1 -D/tmp/alignD52307.par -M0.024703s -oversamp 8 -S /Users/robinson/Downloads/data/Olivia2006/Olivia2006_AUDIO/Olivia2006.e02.p10.i00.116.wav -shape 1 -vu_f0lim 1,5 -Vuf -4 -vu_dem 3 /Users/robinson/Downloads/data/Olivia2006/Olivia2006_AUDIO/timestretch/Olivia2006.e02.p10.i00.116.OUT.wav\n"
     ]
    },
    {
     "name": "stderr",
     "output_type": "stream",
     "text": [
      "07/27/2018 17:16:10 : alignSnds::INFO::run: supervp -P0 -Afft -Z -sync_pc 1 -D/tmp/alignD52307.par -M0.0252439s -oversamp 8 -S /Users/robinson/Downloads/data/Olivia2006/Olivia2006_AUDIO/Olivia2006.e03.p10.i00.175.wav -shape 1 -vu_f0lim 1,5 -Vuf -4 -vu_dem 3 /Users/robinson/Downloads/data/Olivia2006/Olivia2006_AUDIO/timestretch/Olivia2006.e03.p10.i00.175.OUT.wav\n"
     ]
    },
    {
     "name": "stderr",
     "output_type": "stream",
     "text": [
      "07/27/2018 17:16:11 : alignSnds::INFO::run: supervp -P0 -Afft -Z -sync_pc 1 -D/tmp/alignD52307.par -M0.0241519s -oversamp 8 -S /Users/robinson/Downloads/data/Olivia2006/Olivia2006_AUDIO/Olivia2006.e04.p10.i00.236.wav -shape 1 -vu_f0lim 1,5 -Vuf -4 -vu_dem 3 /Users/robinson/Downloads/data/Olivia2006/Olivia2006_AUDIO/timestretch/Olivia2006.e04.p10.i00.236.OUT.wav\n"
     ]
    },
    {
     "name": "stderr",
     "output_type": "stream",
     "text": [
      "07/27/2018 17:16:11 : alignSnds::INFO::run: supervp -P0 -Afft -Z -sync_pc 1 -D/tmp/alignD52307.par -M0.0235492s -oversamp 8 -S /Users/robinson/Downloads/data/Olivia2006/Olivia2006_AUDIO/Olivia2006.e05.p10.i00.298.wav -shape 1 -vu_f0lim 1,5 -Vuf -4 -vu_dem 3 /Users/robinson/Downloads/data/Olivia2006/Olivia2006_AUDIO/timestretch/Olivia2006.e05.p10.i00.298.OUT.wav\n"
     ]
    },
    {
     "name": "stderr",
     "output_type": "stream",
     "text": [
      "07/27/2018 17:16:11 : alignSnds::INFO::run: supervp -P0 -Afft -Z -sync_pc 1 -D/tmp/alignD52307.par -M0.0242392s -oversamp 8 -S /Users/robinson/Downloads/data/Olivia2006/Olivia2006_AUDIO/Olivia2006.e06.p10.i00.360.wav -shape 1 -vu_f0lim 1,5 -Vuf -4 -vu_dem 3 /Users/robinson/Downloads/data/Olivia2006/Olivia2006_AUDIO/timestretch/Olivia2006.e06.p10.i00.360.OUT.wav\n"
     ]
    },
    {
     "name": "stderr",
     "output_type": "stream",
     "text": [
      "07/27/2018 17:16:12 : alignSnds::INFO::run: supervp -P0 -Afft -Z -sync_pc 1 -D/tmp/alignD52307.par -M0.0269388s -oversamp 8 -S /Users/robinson/Downloads/data/Olivia2006/Olivia2006_AUDIO/Olivia2006.e07.p10.i00.421.wav -shape 1 -vu_f0lim 1,5 -Vuf -4 -vu_dem 3 /Users/robinson/Downloads/data/Olivia2006/Olivia2006_AUDIO/timestretch/Olivia2006.e07.p10.i00.421.OUT.wav\n"
     ]
    },
    {
     "name": "stderr",
     "output_type": "stream",
     "text": [
      "07/27/2018 17:16:12 : alignSnds::INFO::run: supervp -P0 -Afft -Z -sync_pc 1 -D/tmp/alignD52307.par -M0.0257734s -oversamp 8 -S /Users/robinson/Downloads/data/Olivia2006/Olivia2006_AUDIO/Olivia2006.e08.p10.i00.481.wav -shape 1 -vu_f0lim 1,5 -Vuf -4 -vu_dem 3 /Users/robinson/Downloads/data/Olivia2006/Olivia2006_AUDIO/timestretch/Olivia2006.e08.p10.i00.481.OUT.wav\n"
     ]
    },
    {
     "name": "stdout",
     "output_type": "stream",
     "text": [
      "done\n"
     ]
    }
   ],
   "source": [
    "'''\n",
    "# def alignSnds(sndfile_to_be_aligned, outfile, temporal_positions,\n",
    "#               winsize,  svpcmd=svp_executable, shape=False,\n",
    "#               transients=False, oversamp=8, vudem=3, transdet_minren=None, verbose=False) :\n",
    "#     use supervp to align sndfile_to_be_aligned to sndfile by means of stretching\n",
    "#     the first to align to the second.\n",
    "\n",
    "# time stretch whole source soundfile\n",
    "# param: sndfile_to_be_aligned: source soundfile from olivia2006 dataset\n",
    "# param: outfile: output file\n",
    "# param: temporal_positions: list of tuples of time before, time after\n",
    "\n",
    "shares vars with above code, so run all\n",
    "'''\n",
    "\n",
    "# bug: before times has duplicates in it.. 'phon_time.txt'\n",
    "\n",
    "# open files and split into list of lines\n",
    "f_wav_files = open(os.path.join(output_directory, filename_wav_files), 'r')\n",
    "wav_files = f_wav_files.read().split('\\n')\n",
    "f_phon_time = open(os.path.join(output_directory, filename_phon_time), 'r')\n",
    "phon_times = f_phon_time.read().split('\\n')\n",
    "f_new_phon_time = open(os.path.join(output_directory, filename_new_phon_time), 'r')\n",
    "new_phon_times = f_new_phon_time.read().split('\\n')\n",
    "f_phon_vals_min = open(os.path.join(output_directory, filename_phon_vals_min), 'r')\n",
    "phon_vals_min = f_phon_vals_min.read().split('\\n')\n",
    "\n",
    "# debug\n",
    "# wav_files = ['Olivia2006.e01.p01.i00.1.wav']\n",
    "# print(wav_files)\n",
    "\n",
    "# for each file in enumerate(wav_files)\n",
    "for i, wav_file in enumerate(wav_files):\n",
    "    # skip if wav_file is empty:\n",
    "    if not wav_file:\n",
    "        continue\n",
    "#     build the full path for sndfile_to_be_aligned\n",
    "    wav_file_path = os.path.join(wav_input_directory_path, wav_file)\n",
    "    # print('wav_file_path ', wav_file_path)\n",
    "#     get before times and after times from corresponding row of the two phon_time files, and put in lists\n",
    "    before_times = phon_times[i].split(',')\n",
    "    before_times = [float(x) for x in before_times if x]\n",
    "    # print('before_times ', before_times)\n",
    "    end_times = new_phon_times[i].split(',')\n",
    "    end_times = [float(x) for x in end_times if x]\n",
    "    # print('end_times ', end_times)\n",
    "#     make temporal_positions list of tuples from corresponding items from each list\n",
    "#     temporal_positions = list(zip(before_times, end_times))\n",
    "\n",
    "    # loop through zipped list backwards, removing any tuples that have identical elements\n",
    "    # this is to solve RuntimeError(\"do not support alignment with zero size segments.\")\n",
    "    # length = len(temporal_positions)\n",
    "    # # print(length)\n",
    "    # for j in range(length - 1, -1, -1):\n",
    "    #     print(j)\n",
    "    #     print(temporal_positions[j])\n",
    "    #     print(temporal_positions[j][0])\n",
    "    #     print(temporal_positions[j][1])\n",
    "    #     if temporal_positions[j][0] == temporal_positions[j][1]:\n",
    "    #         del temporal_positions[j]\n",
    "    #         print('del ', j)\n",
    "\n",
    "    # [del temporal_positions[i] if temporal_positions[i][0] == temporal_positions[i][1] for i, x in enumerate(temporal_positions)]\n",
    "    # print(temporal_positions)\n",
    "\n",
    "    # convert cleaned list of tuples to list of two-element arrays\n",
    "    temporal_positions = [np.array(x) for x in zip(before_times, end_times)]\n",
    "    # print('temporal_positions ', temporal_positions)\n",
    "    # print('len ', len(temporal_positions))\n",
    "\n",
    "#     make outfile name from infile name\n",
    "#     print('wav_file ', wav_file)\n",
    "    wav_file_out, ext = os.path.splitext(wav_file)\n",
    "    wav_file_out = wav_file_out + '.OUT' + ext\n",
    "    # print('wav_file_out ', wav_file_out)\n",
    "    wav_file_out_path = os.path.join(output_directory, wav_file_out)\n",
    "#     make winsize\n",
    "    winsize = 4 * (1/float(phon_vals_min[i]))\n",
    "    # winsize = 800 # works much better\n",
    "    # print('i ', i)\n",
    "    # print('winsize ', winsize)\n",
    "#     call alignSnds with above params: shape=True, winsize = 4 x f0_min of unvoiced regions of THIS (source) wav file\n",
    "    alignSnds(wav_file_path, wav_file_out_path, temporal_positions, winsize, shape=True, verbose=True)\n",
    "    # print('******************')\n",
    "\n",
    "print('done')\n"
   ]
  },
  {
   "cell_type": "markdown",
   "metadata": {},
   "source": [
    "<h3>Read in time stretched WAV files, extract f0 of each, and output result SDIF files"
   ]
  },
  {
   "cell_type": "code",
   "execution_count": 162,
   "metadata": {
    "collapsed": true
   },
   "outputs": [
    {
     "name": "stdout",
     "output_type": "stream",
     "text": [
      "/Users/robinson/Downloads/data/Olivia2006/Olivia2006_AUDIO/timestretch/.DS_Store\n/Users/robinson/Downloads/data/Olivia2006/Olivia2006_AUDIO/timestretch/Olivia2006.e01.p01.i00.1.OUT.wav\n"
     ]
    },
    {
     "name": "stdout",
     "output_type": "stream",
     "text": [
      "/Users/robinson/Downloads/data/Olivia2006/Olivia2006_AUDIO/timestretch/Olivia2006.e01.p02.i00.8.OUT.wav\n"
     ]
    },
    {
     "name": "stdout",
     "output_type": "stream",
     "text": [
      "/Users/robinson/Downloads/data/Olivia2006/Olivia2006_AUDIO/timestretch/Olivia2006.e01.p03.i00.14.OUT.wav\n"
     ]
    },
    {
     "name": "stdout",
     "output_type": "stream",
     "text": [
      "/Users/robinson/Downloads/data/Olivia2006/Olivia2006_AUDIO/timestretch/Olivia2006.e01.p04.i00.20.OUT.wav\n"
     ]
    },
    {
     "name": "stdout",
     "output_type": "stream",
     "text": [
      "/Users/robinson/Downloads/data/Olivia2006/Olivia2006_AUDIO/timestretch/Olivia2006.e01.p05.i00.26.OUT.wav\n"
     ]
    },
    {
     "name": "stdout",
     "output_type": "stream",
     "text": [
      "/Users/robinson/Downloads/data/Olivia2006/Olivia2006_AUDIO/timestretch/Olivia2006.e01.p06.i00.32.OUT.wav\n"
     ]
    },
    {
     "name": "stdout",
     "output_type": "stream",
     "text": [
      "/Users/robinson/Downloads/data/Olivia2006/Olivia2006_AUDIO/timestretch/Olivia2006.e01.p07.i00.38.OUT.wav\n"
     ]
    },
    {
     "name": "stdout",
     "output_type": "stream",
     "text": [
      "/Users/robinson/Downloads/data/Olivia2006/Olivia2006_AUDIO/timestretch/Olivia2006.e01.p08.i00.44.OUT.wav\n"
     ]
    },
    {
     "name": "stdout",
     "output_type": "stream",
     "text": [
      "/Users/robinson/Downloads/data/Olivia2006/Olivia2006_AUDIO/timestretch/Olivia2006.e01.p09.i00.50.OUT.wav\n"
     ]
    },
    {
     "name": "stdout",
     "output_type": "stream",
     "text": [
      "/Users/robinson/Downloads/data/Olivia2006/Olivia2006_AUDIO/timestretch/Olivia2006.e01.p10.i00.56.OUT.wav\n"
     ]
    },
    {
     "name": "stdout",
     "output_type": "stream",
     "text": [
      "/Users/robinson/Downloads/data/Olivia2006/Olivia2006_AUDIO/timestretch/Olivia2006.e02.p01.i00.62.OUT.wav\n"
     ]
    },
    {
     "name": "stdout",
     "output_type": "stream",
     "text": [
      "/Users/robinson/Downloads/data/Olivia2006/Olivia2006_AUDIO/timestretch/Olivia2006.e02.p02.i00.68.OUT.wav\n"
     ]
    },
    {
     "name": "stdout",
     "output_type": "stream",
     "text": [
      "/Users/robinson/Downloads/data/Olivia2006/Olivia2006_AUDIO/timestretch/Olivia2006.e02.p03.i00.74.OUT.wav\n"
     ]
    },
    {
     "name": "stdout",
     "output_type": "stream",
     "text": [
      "/Users/robinson/Downloads/data/Olivia2006/Olivia2006_AUDIO/timestretch/Olivia2006.e02.p04.i00.80.OUT.wav\n"
     ]
    },
    {
     "name": "stdout",
     "output_type": "stream",
     "text": [
      "/Users/robinson/Downloads/data/Olivia2006/Olivia2006_AUDIO/timestretch/Olivia2006.e02.p05.i00.86.OUT.wav\n"
     ]
    },
    {
     "name": "stdout",
     "output_type": "stream",
     "text": [
      "/Users/robinson/Downloads/data/Olivia2006/Olivia2006_AUDIO/timestretch/Olivia2006.e02.p06.i00.92.OUT.wav\n"
     ]
    },
    {
     "name": "stdout",
     "output_type": "stream",
     "text": [
      "/Users/robinson/Downloads/data/Olivia2006/Olivia2006_AUDIO/timestretch/Olivia2006.e02.p07.i00.98.OUT.wav\n"
     ]
    },
    {
     "name": "stdout",
     "output_type": "stream",
     "text": [
      "/Users/robinson/Downloads/data/Olivia2006/Olivia2006_AUDIO/timestretch/Olivia2006.e02.p08.i00.104.OUT.wav\n"
     ]
    },
    {
     "name": "stdout",
     "output_type": "stream",
     "text": [
      "/Users/robinson/Downloads/data/Olivia2006/Olivia2006_AUDIO/timestretch/Olivia2006.e02.p09.i00.110.OUT.wav\n"
     ]
    },
    {
     "name": "stdout",
     "output_type": "stream",
     "text": [
      "/Users/robinson/Downloads/data/Olivia2006/Olivia2006_AUDIO/timestretch/Olivia2006.e02.p10.i00.116.OUT.wav\n"
     ]
    },
    {
     "name": "stdout",
     "output_type": "stream",
     "text": [
      "/Users/robinson/Downloads/data/Olivia2006/Olivia2006_AUDIO/timestretch/Olivia2006.e03.p01.i00.122.OUT.wav\n"
     ]
    },
    {
     "name": "stdout",
     "output_type": "stream",
     "text": [
      "/Users/robinson/Downloads/data/Olivia2006/Olivia2006_AUDIO/timestretch/Olivia2006.e03.p02.i00.128.OUT.wav\n"
     ]
    },
    {
     "name": "stdout",
     "output_type": "stream",
     "text": [
      "/Users/robinson/Downloads/data/Olivia2006/Olivia2006_AUDIO/timestretch/Olivia2006.e03.p03.i00.134.OUT.wav\n"
     ]
    },
    {
     "name": "stdout",
     "output_type": "stream",
     "text": [
      "/Users/robinson/Downloads/data/Olivia2006/Olivia2006_AUDIO/timestretch/Olivia2006.e03.p04.i00.140.OUT.wav\n"
     ]
    },
    {
     "name": "stdout",
     "output_type": "stream",
     "text": [
      "/Users/robinson/Downloads/data/Olivia2006/Olivia2006_AUDIO/timestretch/Olivia2006.e03.p05.i00.145.OUT.wav\n"
     ]
    },
    {
     "name": "stdout",
     "output_type": "stream",
     "text": [
      "/Users/robinson/Downloads/data/Olivia2006/Olivia2006_AUDIO/timestretch/Olivia2006.e03.p06.i00.151.OUT.wav\n"
     ]
    },
    {
     "name": "stdout",
     "output_type": "stream",
     "text": [
      "/Users/robinson/Downloads/data/Olivia2006/Olivia2006_AUDIO/timestretch/Olivia2006.e03.p07.i00.157.OUT.wav\n"
     ]
    },
    {
     "name": "stdout",
     "output_type": "stream",
     "text": [
      "/Users/robinson/Downloads/data/Olivia2006/Olivia2006_AUDIO/timestretch/Olivia2006.e03.p08.i00.163.OUT.wav\n"
     ]
    },
    {
     "name": "stdout",
     "output_type": "stream",
     "text": [
      "/Users/robinson/Downloads/data/Olivia2006/Olivia2006_AUDIO/timestretch/Olivia2006.e03.p09.i00.169.OUT.wav\n"
     ]
    },
    {
     "name": "stdout",
     "output_type": "stream",
     "text": [
      "/Users/robinson/Downloads/data/Olivia2006/Olivia2006_AUDIO/timestretch/Olivia2006.e03.p10.i00.175.OUT.wav\n"
     ]
    },
    {
     "name": "stdout",
     "output_type": "stream",
     "text": [
      "/Users/robinson/Downloads/data/Olivia2006/Olivia2006_AUDIO/timestretch/Olivia2006.e04.p01.i00.182.OUT.wav\n"
     ]
    },
    {
     "name": "stdout",
     "output_type": "stream",
     "text": [
      "/Users/robinson/Downloads/data/Olivia2006/Olivia2006_AUDIO/timestretch/Olivia2006.e04.p02.i00.188.OUT.wav\n"
     ]
    },
    {
     "name": "stdout",
     "output_type": "stream",
     "text": [
      "/Users/robinson/Downloads/data/Olivia2006/Olivia2006_AUDIO/timestretch/Olivia2006.e04.p03.i00.194.OUT.wav\n"
     ]
    },
    {
     "name": "stdout",
     "output_type": "stream",
     "text": [
      "/Users/robinson/Downloads/data/Olivia2006/Olivia2006_AUDIO/timestretch/Olivia2006.e04.p04.i00.200.OUT.wav\n"
     ]
    },
    {
     "name": "stdout",
     "output_type": "stream",
     "text": [
      "/Users/robinson/Downloads/data/Olivia2006/Olivia2006_AUDIO/timestretch/Olivia2006.e04.p05.i00.206.OUT.wav\n"
     ]
    },
    {
     "name": "stdout",
     "output_type": "stream",
     "text": [
      "/Users/robinson/Downloads/data/Olivia2006/Olivia2006_AUDIO/timestretch/Olivia2006.e04.p06.i00.212.OUT.wav\n"
     ]
    },
    {
     "name": "stdout",
     "output_type": "stream",
     "text": [
      "/Users/robinson/Downloads/data/Olivia2006/Olivia2006_AUDIO/timestretch/Olivia2006.e04.p07.i00.218.OUT.wav\n"
     ]
    },
    {
     "name": "stdout",
     "output_type": "stream",
     "text": [
      "/Users/robinson/Downloads/data/Olivia2006/Olivia2006_AUDIO/timestretch/Olivia2006.e04.p08.i00.224.OUT.wav\n"
     ]
    },
    {
     "name": "stdout",
     "output_type": "stream",
     "text": [
      "/Users/robinson/Downloads/data/Olivia2006/Olivia2006_AUDIO/timestretch/Olivia2006.e04.p09.i00.230.OUT.wav\n"
     ]
    },
    {
     "name": "stdout",
     "output_type": "stream",
     "text": [
      "/Users/robinson/Downloads/data/Olivia2006/Olivia2006_AUDIO/timestretch/Olivia2006.e04.p10.i00.236.OUT.wav\n"
     ]
    },
    {
     "name": "stdout",
     "output_type": "stream",
     "text": [
      "/Users/robinson/Downloads/data/Olivia2006/Olivia2006_AUDIO/timestretch/Olivia2006.e05.p01.i00.242.OUT.wav\n"
     ]
    },
    {
     "name": "stdout",
     "output_type": "stream",
     "text": [
      "/Users/robinson/Downloads/data/Olivia2006/Olivia2006_AUDIO/timestretch/Olivia2006.e05.p02.i00.248.OUT.wav\n"
     ]
    },
    {
     "name": "stdout",
     "output_type": "stream",
     "text": [
      "/Users/robinson/Downloads/data/Olivia2006/Olivia2006_AUDIO/timestretch/Olivia2006.e05.p03.i00.254.OUT.wav\n"
     ]
    },
    {
     "name": "stdout",
     "output_type": "stream",
     "text": [
      "/Users/robinson/Downloads/data/Olivia2006/Olivia2006_AUDIO/timestretch/Olivia2006.e05.p04.i00.260.OUT.wav\n"
     ]
    },
    {
     "name": "stdout",
     "output_type": "stream",
     "text": [
      "/Users/robinson/Downloads/data/Olivia2006/Olivia2006_AUDIO/timestretch/Olivia2006.e05.p05.i00.266.OUT.wav\n"
     ]
    },
    {
     "name": "stdout",
     "output_type": "stream",
     "text": [
      "/Users/robinson/Downloads/data/Olivia2006/Olivia2006_AUDIO/timestretch/Olivia2006.e05.p06.i00.272.OUT.wav\n"
     ]
    },
    {
     "name": "stdout",
     "output_type": "stream",
     "text": [
      "/Users/robinson/Downloads/data/Olivia2006/Olivia2006_AUDIO/timestretch/Olivia2006.e05.p07.i00.279.OUT.wav\n"
     ]
    },
    {
     "name": "stdout",
     "output_type": "stream",
     "text": [
      "/Users/robinson/Downloads/data/Olivia2006/Olivia2006_AUDIO/timestretch/Olivia2006.e05.p08.i00.285.OUT.wav\n"
     ]
    },
    {
     "name": "stdout",
     "output_type": "stream",
     "text": [
      "/Users/robinson/Downloads/data/Olivia2006/Olivia2006_AUDIO/timestretch/Olivia2006.e05.p09.i00.291.OUT.wav\n"
     ]
    },
    {
     "name": "stdout",
     "output_type": "stream",
     "text": [
      "/Users/robinson/Downloads/data/Olivia2006/Olivia2006_AUDIO/timestretch/Olivia2006.e05.p10.i00.298.OUT.wav\n"
     ]
    },
    {
     "name": "stdout",
     "output_type": "stream",
     "text": [
      "/Users/robinson/Downloads/data/Olivia2006/Olivia2006_AUDIO/timestretch/Olivia2006.e06.p01.i00.305.OUT.wav\n"
     ]
    },
    {
     "name": "stdout",
     "output_type": "stream",
     "text": [
      "/Users/robinson/Downloads/data/Olivia2006/Olivia2006_AUDIO/timestretch/Olivia2006.e06.p02.i00.312.OUT.wav\n"
     ]
    },
    {
     "name": "stdout",
     "output_type": "stream",
     "text": [
      "/Users/robinson/Downloads/data/Olivia2006/Olivia2006_AUDIO/timestretch/Olivia2006.e06.p03.i00.318.OUT.wav\n"
     ]
    },
    {
     "name": "stdout",
     "output_type": "stream",
     "text": [
      "/Users/robinson/Downloads/data/Olivia2006/Olivia2006_AUDIO/timestretch/Olivia2006.e06.p04.i00.324.OUT.wav\n"
     ]
    },
    {
     "name": "stdout",
     "output_type": "stream",
     "text": [
      "/Users/robinson/Downloads/data/Olivia2006/Olivia2006_AUDIO/timestretch/Olivia2006.e06.p05.i00.330.OUT.wav\n"
     ]
    },
    {
     "name": "stdout",
     "output_type": "stream",
     "text": [
      "/Users/robinson/Downloads/data/Olivia2006/Olivia2006_AUDIO/timestretch/Olivia2006.e06.p06.i00.336.OUT.wav\n"
     ]
    },
    {
     "name": "stdout",
     "output_type": "stream",
     "text": [
      "/Users/robinson/Downloads/data/Olivia2006/Olivia2006_AUDIO/timestretch/Olivia2006.e06.p07.i00.342.OUT.wav\n"
     ]
    },
    {
     "name": "stdout",
     "output_type": "stream",
     "text": [
      "/Users/robinson/Downloads/data/Olivia2006/Olivia2006_AUDIO/timestretch/Olivia2006.e06.p08.i00.348.OUT.wav\n"
     ]
    },
    {
     "name": "stdout",
     "output_type": "stream",
     "text": [
      "/Users/robinson/Downloads/data/Olivia2006/Olivia2006_AUDIO/timestretch/Olivia2006.e06.p09.i00.354.OUT.wav\n"
     ]
    },
    {
     "name": "stdout",
     "output_type": "stream",
     "text": [
      "/Users/robinson/Downloads/data/Olivia2006/Olivia2006_AUDIO/timestretch/Olivia2006.e06.p10.i00.360.OUT.wav\n"
     ]
    },
    {
     "name": "stdout",
     "output_type": "stream",
     "text": [
      "/Users/robinson/Downloads/data/Olivia2006/Olivia2006_AUDIO/timestretch/Olivia2006.e07.p01.i00.366.OUT.wav\n"
     ]
    },
    {
     "name": "stdout",
     "output_type": "stream",
     "text": [
      "/Users/robinson/Downloads/data/Olivia2006/Olivia2006_AUDIO/timestretch/Olivia2006.e07.p02.i00.372.OUT.wav\n"
     ]
    },
    {
     "name": "stdout",
     "output_type": "stream",
     "text": [
      "/Users/robinson/Downloads/data/Olivia2006/Olivia2006_AUDIO/timestretch/Olivia2006.e07.p03.i00.378.OUT.wav\n"
     ]
    },
    {
     "name": "stdout",
     "output_type": "stream",
     "text": [
      "/Users/robinson/Downloads/data/Olivia2006/Olivia2006_AUDIO/timestretch/Olivia2006.e07.p04.i00.384.OUT.wav\n"
     ]
    },
    {
     "name": "stdout",
     "output_type": "stream",
     "text": [
      "/Users/robinson/Downloads/data/Olivia2006/Olivia2006_AUDIO/timestretch/Olivia2006.e07.p05.i00.390.OUT.wav\n"
     ]
    },
    {
     "name": "stdout",
     "output_type": "stream",
     "text": [
      "/Users/robinson/Downloads/data/Olivia2006/Olivia2006_AUDIO/timestretch/Olivia2006.e07.p06.i00.396.OUT.wav\n"
     ]
    },
    {
     "name": "stdout",
     "output_type": "stream",
     "text": [
      "/Users/robinson/Downloads/data/Olivia2006/Olivia2006_AUDIO/timestretch/Olivia2006.e07.p07.i00.402.OUT.wav\n"
     ]
    },
    {
     "name": "stdout",
     "output_type": "stream",
     "text": [
      "/Users/robinson/Downloads/data/Olivia2006/Olivia2006_AUDIO/timestretch/Olivia2006.e07.p08.i00.409.OUT.wav\n"
     ]
    },
    {
     "name": "stdout",
     "output_type": "stream",
     "text": [
      "/Users/robinson/Downloads/data/Olivia2006/Olivia2006_AUDIO/timestretch/Olivia2006.e07.p09.i00.415.OUT.wav\n"
     ]
    },
    {
     "name": "stdout",
     "output_type": "stream",
     "text": [
      "/Users/robinson/Downloads/data/Olivia2006/Olivia2006_AUDIO/timestretch/Olivia2006.e07.p10.i00.421.OUT.wav\n"
     ]
    },
    {
     "name": "stdout",
     "output_type": "stream",
     "text": [
      "/Users/robinson/Downloads/data/Olivia2006/Olivia2006_AUDIO/timestretch/Olivia2006.e08.p01.i00.427.OUT.wav\n"
     ]
    },
    {
     "name": "stdout",
     "output_type": "stream",
     "text": [
      "/Users/robinson/Downloads/data/Olivia2006/Olivia2006_AUDIO/timestretch/Olivia2006.e08.p02.i00.433.OUT.wav\n"
     ]
    },
    {
     "name": "stdout",
     "output_type": "stream",
     "text": [
      "/Users/robinson/Downloads/data/Olivia2006/Olivia2006_AUDIO/timestretch/Olivia2006.e08.p03.i00.439.OUT.wav\n"
     ]
    },
    {
     "name": "stdout",
     "output_type": "stream",
     "text": [
      "/Users/robinson/Downloads/data/Olivia2006/Olivia2006_AUDIO/timestretch/Olivia2006.e08.p04.i00.445.OUT.wav\n"
     ]
    },
    {
     "name": "stdout",
     "output_type": "stream",
     "text": [
      "/Users/robinson/Downloads/data/Olivia2006/Olivia2006_AUDIO/timestretch/Olivia2006.e08.p05.i00.451.OUT.wav\n"
     ]
    },
    {
     "name": "stdout",
     "output_type": "stream",
     "text": [
      "/Users/robinson/Downloads/data/Olivia2006/Olivia2006_AUDIO/timestretch/Olivia2006.e08.p06.i00.457.OUT.wav\n"
     ]
    },
    {
     "name": "stdout",
     "output_type": "stream",
     "text": [
      "/Users/robinson/Downloads/data/Olivia2006/Olivia2006_AUDIO/timestretch/Olivia2006.e08.p07.i00.463.OUT.wav\n"
     ]
    },
    {
     "name": "stdout",
     "output_type": "stream",
     "text": [
      "/Users/robinson/Downloads/data/Olivia2006/Olivia2006_AUDIO/timestretch/Olivia2006.e08.p08.i00.469.OUT.wav\n"
     ]
    },
    {
     "name": "stdout",
     "output_type": "stream",
     "text": [
      "/Users/robinson/Downloads/data/Olivia2006/Olivia2006_AUDIO/timestretch/Olivia2006.e08.p09.i00.475.OUT.wav\n"
     ]
    },
    {
     "name": "stdout",
     "output_type": "stream",
     "text": [
      "/Users/robinson/Downloads/data/Olivia2006/Olivia2006_AUDIO/timestretch/Olivia2006.e08.p10.i00.481.OUT.wav\n"
     ]
    },
    {
     "name": "stdout",
     "output_type": "stream",
     "text": [
      "/Users/robinson/Downloads/data/Olivia2006/Olivia2006_AUDIO/timestretch/phon_time.txt\n/Users/robinson/Downloads/data/Olivia2006/Olivia2006_AUDIO/timestretch/phon_time_new.txt\n/Users/robinson/Downloads/data/Olivia2006/Olivia2006_AUDIO/timestretch/phon_vals_min.txt\n/Users/robinson/Downloads/data/Olivia2006/Olivia2006_AUDIO/timestretch/wav_files.txt\n"
     ]
    }
   ],
   "source": [
    "'''\n",
    "def calc_f0_swipe(infile, outfile, f0min=50, f0max=450, time_step=0.005,\n",
    "                  harmonicity_threshold=None,\n",
    "                  use_spline_interp=False, ana_freq_limit=12500, music_mode=False,\n",
    "                   remove_low_harm_f0=True, channel=0, verbose=False):\n",
    "\n",
    "    use swipe with given parameters to create the f0 analysis of infile and store the result in an sdif file\n",
    "\n",
    "    raises RuntimeError in case of errors\n",
    "\n",
    "'''\n",
    "\n",
    "# input directory is former output_directory\n",
    "wav_input_directory_path = '/Users/robinson/Downloads/data/Olivia2006/Olivia2006_AUDIO'\n",
    "input_directory_path = os.path.join(wav_input_directory_path, 'timestretch')\n",
    "# input_directory_path = wav_input_directory_path  #debug\n",
    "input_directory = os.fsencode(input_directory_path)\n",
    "\n",
    "# define new output directory and files\n",
    "output_directory_path = os.path.join(wav_input_directory_path, 'timestretch_f0extract')\n",
    "# output_directory_path = os.path.join(wav_input_directory_path, 'original_f0extract')  #debug\n",
    "if not os.path.exists(output_directory_path):\n",
    "    os.mkdir(output_directory_path)\n",
    "\n",
    "# for each wav file in directory\n",
    "for file in os.listdir(input_directory):\n",
    "    # get filename\n",
    "    filename = os.fsdecode(file)\n",
    "    # get filepath and decode from bytes to string\n",
    "    # filepath = os.path.abspath(file).decode(\"utf-8\") \n",
    "    filepath = os.path.join(input_directory_path, filename)\n",
    "    print(filepath)\n",
    "    \n",
    "    if filename.endswith('.wav'):\n",
    "        # build outfile sdif filename\n",
    "        sdif_file_out, ext = os.path.splitext(filename)\n",
    "        sdif_file_out = sdif_file_out + '.sdif'\n",
    "        sdif_file_out_path = os.path.join(output_directory_path, sdif_file_out)\n",
    "        \n",
    "        # extract f0 and write to sdif\n",
    "        calc_f0_swipe(filepath, sdif_file_out_path)\n"
   ]
  },
  {
   "cell_type": "markdown",
   "metadata": {},
   "source": [
    "<h3>Read in timestretched wav, timestretched f0 sdif, and target f0 array, and output transposed f0 WAV file"
   ]
  },
  {
   "cell_type": "code",
   "execution_count": 163,
   "metadata": {
    "collapsed": true
   },
   "outputs": [
    {
     "name": "stdout",
     "output_type": "stream",
     "text": [
      "writing...  Olivia2006.e01.p01.i00.1.OUT.TRI_5.wav\n"
     ]
    },
    {
     "name": "stdout",
     "output_type": "stream",
     "text": [
      "writing...  Olivia2006.e02.p01.i00.62.OUT.TRI_5.wav\n"
     ]
    },
    {
     "name": "stdout",
     "output_type": "stream",
     "text": [
      "writing...  Olivia2006.e03.p01.i00.122.OUT.TRI_5.wav\n"
     ]
    },
    {
     "name": "stdout",
     "output_type": "stream",
     "text": [
      "writing...  Olivia2006.e04.p01.i00.182.OUT.TRI_5.wav\n"
     ]
    },
    {
     "name": "stdout",
     "output_type": "stream",
     "text": [
      "writing...  Olivia2006.e05.p01.i00.242.OUT.TRI_5.wav\n"
     ]
    },
    {
     "name": "stdout",
     "output_type": "stream",
     "text": [
      "writing...  Olivia2006.e06.p01.i00.305.OUT.TRI_5.wav\n"
     ]
    },
    {
     "name": "stdout",
     "output_type": "stream",
     "text": [
      "writing...  Olivia2006.e07.p01.i00.366.OUT.TRI_5.wav\n"
     ]
    },
    {
     "name": "stdout",
     "output_type": "stream",
     "text": [
      "writing...  Olivia2006.e08.p01.i00.427.OUT.TRI_5.wav\n"
     ]
    },
    {
     "name": "stdout",
     "output_type": "stream",
     "text": [
      "writing...  Olivia2006.e01.p02.i00.8.OUT.TRI_5.wav\n"
     ]
    },
    {
     "name": "stdout",
     "output_type": "stream",
     "text": [
      "writing...  Olivia2006.e02.p02.i00.68.OUT.TRI_5.wav\n"
     ]
    },
    {
     "name": "stdout",
     "output_type": "stream",
     "text": [
      "writing...  Olivia2006.e03.p02.i00.128.OUT.TRI_5.wav\n"
     ]
    },
    {
     "name": "stdout",
     "output_type": "stream",
     "text": [
      "writing...  Olivia2006.e04.p02.i00.188.OUT.TRI_5.wav\n"
     ]
    },
    {
     "name": "stdout",
     "output_type": "stream",
     "text": [
      "writing...  Olivia2006.e05.p02.i00.248.OUT.TRI_5.wav\n"
     ]
    },
    {
     "name": "stdout",
     "output_type": "stream",
     "text": [
      "writing...  Olivia2006.e06.p02.i00.312.OUT.TRI_5.wav\n"
     ]
    },
    {
     "name": "stdout",
     "output_type": "stream",
     "text": [
      "writing...  Olivia2006.e07.p02.i00.372.OUT.TRI_5.wav\n"
     ]
    },
    {
     "name": "stdout",
     "output_type": "stream",
     "text": [
      "writing...  Olivia2006.e08.p02.i00.433.OUT.TRI_5.wav\n"
     ]
    },
    {
     "name": "stdout",
     "output_type": "stream",
     "text": [
      "writing...  Olivia2006.e01.p03.i00.14.OUT.TRI_5.wav\n"
     ]
    },
    {
     "name": "stdout",
     "output_type": "stream",
     "text": [
      "writing...  Olivia2006.e02.p03.i00.74.OUT.TRI_5.wav\n"
     ]
    },
    {
     "name": "stdout",
     "output_type": "stream",
     "text": [
      "writing...  Olivia2006.e03.p03.i00.134.OUT.TRI_5.wav\n"
     ]
    },
    {
     "name": "stdout",
     "output_type": "stream",
     "text": [
      "writing...  Olivia2006.e04.p03.i00.194.OUT.TRI_5.wav\n"
     ]
    },
    {
     "name": "stdout",
     "output_type": "stream",
     "text": [
      "writing...  Olivia2006.e05.p03.i00.254.OUT.TRI_5.wav\n"
     ]
    },
    {
     "name": "stdout",
     "output_type": "stream",
     "text": [
      "writing...  Olivia2006.e06.p03.i00.318.OUT.TRI_5.wav\n"
     ]
    },
    {
     "name": "stdout",
     "output_type": "stream",
     "text": [
      "writing...  Olivia2006.e07.p03.i00.378.OUT.TRI_5.wav\n"
     ]
    },
    {
     "name": "stdout",
     "output_type": "stream",
     "text": [
      "writing...  Olivia2006.e08.p03.i00.439.OUT.TRI_5.wav\n"
     ]
    },
    {
     "name": "stdout",
     "output_type": "stream",
     "text": [
      "writing...  Olivia2006.e01.p04.i00.20.OUT.TRI_5.wav\n"
     ]
    },
    {
     "name": "stdout",
     "output_type": "stream",
     "text": [
      "writing...  Olivia2006.e02.p04.i00.80.OUT.TRI_5.wav\n"
     ]
    },
    {
     "name": "stdout",
     "output_type": "stream",
     "text": [
      "writing...  Olivia2006.e03.p04.i00.140.OUT.TRI_5.wav\n"
     ]
    },
    {
     "name": "stdout",
     "output_type": "stream",
     "text": [
      "writing...  Olivia2006.e04.p04.i00.200.OUT.TRI_5.wav\n"
     ]
    },
    {
     "name": "stdout",
     "output_type": "stream",
     "text": [
      "writing...  Olivia2006.e05.p04.i00.260.OUT.TRI_5.wav\n"
     ]
    },
    {
     "name": "stdout",
     "output_type": "stream",
     "text": [
      "writing...  Olivia2006.e06.p04.i00.324.OUT.TRI_5.wav\n"
     ]
    },
    {
     "name": "stdout",
     "output_type": "stream",
     "text": [
      "writing...  Olivia2006.e07.p04.i00.384.OUT.TRI_5.wav\n"
     ]
    },
    {
     "name": "stdout",
     "output_type": "stream",
     "text": [
      "writing...  Olivia2006.e08.p04.i00.445.OUT.TRI_5.wav\n"
     ]
    },
    {
     "name": "stdout",
     "output_type": "stream",
     "text": [
      "writing...  Olivia2006.e01.p05.i00.26.OUT.TRI_5.wav\n"
     ]
    },
    {
     "name": "stdout",
     "output_type": "stream",
     "text": [
      "writing...  Olivia2006.e02.p05.i00.86.OUT.TRI_5.wav\n"
     ]
    },
    {
     "name": "stdout",
     "output_type": "stream",
     "text": [
      "writing...  Olivia2006.e03.p05.i00.145.OUT.TRI_5.wav\n"
     ]
    },
    {
     "name": "stdout",
     "output_type": "stream",
     "text": [
      "writing...  Olivia2006.e04.p05.i00.206.OUT.TRI_5.wav\n"
     ]
    },
    {
     "name": "stdout",
     "output_type": "stream",
     "text": [
      "writing...  Olivia2006.e05.p05.i00.266.OUT.TRI_5.wav\n"
     ]
    },
    {
     "name": "stdout",
     "output_type": "stream",
     "text": [
      "writing...  Olivia2006.e06.p05.i00.330.OUT.TRI_5.wav\n"
     ]
    },
    {
     "name": "stdout",
     "output_type": "stream",
     "text": [
      "writing...  Olivia2006.e07.p05.i00.390.OUT.TRI_5.wav\n"
     ]
    },
    {
     "name": "stdout",
     "output_type": "stream",
     "text": [
      "writing...  Olivia2006.e08.p05.i00.451.OUT.TRI_5.wav\n"
     ]
    },
    {
     "name": "stdout",
     "output_type": "stream",
     "text": [
      "writing...  Olivia2006.e01.p06.i00.32.OUT.TRI_5.wav\n"
     ]
    },
    {
     "name": "stdout",
     "output_type": "stream",
     "text": [
      "writing...  Olivia2006.e02.p06.i00.92.OUT.TRI_5.wav\n"
     ]
    },
    {
     "name": "stdout",
     "output_type": "stream",
     "text": [
      "writing...  Olivia2006.e03.p06.i00.151.OUT.TRI_5.wav\n"
     ]
    },
    {
     "name": "stdout",
     "output_type": "stream",
     "text": [
      "writing...  Olivia2006.e04.p06.i00.212.OUT.TRI_5.wav\n"
     ]
    },
    {
     "name": "stdout",
     "output_type": "stream",
     "text": [
      "writing...  Olivia2006.e05.p06.i00.272.OUT.TRI_5.wav\n"
     ]
    },
    {
     "name": "stdout",
     "output_type": "stream",
     "text": [
      "writing...  Olivia2006.e06.p06.i00.336.OUT.TRI_5.wav\n"
     ]
    },
    {
     "name": "stdout",
     "output_type": "stream",
     "text": [
      "writing...  Olivia2006.e07.p06.i00.396.OUT.TRI_5.wav\n"
     ]
    },
    {
     "name": "stdout",
     "output_type": "stream",
     "text": [
      "writing...  Olivia2006.e08.p06.i00.457.OUT.TRI_5.wav\n"
     ]
    },
    {
     "name": "stdout",
     "output_type": "stream",
     "text": [
      "writing...  Olivia2006.e01.p07.i00.38.OUT.TRI_5.wav\n"
     ]
    },
    {
     "name": "stdout",
     "output_type": "stream",
     "text": [
      "writing...  Olivia2006.e02.p07.i00.98.OUT.TRI_5.wav\n"
     ]
    },
    {
     "name": "stdout",
     "output_type": "stream",
     "text": [
      "writing...  Olivia2006.e03.p07.i00.157.OUT.TRI_5.wav\n"
     ]
    },
    {
     "name": "stdout",
     "output_type": "stream",
     "text": [
      "writing...  Olivia2006.e04.p07.i00.218.OUT.TRI_5.wav\n"
     ]
    },
    {
     "name": "stdout",
     "output_type": "stream",
     "text": [
      "writing...  Olivia2006.e05.p07.i00.279.OUT.TRI_5.wav\n"
     ]
    },
    {
     "name": "stdout",
     "output_type": "stream",
     "text": [
      "writing...  Olivia2006.e06.p07.i00.342.OUT.TRI_5.wav\n"
     ]
    },
    {
     "name": "stdout",
     "output_type": "stream",
     "text": [
      "writing...  Olivia2006.e07.p07.i00.402.OUT.TRI_5.wav\n"
     ]
    },
    {
     "name": "stdout",
     "output_type": "stream",
     "text": [
      "writing...  Olivia2006.e08.p07.i00.463.OUT.TRI_5.wav\n"
     ]
    },
    {
     "name": "stdout",
     "output_type": "stream",
     "text": [
      "writing...  Olivia2006.e01.p08.i00.44.OUT.TRI_5.wav\n"
     ]
    },
    {
     "name": "stdout",
     "output_type": "stream",
     "text": [
      "writing...  Olivia2006.e02.p08.i00.104.OUT.TRI_5.wav\n"
     ]
    },
    {
     "name": "stdout",
     "output_type": "stream",
     "text": [
      "writing...  Olivia2006.e03.p08.i00.163.OUT.TRI_5.wav\n"
     ]
    },
    {
     "name": "stdout",
     "output_type": "stream",
     "text": [
      "writing...  Olivia2006.e04.p08.i00.224.OUT.TRI_5.wav\n"
     ]
    },
    {
     "name": "stdout",
     "output_type": "stream",
     "text": [
      "writing...  Olivia2006.e05.p08.i00.285.OUT.TRI_5.wav\n"
     ]
    },
    {
     "name": "stdout",
     "output_type": "stream",
     "text": [
      "writing...  Olivia2006.e06.p08.i00.348.OUT.TRI_5.wav\n"
     ]
    },
    {
     "name": "stdout",
     "output_type": "stream",
     "text": [
      "writing...  Olivia2006.e07.p08.i00.409.OUT.TRI_5.wav\n"
     ]
    },
    {
     "name": "stdout",
     "output_type": "stream",
     "text": [
      "writing...  Olivia2006.e08.p08.i00.469.OUT.TRI_5.wav\n"
     ]
    },
    {
     "name": "stdout",
     "output_type": "stream",
     "text": [
      "writing...  Olivia2006.e01.p09.i00.50.OUT.TRI_5.wav\n"
     ]
    },
    {
     "name": "stdout",
     "output_type": "stream",
     "text": [
      "writing...  Olivia2006.e02.p09.i00.110.OUT.TRI_5.wav\n"
     ]
    },
    {
     "name": "stdout",
     "output_type": "stream",
     "text": [
      "writing...  Olivia2006.e03.p09.i00.169.OUT.TRI_5.wav\n"
     ]
    },
    {
     "name": "stdout",
     "output_type": "stream",
     "text": [
      "writing...  Olivia2006.e04.p09.i00.230.OUT.TRI_5.wav\n"
     ]
    },
    {
     "name": "stdout",
     "output_type": "stream",
     "text": [
      "writing...  Olivia2006.e05.p09.i00.291.OUT.TRI_5.wav\n"
     ]
    },
    {
     "name": "stdout",
     "output_type": "stream",
     "text": [
      "writing...  Olivia2006.e06.p09.i00.354.OUT.TRI_5.wav\n"
     ]
    },
    {
     "name": "stdout",
     "output_type": "stream",
     "text": [
      "writing...  Olivia2006.e07.p09.i00.415.OUT.TRI_5.wav\n"
     ]
    },
    {
     "name": "stdout",
     "output_type": "stream",
     "text": [
      "writing...  Olivia2006.e08.p09.i00.475.OUT.TRI_5.wav\n"
     ]
    },
    {
     "name": "stdout",
     "output_type": "stream",
     "text": [
      "writing...  Olivia2006.e01.p10.i00.56.OUT.TRI_5.wav\n"
     ]
    },
    {
     "name": "stdout",
     "output_type": "stream",
     "text": [
      "writing...  Olivia2006.e02.p10.i00.116.OUT.TRI_5.wav\n"
     ]
    },
    {
     "name": "stdout",
     "output_type": "stream",
     "text": [
      "writing...  Olivia2006.e03.p10.i00.175.OUT.TRI_5.wav\n"
     ]
    },
    {
     "name": "stdout",
     "output_type": "stream",
     "text": [
      "writing...  Olivia2006.e04.p10.i00.236.OUT.TRI_5.wav\n"
     ]
    },
    {
     "name": "stdout",
     "output_type": "stream",
     "text": [
      "writing...  Olivia2006.e05.p10.i00.298.OUT.TRI_5.wav\n"
     ]
    },
    {
     "name": "stdout",
     "output_type": "stream",
     "text": [
      "writing...  Olivia2006.e06.p10.i00.360.OUT.TRI_5.wav\n"
     ]
    },
    {
     "name": "stdout",
     "output_type": "stream",
     "text": [
      "writing...  Olivia2006.e07.p10.i00.421.OUT.TRI_5.wav\n"
     ]
    },
    {
     "name": "stdout",
     "output_type": "stream",
     "text": [
      "writing...  Olivia2006.e08.p10.i00.481.OUT.TRI_5.wav\n"
     ]
    },
    {
     "name": "stdout",
     "output_type": "stream",
     "text": [
      "done\n"
     ]
    }
   ],
   "source": [
    "'''\n",
    "i need to:\n",
    "\n",
    "piece together all f0 phoneme files into one continuous sequence, including unvoiced sections (get durations from \n",
    "phon_time), and put into an array\n",
    "\n",
    "\n",
    "call f0_transpose to convert, passing in timestretched wav, timestretched f0 sdif, and target f0 array\n",
    "as well as outfile wav file name, and winsize scalar\n",
    "\n",
    "'''\n",
    "\n",
    "\n",
    "# *************\n",
    "# START CONFIG\n",
    "\n",
    "# for each \n",
    "# get list \n",
    "# path to CSV input files directory\n",
    "csv_input_directory_path = '/Users/robinson/Dropbox/anasynth/_data/emoVC/Olivia2006/f0_raw_phoneme'\n",
    "# Olivia2006.e01.p01.i00.s01_s e.csv\n",
    "csv_input_file_extension = '.csv'\n",
    "\n",
    "# path to predicted F0 CSV input files directory\n",
    "phon_input_directory_path = '/Users/robinson/Downloads/data/pred/20180727_135143/phonemes'\n",
    "# Olivia2006.e01.p01.i00.s01_s e1.csv\n",
    "phon_input_file_extension = '.csv'\n",
    "\n",
    "# path to MAT input files directory\n",
    "mat_input_directory_path = '/Users/robinson/Dropbox/anasynth/_data/emoVC/Olivia2006'\n",
    "# Olivia2006.e01.p01.i00.mat\n",
    "mat_input_file_extension = '.mat'\n",
    "\n",
    "# path to WAV input files directory\n",
    "raw_input_directory_path = '/Users/robinson/Downloads/data/Olivia2006/Olivia2006_AUDIO/'\n",
    "# Olivia2006.e01.p01.i00.1.wav\n",
    "raw_input_file_extension = '.wav'\n",
    "\n",
    "# path to timestretched WAV input files directory\n",
    "wav_input_directory_path = '/Users/robinson/Downloads/data/Olivia2006/Olivia2006_AUDIO/timestretch'\n",
    "# Olivia2006.e01.p01.i00.1.wav\n",
    "wav_input_file_extension = '.wav'\n",
    "\n",
    "# path to SDIF f0 input files directory\n",
    "sdif_input_directory_path = '/Users/robinson/Downloads/data/Olivia2006/Olivia2006_AUDIO/timestretch_f0extract'\n",
    "# Olivia2006.e01.p01.i00.mat\n",
    "sdif_input_file_extension = '.sdif'\n",
    "\n",
    "# define input file root - common to all filetypes\n",
    "input_file_root = 'Olivia2006'\n",
    "\n",
    "# define output directory and files\n",
    "output_directory = os.path.join(raw_input_directory_path, 'f0transpose')\n",
    "if not os.path.exists(output_directory):\n",
    "    os.mkdir(output_directory)\n",
    "    \n",
    "# open test_log.txt and split into list of lines\n",
    "f_test_log = open(os.path.join(csv_input_directory_path, 'out', 'test_log.txt'), 'r')\n",
    "test_log = f_test_log.read().split('\\n')\n",
    "\n",
    "filename_phon_vals_min = 'phon_vals_min.txt'\n",
    "f_phon_vals_min = open(os.path.join(wav_input_directory_path, filename_phon_vals_min), 'r')\n",
    "phon_vals_min = f_phon_vals_min.read().split('\\n')\n",
    "\n",
    "# define phrase range\n",
    "phrase_from = 1\n",
    "phrase_to = 10  #10\n",
    "# define source and target emotion ranges\n",
    "source_emotion_from = 1\n",
    "source_emotion_to = 8  #8\n",
    "# define source and target intensity ranges\n",
    "source_intensity_from = 0\n",
    "source_intensity_to = 0\n",
    "\n",
    "# set sample rate \n",
    "step_s = 0.005 # 5ms, which I assume is what was used to sample the file\n",
    "\n",
    "# set interpolation to True/False\n",
    "# interp = False\n",
    "interp = True\n",
    "\n",
    "# set harmonicity threshold\n",
    "harm_thresh = 0.7\n",
    "\n",
    "# END CONFIG\n",
    "# *************\n",
    "\n",
    "def zero_helper(y):\n",
    "    return y == 0, lambda z: z.nonzero()[0]\n",
    "\n",
    "# file counter \n",
    "i = 0\n",
    "\n",
    "# for each wavfile that we want to treat..\n",
    "# for each phrase\n",
    "for p in range(phrase_from, phrase_to + 1):\n",
    "    # for each source emotion\n",
    "    for e_s in range(source_emotion_from, source_emotion_to + 1):\n",
    "        # for each source intensity\n",
    "        for i_s in range(source_intensity_from, source_intensity_to + 1):\n",
    "            # build the source file path\n",
    "            filename_base = ''.join([input_file_root, \n",
    "                                        '.e', format(e_s, '02d'),\n",
    "                                        '.p', format(p, '02d'),\n",
    "                                        '.i', format(i_s, '02d')])\n",
    "            \n",
    "            # open the mat file \n",
    "            mat_filename = ''.join([filename_base, mat_input_file_extension])\n",
    "            mat_filepath = os.path.join(mat_input_directory_path, mat_filename)\n",
    "            mat_dict = loadmat(mat_filepath)\n",
    "            \n",
    "            syll_label = mat_dict['syll_label']\n",
    "            syll_label = syll_label.reshape((syll_label.shape[1],))        \n",
    "            # print(syll_label.shape)\n",
    "            # print(syll_label)\n",
    "\n",
    "            # I want syll_time.shape (11, 2) BUT with the start and end times in different 'columns' - just transpose!\n",
    "            syll_time = mat_dict['syll_time']\n",
    "            # print('syll_time.shape', syll_time.shape)\n",
    "            syll_time = syll_time.T\n",
    "            # print('syll_time.shape', syll_time.shape)\n",
    "            # print(syll_time)            \n",
    "            \n",
    "            # get list of phonemes\n",
    "            phon_label = mat_dict['phone_label']\n",
    "            phon_label = phon_label.reshape((phon_label.shape[1],))\n",
    "            # print('phon_label ', phon_label)\n",
    "            \n",
    "            # get phon_time from dict and transpose to column\n",
    "            phon_time = mat_dict['phone_time'].T\n",
    "            # print('phon_time ', phon_time)\n",
    "            \n",
    "            # make list of true/false to indicate vowels(true)/nonvowel(false)\n",
    "            vowel_phonemes = ['e~', '9~', 'a~', 'o~', 'i', 'e', 'E', 'a', 'A', 'O', 'o', 'u', 'y', '2', '9', '@']\n",
    "            # [a if C else b for i in items]\n",
    "            vowels = [True if phon[0] in vowel_phonemes else False for i, phon in enumerate(phon_label)]\n",
    "            # print('vowels ', vowels)\n",
    "            \n",
    "            # create list to hold sequence of vowels and unvoiced f0 contour values\n",
    "            all_contours = []\n",
    "            \n",
    "            # for each syllable in the wav file\n",
    "            for all_syll_counter, syll in enumerate(syll_label):\n",
    "                \n",
    "                # get syll_time start and end times\n",
    "                # print('i = ', i)\n",
    "                syll_start_time = syll_time[all_syll_counter, 0]\n",
    "                syll_end_time = syll_time[all_syll_counter, 1]\n",
    "                \n",
    "                phone_id_list = []\n",
    "                # for each phone label in phon_label (this mat file)\n",
    "                for j, label in enumerate(phon_label):\n",
    "                    # get start/end times from phone_time\n",
    "                    phone_start_time = phon_time[j, 0]\n",
    "                    phone_end_time = phon_time[j, 1]\n",
    "                    # if start time => syll_start_time AND end time <= syll_end_time then this phoneme is in the syllable\n",
    "                    if phone_start_time >= syll_start_time and phone_end_time <= syll_end_time:\n",
    "                        # add phoneme label id to a list (to use to reference label and start/end times)\n",
    "                        phone_id_list.append(j)\n",
    "                        \n",
    "                # for each phoneme in the syllable file\n",
    "                for all_phon_counter in phone_id_list:\n",
    "                # for all_phon_counter, phon in enumerate(phon_label):\n",
    "                    # print('******** SYL ********')\n",
    "                    # build the filename of the phoneme (which may not exist for this syllable)\n",
    "                    filename_phon = ''.join([filename_base, '.s', format(all_syll_counter, '02d'), '_',\n",
    "                                             phon_label[all_phon_counter][0], str(all_phon_counter), \n",
    "                                             csv_input_file_extension])\n",
    "                    # print('filename_phon', filename_phon)\n",
    "                    \n",
    "                    # # check if this csv file exists in directory (i.e. in the current syllable)\n",
    "                    # # if not, continue to next phoneme\n",
    "                    # if not os.path.isfile(os.path.join(phon_input_directory_path, filename_phon)):\n",
    "                    #     # print('%%%% NOT a file: ', filename_phon)\n",
    "                    #     continue\n",
    "                    # else:\n",
    "                    #     # print('$$$$ IS a file: ', filename_phon)\n",
    "                    #     pass\n",
    "                    \n",
    "                    # i want to add the zeroes, only if phoneme in loop is:\n",
    "                    #   it's a # or non-vowel, and this syll/phoneme combo exists in the wav (maybe make new \n",
    "                    #   test_log2.txt with all vowels and non-vowels filenames in?)\n",
    "                    # i want to add f0 vals if it's a vowel and file exists in directory\n",
    "                    # i want to skip if:\n",
    "                    #   any other case\n",
    "                    \n",
    "                    # print('*********')\n",
    "                    # print('all_phon_counter ', all_phon_counter)\n",
    "                    # print('vowels[all_phon_counter] ', vowels[all_phon_counter])\n",
    "                    # print('filename_phon', filename_phon)\n",
    "                    # if phoneme is not a vowel, or if phon file is a vowel but there's no file for it\n",
    "                    # get the length of the unvoiced phoneme and add zeroes to all_contours list\n",
    "                    # if not vowels[all_phon_counter] or filename_phon not in test_log:\n",
    "                    # or not \n",
    "                    if not vowels[all_phon_counter] or not os.path.isfile(os.path.join(phon_input_directory_path, \n",
    "                                                                                       filename_phon)):\n",
    "                        # print('!!! nonvowel or file DOES NOT exist')\n",
    "                        time = phon_time[all_phon_counter, 1] - phon_time[all_phon_counter, 0]\n",
    "                        # print('time ', time)\n",
    "                        num_zeroes = int(time // step_s)\n",
    "                        # print('num_zeroes ', num_zeroes)\n",
    "                        all_contours += [0 for _ in range(num_zeroes)]\n",
    "                    # if phoneme is vowels, add its contents to the all_contours list\n",
    "                    else:\n",
    "                        # print('!!! vowel and file exists')\n",
    "                        # build the source file path\n",
    "                        source_file_path = os.path.join(phon_input_directory_path, filename_phon)\n",
    "                        \n",
    "                        # load the source file and extract vars\n",
    "                        source_f0_raw = np.loadtxt(source_file_path, dtype='int')\n",
    "                        # print('shape ', source_f0_raw.shape)\n",
    "                        \n",
    "                        # iterate over the numpy array, adding items to the all_contours list\n",
    "                        all_contours += [source_f0_raw[x] for x in range(source_f0_raw.shape[0])]\n",
    "                    # else:\n",
    "                    #     print('!!! vowel and file DOES NOT exist') \n",
    "                    #     continue  # skip to next phoneme\n",
    "                        \n",
    "            # print('all_contours BEFORE INTERP', all_contours)\n",
    "            if interp:\n",
    "                # convert strings of zeroes to linearly interpolated values between neighbouring non-zero vals\n",
    "                y = np.array(all_contours)\n",
    "                zeroes, lambda_func = zero_helper(y)\n",
    "                y[zeroes] = np.interp(lambda_func(zeroes), lambda_func(~zeroes), y[~zeroes])\n",
    "                all_contours = y.tolist()\n",
    "            # print('all_contours AFTER INTERP', all_contours)\n",
    "                \n",
    "            # convert into a single array to pass to f0_transpose method - not sure if needed..\n",
    "            all_times = [x * step_s for x in range(len(all_contours))]\n",
    "            all_times_contours = list(zip(all_times, all_contours))\n",
    "            \n",
    "            # print(all_times_contours)\n",
    "            \n",
    "            # print('*** length = ', len(all_times_contours))\n",
    "            for j in range(len(all_times_contours) - 1, 0, -1):\n",
    "                # print(i)\n",
    "                if all_times_contours[j][1] == 0:\n",
    "                    del all_times_contours[j]\n",
    "    \n",
    "            all_times_contours = np.array(all_times_contours)\n",
    "            # .reshape(-1, 2)\n",
    "            # print(all_times_contours)\n",
    "            \n",
    "            # build timestretched input wav file name and path - use glob to handle number           \n",
    "            wav_glob_filepath = os.path.join(wav_input_directory_path, filename_base + '.*')\n",
    "            # print('wav_glob_filepath ', wav_glob_filepath)\n",
    "            wav_filepath_list = glob.glob(wav_glob_filepath)\n",
    "            # print('wav_filepath_list ', wav_filepath_list)\n",
    "            wav_filepath = wav_filepath_list[0] \n",
    "            # print('wav_filepath ', wav_filepath)\n",
    "            _, wav_filename = os.path.split(wav_filepath)\n",
    "            wav_filename_noext, _ = os.path.splitext(wav_filename)\n",
    "            \n",
    "            \n",
    "            # build outfile wav file name and path\n",
    "            wav_filename_out = ''.join([wav_filename_noext, '.TRI_5', wav_input_file_extension])\n",
    "            wav_filename_out_path = os.path.join(output_directory, wav_filename_out)\n",
    "            print('writing... ', wav_filename_out)\n",
    "            \n",
    "            # build sdif file name\n",
    "            sdif_glob_filepath = os.path.join(sdif_input_directory_path, filename_base + '.*')\n",
    "            # print('sdif_glob_filepath ', sdif_glob_filepath)\n",
    "            sdif_filepath_list = glob.glob(sdif_glob_filepath)\n",
    "            # print('sdif_filepath_list ', sdif_filepath_list)\n",
    "            sdif_filepath = sdif_filepath_list[0] \n",
    "            # print('sdif_filepath ', sdif_filepath)\n",
    "            \n",
    "            # set winsize scalar\n",
    "            # winsize = 800  # worked before, but dunno why\n",
    "            winsize = 4 * (1/float(phon_vals_min[i]))\n",
    "            \n",
    "            # call transpose_f0\n",
    "            transpose_f0(wav_filepath, sdif_filepath, all_times_contours, wav_filename_out_path, winsize,  \n",
    "                         harmonicity_threshold=harm_thresh, remove_low_harm_f0=True)\n",
    "            \n",
    "            # increment counter\n",
    "            i += 1\n",
    "            \n",
    "print('done')"
   ]
  },
  {
   "cell_type": "code",
   "execution_count": 164,
   "metadata": {},
   "outputs": [
    {
     "name": "stdout",
     "output_type": "stream",
     "text": [
      "done\n"
     ]
    }
   ],
   "source": [
    "# copy original source files to directory to compare\n",
    "\n",
    "# path to raw WAV files directory\n",
    "raw_input_directory_path = '/Users/robinson/Downloads/data/Olivia2006/Olivia2006_AUDIO/'\n",
    "# Olivia2006.e01.p01.i00.1.wav\n",
    "\n",
    "# path to timestretched WAV files directory\n",
    "wav_input_directory_path = '/Users/robinson/Downloads/data/Olivia2006/Olivia2006_AUDIO/timestretch'\n",
    "\n",
    "# path to timestretched f0 tranformed files directory\n",
    "joy_input_directory_path = '/Users/robinson/Downloads/data/Olivia2006/Olivia2006_AUDIO/f0transpose'\n",
    "\n",
    "# define input file root - common to all filetypes\n",
    "input_file_root = 'Olivia2006'\n",
    "\n",
    "# define output directory and files\n",
    "output_directory = os.path.join(raw_input_directory_path, 'compare')\n",
    "if not os.path.exists(output_directory):\n",
    "    os.mkdir(output_directory)\n",
    "\n",
    "# define phrase range\n",
    "phrase_from = 1\n",
    "phrase_to = 10  #10\n",
    "# define source and target emotion ranges\n",
    "source_emotion_from = 1\n",
    "source_emotion_to = 8  #8\n",
    "# define source and target intensity ranges\n",
    "source_intensity_from = 0\n",
    "source_intensity_to = 0\n",
    "\n",
    "# for each wavfile that we want to treat..\n",
    "# for each phrase\n",
    "for p in range(phrase_from, phrase_to + 1):\n",
    "    # for each source emotion\n",
    "    for e_s in range(source_emotion_from, source_emotion_to + 1):\n",
    "        # for each source intensity\n",
    "        for i_s in range(source_intensity_from, source_intensity_to + 1):\n",
    "            # build the source file path\n",
    "            filename_base = ''.join([input_file_root, \n",
    "                                        '.e', format(e_s, '02d'),\n",
    "                                        '.p', format(p, '02d'),\n",
    "                                        '.i', format(i_s, '02d')])\n",
    "            \n",
    "            # build input wav file name and path - use glob to handle number           \n",
    "            wav_glob_filepath = os.path.join(raw_input_directory_path, filename_base + '.*')\n",
    "            # print('wav_glob_filepath ', wav_glob_filepath)\n",
    "            wav_filepath_list = glob.glob(wav_glob_filepath)\n",
    "            # print('wav_filepath_list ', wav_filepath_list)\n",
    "            wav_filepath = wav_filepath_list[0] \n",
    "            # print('wav_filepath ', wav_filepath)\n",
    "            _, wav_filename = os.path.split(wav_filepath)\n",
    "            \n",
    "            # copy the raw file to the output directory\n",
    "            copyfile(wav_filepath, os.path.join(output_directory, wav_filename))\n",
    "            \n",
    "            \n",
    "# copy all timestretched wav files to compare directory\n",
    "wav_input_directory = os.fsencode(wav_input_directory_path)\n",
    "# for each wav file in directory\n",
    "for file in os.listdir(wav_input_directory):\n",
    "    # get filename\n",
    "    filename = os.fsdecode(file)\n",
    "    if filename.endswith('.wav'):\n",
    "        # get filepath and decode from bytes to string\n",
    "        # filepath = os.path.abspath(file).decode(\"utf-8\") \n",
    "        filepath = os.path.join(wav_input_directory_path, filename)\n",
    "        \n",
    "        # copy the timestretched wav file to the output directory\n",
    "        #copyfile(filepath, os.path.join(output_directory, filename))\n",
    "    \n",
    "    \n",
    "# copy all f0 transformed wav files to compare directory\n",
    "joy_input_directory = os.fsencode(joy_input_directory_path)\n",
    "# for each wav file in directory\n",
    "for file in os.listdir(joy_input_directory):\n",
    "    # get filename\n",
    "    filename = os.fsdecode(file)\n",
    "    if filename.endswith('.wav'):\n",
    "        # get filepath and decode from bytes to string\n",
    "        # filepath = os.path.abspath(file).decode(\"utf-8\") \n",
    "        filepath = os.path.join(joy_input_directory_path, filename)\n",
    "        \n",
    "        # copy the timestretched wav file to the output directory\n",
    "        copyfile(filepath, os.path.join(output_directory, filename))\n",
    "\n",
    "print('done')"
   ]
  },
  {
   "cell_type": "code",
   "execution_count": 134,
   "metadata": {},
   "outputs": [],
   "source": [
    "# import numpy as np\n",
    "# \n",
    "# def zero_helper(y):\n",
    "#     return y == 0, lambda z: z.nonzero()[0]\n",
    "# \n",
    "# y[zeroes] = np.interp(x(zeroes), x(~zeroes), y[~zeroes])\n",
    "# \n",
    "# print(y.round(2))"
   ]
  },
  {
   "cell_type": "code",
   "execution_count": 135,
   "metadata": {},
   "outputs": [],
   "source": []
  }
 ],
 "metadata": {
  "kernelspec": {
   "display_name": "Python 3",
   "language": "python",
   "name": "python3"
  },
  "language_info": {
   "codemirror_mode": {
    "name": "ipython",
    "version": 3
   },
   "file_extension": ".py",
   "mimetype": "text/x-python",
   "name": "python",
   "nbconvert_exporter": "python",
   "pygments_lexer": "ipython3",
   "version": "3.6.4"
  }
 },
 "nbformat": 4,
 "nbformat_minor": 2
}
