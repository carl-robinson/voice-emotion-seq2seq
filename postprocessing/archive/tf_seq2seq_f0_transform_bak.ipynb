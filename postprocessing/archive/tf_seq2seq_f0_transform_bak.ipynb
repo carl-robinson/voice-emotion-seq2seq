{
 "cells": [
  {
   "cell_type": "code",
   "execution_count": 1,
   "metadata": {},
   "outputs": [
    {
     "name": "stdout",
     "output_type": "stream",
     "text": [
      "['', '/Users/robinson/Dropbox/anasynth/_code', '/Users/robinson/Dropbox/anasynth/_code/as_pysrc', '/Users/robinson/Dropbox/anasynth/_code/tf_seq2seq', '/u/formes/share/packages/anaconda3/envs/DeepLearning/lib/python36.zip', '/u/formes/share/packages/anaconda3/envs/DeepLearning/lib/python3.6', '/u/formes/share/packages/anaconda3/envs/DeepLearning/lib/python3.6/lib-dynload', '/Users/robinson/Dropbox/anasynth/_code/anaconda/lib/python3.6/site-packages', '/Users/robinson/Dropbox/anasynth/_code/seq2seq', '/Users/robinson/Dropbox/anasynth/_code/anaconda/lib/python3.6/site-packages/as_pysrc_utils_poly-0.2-py3.6-macosx-10.7-x86_64.egg', '/Users/robinson/Dropbox/anasynth/_code/anaconda/lib/python3.6/site-packages/as_pysrc_utils_levinson-0.1-py3.6-macosx-10.7-x86_64.egg', '/Users/robinson/Dropbox/anasynth/_code/anaconda/lib/python3.6/site-packages/utils_bspline-1.0.0-py3.6-macosx-10.7-x86_64.egg', '/Users/robinson/Dropbox/anasynth/_code/anaconda/lib/python3.6/site-packages/opt_congrad_sc_c-1.2.2-py3.6-macosx-10.7-x86_64.egg', '/Users/robinson/Dropbox/anasynth/_code/anaconda/lib/python3.6/site-packages/dtw_c-1.1.0-py3.6-macosx-10.7-x86_64.egg', '/Users/robinson/Dropbox/anasynth/_code/anaconda/lib/python3.6/site-packages/ar_dap_conjugate_gradient_optimization_support-1.0.1-py3.6-macosx-10.7-x86_64.egg', '/Users/robinson/Dropbox/anasynth/_code/anaconda/lib/python3.6/site-packages/sig_proc_estim_harmonics-1.0.0-py3.6-macosx-10.7-x86_64.egg', '/u/formes/share/packages/anaconda3/envs/DeepLearning/lib/python3.6/site-packages', '/u/formes/share/packages/anaconda3/envs/DeepLearning/lib/python3.6/site-packages/aeosa', '/Applications/PyCharm.app/Contents/helpers/pycharm_matplotlib_backend', '/u/formes/share/packages/anaconda3/envs/DeepLearning/lib/python3.6/site-packages/IPython/extensions', '/Users/robinson/.ipython']\n"
     ]
    }
   ],
   "source": [
    "import numpy as np\n",
    "from as_pysrc.svp_cmds import alignSnds, calc_f0_swipe\n",
    "from as_pysrc.svp_cmds.transpose_f0 import transpose_f0\n",
    "from scipy.io import wavfile, loadmat\n",
    "import os\n",
    "import glob\n",
    "from shutil import copyfile\n",
    "import sys\n",
    "print(sys.path)"
   ]
  },
  {
   "cell_type": "markdown",
   "metadata": {},
   "source": [
    "<h3>Remember: Make syllable F0 CSV files for use during WAV conversion using tf_seq2seq_data_processing_test_input.ipynb"
   ]
  },
  {
   "cell_type": "code",
   "execution_count": 2,
   "metadata": {},
   "outputs": [
    {
     "data": {
      "text/plain": [
       "\"\\n# I need a way to link the transformed syllable f0 back to it's source file and position in that file, \\nso I can assemble the sequence of transformed f0 contours for a particular phrase\\n\\n# the problem with test data is that the syllables are a subset of all syllables across all files in the dataset, \\n# so not all syllables of a particular phrase will be present.. This makes it difficult to infer only on test data \\nin order to test the conversion.\\n\\n# I could 'cheat', and just infer on the whole dataset (including data i trained on), to see what the conversion is \\nlike - DONE\\n# Or I could separate off some complete phrases to test on later (random shuffle), and train on the rest. - TODO \\n# would be good to do both, to see the difference it makes! \\n\\n\\n# for each wavfile...\\n\\n# get list of syllables, and make list of true/false to indicate voiced/unvoiced\\n\\n# make list of before-times (all the start and end times of all voiced and unvoiced parts) - this is just what's in \\nthe mat file (syll_time) - you prob don't want the final value\\n\\n# make list of end-times (all the start and end times of all voiced and unvoiced parts)\\n    # make list of durations of each voiced syllable from new f0 contour, and duration of unvoiced syllable from \\n    original file (handle missing files too..):\\n    # for each syllable in a file:\\n      # if syll is voiced\\n          # if file is present:\\n            # add NEW f0 contour length to dur-list\\n          # else add original 'before-time' syll length\\n      # else if unvoiced\\n          # add before-times unvoiced syll length to dur-list\\n\\n# make a new list for the final end-times\\n# for all elements in dur-list\\n  # add end time to end-times-list as sum of all elements currently in the list, plus next duration in the list - \\n  cumsum\\n          \\n\\n\\n\""
      ]
     },
     "execution_count": 2,
     "metadata": {},
     "output_type": "execute_result"
    }
   ],
   "source": [
    "# def alignSnds(sndfile_to_be_aligned, outfile, temporal_positions,\n",
    "#               winsize,  svpcmd=svp_executable, shape=False,\n",
    "#               transients=False, oversamp=8, vudem=3, transdet_minren=None, verbose=False) :\n",
    "#     '''\n",
    "#     use supervp to align sndfile_to_be_aligned to sndfile by means of stretching\n",
    "#     the first to align to the second.\n",
    "#     '''\n",
    "    \n",
    "'''\n",
    "# I need a way to link the transformed syllable f0 back to it's source file and position in that file, \n",
    "so I can assemble the sequence of transformed f0 contours for a particular phrase\n",
    "\n",
    "# the problem with test data is that the syllables are a subset of all syllables across all files in the dataset, \n",
    "# so not all syllables of a particular phrase will be present.. This makes it difficult to infer only on test data \n",
    "in order to test the conversion.\n",
    "\n",
    "# I could 'cheat', and just infer on the whole dataset (including data i trained on), to see what the conversion is \n",
    "like - DONE\n",
    "# Or I could separate off some complete phrases to test on later (random shuffle), and train on the rest. - TODO \n",
    "# would be good to do both, to see the difference it makes! \n",
    "\n",
    "\n",
    "# for each wavfile...\n",
    "\n",
    "# get list of syllables, and make list of true/false to indicate voiced/unvoiced\n",
    "\n",
    "# make list of before-times (all the start and end times of all voiced and unvoiced parts) - this is just what's in \n",
    "the mat file (syll_time) - you prob don't want the final value\n",
    "\n",
    "# make list of end-times (all the start and end times of all voiced and unvoiced parts)\n",
    "    # make list of durations of each voiced syllable from new f0 contour, and duration of unvoiced syllable from \n",
    "    original file (handle missing files too..):\n",
    "    # for each syllable in a file:\n",
    "      # if syll is voiced\n",
    "          # if file is present:\n",
    "            # add NEW f0 contour length to dur-list\n",
    "          # else add original 'before-time' syll length\n",
    "      # else if unvoiced\n",
    "          # add before-times unvoiced syll length to dur-list\n",
    "\n",
    "# make a new list for the final end-times\n",
    "# for all elements in dur-list\n",
    "  # add end time to end-times-list as sum of all elements currently in the list, plus next duration in the list - \n",
    "  cumsum\n",
    "          \n",
    "\n",
    "\n",
    "'''"
   ]
  },
  {
   "cell_type": "markdown",
   "metadata": {},
   "source": [
    "<h3>Generate before and after syllable timecode csv files "
   ]
  },
  {
   "cell_type": "code",
   "execution_count": 4,
   "metadata": {
    "collapsed": false
   },
   "outputs": [
    {
     "name": "stdout",
     "output_type": "stream",
     "text": [
      "done\n"
     ]
    }
   ],
   "source": [
    "# path to directory for test_log.txt\n",
    "csv_input_directory_path = '/Users/robinson/Dropbox/anasynth/_data/emoVC/Olivia2006/f0_raw_syllable'\n",
    "# Olivia2006.e01.p01.i00.s01_s e1.csv\n",
    "csv_input_file_extension = '.csv'\n",
    "\n",
    "# path to predicted F0 CSV input files directory\n",
    "syll_input_directory_path = '/Users/robinson/Downloads/data/pred/20180628_151243/syllables'\n",
    "# Olivia2006.e01.p01.i00.s01_s e1.csv\n",
    "syll_input_file_extension = '.csv'\n",
    "\n",
    "# path to MAT input files directory\n",
    "mat_input_directory_path = '/Users/robinson/Dropbox/anasynth/_data/emoVC/Olivia2006'\n",
    "# Olivia2006.e01.p01.i00.mat\n",
    "mat_input_file_extension = '.mat'\n",
    "\n",
    "# path to WAV input files directory\n",
    "wav_input_directory_path = '/Users/robinson/Downloads/data/Olivia2006/Olivia2006_AUDIO'\n",
    "# Olivia2006.e01.p01.i00.1.wav\n",
    "wav_input_file_extension = '.wav'\n",
    "\n",
    "# define input file root - common to all filetypes\n",
    "input_file_root = 'Olivia2006'\n",
    "\n",
    "# set window step time \n",
    "step_s = 0.005 # 5ms, which I assume is what was used to sample the file\n",
    "\n",
    "# define output directory and files\n",
    "output_directory = os.path.join(wav_input_directory_path, 'timestretch')\n",
    "if not os.path.exists(output_directory):\n",
    "    os.mkdir(output_directory)\n",
    "\n",
    "\n",
    "# define phrase range\n",
    "phrase_from = 1\n",
    "phrase_to = 10\n",
    "# define source and target emotion ranges\n",
    "source_emotion_from = 1\n",
    "source_emotion_to = 8\n",
    "# define source and target intensity ranges\n",
    "source_intensity_from = 0\n",
    "source_intensity_to = 0\n",
    "\n",
    "# open test_log.txt and split into list of lines\n",
    "f_test_log = open(os.path.join(csv_input_directory_path, 'out', 'test_log.txt'), 'r')\n",
    "test_log = f_test_log.read().split('\\n')\n",
    "# print(test_log)\n",
    "\n",
    "# output filenames\n",
    "filename_wav_files = 'wav_files.txt'\n",
    "filename_syll_time = 'syll_time.txt'\n",
    "filename_new_syll_time = 'syll_time_new.txt'\n",
    "filename_syll_vals_min = 'syll_vals_min.txt'\n",
    "# open output files in subdirectory of input files directory (must create manually)\n",
    "f_wav_files = open(os.path.join(output_directory, filename_wav_files), 'w')\n",
    "f_syll_time = open(os.path.join(output_directory, filename_syll_time), 'w')\n",
    "f_new_syll_time = open(os.path.join(output_directory, filename_new_syll_time), 'w')\n",
    "f_syll_vals_min = open(os.path.join(output_directory, filename_syll_vals_min), 'w')\n",
    "\n",
    "# for each wavfile that we want to treat..\n",
    "# for each phrase\n",
    "for p in range(phrase_from, phrase_to + 1):\n",
    "    # for each source emotion\n",
    "    for e_s in range(source_emotion_from, source_emotion_to + 1):\n",
    "        # for each source intensity\n",
    "        for i_s in range(source_intensity_from, source_intensity_to + 1):\n",
    "            # build the source file path\n",
    "            filename_base = ''.join([input_file_root, \n",
    "                                        '.e', format(e_s, '02d'),\n",
    "                                        '.p', format(p, '02d'),\n",
    "                                        '.i', format(i_s, '02d')])\n",
    "            # to handle the number at the end, get all files beginning with name (there should only be one)\n",
    "            glob_filepath = os.path.join(wav_input_directory_path, filename_base + '.*')\n",
    "            wav_filepath_list = glob.glob(glob_filepath)\n",
    "            wav_filepath = wav_filepath_list[0]\n",
    "            # print(wav_filepath)\n",
    "            _, wav_filename = os.path.split(wav_filepath)\n",
    "            # print('*********************')\n",
    "            # print('******** WAV ********')\n",
    "            # print('wav_filename) ', wav_filename)\n",
    "\n",
    "            # load corresponding mat file\n",
    "            mat_filename = ''.join([filename_base, mat_input_file_extension])\n",
    "            mat_filepath = os.path.join(mat_input_directory_path, mat_filename)\n",
    "            # print(mat_filepath)\n",
    "            mat_dict = loadmat(mat_filepath)\n",
    "            \n",
    "            # get list of syllables\n",
    "            syll_label = mat_dict['syll_label']\n",
    "            syll_label = syll_label.reshape((syll_label.shape[1],))\n",
    "            \n",
    "            # make list of before-times (all the start and end times of all voiced and unvoiced parts) - this is just what's in \n",
    "            # the mat file (syll_time) - you prob don't want the final value. Also, syllable times are not \n",
    "            # consecutive - one syllable ends, then there's a gap, then the next begins. So you have to handle the \n",
    "            # start and end times of both\n",
    "            # get list of syllable start/end times\n",
    "            syll_time = mat_dict['syll_time']\n",
    "            # print(syll_time.shape)\n",
    "            # print(syll_time)\n",
    "            # syll_time = syll_time.reshape((syll_time.shape[1], syll_time.shape[0]))  # wrong!\n",
    "            syll_time = syll_time.T # much better\n",
    "            # print(syll_time.shape)\n",
    "            # print(syll_time)\n",
    "            # print(syll_time.shape) # (11, 2)\n",
    "            # print('syll_time = ', syll_time)\n",
    "            # print(type(syll_time)) # <class 'numpy.ndarray'>\n",
    "            \n",
    "            # make list of true/false to indicate voiced(true)/unvoiced(false)\n",
    "            # [a if C else b for i in items]\n",
    "            voiced = [True if '#' not in syll[0] else False for i, syll in enumerate(syll_label)]\n",
    "            # print('voiced ', voiced)\n",
    "            \n",
    "            # make new_syll_time list as flattened version of original start and end times, to modify later\n",
    "            # new_syll_time = list(syll_time.flatten(order='C'))\n",
    "            # print('syll_time = ', new_syll_time)\n",
    "            new_syll_time = [0.0] + [x for x in syll_time[:, 1]]  # just get second column, plus add a 0.0 at the start\n",
    "            # print(new_syll_time)\n",
    "            \n",
    "            # create empty list to store all syll_vals, to later calculate the minimum f0 in the voiced regions\n",
    "            syll_vals_all = []\n",
    "            # for each syllable in the wav file\n",
    "            for all_syll_counter, syll in enumerate(syll_label):\n",
    "                # print('******** SYL ********')\n",
    "                # if syllable is unvoiced, skip to next syllable\n",
    "                if not voiced[all_syll_counter]:\n",
    "                    # print('!!! unvoiced')\n",
    "                    continue\n",
    "                    \n",
    "                # build the filename of the syllable\n",
    "                filename_syll = ''.join([filename_base, '.s', format(all_syll_counter, '02d'), '_', syll[0], \n",
    "                                         str(all_syll_counter), csv_input_file_extension])\n",
    "                # print('filename_syll ', filename_syll)\n",
    "                \n",
    "                # check if syll file is in test_log.txt\n",
    "                # syll file is not empty, so:\n",
    "                if filename_syll in test_log:\n",
    "                    # get duration of original syllable contour\n",
    "                    syll_dur_orig = syll_time[all_syll_counter, 1] - syll_time[all_syll_counter, 0]\n",
    "                    # print('syll_dur_orig = ', syll_dur_orig)\n",
    "                    \n",
    "                    # get duration of new syllable contour\n",
    "                    # get number of lines from file\n",
    "                    fsyll = open(os.path.join(syll_input_directory_path, filename_syll), 'r')\n",
    "                    syll_vals = fsyll.read().strip().split('\\n')\n",
    "                    # print('syll_vals=', syll_vals)\n",
    "                    num_lines = len(syll_vals)\n",
    "                    # print('num_lines= ', num_lines)\n",
    "                    \n",
    "                    # multiply by window step size to get time, and add half a window\n",
    "                    syll_dur_new = (num_lines * step_s) + step_s\n",
    "                    # print('syll_dur_new = ', syll_dur_new)\n",
    "                    \n",
    "                    # calculate the diff (will be positive if new duration is larger)\n",
    "                    diff = syll_dur_new - syll_dur_orig\n",
    "                    # print('diff = ', diff)\n",
    "                    # print('********')\n",
    "                    \n",
    "                    # append syll_vals to end of list, to later calculate the minimum f0 in the voiced regions\n",
    "                    # print(syll_vals)\n",
    "                    syll_vals_all += syll_vals\n",
    "                    # print('syll_vals_all ', syll_vals_all)\n",
    "                    \n",
    "                # syll file is either missing or empty, so make diff = 0\n",
    "                else:\n",
    "                    diff = 0\n",
    "                    # print('!!! file missing: ', filename_syll)\n",
    "                    # print('diff = ', diff)\n",
    "                \n",
    "                # print('new_syll_time BEFORE UPDATE', new_syll_time)\n",
    "                # run through the new_syll_time list, adding the (positive/negative) diff to end time of syll, \n",
    "                # and start and end times of all subsequent syllables\n",
    "                # new_syll_time = [time if i-1 < all_syll_counter * 2 else time + diff for i, time in enumerate(\n",
    "                #     new_syll_time)]\n",
    "                new_syll_time = [time if i-1 < all_syll_counter else time + diff for i, time in enumerate(\n",
    "                    new_syll_time)]\n",
    "                # print('new_syll_time AFTER UPDATE = ', new_syll_time)\n",
    "                \n",
    "            \n",
    "            # convert syll_time to a list\n",
    "            # syll_time = [val for i, val in enumerate(syll_time)]  \n",
    "            # syll_time = list(syll_time.flatten(order='C')) # don't need both columns, it just duplicates the times\n",
    "            syll_time = [0.0] + [x for x in syll_time[:, 1]]  # just get second column, plus add a 0.0 at the start\n",
    "            # print(syll_time)\n",
    "            # append syll_time, new_syll_time to outfiles            \n",
    "            [f_syll_time.write(str(val) + ',') if i < len(syll_time) - 1 else f_syll_time.write(str(val)) for i, \n",
    "                                                                                                          val in enumerate(syll_time)]\n",
    "            f_syll_time.write('\\n')\n",
    "            \n",
    "            \n",
    "            \n",
    "            # [f_new_syll_time.write(str(val) + ',') for val in new_syll_time]\n",
    "            [f_new_syll_time.write(str(val) + ',') if i < len(new_syll_time) - 1 else f_new_syll_time.write(str(val)) for i, \n",
    "                                                                                                          val in enumerate(new_syll_time)]\n",
    "            f_new_syll_time.write('\\n')\n",
    "            # print to stdout to check\n",
    "            # [sys.stdout.write(str(val) + ',') for val in new_syll_time]\n",
    "            # sys.stdout.write('\\n')\n",
    "            \n",
    "            # print wav file name to file\n",
    "            f_wav_files.write(wav_filename + '\\n')\n",
    "            \n",
    "            # convert syll_vals_all to numpy array of integers, get minimum and write to text file\n",
    "            # print(syll_vals_all)\n",
    "            syll_vals_all = [int(x) for x in syll_vals_all]\n",
    "            syll_vals_all = np.array(syll_vals_all)\n",
    "            # print(syll_vals_all)\n",
    "            syll_vals_min = syll_vals_all.min()\n",
    "            # print(syll_vals_min) \n",
    "            # if the value is 50 or over the write to file, otherwise default to 50 (eliminates erroneous low values)\n",
    "            if syll_vals_min >= 50:\n",
    "                f_syll_vals_min.write(str(syll_vals_min) + '\\n')\n",
    "            else:\n",
    "                f_syll_vals_min.write(str(50) + '\\n')\n",
    "                \n",
    "\n",
    "# close the files         \n",
    "f_test_log.close()\n",
    "f_wav_files.close()\n",
    "f_syll_time.close()\n",
    "f_new_syll_time.close()\n",
    "f_syll_vals_min.close()\n",
    "\n",
    "print('done')"
   ]
  },
  {
   "cell_type": "markdown",
   "metadata": {},
   "source": [
    "<h3>Read in syllable timecode csv files and perform timestretch on WAV files"
   ]
  },
  {
   "cell_type": "code",
   "execution_count": 5,
   "metadata": {
    "collapsed": true
   },
   "outputs": [
    {
     "name": "stderr",
     "output_type": "stream",
     "text": [
      "07/02/2018 10:59:34 : alignSnds::INFO::run: supervp -P0 -Afft -Z -sync_pc 1 -D/tmp/alignD4729.par -M800 -oversamp 8 -S /Users/robinson/Downloads/data/Olivia2006/Olivia2006_AUDIO/Olivia2006.e01.p01.i00.1.wav -shape 1 -vu_f0lim 1,5 -Vuf -4 -vu_dem 3 /Users/robinson/Downloads/data/Olivia2006/Olivia2006_AUDIO/timestretch/Olivia2006.e01.p01.i00.1.OUT.wav\n"
     ]
    },
    {
     "name": "stderr",
     "output_type": "stream",
     "text": [
      "07/02/2018 10:59:36 : alignSnds::INFO::run: supervp -P0 -Afft -Z -sync_pc 1 -D/tmp/alignD4729.par -M800 -oversamp 8 -S /Users/robinson/Downloads/data/Olivia2006/Olivia2006_AUDIO/Olivia2006.e02.p01.i00.62.wav -shape 1 -vu_f0lim 1,5 -Vuf -4 -vu_dem 3 /Users/robinson/Downloads/data/Olivia2006/Olivia2006_AUDIO/timestretch/Olivia2006.e02.p01.i00.62.OUT.wav\n"
     ]
    },
    {
     "name": "stderr",
     "output_type": "stream",
     "text": [
      "07/02/2018 10:59:36 : alignSnds::INFO::run: supervp -P0 -Afft -Z -sync_pc 1 -D/tmp/alignD4729.par -M800 -oversamp 8 -S /Users/robinson/Downloads/data/Olivia2006/Olivia2006_AUDIO/Olivia2006.e03.p01.i00.122.wav -shape 1 -vu_f0lim 1,5 -Vuf -4 -vu_dem 3 /Users/robinson/Downloads/data/Olivia2006/Olivia2006_AUDIO/timestretch/Olivia2006.e03.p01.i00.122.OUT.wav\n"
     ]
    },
    {
     "name": "stderr",
     "output_type": "stream",
     "text": [
      "07/02/2018 10:59:37 : alignSnds::INFO::run: supervp -P0 -Afft -Z -sync_pc 1 -D/tmp/alignD4729.par -M800 -oversamp 8 -S /Users/robinson/Downloads/data/Olivia2006/Olivia2006_AUDIO/Olivia2006.e04.p01.i00.182.wav -shape 1 -vu_f0lim 1,5 -Vuf -4 -vu_dem 3 /Users/robinson/Downloads/data/Olivia2006/Olivia2006_AUDIO/timestretch/Olivia2006.e04.p01.i00.182.OUT.wav\n"
     ]
    },
    {
     "name": "stderr",
     "output_type": "stream",
     "text": [
      "07/02/2018 10:59:37 : alignSnds::INFO::run: supervp -P0 -Afft -Z -sync_pc 1 -D/tmp/alignD4729.par -M800 -oversamp 8 -S /Users/robinson/Downloads/data/Olivia2006/Olivia2006_AUDIO/Olivia2006.e05.p01.i00.242.wav -shape 1 -vu_f0lim 1,5 -Vuf -4 -vu_dem 3 /Users/robinson/Downloads/data/Olivia2006/Olivia2006_AUDIO/timestretch/Olivia2006.e05.p01.i00.242.OUT.wav\n"
     ]
    },
    {
     "name": "stderr",
     "output_type": "stream",
     "text": [
      "07/02/2018 10:59:38 : alignSnds::INFO::run: supervp -P0 -Afft -Z -sync_pc 1 -D/tmp/alignD4729.par -M800 -oversamp 8 -S /Users/robinson/Downloads/data/Olivia2006/Olivia2006_AUDIO/Olivia2006.e06.p01.i00.305.wav -shape 1 -vu_f0lim 1,5 -Vuf -4 -vu_dem 3 /Users/robinson/Downloads/data/Olivia2006/Olivia2006_AUDIO/timestretch/Olivia2006.e06.p01.i00.305.OUT.wav\n"
     ]
    },
    {
     "name": "stderr",
     "output_type": "stream",
     "text": [
      "07/02/2018 10:59:38 : alignSnds::INFO::run: supervp -P0 -Afft -Z -sync_pc 1 -D/tmp/alignD4729.par -M800 -oversamp 8 -S /Users/robinson/Downloads/data/Olivia2006/Olivia2006_AUDIO/Olivia2006.e07.p01.i00.366.wav -shape 1 -vu_f0lim 1,5 -Vuf -4 -vu_dem 3 /Users/robinson/Downloads/data/Olivia2006/Olivia2006_AUDIO/timestretch/Olivia2006.e07.p01.i00.366.OUT.wav\n"
     ]
    },
    {
     "name": "stderr",
     "output_type": "stream",
     "text": [
      "07/02/2018 10:59:39 : alignSnds::INFO::run: supervp -P0 -Afft -Z -sync_pc 1 -D/tmp/alignD4729.par -M800 -oversamp 8 -S /Users/robinson/Downloads/data/Olivia2006/Olivia2006_AUDIO/Olivia2006.e08.p01.i00.427.wav -shape 1 -vu_f0lim 1,5 -Vuf -4 -vu_dem 3 /Users/robinson/Downloads/data/Olivia2006/Olivia2006_AUDIO/timestretch/Olivia2006.e08.p01.i00.427.OUT.wav\n"
     ]
    },
    {
     "name": "stderr",
     "output_type": "stream",
     "text": [
      "07/02/2018 10:59:39 : alignSnds::INFO::run: supervp -P0 -Afft -Z -sync_pc 1 -D/tmp/alignD4729.par -M800 -oversamp 8 -S /Users/robinson/Downloads/data/Olivia2006/Olivia2006_AUDIO/Olivia2006.e01.p02.i00.8.wav -shape 1 -vu_f0lim 1,5 -Vuf -4 -vu_dem 3 /Users/robinson/Downloads/data/Olivia2006/Olivia2006_AUDIO/timestretch/Olivia2006.e01.p02.i00.8.OUT.wav\n"
     ]
    },
    {
     "name": "stderr",
     "output_type": "stream",
     "text": [
      "07/02/2018 10:59:39 : alignSnds::INFO::run: supervp -P0 -Afft -Z -sync_pc 1 -D/tmp/alignD4729.par -M800 -oversamp 8 -S /Users/robinson/Downloads/data/Olivia2006/Olivia2006_AUDIO/Olivia2006.e02.p02.i00.68.wav -shape 1 -vu_f0lim 1,5 -Vuf -4 -vu_dem 3 /Users/robinson/Downloads/data/Olivia2006/Olivia2006_AUDIO/timestretch/Olivia2006.e02.p02.i00.68.OUT.wav\n"
     ]
    },
    {
     "name": "stderr",
     "output_type": "stream",
     "text": [
      "07/02/2018 10:59:40 : alignSnds::INFO::run: supervp -P0 -Afft -Z -sync_pc 1 -D/tmp/alignD4729.par -M800 -oversamp 8 -S /Users/robinson/Downloads/data/Olivia2006/Olivia2006_AUDIO/Olivia2006.e03.p02.i00.128.wav -shape 1 -vu_f0lim 1,5 -Vuf -4 -vu_dem 3 /Users/robinson/Downloads/data/Olivia2006/Olivia2006_AUDIO/timestretch/Olivia2006.e03.p02.i00.128.OUT.wav\n"
     ]
    },
    {
     "name": "stderr",
     "output_type": "stream",
     "text": [
      "07/02/2018 10:59:40 : alignSnds::INFO::run: supervp -P0 -Afft -Z -sync_pc 1 -D/tmp/alignD4729.par -M800 -oversamp 8 -S /Users/robinson/Downloads/data/Olivia2006/Olivia2006_AUDIO/Olivia2006.e04.p02.i00.188.wav -shape 1 -vu_f0lim 1,5 -Vuf -4 -vu_dem 3 /Users/robinson/Downloads/data/Olivia2006/Olivia2006_AUDIO/timestretch/Olivia2006.e04.p02.i00.188.OUT.wav\n"
     ]
    },
    {
     "name": "stderr",
     "output_type": "stream",
     "text": [
      "07/02/2018 10:59:41 : alignSnds::INFO::run: supervp -P0 -Afft -Z -sync_pc 1 -D/tmp/alignD4729.par -M800 -oversamp 8 -S /Users/robinson/Downloads/data/Olivia2006/Olivia2006_AUDIO/Olivia2006.e05.p02.i00.248.wav -shape 1 -vu_f0lim 1,5 -Vuf -4 -vu_dem 3 /Users/robinson/Downloads/data/Olivia2006/Olivia2006_AUDIO/timestretch/Olivia2006.e05.p02.i00.248.OUT.wav\n"
     ]
    },
    {
     "name": "stderr",
     "output_type": "stream",
     "text": [
      "07/02/2018 10:59:41 : alignSnds::INFO::run: supervp -P0 -Afft -Z -sync_pc 1 -D/tmp/alignD4729.par -M800 -oversamp 8 -S /Users/robinson/Downloads/data/Olivia2006/Olivia2006_AUDIO/Olivia2006.e06.p02.i00.312.wav -shape 1 -vu_f0lim 1,5 -Vuf -4 -vu_dem 3 /Users/robinson/Downloads/data/Olivia2006/Olivia2006_AUDIO/timestretch/Olivia2006.e06.p02.i00.312.OUT.wav\n"
     ]
    },
    {
     "name": "stderr",
     "output_type": "stream",
     "text": [
      "07/02/2018 10:59:42 : alignSnds::INFO::run: supervp -P0 -Afft -Z -sync_pc 1 -D/tmp/alignD4729.par -M800 -oversamp 8 -S /Users/robinson/Downloads/data/Olivia2006/Olivia2006_AUDIO/Olivia2006.e07.p02.i00.372.wav -shape 1 -vu_f0lim 1,5 -Vuf -4 -vu_dem 3 /Users/robinson/Downloads/data/Olivia2006/Olivia2006_AUDIO/timestretch/Olivia2006.e07.p02.i00.372.OUT.wav\n"
     ]
    },
    {
     "name": "stderr",
     "output_type": "stream",
     "text": [
      "07/02/2018 10:59:43 : alignSnds::INFO::run: supervp -P0 -Afft -Z -sync_pc 1 -D/tmp/alignD4729.par -M800 -oversamp 8 -S /Users/robinson/Downloads/data/Olivia2006/Olivia2006_AUDIO/Olivia2006.e08.p02.i00.433.wav -shape 1 -vu_f0lim 1,5 -Vuf -4 -vu_dem 3 /Users/robinson/Downloads/data/Olivia2006/Olivia2006_AUDIO/timestretch/Olivia2006.e08.p02.i00.433.OUT.wav\n"
     ]
    },
    {
     "name": "stderr",
     "output_type": "stream",
     "text": [
      "07/02/2018 10:59:43 : alignSnds::INFO::run: supervp -P0 -Afft -Z -sync_pc 1 -D/tmp/alignD4729.par -M800 -oversamp 8 -S /Users/robinson/Downloads/data/Olivia2006/Olivia2006_AUDIO/Olivia2006.e01.p03.i00.14.wav -shape 1 -vu_f0lim 1,5 -Vuf -4 -vu_dem 3 /Users/robinson/Downloads/data/Olivia2006/Olivia2006_AUDIO/timestretch/Olivia2006.e01.p03.i00.14.OUT.wav\n"
     ]
    },
    {
     "name": "stderr",
     "output_type": "stream",
     "text": [
      "07/02/2018 10:59:44 : alignSnds::INFO::run: supervp -P0 -Afft -Z -sync_pc 1 -D/tmp/alignD4729.par -M800 -oversamp 8 -S /Users/robinson/Downloads/data/Olivia2006/Olivia2006_AUDIO/Olivia2006.e02.p03.i00.74.wav -shape 1 -vu_f0lim 1,5 -Vuf -4 -vu_dem 3 /Users/robinson/Downloads/data/Olivia2006/Olivia2006_AUDIO/timestretch/Olivia2006.e02.p03.i00.74.OUT.wav\n"
     ]
    },
    {
     "name": "stderr",
     "output_type": "stream",
     "text": [
      "07/02/2018 10:59:44 : alignSnds::INFO::run: supervp -P0 -Afft -Z -sync_pc 1 -D/tmp/alignD4729.par -M800 -oversamp 8 -S /Users/robinson/Downloads/data/Olivia2006/Olivia2006_AUDIO/Olivia2006.e03.p03.i00.134.wav -shape 1 -vu_f0lim 1,5 -Vuf -4 -vu_dem 3 /Users/robinson/Downloads/data/Olivia2006/Olivia2006_AUDIO/timestretch/Olivia2006.e03.p03.i00.134.OUT.wav\n"
     ]
    },
    {
     "name": "stderr",
     "output_type": "stream",
     "text": [
      "07/02/2018 10:59:45 : alignSnds::INFO::run: supervp -P0 -Afft -Z -sync_pc 1 -D/tmp/alignD4729.par -M800 -oversamp 8 -S /Users/robinson/Downloads/data/Olivia2006/Olivia2006_AUDIO/Olivia2006.e04.p03.i00.194.wav -shape 1 -vu_f0lim 1,5 -Vuf -4 -vu_dem 3 /Users/robinson/Downloads/data/Olivia2006/Olivia2006_AUDIO/timestretch/Olivia2006.e04.p03.i00.194.OUT.wav\n"
     ]
    },
    {
     "name": "stderr",
     "output_type": "stream",
     "text": [
      "07/02/2018 10:59:45 : alignSnds::INFO::run: supervp -P0 -Afft -Z -sync_pc 1 -D/tmp/alignD4729.par -M800 -oversamp 8 -S /Users/robinson/Downloads/data/Olivia2006/Olivia2006_AUDIO/Olivia2006.e05.p03.i00.254.wav -shape 1 -vu_f0lim 1,5 -Vuf -4 -vu_dem 3 /Users/robinson/Downloads/data/Olivia2006/Olivia2006_AUDIO/timestretch/Olivia2006.e05.p03.i00.254.OUT.wav\n"
     ]
    },
    {
     "name": "stderr",
     "output_type": "stream",
     "text": [
      "07/02/2018 10:59:46 : alignSnds::INFO::run: supervp -P0 -Afft -Z -sync_pc 1 -D/tmp/alignD4729.par -M800 -oversamp 8 -S /Users/robinson/Downloads/data/Olivia2006/Olivia2006_AUDIO/Olivia2006.e06.p03.i00.318.wav -shape 1 -vu_f0lim 1,5 -Vuf -4 -vu_dem 3 /Users/robinson/Downloads/data/Olivia2006/Olivia2006_AUDIO/timestretch/Olivia2006.e06.p03.i00.318.OUT.wav\n"
     ]
    },
    {
     "name": "stderr",
     "output_type": "stream",
     "text": [
      "07/02/2018 10:59:46 : alignSnds::INFO::run: supervp -P0 -Afft -Z -sync_pc 1 -D/tmp/alignD4729.par -M800 -oversamp 8 -S /Users/robinson/Downloads/data/Olivia2006/Olivia2006_AUDIO/Olivia2006.e07.p03.i00.378.wav -shape 1 -vu_f0lim 1,5 -Vuf -4 -vu_dem 3 /Users/robinson/Downloads/data/Olivia2006/Olivia2006_AUDIO/timestretch/Olivia2006.e07.p03.i00.378.OUT.wav\n"
     ]
    },
    {
     "name": "stderr",
     "output_type": "stream",
     "text": [
      "07/02/2018 10:59:47 : alignSnds::INFO::run: supervp -P0 -Afft -Z -sync_pc 1 -D/tmp/alignD4729.par -M800 -oversamp 8 -S /Users/robinson/Downloads/data/Olivia2006/Olivia2006_AUDIO/Olivia2006.e08.p03.i00.439.wav -shape 1 -vu_f0lim 1,5 -Vuf -4 -vu_dem 3 /Users/robinson/Downloads/data/Olivia2006/Olivia2006_AUDIO/timestretch/Olivia2006.e08.p03.i00.439.OUT.wav\n"
     ]
    },
    {
     "name": "stderr",
     "output_type": "stream",
     "text": [
      "07/02/2018 10:59:47 : alignSnds::INFO::run: supervp -P0 -Afft -Z -sync_pc 1 -D/tmp/alignD4729.par -M800 -oversamp 8 -S /Users/robinson/Downloads/data/Olivia2006/Olivia2006_AUDIO/Olivia2006.e01.p04.i00.20.wav -shape 1 -vu_f0lim 1,5 -Vuf -4 -vu_dem 3 /Users/robinson/Downloads/data/Olivia2006/Olivia2006_AUDIO/timestretch/Olivia2006.e01.p04.i00.20.OUT.wav\n"
     ]
    },
    {
     "name": "stderr",
     "output_type": "stream",
     "text": [
      "07/02/2018 10:59:48 : alignSnds::INFO::run: supervp -P0 -Afft -Z -sync_pc 1 -D/tmp/alignD4729.par -M800 -oversamp 8 -S /Users/robinson/Downloads/data/Olivia2006/Olivia2006_AUDIO/Olivia2006.e02.p04.i00.80.wav -shape 1 -vu_f0lim 1,5 -Vuf -4 -vu_dem 3 /Users/robinson/Downloads/data/Olivia2006/Olivia2006_AUDIO/timestretch/Olivia2006.e02.p04.i00.80.OUT.wav\n"
     ]
    },
    {
     "name": "stderr",
     "output_type": "stream",
     "text": [
      "07/02/2018 10:59:48 : alignSnds::INFO::run: supervp -P0 -Afft -Z -sync_pc 1 -D/tmp/alignD4729.par -M800 -oversamp 8 -S /Users/robinson/Downloads/data/Olivia2006/Olivia2006_AUDIO/Olivia2006.e03.p04.i00.140.wav -shape 1 -vu_f0lim 1,5 -Vuf -4 -vu_dem 3 /Users/robinson/Downloads/data/Olivia2006/Olivia2006_AUDIO/timestretch/Olivia2006.e03.p04.i00.140.OUT.wav\n"
     ]
    },
    {
     "name": "stderr",
     "output_type": "stream",
     "text": [
      "07/02/2018 10:59:49 : alignSnds::INFO::run: supervp -P0 -Afft -Z -sync_pc 1 -D/tmp/alignD4729.par -M800 -oversamp 8 -S /Users/robinson/Downloads/data/Olivia2006/Olivia2006_AUDIO/Olivia2006.e04.p04.i00.200.wav -shape 1 -vu_f0lim 1,5 -Vuf -4 -vu_dem 3 /Users/robinson/Downloads/data/Olivia2006/Olivia2006_AUDIO/timestretch/Olivia2006.e04.p04.i00.200.OUT.wav\n"
     ]
    },
    {
     "name": "stderr",
     "output_type": "stream",
     "text": [
      "07/02/2018 10:59:49 : alignSnds::INFO::run: supervp -P0 -Afft -Z -sync_pc 1 -D/tmp/alignD4729.par -M800 -oversamp 8 -S /Users/robinson/Downloads/data/Olivia2006/Olivia2006_AUDIO/Olivia2006.e05.p04.i00.260.wav -shape 1 -vu_f0lim 1,5 -Vuf -4 -vu_dem 3 /Users/robinson/Downloads/data/Olivia2006/Olivia2006_AUDIO/timestretch/Olivia2006.e05.p04.i00.260.OUT.wav\n"
     ]
    },
    {
     "name": "stderr",
     "output_type": "stream",
     "text": [
      "07/02/2018 10:59:50 : alignSnds::INFO::run: supervp -P0 -Afft -Z -sync_pc 1 -D/tmp/alignD4729.par -M800 -oversamp 8 -S /Users/robinson/Downloads/data/Olivia2006/Olivia2006_AUDIO/Olivia2006.e06.p04.i00.324.wav -shape 1 -vu_f0lim 1,5 -Vuf -4 -vu_dem 3 /Users/robinson/Downloads/data/Olivia2006/Olivia2006_AUDIO/timestretch/Olivia2006.e06.p04.i00.324.OUT.wav\n"
     ]
    },
    {
     "name": "stderr",
     "output_type": "stream",
     "text": [
      "07/02/2018 10:59:50 : alignSnds::INFO::run: supervp -P0 -Afft -Z -sync_pc 1 -D/tmp/alignD4729.par -M800 -oversamp 8 -S /Users/robinson/Downloads/data/Olivia2006/Olivia2006_AUDIO/Olivia2006.e07.p04.i00.384.wav -shape 1 -vu_f0lim 1,5 -Vuf -4 -vu_dem 3 /Users/robinson/Downloads/data/Olivia2006/Olivia2006_AUDIO/timestretch/Olivia2006.e07.p04.i00.384.OUT.wav\n"
     ]
    },
    {
     "name": "stderr",
     "output_type": "stream",
     "text": [
      "07/02/2018 10:59:51 : alignSnds::INFO::run: supervp -P0 -Afft -Z -sync_pc 1 -D/tmp/alignD4729.par -M800 -oversamp 8 -S /Users/robinson/Downloads/data/Olivia2006/Olivia2006_AUDIO/Olivia2006.e08.p04.i00.445.wav -shape 1 -vu_f0lim 1,5 -Vuf -4 -vu_dem 3 /Users/robinson/Downloads/data/Olivia2006/Olivia2006_AUDIO/timestretch/Olivia2006.e08.p04.i00.445.OUT.wav\n"
     ]
    },
    {
     "name": "stderr",
     "output_type": "stream",
     "text": [
      "07/02/2018 10:59:52 : alignSnds::INFO::run: supervp -P0 -Afft -Z -sync_pc 1 -D/tmp/alignD4729.par -M800 -oversamp 8 -S /Users/robinson/Downloads/data/Olivia2006/Olivia2006_AUDIO/Olivia2006.e01.p05.i00.26.wav -shape 1 -vu_f0lim 1,5 -Vuf -4 -vu_dem 3 /Users/robinson/Downloads/data/Olivia2006/Olivia2006_AUDIO/timestretch/Olivia2006.e01.p05.i00.26.OUT.wav\n"
     ]
    },
    {
     "name": "stderr",
     "output_type": "stream",
     "text": [
      "07/02/2018 10:59:52 : alignSnds::INFO::run: supervp -P0 -Afft -Z -sync_pc 1 -D/tmp/alignD4729.par -M800 -oversamp 8 -S /Users/robinson/Downloads/data/Olivia2006/Olivia2006_AUDIO/Olivia2006.e02.p05.i00.86.wav -shape 1 -vu_f0lim 1,5 -Vuf -4 -vu_dem 3 /Users/robinson/Downloads/data/Olivia2006/Olivia2006_AUDIO/timestretch/Olivia2006.e02.p05.i00.86.OUT.wav\n"
     ]
    },
    {
     "name": "stderr",
     "output_type": "stream",
     "text": [
      "07/02/2018 10:59:53 : alignSnds::INFO::run: supervp -P0 -Afft -Z -sync_pc 1 -D/tmp/alignD4729.par -M800 -oversamp 8 -S /Users/robinson/Downloads/data/Olivia2006/Olivia2006_AUDIO/Olivia2006.e03.p05.i00.145.wav -shape 1 -vu_f0lim 1,5 -Vuf -4 -vu_dem 3 /Users/robinson/Downloads/data/Olivia2006/Olivia2006_AUDIO/timestretch/Olivia2006.e03.p05.i00.145.OUT.wav\n"
     ]
    },
    {
     "name": "stderr",
     "output_type": "stream",
     "text": [
      "07/02/2018 10:59:53 : alignSnds::INFO::run: supervp -P0 -Afft -Z -sync_pc 1 -D/tmp/alignD4729.par -M800 -oversamp 8 -S /Users/robinson/Downloads/data/Olivia2006/Olivia2006_AUDIO/Olivia2006.e04.p05.i00.206.wav -shape 1 -vu_f0lim 1,5 -Vuf -4 -vu_dem 3 /Users/robinson/Downloads/data/Olivia2006/Olivia2006_AUDIO/timestretch/Olivia2006.e04.p05.i00.206.OUT.wav\n"
     ]
    },
    {
     "name": "stderr",
     "output_type": "stream",
     "text": [
      "07/02/2018 10:59:54 : alignSnds::INFO::run: supervp -P0 -Afft -Z -sync_pc 1 -D/tmp/alignD4729.par -M800 -oversamp 8 -S /Users/robinson/Downloads/data/Olivia2006/Olivia2006_AUDIO/Olivia2006.e05.p05.i00.266.wav -shape 1 -vu_f0lim 1,5 -Vuf -4 -vu_dem 3 /Users/robinson/Downloads/data/Olivia2006/Olivia2006_AUDIO/timestretch/Olivia2006.e05.p05.i00.266.OUT.wav\n"
     ]
    },
    {
     "name": "stderr",
     "output_type": "stream",
     "text": [
      "07/02/2018 10:59:54 : alignSnds::INFO::run: supervp -P0 -Afft -Z -sync_pc 1 -D/tmp/alignD4729.par -M800 -oversamp 8 -S /Users/robinson/Downloads/data/Olivia2006/Olivia2006_AUDIO/Olivia2006.e06.p05.i00.330.wav -shape 1 -vu_f0lim 1,5 -Vuf -4 -vu_dem 3 /Users/robinson/Downloads/data/Olivia2006/Olivia2006_AUDIO/timestretch/Olivia2006.e06.p05.i00.330.OUT.wav\n"
     ]
    },
    {
     "name": "stderr",
     "output_type": "stream",
     "text": [
      "07/02/2018 10:59:55 : alignSnds::INFO::run: supervp -P0 -Afft -Z -sync_pc 1 -D/tmp/alignD4729.par -M800 -oversamp 8 -S /Users/robinson/Downloads/data/Olivia2006/Olivia2006_AUDIO/Olivia2006.e07.p05.i00.390.wav -shape 1 -vu_f0lim 1,5 -Vuf -4 -vu_dem 3 /Users/robinson/Downloads/data/Olivia2006/Olivia2006_AUDIO/timestretch/Olivia2006.e07.p05.i00.390.OUT.wav\n"
     ]
    },
    {
     "name": "stderr",
     "output_type": "stream",
     "text": [
      "07/02/2018 10:59:55 : alignSnds::INFO::run: supervp -P0 -Afft -Z -sync_pc 1 -D/tmp/alignD4729.par -M800 -oversamp 8 -S /Users/robinson/Downloads/data/Olivia2006/Olivia2006_AUDIO/Olivia2006.e08.p05.i00.451.wav -shape 1 -vu_f0lim 1,5 -Vuf -4 -vu_dem 3 /Users/robinson/Downloads/data/Olivia2006/Olivia2006_AUDIO/timestretch/Olivia2006.e08.p05.i00.451.OUT.wav\n"
     ]
    },
    {
     "name": "stderr",
     "output_type": "stream",
     "text": [
      "07/02/2018 10:59:56 : alignSnds::INFO::run: supervp -P0 -Afft -Z -sync_pc 1 -D/tmp/alignD4729.par -M800 -oversamp 8 -S /Users/robinson/Downloads/data/Olivia2006/Olivia2006_AUDIO/Olivia2006.e01.p06.i00.32.wav -shape 1 -vu_f0lim 1,5 -Vuf -4 -vu_dem 3 /Users/robinson/Downloads/data/Olivia2006/Olivia2006_AUDIO/timestretch/Olivia2006.e01.p06.i00.32.OUT.wav\n"
     ]
    },
    {
     "name": "stderr",
     "output_type": "stream",
     "text": [
      "07/02/2018 10:59:56 : alignSnds::INFO::run: supervp -P0 -Afft -Z -sync_pc 1 -D/tmp/alignD4729.par -M800 -oversamp 8 -S /Users/robinson/Downloads/data/Olivia2006/Olivia2006_AUDIO/Olivia2006.e02.p06.i00.92.wav -shape 1 -vu_f0lim 1,5 -Vuf -4 -vu_dem 3 /Users/robinson/Downloads/data/Olivia2006/Olivia2006_AUDIO/timestretch/Olivia2006.e02.p06.i00.92.OUT.wav\n"
     ]
    },
    {
     "name": "stderr",
     "output_type": "stream",
     "text": [
      "07/02/2018 10:59:57 : alignSnds::INFO::run: supervp -P0 -Afft -Z -sync_pc 1 -D/tmp/alignD4729.par -M800 -oversamp 8 -S /Users/robinson/Downloads/data/Olivia2006/Olivia2006_AUDIO/Olivia2006.e03.p06.i00.151.wav -shape 1 -vu_f0lim 1,5 -Vuf -4 -vu_dem 3 /Users/robinson/Downloads/data/Olivia2006/Olivia2006_AUDIO/timestretch/Olivia2006.e03.p06.i00.151.OUT.wav\n"
     ]
    },
    {
     "name": "stderr",
     "output_type": "stream",
     "text": [
      "07/02/2018 10:59:57 : alignSnds::INFO::run: supervp -P0 -Afft -Z -sync_pc 1 -D/tmp/alignD4729.par -M800 -oversamp 8 -S /Users/robinson/Downloads/data/Olivia2006/Olivia2006_AUDIO/Olivia2006.e04.p06.i00.212.wav -shape 1 -vu_f0lim 1,5 -Vuf -4 -vu_dem 3 /Users/robinson/Downloads/data/Olivia2006/Olivia2006_AUDIO/timestretch/Olivia2006.e04.p06.i00.212.OUT.wav\n"
     ]
    },
    {
     "name": "stderr",
     "output_type": "stream",
     "text": [
      "07/02/2018 10:59:58 : alignSnds::INFO::run: supervp -P0 -Afft -Z -sync_pc 1 -D/tmp/alignD4729.par -M800 -oversamp 8 -S /Users/robinson/Downloads/data/Olivia2006/Olivia2006_AUDIO/Olivia2006.e05.p06.i00.272.wav -shape 1 -vu_f0lim 1,5 -Vuf -4 -vu_dem 3 /Users/robinson/Downloads/data/Olivia2006/Olivia2006_AUDIO/timestretch/Olivia2006.e05.p06.i00.272.OUT.wav\n"
     ]
    },
    {
     "name": "stderr",
     "output_type": "stream",
     "text": [
      "07/02/2018 10:59:59 : alignSnds::INFO::run: supervp -P0 -Afft -Z -sync_pc 1 -D/tmp/alignD4729.par -M800 -oversamp 8 -S /Users/robinson/Downloads/data/Olivia2006/Olivia2006_AUDIO/Olivia2006.e06.p06.i00.336.wav -shape 1 -vu_f0lim 1,5 -Vuf -4 -vu_dem 3 /Users/robinson/Downloads/data/Olivia2006/Olivia2006_AUDIO/timestretch/Olivia2006.e06.p06.i00.336.OUT.wav\n"
     ]
    },
    {
     "name": "stderr",
     "output_type": "stream",
     "text": [
      "07/02/2018 10:59:59 : alignSnds::INFO::run: supervp -P0 -Afft -Z -sync_pc 1 -D/tmp/alignD4729.par -M800 -oversamp 8 -S /Users/robinson/Downloads/data/Olivia2006/Olivia2006_AUDIO/Olivia2006.e07.p06.i00.396.wav -shape 1 -vu_f0lim 1,5 -Vuf -4 -vu_dem 3 /Users/robinson/Downloads/data/Olivia2006/Olivia2006_AUDIO/timestretch/Olivia2006.e07.p06.i00.396.OUT.wav\n"
     ]
    },
    {
     "name": "stderr",
     "output_type": "stream",
     "text": [
      "07/02/2018 11:00:00 : alignSnds::INFO::run: supervp -P0 -Afft -Z -sync_pc 1 -D/tmp/alignD4729.par -M800 -oversamp 8 -S /Users/robinson/Downloads/data/Olivia2006/Olivia2006_AUDIO/Olivia2006.e08.p06.i00.457.wav -shape 1 -vu_f0lim 1,5 -Vuf -4 -vu_dem 3 /Users/robinson/Downloads/data/Olivia2006/Olivia2006_AUDIO/timestretch/Olivia2006.e08.p06.i00.457.OUT.wav\n"
     ]
    },
    {
     "name": "stderr",
     "output_type": "stream",
     "text": [
      "07/02/2018 11:00:00 : alignSnds::INFO::run: supervp -P0 -Afft -Z -sync_pc 1 -D/tmp/alignD4729.par -M800 -oversamp 8 -S /Users/robinson/Downloads/data/Olivia2006/Olivia2006_AUDIO/Olivia2006.e01.p07.i00.38.wav -shape 1 -vu_f0lim 1,5 -Vuf -4 -vu_dem 3 /Users/robinson/Downloads/data/Olivia2006/Olivia2006_AUDIO/timestretch/Olivia2006.e01.p07.i00.38.OUT.wav\n"
     ]
    },
    {
     "name": "stderr",
     "output_type": "stream",
     "text": [
      "07/02/2018 11:00:01 : alignSnds::INFO::run: supervp -P0 -Afft -Z -sync_pc 1 -D/tmp/alignD4729.par -M800 -oversamp 8 -S /Users/robinson/Downloads/data/Olivia2006/Olivia2006_AUDIO/Olivia2006.e02.p07.i00.98.wav -shape 1 -vu_f0lim 1,5 -Vuf -4 -vu_dem 3 /Users/robinson/Downloads/data/Olivia2006/Olivia2006_AUDIO/timestretch/Olivia2006.e02.p07.i00.98.OUT.wav\n"
     ]
    },
    {
     "name": "stderr",
     "output_type": "stream",
     "text": [
      "07/02/2018 11:00:01 : alignSnds::INFO::run: supervp -P0 -Afft -Z -sync_pc 1 -D/tmp/alignD4729.par -M800 -oversamp 8 -S /Users/robinson/Downloads/data/Olivia2006/Olivia2006_AUDIO/Olivia2006.e03.p07.i00.157.wav -shape 1 -vu_f0lim 1,5 -Vuf -4 -vu_dem 3 /Users/robinson/Downloads/data/Olivia2006/Olivia2006_AUDIO/timestretch/Olivia2006.e03.p07.i00.157.OUT.wav\n"
     ]
    },
    {
     "name": "stderr",
     "output_type": "stream",
     "text": [
      "07/02/2018 11:00:02 : alignSnds::INFO::run: supervp -P0 -Afft -Z -sync_pc 1 -D/tmp/alignD4729.par -M800 -oversamp 8 -S /Users/robinson/Downloads/data/Olivia2006/Olivia2006_AUDIO/Olivia2006.e04.p07.i00.218.wav -shape 1 -vu_f0lim 1,5 -Vuf -4 -vu_dem 3 /Users/robinson/Downloads/data/Olivia2006/Olivia2006_AUDIO/timestretch/Olivia2006.e04.p07.i00.218.OUT.wav\n"
     ]
    },
    {
     "name": "stderr",
     "output_type": "stream",
     "text": [
      "07/02/2018 11:00:02 : alignSnds::INFO::run: supervp -P0 -Afft -Z -sync_pc 1 -D/tmp/alignD4729.par -M800 -oversamp 8 -S /Users/robinson/Downloads/data/Olivia2006/Olivia2006_AUDIO/Olivia2006.e05.p07.i00.279.wav -shape 1 -vu_f0lim 1,5 -Vuf -4 -vu_dem 3 /Users/robinson/Downloads/data/Olivia2006/Olivia2006_AUDIO/timestretch/Olivia2006.e05.p07.i00.279.OUT.wav\n"
     ]
    },
    {
     "name": "stderr",
     "output_type": "stream",
     "text": [
      "07/02/2018 11:00:03 : alignSnds::INFO::run: supervp -P0 -Afft -Z -sync_pc 1 -D/tmp/alignD4729.par -M800 -oversamp 8 -S /Users/robinson/Downloads/data/Olivia2006/Olivia2006_AUDIO/Olivia2006.e06.p07.i00.342.wav -shape 1 -vu_f0lim 1,5 -Vuf -4 -vu_dem 3 /Users/robinson/Downloads/data/Olivia2006/Olivia2006_AUDIO/timestretch/Olivia2006.e06.p07.i00.342.OUT.wav\n"
     ]
    },
    {
     "name": "stderr",
     "output_type": "stream",
     "text": [
      "07/02/2018 11:00:03 : alignSnds::INFO::run: supervp -P0 -Afft -Z -sync_pc 1 -D/tmp/alignD4729.par -M800 -oversamp 8 -S /Users/robinson/Downloads/data/Olivia2006/Olivia2006_AUDIO/Olivia2006.e07.p07.i00.402.wav -shape 1 -vu_f0lim 1,5 -Vuf -4 -vu_dem 3 /Users/robinson/Downloads/data/Olivia2006/Olivia2006_AUDIO/timestretch/Olivia2006.e07.p07.i00.402.OUT.wav\n"
     ]
    },
    {
     "name": "stderr",
     "output_type": "stream",
     "text": [
      "07/02/2018 11:00:04 : alignSnds::INFO::run: supervp -P0 -Afft -Z -sync_pc 1 -D/tmp/alignD4729.par -M800 -oversamp 8 -S /Users/robinson/Downloads/data/Olivia2006/Olivia2006_AUDIO/Olivia2006.e08.p07.i00.463.wav -shape 1 -vu_f0lim 1,5 -Vuf -4 -vu_dem 3 /Users/robinson/Downloads/data/Olivia2006/Olivia2006_AUDIO/timestretch/Olivia2006.e08.p07.i00.463.OUT.wav\n"
     ]
    },
    {
     "name": "stderr",
     "output_type": "stream",
     "text": [
      "07/02/2018 11:00:04 : alignSnds::INFO::run: supervp -P0 -Afft -Z -sync_pc 1 -D/tmp/alignD4729.par -M800 -oversamp 8 -S /Users/robinson/Downloads/data/Olivia2006/Olivia2006_AUDIO/Olivia2006.e01.p08.i00.44.wav -shape 1 -vu_f0lim 1,5 -Vuf -4 -vu_dem 3 /Users/robinson/Downloads/data/Olivia2006/Olivia2006_AUDIO/timestretch/Olivia2006.e01.p08.i00.44.OUT.wav\n"
     ]
    },
    {
     "name": "stderr",
     "output_type": "stream",
     "text": [
      "07/02/2018 11:00:05 : alignSnds::INFO::run: supervp -P0 -Afft -Z -sync_pc 1 -D/tmp/alignD4729.par -M800 -oversamp 8 -S /Users/robinson/Downloads/data/Olivia2006/Olivia2006_AUDIO/Olivia2006.e02.p08.i00.104.wav -shape 1 -vu_f0lim 1,5 -Vuf -4 -vu_dem 3 /Users/robinson/Downloads/data/Olivia2006/Olivia2006_AUDIO/timestretch/Olivia2006.e02.p08.i00.104.OUT.wav\n"
     ]
    },
    {
     "name": "stderr",
     "output_type": "stream",
     "text": [
      "07/02/2018 11:00:05 : alignSnds::INFO::run: supervp -P0 -Afft -Z -sync_pc 1 -D/tmp/alignD4729.par -M800 -oversamp 8 -S /Users/robinson/Downloads/data/Olivia2006/Olivia2006_AUDIO/Olivia2006.e03.p08.i00.163.wav -shape 1 -vu_f0lim 1,5 -Vuf -4 -vu_dem 3 /Users/robinson/Downloads/data/Olivia2006/Olivia2006_AUDIO/timestretch/Olivia2006.e03.p08.i00.163.OUT.wav\n"
     ]
    },
    {
     "name": "stderr",
     "output_type": "stream",
     "text": [
      "07/02/2018 11:00:06 : alignSnds::INFO::run: supervp -P0 -Afft -Z -sync_pc 1 -D/tmp/alignD4729.par -M800 -oversamp 8 -S /Users/robinson/Downloads/data/Olivia2006/Olivia2006_AUDIO/Olivia2006.e04.p08.i00.224.wav -shape 1 -vu_f0lim 1,5 -Vuf -4 -vu_dem 3 /Users/robinson/Downloads/data/Olivia2006/Olivia2006_AUDIO/timestretch/Olivia2006.e04.p08.i00.224.OUT.wav\n"
     ]
    },
    {
     "name": "stderr",
     "output_type": "stream",
     "text": [
      "07/02/2018 11:00:06 : alignSnds::INFO::run: supervp -P0 -Afft -Z -sync_pc 1 -D/tmp/alignD4729.par -M800 -oversamp 8 -S /Users/robinson/Downloads/data/Olivia2006/Olivia2006_AUDIO/Olivia2006.e05.p08.i00.285.wav -shape 1 -vu_f0lim 1,5 -Vuf -4 -vu_dem 3 /Users/robinson/Downloads/data/Olivia2006/Olivia2006_AUDIO/timestretch/Olivia2006.e05.p08.i00.285.OUT.wav\n"
     ]
    },
    {
     "name": "stderr",
     "output_type": "stream",
     "text": [
      "07/02/2018 11:00:07 : alignSnds::INFO::run: supervp -P0 -Afft -Z -sync_pc 1 -D/tmp/alignD4729.par -M800 -oversamp 8 -S /Users/robinson/Downloads/data/Olivia2006/Olivia2006_AUDIO/Olivia2006.e06.p08.i00.348.wav -shape 1 -vu_f0lim 1,5 -Vuf -4 -vu_dem 3 /Users/robinson/Downloads/data/Olivia2006/Olivia2006_AUDIO/timestretch/Olivia2006.e06.p08.i00.348.OUT.wav\n"
     ]
    },
    {
     "name": "stderr",
     "output_type": "stream",
     "text": [
      "07/02/2018 11:00:07 : alignSnds::INFO::run: supervp -P0 -Afft -Z -sync_pc 1 -D/tmp/alignD4729.par -M800 -oversamp 8 -S /Users/robinson/Downloads/data/Olivia2006/Olivia2006_AUDIO/Olivia2006.e07.p08.i00.409.wav -shape 1 -vu_f0lim 1,5 -Vuf -4 -vu_dem 3 /Users/robinson/Downloads/data/Olivia2006/Olivia2006_AUDIO/timestretch/Olivia2006.e07.p08.i00.409.OUT.wav\n"
     ]
    },
    {
     "name": "stderr",
     "output_type": "stream",
     "text": [
      "07/02/2018 11:00:08 : alignSnds::INFO::run: supervp -P0 -Afft -Z -sync_pc 1 -D/tmp/alignD4729.par -M800 -oversamp 8 -S /Users/robinson/Downloads/data/Olivia2006/Olivia2006_AUDIO/Olivia2006.e08.p08.i00.469.wav -shape 1 -vu_f0lim 1,5 -Vuf -4 -vu_dem 3 /Users/robinson/Downloads/data/Olivia2006/Olivia2006_AUDIO/timestretch/Olivia2006.e08.p08.i00.469.OUT.wav\n"
     ]
    },
    {
     "name": "stderr",
     "output_type": "stream",
     "text": [
      "07/02/2018 11:00:08 : alignSnds::INFO::run: supervp -P0 -Afft -Z -sync_pc 1 -D/tmp/alignD4729.par -M800 -oversamp 8 -S /Users/robinson/Downloads/data/Olivia2006/Olivia2006_AUDIO/Olivia2006.e01.p09.i00.50.wav -shape 1 -vu_f0lim 1,5 -Vuf -4 -vu_dem 3 /Users/robinson/Downloads/data/Olivia2006/Olivia2006_AUDIO/timestretch/Olivia2006.e01.p09.i00.50.OUT.wav\n"
     ]
    },
    {
     "name": "stderr",
     "output_type": "stream",
     "text": [
      "07/02/2018 11:00:09 : alignSnds::INFO::run: supervp -P0 -Afft -Z -sync_pc 1 -D/tmp/alignD4729.par -M800 -oversamp 8 -S /Users/robinson/Downloads/data/Olivia2006/Olivia2006_AUDIO/Olivia2006.e02.p09.i00.110.wav -shape 1 -vu_f0lim 1,5 -Vuf -4 -vu_dem 3 /Users/robinson/Downloads/data/Olivia2006/Olivia2006_AUDIO/timestretch/Olivia2006.e02.p09.i00.110.OUT.wav\n"
     ]
    },
    {
     "name": "stderr",
     "output_type": "stream",
     "text": [
      "07/02/2018 11:00:09 : alignSnds::INFO::run: supervp -P0 -Afft -Z -sync_pc 1 -D/tmp/alignD4729.par -M800 -oversamp 8 -S /Users/robinson/Downloads/data/Olivia2006/Olivia2006_AUDIO/Olivia2006.e03.p09.i00.169.wav -shape 1 -vu_f0lim 1,5 -Vuf -4 -vu_dem 3 /Users/robinson/Downloads/data/Olivia2006/Olivia2006_AUDIO/timestretch/Olivia2006.e03.p09.i00.169.OUT.wav\n"
     ]
    },
    {
     "name": "stderr",
     "output_type": "stream",
     "text": [
      "07/02/2018 11:00:10 : alignSnds::INFO::run: supervp -P0 -Afft -Z -sync_pc 1 -D/tmp/alignD4729.par -M800 -oversamp 8 -S /Users/robinson/Downloads/data/Olivia2006/Olivia2006_AUDIO/Olivia2006.e04.p09.i00.230.wav -shape 1 -vu_f0lim 1,5 -Vuf -4 -vu_dem 3 /Users/robinson/Downloads/data/Olivia2006/Olivia2006_AUDIO/timestretch/Olivia2006.e04.p09.i00.230.OUT.wav\n"
     ]
    },
    {
     "name": "stderr",
     "output_type": "stream",
     "text": [
      "07/02/2018 11:00:11 : alignSnds::INFO::run: supervp -P0 -Afft -Z -sync_pc 1 -D/tmp/alignD4729.par -M800 -oversamp 8 -S /Users/robinson/Downloads/data/Olivia2006/Olivia2006_AUDIO/Olivia2006.e05.p09.i00.291.wav -shape 1 -vu_f0lim 1,5 -Vuf -4 -vu_dem 3 /Users/robinson/Downloads/data/Olivia2006/Olivia2006_AUDIO/timestretch/Olivia2006.e05.p09.i00.291.OUT.wav\n"
     ]
    },
    {
     "name": "stderr",
     "output_type": "stream",
     "text": [
      "07/02/2018 11:00:11 : alignSnds::INFO::run: supervp -P0 -Afft -Z -sync_pc 1 -D/tmp/alignD4729.par -M800 -oversamp 8 -S /Users/robinson/Downloads/data/Olivia2006/Olivia2006_AUDIO/Olivia2006.e06.p09.i00.354.wav -shape 1 -vu_f0lim 1,5 -Vuf -4 -vu_dem 3 /Users/robinson/Downloads/data/Olivia2006/Olivia2006_AUDIO/timestretch/Olivia2006.e06.p09.i00.354.OUT.wav\n"
     ]
    },
    {
     "name": "stderr",
     "output_type": "stream",
     "text": [
      "07/02/2018 11:00:12 : alignSnds::INFO::run: supervp -P0 -Afft -Z -sync_pc 1 -D/tmp/alignD4729.par -M800 -oversamp 8 -S /Users/robinson/Downloads/data/Olivia2006/Olivia2006_AUDIO/Olivia2006.e07.p09.i00.415.wav -shape 1 -vu_f0lim 1,5 -Vuf -4 -vu_dem 3 /Users/robinson/Downloads/data/Olivia2006/Olivia2006_AUDIO/timestretch/Olivia2006.e07.p09.i00.415.OUT.wav\n"
     ]
    },
    {
     "name": "stderr",
     "output_type": "stream",
     "text": [
      "07/02/2018 11:00:12 : alignSnds::INFO::run: supervp -P0 -Afft -Z -sync_pc 1 -D/tmp/alignD4729.par -M800 -oversamp 8 -S /Users/robinson/Downloads/data/Olivia2006/Olivia2006_AUDIO/Olivia2006.e08.p09.i00.475.wav -shape 1 -vu_f0lim 1,5 -Vuf -4 -vu_dem 3 /Users/robinson/Downloads/data/Olivia2006/Olivia2006_AUDIO/timestretch/Olivia2006.e08.p09.i00.475.OUT.wav\n"
     ]
    },
    {
     "name": "stderr",
     "output_type": "stream",
     "text": [
      "07/02/2018 11:00:13 : alignSnds::INFO::run: supervp -P0 -Afft -Z -sync_pc 1 -D/tmp/alignD4729.par -M800 -oversamp 8 -S /Users/robinson/Downloads/data/Olivia2006/Olivia2006_AUDIO/Olivia2006.e01.p10.i00.56.wav -shape 1 -vu_f0lim 1,5 -Vuf -4 -vu_dem 3 /Users/robinson/Downloads/data/Olivia2006/Olivia2006_AUDIO/timestretch/Olivia2006.e01.p10.i00.56.OUT.wav\n"
     ]
    },
    {
     "name": "stderr",
     "output_type": "stream",
     "text": [
      "07/02/2018 11:00:13 : alignSnds::INFO::run: supervp -P0 -Afft -Z -sync_pc 1 -D/tmp/alignD4729.par -M800 -oversamp 8 -S /Users/robinson/Downloads/data/Olivia2006/Olivia2006_AUDIO/Olivia2006.e02.p10.i00.116.wav -shape 1 -vu_f0lim 1,5 -Vuf -4 -vu_dem 3 /Users/robinson/Downloads/data/Olivia2006/Olivia2006_AUDIO/timestretch/Olivia2006.e02.p10.i00.116.OUT.wav\n"
     ]
    },
    {
     "name": "stderr",
     "output_type": "stream",
     "text": [
      "07/02/2018 11:00:13 : alignSnds::INFO::run: supervp -P0 -Afft -Z -sync_pc 1 -D/tmp/alignD4729.par -M800 -oversamp 8 -S /Users/robinson/Downloads/data/Olivia2006/Olivia2006_AUDIO/Olivia2006.e03.p10.i00.175.wav -shape 1 -vu_f0lim 1,5 -Vuf -4 -vu_dem 3 /Users/robinson/Downloads/data/Olivia2006/Olivia2006_AUDIO/timestretch/Olivia2006.e03.p10.i00.175.OUT.wav\n"
     ]
    },
    {
     "name": "stderr",
     "output_type": "stream",
     "text": [
      "07/02/2018 11:00:14 : alignSnds::INFO::run: supervp -P0 -Afft -Z -sync_pc 1 -D/tmp/alignD4729.par -M800 -oversamp 8 -S /Users/robinson/Downloads/data/Olivia2006/Olivia2006_AUDIO/Olivia2006.e04.p10.i00.236.wav -shape 1 -vu_f0lim 1,5 -Vuf -4 -vu_dem 3 /Users/robinson/Downloads/data/Olivia2006/Olivia2006_AUDIO/timestretch/Olivia2006.e04.p10.i00.236.OUT.wav\n"
     ]
    },
    {
     "name": "stderr",
     "output_type": "stream",
     "text": [
      "07/02/2018 11:00:14 : alignSnds::INFO::run: supervp -P0 -Afft -Z -sync_pc 1 -D/tmp/alignD4729.par -M800 -oversamp 8 -S /Users/robinson/Downloads/data/Olivia2006/Olivia2006_AUDIO/Olivia2006.e05.p10.i00.298.wav -shape 1 -vu_f0lim 1,5 -Vuf -4 -vu_dem 3 /Users/robinson/Downloads/data/Olivia2006/Olivia2006_AUDIO/timestretch/Olivia2006.e05.p10.i00.298.OUT.wav\n"
     ]
    },
    {
     "name": "stderr",
     "output_type": "stream",
     "text": [
      "07/02/2018 11:00:15 : alignSnds::INFO::run: supervp -P0 -Afft -Z -sync_pc 1 -D/tmp/alignD4729.par -M800 -oversamp 8 -S /Users/robinson/Downloads/data/Olivia2006/Olivia2006_AUDIO/Olivia2006.e06.p10.i00.360.wav -shape 1 -vu_f0lim 1,5 -Vuf -4 -vu_dem 3 /Users/robinson/Downloads/data/Olivia2006/Olivia2006_AUDIO/timestretch/Olivia2006.e06.p10.i00.360.OUT.wav\n"
     ]
    },
    {
     "name": "stderr",
     "output_type": "stream",
     "text": [
      "07/02/2018 11:00:15 : alignSnds::INFO::run: supervp -P0 -Afft -Z -sync_pc 1 -D/tmp/alignD4729.par -M800 -oversamp 8 -S /Users/robinson/Downloads/data/Olivia2006/Olivia2006_AUDIO/Olivia2006.e07.p10.i00.421.wav -shape 1 -vu_f0lim 1,5 -Vuf -4 -vu_dem 3 /Users/robinson/Downloads/data/Olivia2006/Olivia2006_AUDIO/timestretch/Olivia2006.e07.p10.i00.421.OUT.wav\n"
     ]
    },
    {
     "name": "stderr",
     "output_type": "stream",
     "text": [
      "07/02/2018 11:00:16 : alignSnds::INFO::run: supervp -P0 -Afft -Z -sync_pc 1 -D/tmp/alignD4729.par -M800 -oversamp 8 -S /Users/robinson/Downloads/data/Olivia2006/Olivia2006_AUDIO/Olivia2006.e08.p10.i00.481.wav -shape 1 -vu_f0lim 1,5 -Vuf -4 -vu_dem 3 /Users/robinson/Downloads/data/Olivia2006/Olivia2006_AUDIO/timestretch/Olivia2006.e08.p10.i00.481.OUT.wav\n"
     ]
    },
    {
     "name": "stdout",
     "output_type": "stream",
     "text": [
      "done\n"
     ]
    }
   ],
   "source": [
    "'''\n",
    "# def alignSnds(sndfile_to_be_aligned, outfile, temporal_positions,\n",
    "#               winsize,  svpcmd=svp_executable, shape=False,\n",
    "#               transients=False, oversamp=8, vudem=3, transdet_minren=None, verbose=False) :\n",
    "#     use supervp to align sndfile_to_be_aligned to sndfile by means of stretching\n",
    "#     the first to align to the second.\n",
    "\n",
    "# time stretch whole source soundfile\n",
    "# param: sndfile_to_be_aligned: source soundfile from olivia2006 dataset\n",
    "# param: outfile: output file\n",
    "# param: temporal_positions: list of tuples of time before, time after\n",
    "\n",
    "shares vars with above code, so run all\n",
    "'''\n",
    "\n",
    "# bug: before times has duplicates in it.. 'syll_time.txt'\n",
    "\n",
    "# open files and split into list of lines\n",
    "f_wav_files = open(os.path.join(output_directory, filename_wav_files), 'r')\n",
    "wav_files = f_wav_files.read().split('\\n')\n",
    "f_syll_time = open(os.path.join(output_directory, filename_syll_time), 'r')\n",
    "syll_times = f_syll_time.read().split('\\n')\n",
    "f_new_syll_time = open(os.path.join(output_directory, filename_new_syll_time), 'r')\n",
    "new_syll_times = f_new_syll_time.read().split('\\n')\n",
    "f_syll_vals_min = open(os.path.join(output_directory, filename_syll_vals_min), 'r')\n",
    "syll_vals_min = f_syll_vals_min.read().split('\\n')\n",
    "\n",
    "# debug\n",
    "# wav_files = ['Olivia2006.e01.p01.i00.1.wav']\n",
    "# print(wav_files)\n",
    "\n",
    "# for each file in enumerate(wav_files)\n",
    "for i, wav_file in enumerate(wav_files):\n",
    "    # skip if wav_file is empty:\n",
    "    if not wav_file:\n",
    "        continue\n",
    "#     build the full path for sndfile_to_be_aligned\n",
    "    wav_file_path = os.path.join(wav_input_directory_path, wav_file)\n",
    "    # print('wav_file_path ', wav_file_path)\n",
    "#     get before times and after times from corresponding row of the two syll_time files, and put in lists\n",
    "    before_times = syll_times[i].split(',')\n",
    "    before_times = [float(x) for x in before_times if x]\n",
    "    # print('before_times ', before_times)\n",
    "    end_times = new_syll_times[i].split(',')\n",
    "    end_times = [float(x) for x in end_times if x]\n",
    "    # print('end_times ', end_times)\n",
    "#     make temporal_positions list of tuples from corresponding items from each list\n",
    "#     temporal_positions = list(zip(before_times, end_times))\n",
    "\n",
    "    # loop through zipped list backwards, removing any tuples that have identical elements\n",
    "    # this is to solve RuntimeError(\"do not support alignment with zero size segments.\")\n",
    "    # length = len(temporal_positions)\n",
    "    # # print(length)\n",
    "    # for j in range(length - 1, -1, -1):\n",
    "    #     print(j)\n",
    "    #     print(temporal_positions[j])\n",
    "    #     print(temporal_positions[j][0])\n",
    "    #     print(temporal_positions[j][1])\n",
    "    #     if temporal_positions[j][0] == temporal_positions[j][1]:\n",
    "    #         del temporal_positions[j]\n",
    "    #         print('del ', j)\n",
    "\n",
    "    # [del temporal_positions[i] if temporal_positions[i][0] == temporal_positions[i][1] for i, x in enumerate(temporal_positions)]\n",
    "    # print(temporal_positions)\n",
    "\n",
    "    # convert cleaned list of tuples to list of two-element arrays\n",
    "    temporal_positions = [np.array(x) for x in zip(before_times, end_times)]\n",
    "    # print('temporal_positions ', temporal_positions)\n",
    "    # print('len ', len(temporal_positions))\n",
    "\n",
    "#     make outfile name from infile name\n",
    "#     print('wav_file ', wav_file)\n",
    "    wav_file_out, ext = os.path.splitext(wav_file)\n",
    "    wav_file_out = wav_file_out + '.OUT' + ext\n",
    "    # print('wav_file_out ', wav_file_out)\n",
    "    wav_file_out_path = os.path.join(output_directory, wav_file_out)\n",
    "#     make winsize\n",
    "#     winsize = 4 * int(syll_vals_min[i])\n",
    "    winsize = 800 # works much better\n",
    "    # print('i ', i)\n",
    "    # print('winsize ', winsize)\n",
    "#     call alignSnds with above params: shape=True, winsize = 4 x f0_min of unvoiced regions of THIS (source) wav file\n",
    "    alignSnds(wav_file_path, wav_file_out_path, temporal_positions, winsize, shape=True, verbose=True)\n",
    "    # print('******************')\n",
    "\n",
    "print('done')"
   ]
  },
  {
   "cell_type": "markdown",
   "metadata": {},
   "source": [
    "<h3>Read in time stretched WAV files, extract f0 of each, and output result SDIF files"
   ]
  },
  {
   "cell_type": "code",
   "execution_count": 6,
   "metadata": {
    "collapsed": false
   },
   "outputs": [
    {
     "name": "stdout",
     "output_type": "stream",
     "text": [
      "/Users/robinson/Downloads/data/Olivia2006/Olivia2006_AUDIO/timestretch/.DS_Store\n/Users/robinson/Downloads/data/Olivia2006/Olivia2006_AUDIO/timestretch/Olivia2006.e01.p01.i00.1.OUT.wav\n"
     ]
    },
    {
     "name": "stdout",
     "output_type": "stream",
     "text": [
      "/Users/robinson/Downloads/data/Olivia2006/Olivia2006_AUDIO/timestretch/Olivia2006.e01.p02.i00.8.OUT.wav\n"
     ]
    },
    {
     "name": "stdout",
     "output_type": "stream",
     "text": [
      "/Users/robinson/Downloads/data/Olivia2006/Olivia2006_AUDIO/timestretch/Olivia2006.e01.p03.i00.14.OUT.wav\n"
     ]
    },
    {
     "name": "stdout",
     "output_type": "stream",
     "text": [
      "/Users/robinson/Downloads/data/Olivia2006/Olivia2006_AUDIO/timestretch/Olivia2006.e01.p04.i00.20.OUT.wav\n"
     ]
    },
    {
     "name": "stdout",
     "output_type": "stream",
     "text": [
      "/Users/robinson/Downloads/data/Olivia2006/Olivia2006_AUDIO/timestretch/Olivia2006.e01.p05.i00.26.OUT.wav\n"
     ]
    },
    {
     "name": "stdout",
     "output_type": "stream",
     "text": [
      "/Users/robinson/Downloads/data/Olivia2006/Olivia2006_AUDIO/timestretch/Olivia2006.e01.p06.i00.32.OUT.wav\n"
     ]
    },
    {
     "name": "stdout",
     "output_type": "stream",
     "text": [
      "/Users/robinson/Downloads/data/Olivia2006/Olivia2006_AUDIO/timestretch/Olivia2006.e01.p07.i00.38.OUT.wav\n"
     ]
    },
    {
     "name": "stdout",
     "output_type": "stream",
     "text": [
      "/Users/robinson/Downloads/data/Olivia2006/Olivia2006_AUDIO/timestretch/Olivia2006.e01.p08.i00.44.OUT.wav\n"
     ]
    },
    {
     "name": "stdout",
     "output_type": "stream",
     "text": [
      "/Users/robinson/Downloads/data/Olivia2006/Olivia2006_AUDIO/timestretch/Olivia2006.e01.p09.i00.50.OUT.wav\n"
     ]
    },
    {
     "name": "stdout",
     "output_type": "stream",
     "text": [
      "/Users/robinson/Downloads/data/Olivia2006/Olivia2006_AUDIO/timestretch/Olivia2006.e01.p10.i00.56.OUT.wav\n"
     ]
    },
    {
     "name": "stdout",
     "output_type": "stream",
     "text": [
      "/Users/robinson/Downloads/data/Olivia2006/Olivia2006_AUDIO/timestretch/Olivia2006.e02.p01.i00.62.OUT.wav\n"
     ]
    },
    {
     "name": "stdout",
     "output_type": "stream",
     "text": [
      "/Users/robinson/Downloads/data/Olivia2006/Olivia2006_AUDIO/timestretch/Olivia2006.e02.p02.i00.68.OUT.wav\n"
     ]
    },
    {
     "name": "stdout",
     "output_type": "stream",
     "text": [
      "/Users/robinson/Downloads/data/Olivia2006/Olivia2006_AUDIO/timestretch/Olivia2006.e02.p03.i00.74.OUT.wav\n"
     ]
    },
    {
     "name": "stdout",
     "output_type": "stream",
     "text": [
      "/Users/robinson/Downloads/data/Olivia2006/Olivia2006_AUDIO/timestretch/Olivia2006.e02.p04.i00.80.OUT.wav\n"
     ]
    },
    {
     "name": "stdout",
     "output_type": "stream",
     "text": [
      "/Users/robinson/Downloads/data/Olivia2006/Olivia2006_AUDIO/timestretch/Olivia2006.e02.p05.i00.86.OUT.wav\n"
     ]
    },
    {
     "name": "stdout",
     "output_type": "stream",
     "text": [
      "/Users/robinson/Downloads/data/Olivia2006/Olivia2006_AUDIO/timestretch/Olivia2006.e02.p06.i00.92.OUT.wav\n"
     ]
    },
    {
     "name": "stdout",
     "output_type": "stream",
     "text": [
      "/Users/robinson/Downloads/data/Olivia2006/Olivia2006_AUDIO/timestretch/Olivia2006.e02.p07.i00.98.OUT.wav\n"
     ]
    },
    {
     "name": "stdout",
     "output_type": "stream",
     "text": [
      "/Users/robinson/Downloads/data/Olivia2006/Olivia2006_AUDIO/timestretch/Olivia2006.e02.p08.i00.104.OUT.wav\n"
     ]
    },
    {
     "name": "stdout",
     "output_type": "stream",
     "text": [
      "/Users/robinson/Downloads/data/Olivia2006/Olivia2006_AUDIO/timestretch/Olivia2006.e02.p09.i00.110.OUT.wav\n"
     ]
    },
    {
     "name": "stdout",
     "output_type": "stream",
     "text": [
      "/Users/robinson/Downloads/data/Olivia2006/Olivia2006_AUDIO/timestretch/Olivia2006.e02.p10.i00.116.OUT.wav\n"
     ]
    },
    {
     "name": "stdout",
     "output_type": "stream",
     "text": [
      "/Users/robinson/Downloads/data/Olivia2006/Olivia2006_AUDIO/timestretch/Olivia2006.e03.p01.i00.122.OUT.wav\n"
     ]
    },
    {
     "name": "stdout",
     "output_type": "stream",
     "text": [
      "/Users/robinson/Downloads/data/Olivia2006/Olivia2006_AUDIO/timestretch/Olivia2006.e03.p02.i00.128.OUT.wav\n"
     ]
    },
    {
     "name": "stdout",
     "output_type": "stream",
     "text": [
      "/Users/robinson/Downloads/data/Olivia2006/Olivia2006_AUDIO/timestretch/Olivia2006.e03.p03.i00.134.OUT.wav\n"
     ]
    },
    {
     "name": "stdout",
     "output_type": "stream",
     "text": [
      "/Users/robinson/Downloads/data/Olivia2006/Olivia2006_AUDIO/timestretch/Olivia2006.e03.p04.i00.140.OUT.wav\n"
     ]
    },
    {
     "name": "stdout",
     "output_type": "stream",
     "text": [
      "/Users/robinson/Downloads/data/Olivia2006/Olivia2006_AUDIO/timestretch/Olivia2006.e03.p05.i00.145.OUT.wav\n"
     ]
    },
    {
     "name": "stdout",
     "output_type": "stream",
     "text": [
      "/Users/robinson/Downloads/data/Olivia2006/Olivia2006_AUDIO/timestretch/Olivia2006.e03.p06.i00.151.OUT.wav\n"
     ]
    },
    {
     "name": "stdout",
     "output_type": "stream",
     "text": [
      "/Users/robinson/Downloads/data/Olivia2006/Olivia2006_AUDIO/timestretch/Olivia2006.e03.p07.i00.157.OUT.wav\n"
     ]
    },
    {
     "name": "stdout",
     "output_type": "stream",
     "text": [
      "/Users/robinson/Downloads/data/Olivia2006/Olivia2006_AUDIO/timestretch/Olivia2006.e03.p08.i00.163.OUT.wav\n"
     ]
    },
    {
     "name": "stdout",
     "output_type": "stream",
     "text": [
      "/Users/robinson/Downloads/data/Olivia2006/Olivia2006_AUDIO/timestretch/Olivia2006.e03.p09.i00.169.OUT.wav\n"
     ]
    },
    {
     "name": "stdout",
     "output_type": "stream",
     "text": [
      "/Users/robinson/Downloads/data/Olivia2006/Olivia2006_AUDIO/timestretch/Olivia2006.e03.p10.i00.175.OUT.wav\n"
     ]
    },
    {
     "name": "stdout",
     "output_type": "stream",
     "text": [
      "/Users/robinson/Downloads/data/Olivia2006/Olivia2006_AUDIO/timestretch/Olivia2006.e04.p01.i00.182.OUT.wav\n"
     ]
    },
    {
     "name": "stdout",
     "output_type": "stream",
     "text": [
      "/Users/robinson/Downloads/data/Olivia2006/Olivia2006_AUDIO/timestretch/Olivia2006.e04.p02.i00.188.OUT.wav\n"
     ]
    },
    {
     "name": "stdout",
     "output_type": "stream",
     "text": [
      "/Users/robinson/Downloads/data/Olivia2006/Olivia2006_AUDIO/timestretch/Olivia2006.e04.p03.i00.194.OUT.wav\n"
     ]
    },
    {
     "name": "stdout",
     "output_type": "stream",
     "text": [
      "/Users/robinson/Downloads/data/Olivia2006/Olivia2006_AUDIO/timestretch/Olivia2006.e04.p04.i00.200.OUT.wav\n"
     ]
    },
    {
     "name": "stdout",
     "output_type": "stream",
     "text": [
      "/Users/robinson/Downloads/data/Olivia2006/Olivia2006_AUDIO/timestretch/Olivia2006.e04.p05.i00.206.OUT.wav\n"
     ]
    },
    {
     "name": "stdout",
     "output_type": "stream",
     "text": [
      "/Users/robinson/Downloads/data/Olivia2006/Olivia2006_AUDIO/timestretch/Olivia2006.e04.p06.i00.212.OUT.wav\n"
     ]
    },
    {
     "name": "stdout",
     "output_type": "stream",
     "text": [
      "/Users/robinson/Downloads/data/Olivia2006/Olivia2006_AUDIO/timestretch/Olivia2006.e04.p07.i00.218.OUT.wav\n"
     ]
    },
    {
     "name": "stdout",
     "output_type": "stream",
     "text": [
      "/Users/robinson/Downloads/data/Olivia2006/Olivia2006_AUDIO/timestretch/Olivia2006.e04.p08.i00.224.OUT.wav\n"
     ]
    },
    {
     "name": "stdout",
     "output_type": "stream",
     "text": [
      "/Users/robinson/Downloads/data/Olivia2006/Olivia2006_AUDIO/timestretch/Olivia2006.e04.p09.i00.230.OUT.wav\n"
     ]
    },
    {
     "name": "stdout",
     "output_type": "stream",
     "text": [
      "/Users/robinson/Downloads/data/Olivia2006/Olivia2006_AUDIO/timestretch/Olivia2006.e04.p10.i00.236.OUT.wav\n"
     ]
    },
    {
     "name": "stdout",
     "output_type": "stream",
     "text": [
      "/Users/robinson/Downloads/data/Olivia2006/Olivia2006_AUDIO/timestretch/Olivia2006.e05.p01.i00.242.OUT.wav\n"
     ]
    },
    {
     "name": "stdout",
     "output_type": "stream",
     "text": [
      "/Users/robinson/Downloads/data/Olivia2006/Olivia2006_AUDIO/timestretch/Olivia2006.e05.p02.i00.248.OUT.wav\n"
     ]
    },
    {
     "name": "stdout",
     "output_type": "stream",
     "text": [
      "/Users/robinson/Downloads/data/Olivia2006/Olivia2006_AUDIO/timestretch/Olivia2006.e05.p03.i00.254.OUT.wav\n"
     ]
    },
    {
     "name": "stdout",
     "output_type": "stream",
     "text": [
      "/Users/robinson/Downloads/data/Olivia2006/Olivia2006_AUDIO/timestretch/Olivia2006.e05.p04.i00.260.OUT.wav\n"
     ]
    },
    {
     "name": "stdout",
     "output_type": "stream",
     "text": [
      "/Users/robinson/Downloads/data/Olivia2006/Olivia2006_AUDIO/timestretch/Olivia2006.e05.p05.i00.266.OUT.wav\n"
     ]
    },
    {
     "name": "stdout",
     "output_type": "stream",
     "text": [
      "/Users/robinson/Downloads/data/Olivia2006/Olivia2006_AUDIO/timestretch/Olivia2006.e05.p06.i00.272.OUT.wav\n"
     ]
    },
    {
     "name": "stdout",
     "output_type": "stream",
     "text": [
      "/Users/robinson/Downloads/data/Olivia2006/Olivia2006_AUDIO/timestretch/Olivia2006.e05.p07.i00.279.OUT.wav\n"
     ]
    },
    {
     "name": "stdout",
     "output_type": "stream",
     "text": [
      "/Users/robinson/Downloads/data/Olivia2006/Olivia2006_AUDIO/timestretch/Olivia2006.e05.p08.i00.285.OUT.wav\n"
     ]
    },
    {
     "name": "stdout",
     "output_type": "stream",
     "text": [
      "/Users/robinson/Downloads/data/Olivia2006/Olivia2006_AUDIO/timestretch/Olivia2006.e05.p09.i00.291.OUT.wav\n"
     ]
    },
    {
     "name": "stdout",
     "output_type": "stream",
     "text": [
      "/Users/robinson/Downloads/data/Olivia2006/Olivia2006_AUDIO/timestretch/Olivia2006.e05.p10.i00.298.OUT.wav\n"
     ]
    },
    {
     "name": "stdout",
     "output_type": "stream",
     "text": [
      "/Users/robinson/Downloads/data/Olivia2006/Olivia2006_AUDIO/timestretch/Olivia2006.e06.p01.i00.305.OUT.wav\n"
     ]
    },
    {
     "name": "stdout",
     "output_type": "stream",
     "text": [
      "/Users/robinson/Downloads/data/Olivia2006/Olivia2006_AUDIO/timestretch/Olivia2006.e06.p02.i00.312.OUT.wav\n"
     ]
    },
    {
     "name": "stdout",
     "output_type": "stream",
     "text": [
      "/Users/robinson/Downloads/data/Olivia2006/Olivia2006_AUDIO/timestretch/Olivia2006.e06.p03.i00.318.OUT.wav\n"
     ]
    },
    {
     "name": "stdout",
     "output_type": "stream",
     "text": [
      "/Users/robinson/Downloads/data/Olivia2006/Olivia2006_AUDIO/timestretch/Olivia2006.e06.p04.i00.324.OUT.wav\n"
     ]
    },
    {
     "name": "stdout",
     "output_type": "stream",
     "text": [
      "/Users/robinson/Downloads/data/Olivia2006/Olivia2006_AUDIO/timestretch/Olivia2006.e06.p05.i00.330.OUT.wav\n"
     ]
    },
    {
     "name": "stdout",
     "output_type": "stream",
     "text": [
      "/Users/robinson/Downloads/data/Olivia2006/Olivia2006_AUDIO/timestretch/Olivia2006.e06.p06.i00.336.OUT.wav\n"
     ]
    },
    {
     "name": "stdout",
     "output_type": "stream",
     "text": [
      "/Users/robinson/Downloads/data/Olivia2006/Olivia2006_AUDIO/timestretch/Olivia2006.e06.p07.i00.342.OUT.wav\n"
     ]
    },
    {
     "name": "stdout",
     "output_type": "stream",
     "text": [
      "/Users/robinson/Downloads/data/Olivia2006/Olivia2006_AUDIO/timestretch/Olivia2006.e06.p08.i00.348.OUT.wav\n"
     ]
    },
    {
     "name": "stdout",
     "output_type": "stream",
     "text": [
      "/Users/robinson/Downloads/data/Olivia2006/Olivia2006_AUDIO/timestretch/Olivia2006.e06.p09.i00.354.OUT.wav\n"
     ]
    },
    {
     "name": "stdout",
     "output_type": "stream",
     "text": [
      "/Users/robinson/Downloads/data/Olivia2006/Olivia2006_AUDIO/timestretch/Olivia2006.e06.p10.i00.360.OUT.wav\n"
     ]
    },
    {
     "name": "stdout",
     "output_type": "stream",
     "text": [
      "/Users/robinson/Downloads/data/Olivia2006/Olivia2006_AUDIO/timestretch/Olivia2006.e07.p01.i00.366.OUT.wav\n"
     ]
    },
    {
     "name": "stdout",
     "output_type": "stream",
     "text": [
      "/Users/robinson/Downloads/data/Olivia2006/Olivia2006_AUDIO/timestretch/Olivia2006.e07.p02.i00.372.OUT.wav\n"
     ]
    },
    {
     "name": "stdout",
     "output_type": "stream",
     "text": [
      "/Users/robinson/Downloads/data/Olivia2006/Olivia2006_AUDIO/timestretch/Olivia2006.e07.p03.i00.378.OUT.wav\n"
     ]
    },
    {
     "name": "stdout",
     "output_type": "stream",
     "text": [
      "/Users/robinson/Downloads/data/Olivia2006/Olivia2006_AUDIO/timestretch/Olivia2006.e07.p04.i00.384.OUT.wav\n"
     ]
    },
    {
     "name": "stdout",
     "output_type": "stream",
     "text": [
      "/Users/robinson/Downloads/data/Olivia2006/Olivia2006_AUDIO/timestretch/Olivia2006.e07.p05.i00.390.OUT.wav\n"
     ]
    },
    {
     "name": "stdout",
     "output_type": "stream",
     "text": [
      "/Users/robinson/Downloads/data/Olivia2006/Olivia2006_AUDIO/timestretch/Olivia2006.e07.p06.i00.396.OUT.wav\n"
     ]
    },
    {
     "name": "stdout",
     "output_type": "stream",
     "text": [
      "/Users/robinson/Downloads/data/Olivia2006/Olivia2006_AUDIO/timestretch/Olivia2006.e07.p07.i00.402.OUT.wav\n"
     ]
    },
    {
     "name": "stdout",
     "output_type": "stream",
     "text": [
      "/Users/robinson/Downloads/data/Olivia2006/Olivia2006_AUDIO/timestretch/Olivia2006.e07.p08.i00.409.OUT.wav\n"
     ]
    },
    {
     "name": "stdout",
     "output_type": "stream",
     "text": [
      "/Users/robinson/Downloads/data/Olivia2006/Olivia2006_AUDIO/timestretch/Olivia2006.e07.p09.i00.415.OUT.wav\n"
     ]
    },
    {
     "name": "stdout",
     "output_type": "stream",
     "text": [
      "/Users/robinson/Downloads/data/Olivia2006/Olivia2006_AUDIO/timestretch/Olivia2006.e07.p10.i00.421.OUT.wav\n"
     ]
    },
    {
     "name": "stdout",
     "output_type": "stream",
     "text": [
      "/Users/robinson/Downloads/data/Olivia2006/Olivia2006_AUDIO/timestretch/Olivia2006.e08.p01.i00.427.OUT.wav\n"
     ]
    },
    {
     "name": "stdout",
     "output_type": "stream",
     "text": [
      "/Users/robinson/Downloads/data/Olivia2006/Olivia2006_AUDIO/timestretch/Olivia2006.e08.p02.i00.433.OUT.wav\n"
     ]
    },
    {
     "name": "stdout",
     "output_type": "stream",
     "text": [
      "/Users/robinson/Downloads/data/Olivia2006/Olivia2006_AUDIO/timestretch/Olivia2006.e08.p03.i00.439.OUT.wav\n"
     ]
    },
    {
     "name": "stdout",
     "output_type": "stream",
     "text": [
      "/Users/robinson/Downloads/data/Olivia2006/Olivia2006_AUDIO/timestretch/Olivia2006.e08.p04.i00.445.OUT.wav\n"
     ]
    },
    {
     "name": "stdout",
     "output_type": "stream",
     "text": [
      "/Users/robinson/Downloads/data/Olivia2006/Olivia2006_AUDIO/timestretch/Olivia2006.e08.p05.i00.451.OUT.wav\n"
     ]
    },
    {
     "name": "stdout",
     "output_type": "stream",
     "text": [
      "/Users/robinson/Downloads/data/Olivia2006/Olivia2006_AUDIO/timestretch/Olivia2006.e08.p06.i00.457.OUT.wav\n"
     ]
    },
    {
     "name": "stdout",
     "output_type": "stream",
     "text": [
      "/Users/robinson/Downloads/data/Olivia2006/Olivia2006_AUDIO/timestretch/Olivia2006.e08.p07.i00.463.OUT.wav\n"
     ]
    },
    {
     "name": "stdout",
     "output_type": "stream",
     "text": [
      "/Users/robinson/Downloads/data/Olivia2006/Olivia2006_AUDIO/timestretch/Olivia2006.e08.p08.i00.469.OUT.wav\n"
     ]
    },
    {
     "name": "stdout",
     "output_type": "stream",
     "text": [
      "/Users/robinson/Downloads/data/Olivia2006/Olivia2006_AUDIO/timestretch/Olivia2006.e08.p09.i00.475.OUT.wav\n"
     ]
    },
    {
     "name": "stdout",
     "output_type": "stream",
     "text": [
      "/Users/robinson/Downloads/data/Olivia2006/Olivia2006_AUDIO/timestretch/Olivia2006.e08.p10.i00.481.OUT.wav\n"
     ]
    },
    {
     "name": "stdout",
     "output_type": "stream",
     "text": [
      "/Users/robinson/Downloads/data/Olivia2006/Olivia2006_AUDIO/timestretch/syll_time.txt\n/Users/robinson/Downloads/data/Olivia2006/Olivia2006_AUDIO/timestretch/syll_time_new.txt\n/Users/robinson/Downloads/data/Olivia2006/Olivia2006_AUDIO/timestretch/syll_vals_min.txt\n/Users/robinson/Downloads/data/Olivia2006/Olivia2006_AUDIO/timestretch/wav_files.txt\n"
     ]
    }
   ],
   "source": [
    "'''\n",
    "def calc_f0_swipe(infile, outfile, f0min=50, f0max=450, time_step=0.005,\n",
    "                  harmonicity_threshold=None,\n",
    "                  use_spline_interp=False, ana_freq_limit=12500, music_mode=False,\n",
    "                   remove_low_harm_f0=True, channel=0, verbose=False):\n",
    "\n",
    "    use swipe with given parameters to create the f0 analysis of infile and store the result in an sdif file\n",
    "\n",
    "    raises RuntimeError in case of errors\n",
    "\n",
    "'''\n",
    "\n",
    "# input directory is former output_directory\n",
    "wav_input_directory_path = '/Users/robinson/Downloads/data/Olivia2006/Olivia2006_AUDIO'\n",
    "input_directory_path = os.path.join(wav_input_directory_path, 'timestretch')\n",
    "# input_directory_path = wav_input_directory_path  #debug\n",
    "input_directory = os.fsencode(input_directory_path)\n",
    "\n",
    "# define new output directory and files\n",
    "output_directory_path = os.path.join(wav_input_directory_path, 'timestretch_f0extract')\n",
    "# output_directory_path = os.path.join(wav_input_directory_path, 'original_f0extract')  #debug\n",
    "if not os.path.exists(output_directory_path):\n",
    "    os.mkdir(output_directory_path)\n",
    "\n",
    "# for each wav file in directory\n",
    "for file in os.listdir(input_directory):\n",
    "    # get filename\n",
    "    filename = os.fsdecode(file)\n",
    "    # get filepath and decode from bytes to string\n",
    "    # filepath = os.path.abspath(file).decode(\"utf-8\") \n",
    "    filepath = os.path.join(input_directory_path, filename)\n",
    "    print(filepath)\n",
    "    \n",
    "    if filename.endswith('.wav'):\n",
    "        # build outfile sdif filename\n",
    "        sdif_file_out, ext = os.path.splitext(filename)\n",
    "        sdif_file_out = sdif_file_out + '.sdif'\n",
    "        sdif_file_out_path = os.path.join(output_directory_path, sdif_file_out)\n",
    "        \n",
    "        # extract f0 and write to sdif\n",
    "        calc_f0_swipe(filepath, sdif_file_out_path)\n"
   ]
  },
  {
   "cell_type": "markdown",
   "metadata": {},
   "source": [
    "<h3>Read in timestretched wav, timestretched f0 sdif, and target f0 array, and output transposed f0 WAV file"
   ]
  },
  {
   "cell_type": "code",
   "execution_count": 7,
   "metadata": {
    "collapsed": true
   },
   "outputs": [
    {
     "name": "stdout",
     "output_type": "stream",
     "text": [
      "wav_filepath  /Users/robinson/Downloads/data/Olivia2006/Olivia2006_AUDIO/timestretch/Olivia2006.e01.p01.i00.1.OUT.wav\n"
     ]
    },
    {
     "name": "stdout",
     "output_type": "stream",
     "text": [
      "wav_filepath  /Users/robinson/Downloads/data/Olivia2006/Olivia2006_AUDIO/timestretch/Olivia2006.e02.p01.i00.62.OUT.wav\n"
     ]
    },
    {
     "name": "stdout",
     "output_type": "stream",
     "text": [
      "wav_filepath  /Users/robinson/Downloads/data/Olivia2006/Olivia2006_AUDIO/timestretch/Olivia2006.e03.p01.i00.122.OUT.wav\n"
     ]
    },
    {
     "name": "stdout",
     "output_type": "stream",
     "text": [
      "wav_filepath  /Users/robinson/Downloads/data/Olivia2006/Olivia2006_AUDIO/timestretch/Olivia2006.e04.p01.i00.182.OUT.wav\n"
     ]
    },
    {
     "name": "stdout",
     "output_type": "stream",
     "text": [
      "wav_filepath  /Users/robinson/Downloads/data/Olivia2006/Olivia2006_AUDIO/timestretch/Olivia2006.e05.p01.i00.242.OUT.wav\n"
     ]
    },
    {
     "name": "stdout",
     "output_type": "stream",
     "text": [
      "wav_filepath  /Users/robinson/Downloads/data/Olivia2006/Olivia2006_AUDIO/timestretch/Olivia2006.e06.p01.i00.305.OUT.wav\n"
     ]
    },
    {
     "name": "stdout",
     "output_type": "stream",
     "text": [
      "wav_filepath  /Users/robinson/Downloads/data/Olivia2006/Olivia2006_AUDIO/timestretch/Olivia2006.e07.p01.i00.366.OUT.wav\n"
     ]
    },
    {
     "name": "stdout",
     "output_type": "stream",
     "text": [
      "wav_filepath  /Users/robinson/Downloads/data/Olivia2006/Olivia2006_AUDIO/timestretch/Olivia2006.e08.p01.i00.427.OUT.wav\n"
     ]
    },
    {
     "name": "stdout",
     "output_type": "stream",
     "text": [
      "wav_filepath  /Users/robinson/Downloads/data/Olivia2006/Olivia2006_AUDIO/timestretch/Olivia2006.e01.p02.i00.8.OUT.wav\n"
     ]
    },
    {
     "name": "stdout",
     "output_type": "stream",
     "text": [
      "wav_filepath  /Users/robinson/Downloads/data/Olivia2006/Olivia2006_AUDIO/timestretch/Olivia2006.e02.p02.i00.68.OUT.wav\n"
     ]
    },
    {
     "name": "stdout",
     "output_type": "stream",
     "text": [
      "wav_filepath  /Users/robinson/Downloads/data/Olivia2006/Olivia2006_AUDIO/timestretch/Olivia2006.e03.p02.i00.128.OUT.wav\n"
     ]
    },
    {
     "name": "stdout",
     "output_type": "stream",
     "text": [
      "wav_filepath  /Users/robinson/Downloads/data/Olivia2006/Olivia2006_AUDIO/timestretch/Olivia2006.e04.p02.i00.188.OUT.wav\n"
     ]
    },
    {
     "name": "stdout",
     "output_type": "stream",
     "text": [
      "wav_filepath  /Users/robinson/Downloads/data/Olivia2006/Olivia2006_AUDIO/timestretch/Olivia2006.e05.p02.i00.248.OUT.wav\n"
     ]
    },
    {
     "name": "stdout",
     "output_type": "stream",
     "text": [
      "wav_filepath  /Users/robinson/Downloads/data/Olivia2006/Olivia2006_AUDIO/timestretch/Olivia2006.e06.p02.i00.312.OUT.wav\n"
     ]
    },
    {
     "name": "stdout",
     "output_type": "stream",
     "text": [
      "wav_filepath  /Users/robinson/Downloads/data/Olivia2006/Olivia2006_AUDIO/timestretch/Olivia2006.e07.p02.i00.372.OUT.wav\n"
     ]
    },
    {
     "name": "stdout",
     "output_type": "stream",
     "text": [
      "wav_filepath  /Users/robinson/Downloads/data/Olivia2006/Olivia2006_AUDIO/timestretch/Olivia2006.e08.p02.i00.433.OUT.wav\n"
     ]
    },
    {
     "name": "stdout",
     "output_type": "stream",
     "text": [
      "wav_filepath  /Users/robinson/Downloads/data/Olivia2006/Olivia2006_AUDIO/timestretch/Olivia2006.e01.p03.i00.14.OUT.wav\n"
     ]
    },
    {
     "name": "stdout",
     "output_type": "stream",
     "text": [
      "wav_filepath  /Users/robinson/Downloads/data/Olivia2006/Olivia2006_AUDIO/timestretch/Olivia2006.e02.p03.i00.74.OUT.wav\n"
     ]
    },
    {
     "name": "stdout",
     "output_type": "stream",
     "text": [
      "wav_filepath  /Users/robinson/Downloads/data/Olivia2006/Olivia2006_AUDIO/timestretch/Olivia2006.e03.p03.i00.134.OUT.wav\n"
     ]
    },
    {
     "name": "stdout",
     "output_type": "stream",
     "text": [
      "wav_filepath  /Users/robinson/Downloads/data/Olivia2006/Olivia2006_AUDIO/timestretch/Olivia2006.e04.p03.i00.194.OUT.wav\n"
     ]
    },
    {
     "name": "stdout",
     "output_type": "stream",
     "text": [
      "wav_filepath  /Users/robinson/Downloads/data/Olivia2006/Olivia2006_AUDIO/timestretch/Olivia2006.e05.p03.i00.254.OUT.wav\n"
     ]
    },
    {
     "name": "stdout",
     "output_type": "stream",
     "text": [
      "wav_filepath  /Users/robinson/Downloads/data/Olivia2006/Olivia2006_AUDIO/timestretch/Olivia2006.e06.p03.i00.318.OUT.wav\n"
     ]
    },
    {
     "name": "stdout",
     "output_type": "stream",
     "text": [
      "wav_filepath  /Users/robinson/Downloads/data/Olivia2006/Olivia2006_AUDIO/timestretch/Olivia2006.e07.p03.i00.378.OUT.wav\n"
     ]
    },
    {
     "name": "stdout",
     "output_type": "stream",
     "text": [
      "wav_filepath  /Users/robinson/Downloads/data/Olivia2006/Olivia2006_AUDIO/timestretch/Olivia2006.e08.p03.i00.439.OUT.wav\n"
     ]
    },
    {
     "name": "stdout",
     "output_type": "stream",
     "text": [
      "wav_filepath  /Users/robinson/Downloads/data/Olivia2006/Olivia2006_AUDIO/timestretch/Olivia2006.e01.p04.i00.20.OUT.wav\n"
     ]
    },
    {
     "name": "stdout",
     "output_type": "stream",
     "text": [
      "wav_filepath  /Users/robinson/Downloads/data/Olivia2006/Olivia2006_AUDIO/timestretch/Olivia2006.e02.p04.i00.80.OUT.wav\n"
     ]
    },
    {
     "name": "stdout",
     "output_type": "stream",
     "text": [
      "wav_filepath  /Users/robinson/Downloads/data/Olivia2006/Olivia2006_AUDIO/timestretch/Olivia2006.e03.p04.i00.140.OUT.wav\n"
     ]
    },
    {
     "name": "stdout",
     "output_type": "stream",
     "text": [
      "wav_filepath  /Users/robinson/Downloads/data/Olivia2006/Olivia2006_AUDIO/timestretch/Olivia2006.e04.p04.i00.200.OUT.wav\n"
     ]
    },
    {
     "name": "stdout",
     "output_type": "stream",
     "text": [
      "wav_filepath  /Users/robinson/Downloads/data/Olivia2006/Olivia2006_AUDIO/timestretch/Olivia2006.e05.p04.i00.260.OUT.wav\n"
     ]
    },
    {
     "name": "stdout",
     "output_type": "stream",
     "text": [
      "wav_filepath  /Users/robinson/Downloads/data/Olivia2006/Olivia2006_AUDIO/timestretch/Olivia2006.e06.p04.i00.324.OUT.wav\n"
     ]
    },
    {
     "name": "stdout",
     "output_type": "stream",
     "text": [
      "wav_filepath  /Users/robinson/Downloads/data/Olivia2006/Olivia2006_AUDIO/timestretch/Olivia2006.e07.p04.i00.384.OUT.wav\n"
     ]
    },
    {
     "name": "stdout",
     "output_type": "stream",
     "text": [
      "wav_filepath  /Users/robinson/Downloads/data/Olivia2006/Olivia2006_AUDIO/timestretch/Olivia2006.e08.p04.i00.445.OUT.wav\n"
     ]
    },
    {
     "name": "stdout",
     "output_type": "stream",
     "text": [
      "wav_filepath  /Users/robinson/Downloads/data/Olivia2006/Olivia2006_AUDIO/timestretch/Olivia2006.e01.p05.i00.26.OUT.wav\n"
     ]
    },
    {
     "name": "stdout",
     "output_type": "stream",
     "text": [
      "wav_filepath  /Users/robinson/Downloads/data/Olivia2006/Olivia2006_AUDIO/timestretch/Olivia2006.e02.p05.i00.86.OUT.wav\n"
     ]
    },
    {
     "name": "stdout",
     "output_type": "stream",
     "text": [
      "wav_filepath  /Users/robinson/Downloads/data/Olivia2006/Olivia2006_AUDIO/timestretch/Olivia2006.e03.p05.i00.145.OUT.wav\n"
     ]
    },
    {
     "name": "stdout",
     "output_type": "stream",
     "text": [
      "wav_filepath  /Users/robinson/Downloads/data/Olivia2006/Olivia2006_AUDIO/timestretch/Olivia2006.e04.p05.i00.206.OUT.wav\n"
     ]
    },
    {
     "name": "stdout",
     "output_type": "stream",
     "text": [
      "wav_filepath  /Users/robinson/Downloads/data/Olivia2006/Olivia2006_AUDIO/timestretch/Olivia2006.e05.p05.i00.266.OUT.wav\n"
     ]
    },
    {
     "name": "stdout",
     "output_type": "stream",
     "text": [
      "wav_filepath  /Users/robinson/Downloads/data/Olivia2006/Olivia2006_AUDIO/timestretch/Olivia2006.e06.p05.i00.330.OUT.wav\n"
     ]
    },
    {
     "name": "stdout",
     "output_type": "stream",
     "text": [
      "wav_filepath  /Users/robinson/Downloads/data/Olivia2006/Olivia2006_AUDIO/timestretch/Olivia2006.e07.p05.i00.390.OUT.wav\n"
     ]
    },
    {
     "name": "stdout",
     "output_type": "stream",
     "text": [
      "wav_filepath  /Users/robinson/Downloads/data/Olivia2006/Olivia2006_AUDIO/timestretch/Olivia2006.e08.p05.i00.451.OUT.wav\n"
     ]
    },
    {
     "name": "stdout",
     "output_type": "stream",
     "text": [
      "wav_filepath  /Users/robinson/Downloads/data/Olivia2006/Olivia2006_AUDIO/timestretch/Olivia2006.e01.p06.i00.32.OUT.wav\n"
     ]
    },
    {
     "name": "stdout",
     "output_type": "stream",
     "text": [
      "wav_filepath  /Users/robinson/Downloads/data/Olivia2006/Olivia2006_AUDIO/timestretch/Olivia2006.e02.p06.i00.92.OUT.wav\n"
     ]
    },
    {
     "name": "stdout",
     "output_type": "stream",
     "text": [
      "wav_filepath  /Users/robinson/Downloads/data/Olivia2006/Olivia2006_AUDIO/timestretch/Olivia2006.e03.p06.i00.151.OUT.wav\n"
     ]
    },
    {
     "name": "stdout",
     "output_type": "stream",
     "text": [
      "wav_filepath  /Users/robinson/Downloads/data/Olivia2006/Olivia2006_AUDIO/timestretch/Olivia2006.e04.p06.i00.212.OUT.wav\n"
     ]
    },
    {
     "name": "stdout",
     "output_type": "stream",
     "text": [
      "wav_filepath  /Users/robinson/Downloads/data/Olivia2006/Olivia2006_AUDIO/timestretch/Olivia2006.e05.p06.i00.272.OUT.wav\n"
     ]
    },
    {
     "name": "stdout",
     "output_type": "stream",
     "text": [
      "wav_filepath  /Users/robinson/Downloads/data/Olivia2006/Olivia2006_AUDIO/timestretch/Olivia2006.e06.p06.i00.336.OUT.wav\n"
     ]
    },
    {
     "name": "stdout",
     "output_type": "stream",
     "text": [
      "wav_filepath  /Users/robinson/Downloads/data/Olivia2006/Olivia2006_AUDIO/timestretch/Olivia2006.e07.p06.i00.396.OUT.wav\n"
     ]
    },
    {
     "name": "stdout",
     "output_type": "stream",
     "text": [
      "wav_filepath  /Users/robinson/Downloads/data/Olivia2006/Olivia2006_AUDIO/timestretch/Olivia2006.e08.p06.i00.457.OUT.wav\n"
     ]
    },
    {
     "name": "stdout",
     "output_type": "stream",
     "text": [
      "wav_filepath  /Users/robinson/Downloads/data/Olivia2006/Olivia2006_AUDIO/timestretch/Olivia2006.e01.p07.i00.38.OUT.wav\n"
     ]
    },
    {
     "name": "stdout",
     "output_type": "stream",
     "text": [
      "wav_filepath  /Users/robinson/Downloads/data/Olivia2006/Olivia2006_AUDIO/timestretch/Olivia2006.e02.p07.i00.98.OUT.wav\n"
     ]
    },
    {
     "name": "stdout",
     "output_type": "stream",
     "text": [
      "wav_filepath  /Users/robinson/Downloads/data/Olivia2006/Olivia2006_AUDIO/timestretch/Olivia2006.e03.p07.i00.157.OUT.wav\n"
     ]
    },
    {
     "name": "stdout",
     "output_type": "stream",
     "text": [
      "wav_filepath  /Users/robinson/Downloads/data/Olivia2006/Olivia2006_AUDIO/timestretch/Olivia2006.e04.p07.i00.218.OUT.wav\n"
     ]
    },
    {
     "name": "stdout",
     "output_type": "stream",
     "text": [
      "wav_filepath  /Users/robinson/Downloads/data/Olivia2006/Olivia2006_AUDIO/timestretch/Olivia2006.e05.p07.i00.279.OUT.wav\n"
     ]
    },
    {
     "name": "stdout",
     "output_type": "stream",
     "text": [
      "wav_filepath  /Users/robinson/Downloads/data/Olivia2006/Olivia2006_AUDIO/timestretch/Olivia2006.e06.p07.i00.342.OUT.wav\n"
     ]
    },
    {
     "name": "stdout",
     "output_type": "stream",
     "text": [
      "wav_filepath  /Users/robinson/Downloads/data/Olivia2006/Olivia2006_AUDIO/timestretch/Olivia2006.e07.p07.i00.402.OUT.wav\n"
     ]
    },
    {
     "name": "stdout",
     "output_type": "stream",
     "text": [
      "wav_filepath  /Users/robinson/Downloads/data/Olivia2006/Olivia2006_AUDIO/timestretch/Olivia2006.e08.p07.i00.463.OUT.wav\n"
     ]
    },
    {
     "name": "stdout",
     "output_type": "stream",
     "text": [
      "wav_filepath  /Users/robinson/Downloads/data/Olivia2006/Olivia2006_AUDIO/timestretch/Olivia2006.e01.p08.i00.44.OUT.wav\n"
     ]
    },
    {
     "name": "stdout",
     "output_type": "stream",
     "text": [
      "wav_filepath  /Users/robinson/Downloads/data/Olivia2006/Olivia2006_AUDIO/timestretch/Olivia2006.e02.p08.i00.104.OUT.wav\n"
     ]
    },
    {
     "name": "stdout",
     "output_type": "stream",
     "text": [
      "wav_filepath  /Users/robinson/Downloads/data/Olivia2006/Olivia2006_AUDIO/timestretch/Olivia2006.e03.p08.i00.163.OUT.wav\n"
     ]
    },
    {
     "name": "stdout",
     "output_type": "stream",
     "text": [
      "wav_filepath  /Users/robinson/Downloads/data/Olivia2006/Olivia2006_AUDIO/timestretch/Olivia2006.e04.p08.i00.224.OUT.wav\n"
     ]
    },
    {
     "name": "stdout",
     "output_type": "stream",
     "text": [
      "wav_filepath  /Users/robinson/Downloads/data/Olivia2006/Olivia2006_AUDIO/timestretch/Olivia2006.e05.p08.i00.285.OUT.wav\n"
     ]
    },
    {
     "name": "stdout",
     "output_type": "stream",
     "text": [
      "wav_filepath  /Users/robinson/Downloads/data/Olivia2006/Olivia2006_AUDIO/timestretch/Olivia2006.e06.p08.i00.348.OUT.wav\n"
     ]
    },
    {
     "name": "stdout",
     "output_type": "stream",
     "text": [
      "wav_filepath  /Users/robinson/Downloads/data/Olivia2006/Olivia2006_AUDIO/timestretch/Olivia2006.e07.p08.i00.409.OUT.wav\n"
     ]
    },
    {
     "name": "stdout",
     "output_type": "stream",
     "text": [
      "wav_filepath  /Users/robinson/Downloads/data/Olivia2006/Olivia2006_AUDIO/timestretch/Olivia2006.e08.p08.i00.469.OUT.wav\n"
     ]
    },
    {
     "name": "stdout",
     "output_type": "stream",
     "text": [
      "wav_filepath  /Users/robinson/Downloads/data/Olivia2006/Olivia2006_AUDIO/timestretch/Olivia2006.e01.p09.i00.50.OUT.wav\n"
     ]
    },
    {
     "name": "stdout",
     "output_type": "stream",
     "text": [
      "wav_filepath  /Users/robinson/Downloads/data/Olivia2006/Olivia2006_AUDIO/timestretch/Olivia2006.e02.p09.i00.110.OUT.wav\n"
     ]
    },
    {
     "name": "stdout",
     "output_type": "stream",
     "text": [
      "wav_filepath  /Users/robinson/Downloads/data/Olivia2006/Olivia2006_AUDIO/timestretch/Olivia2006.e03.p09.i00.169.OUT.wav\n"
     ]
    },
    {
     "name": "stdout",
     "output_type": "stream",
     "text": [
      "wav_filepath  /Users/robinson/Downloads/data/Olivia2006/Olivia2006_AUDIO/timestretch/Olivia2006.e04.p09.i00.230.OUT.wav\n"
     ]
    },
    {
     "name": "stdout",
     "output_type": "stream",
     "text": [
      "wav_filepath  /Users/robinson/Downloads/data/Olivia2006/Olivia2006_AUDIO/timestretch/Olivia2006.e05.p09.i00.291.OUT.wav\n"
     ]
    },
    {
     "name": "stdout",
     "output_type": "stream",
     "text": [
      "wav_filepath  /Users/robinson/Downloads/data/Olivia2006/Olivia2006_AUDIO/timestretch/Olivia2006.e06.p09.i00.354.OUT.wav\n"
     ]
    },
    {
     "name": "stdout",
     "output_type": "stream",
     "text": [
      "wav_filepath  /Users/robinson/Downloads/data/Olivia2006/Olivia2006_AUDIO/timestretch/Olivia2006.e07.p09.i00.415.OUT.wav\n"
     ]
    },
    {
     "name": "stdout",
     "output_type": "stream",
     "text": [
      "wav_filepath  /Users/robinson/Downloads/data/Olivia2006/Olivia2006_AUDIO/timestretch/Olivia2006.e08.p09.i00.475.OUT.wav\n"
     ]
    },
    {
     "name": "stdout",
     "output_type": "stream",
     "text": [
      "wav_filepath  /Users/robinson/Downloads/data/Olivia2006/Olivia2006_AUDIO/timestretch/Olivia2006.e01.p10.i00.56.OUT.wav\n"
     ]
    },
    {
     "name": "stdout",
     "output_type": "stream",
     "text": [
      "wav_filepath  /Users/robinson/Downloads/data/Olivia2006/Olivia2006_AUDIO/timestretch/Olivia2006.e02.p10.i00.116.OUT.wav\n"
     ]
    },
    {
     "name": "stdout",
     "output_type": "stream",
     "text": [
      "wav_filepath  /Users/robinson/Downloads/data/Olivia2006/Olivia2006_AUDIO/timestretch/Olivia2006.e03.p10.i00.175.OUT.wav\n"
     ]
    },
    {
     "name": "stdout",
     "output_type": "stream",
     "text": [
      "wav_filepath  /Users/robinson/Downloads/data/Olivia2006/Olivia2006_AUDIO/timestretch/Olivia2006.e04.p10.i00.236.OUT.wav\n"
     ]
    },
    {
     "name": "stdout",
     "output_type": "stream",
     "text": [
      "wav_filepath  /Users/robinson/Downloads/data/Olivia2006/Olivia2006_AUDIO/timestretch/Olivia2006.e05.p10.i00.298.OUT.wav\n"
     ]
    },
    {
     "name": "stdout",
     "output_type": "stream",
     "text": [
      "wav_filepath  /Users/robinson/Downloads/data/Olivia2006/Olivia2006_AUDIO/timestretch/Olivia2006.e06.p10.i00.360.OUT.wav\n"
     ]
    },
    {
     "name": "stdout",
     "output_type": "stream",
     "text": [
      "wav_filepath  /Users/robinson/Downloads/data/Olivia2006/Olivia2006_AUDIO/timestretch/Olivia2006.e07.p10.i00.421.OUT.wav\n"
     ]
    },
    {
     "name": "stdout",
     "output_type": "stream",
     "text": [
      "wav_filepath  /Users/robinson/Downloads/data/Olivia2006/Olivia2006_AUDIO/timestretch/Olivia2006.e08.p10.i00.481.OUT.wav\n"
     ]
    }
   ],
   "source": [
    "'''\n",
    "i need to:\n",
    "\n",
    "piece together all f0 syllable files into one continuous sequence, including unvoiced sections (get durations from \n",
    "syll_time), and put into an array\n",
    "\n",
    "\n",
    "call f0_transpose to convert, passing in timestretched wav, timestretched f0 sdif, and target f0 array\n",
    "as well as outfile wav file name, and winsize scalar\n",
    "\n",
    "'''\n",
    "\n",
    "# for each \n",
    "# get list \n",
    "# path to CSV input files directory\n",
    "csv_input_directory_path = '/Users/robinson/Dropbox/anasynth/_data/emoVC/Olivia2006/f0_raw_syllable'\n",
    "# Olivia2006.e01.p01.i00.s01_s e.csv\n",
    "csv_input_file_extension = '.csv'\n",
    "\n",
    "# path to predicted F0 CSV input files directory\n",
    "syll_input_directory_path = '/Users/robinson/Downloads/data/pred/20180627_155521/syllables'\n",
    "# Olivia2006.e01.p01.i00.s01_s e1.csv\n",
    "syll_input_file_extension = '.csv'\n",
    "\n",
    "# path to MAT input files directory\n",
    "mat_input_directory_path = '/Users/robinson/Dropbox/anasynth/_data/emoVC/Olivia2006'\n",
    "# Olivia2006.e01.p01.i00.mat\n",
    "mat_input_file_extension = '.mat'\n",
    "\n",
    "# path to WAV input files directory\n",
    "raw_input_directory_path = '/Users/robinson/Downloads/data/Olivia2006/Olivia2006_AUDIO/'\n",
    "# Olivia2006.e01.p01.i00.1.wav\n",
    "raw_input_file_extension = '.wav'\n",
    "\n",
    "# path to timestretched WAV input files directory\n",
    "wav_input_directory_path = '/Users/robinson/Downloads/data/Olivia2006/Olivia2006_AUDIO/timestretch'\n",
    "# Olivia2006.e01.p01.i00.1.wav\n",
    "wav_input_file_extension = '.wav'\n",
    "\n",
    "# path to SDIF f0 input files directory\n",
    "sdif_input_directory_path = '/Users/robinson/Downloads/data/Olivia2006/Olivia2006_AUDIO/timestretch_f0extract'\n",
    "# Olivia2006.e01.p01.i00.mat\n",
    "sdif_input_file_extension = '.sdif'\n",
    "\n",
    "# define input file root - common to all filetypes\n",
    "input_file_root = 'Olivia2006'\n",
    "\n",
    "# define output directory and files\n",
    "output_directory = os.path.join(raw_input_directory_path, 'f0transpose')\n",
    "if not os.path.exists(output_directory):\n",
    "    os.mkdir(output_directory)\n",
    "    \n",
    "# open test_log.txt and split into list of lines\n",
    "f_test_log = open(os.path.join(csv_input_directory_path, 'out', 'test_log.txt'), 'r')\n",
    "test_log = f_test_log.read().split('\\n')\n",
    "\n",
    "# define phrase range\n",
    "phrase_from = 1\n",
    "phrase_to = 10  #10\n",
    "# define source and target emotion ranges\n",
    "source_emotion_from = 1\n",
    "source_emotion_to = 8  #8\n",
    "# define source and target intensity ranges\n",
    "source_intensity_from = 0\n",
    "source_intensity_to = 0\n",
    "\n",
    "# set sample rate \n",
    "step_s = 0.005 # 5ms, which I assume is what was used to sample the file\n",
    "\n",
    "\n",
    "# for each wavfile that we want to treat..\n",
    "# for each phrase\n",
    "for p in range(phrase_from, phrase_to + 1):\n",
    "    # for each source emotion\n",
    "    for e_s in range(source_emotion_from, source_emotion_to + 1):\n",
    "        # for each source intensity\n",
    "        for i_s in range(source_intensity_from, source_intensity_to + 1):\n",
    "            # build the source file path\n",
    "            filename_base = ''.join([input_file_root, \n",
    "                                        '.e', format(e_s, '02d'),\n",
    "                                        '.p', format(p, '02d'),\n",
    "                                        '.i', format(i_s, '02d')])\n",
    "            \n",
    "            # open the mat file \n",
    "            mat_filename = ''.join([filename_base, mat_input_file_extension])\n",
    "            mat_filepath = os.path.join(mat_input_directory_path, mat_filename)\n",
    "            mat_dict = loadmat(mat_filepath)\n",
    "            \n",
    "            # get list of syllables\n",
    "            syll_label = mat_dict['syll_label']\n",
    "            syll_label = syll_label.reshape((syll_label.shape[1],))\n",
    "            \n",
    "            # get syll_time from dict and transpose to column\n",
    "            syll_time = mat_dict['syll_time'].T\n",
    "            # print('syll_time ', syll_time)\n",
    "            \n",
    "            # make boolean list of voiced/unvoiced\n",
    "            voiced = [True if '#' not in syll[0] else False for i, syll in enumerate(syll_label)]\n",
    "            # print('voiced ', voiced)\n",
    "            \n",
    "            # create list to hold sequence of voiced and unvoiced f0 contour values\n",
    "            all_contours = []\n",
    "            \n",
    "            # for each syllable in the wav file\n",
    "            for all_syll_counter, syll in enumerate(syll_label):\n",
    "                # print('******** SYL ********')\n",
    "                # build the filename of the syllable\n",
    "                filename_syll = ''.join([filename_base, '.s', format(all_syll_counter, '02d'), '_', syll[0],\n",
    "                                         str(all_syll_counter), csv_input_file_extension])\n",
    "                \n",
    "                # if syllable is unvoiced, or if syll file is not in test_log.txt (i.e. it's missing or empty), \n",
    "                # get the length of the unvoiced syllable and add zeroes to all_contours list\n",
    "                if not voiced[all_syll_counter] or filename_syll not in test_log:\n",
    "                    # print('!!! unvoiced')\n",
    "                    time = syll_time[all_syll_counter, 1] - syll_time[all_syll_counter, 0]\n",
    "                    # print('time ', time)\n",
    "                    num_zeroes = int(time // step_s)\n",
    "                    # print('num_zeroes ', num_zeroes)\n",
    "                    all_contours += [0 for _ in range(num_zeroes)]\n",
    "                # if syllable is voiced, add its contents to the all_contours list\n",
    "                else:\n",
    "                    # build the source file path\n",
    "                    source_file_path = os.path.join(syll_input_directory_path, filename_syll)\n",
    "                    \n",
    "                    # load the source file and extract vars\n",
    "                    source_f0_raw = np.loadtxt(source_file_path, dtype='int')\n",
    "                    # print('shape ', source_f0_raw.shape)\n",
    "                    \n",
    "                    # iterate over the numpy array, adding items to the all_contours list\n",
    "                    all_contours += [source_f0_raw[x] for x in range(source_f0_raw.shape[0])]\n",
    "            \n",
    "            # convert into a single array to pass to f0_transpose method - not sure if needed..\n",
    "            all_times = [x * step_s for x in range(len(all_contours))]\n",
    "            all_times_contours = list(zip(all_times, all_contours))\n",
    "            \n",
    "            # print('*** length = ', len(all_times_contours))\n",
    "            for i in range(len(all_times_contours) - 1, 0, -1):\n",
    "                # print(i)\n",
    "                if all_times_contours[i][1] == 0:\n",
    "                    del all_times_contours[i]\n",
    "\n",
    "            all_times_contours = np.array(all_times_contours)\n",
    "            # .reshape(-1, 2)\n",
    "            # print(all_times_contours)\n",
    "            \n",
    "            # build timestretched input wav file name and path - use glob to handle number           \n",
    "            wav_glob_filepath = os.path.join(wav_input_directory_path, filename_base + '.*')\n",
    "            # print('wav_glob_filepath ', wav_glob_filepath)\n",
    "            wav_filepath_list = glob.glob(wav_glob_filepath)\n",
    "            # print('wav_filepath_list ', wav_filepath_list)\n",
    "            wav_filepath = wav_filepath_list[0] \n",
    "            print('wav_filepath ', wav_filepath)\n",
    "            _, wav_filename = os.path.split(wav_filepath)\n",
    "            wav_filename_noext, _ = os.path.splitext(wav_filename)\n",
    "            \n",
    "            \n",
    "            # build outfile wav file name and path\n",
    "            wav_filename_out = ''.join([wav_filename_noext, '.COL', wav_input_file_extension])\n",
    "            wav_filename_out_path = os.path.join(output_directory, wav_filename_out)\n",
    "            \n",
    "            # build sdif file name\n",
    "            sdif_glob_filepath = os.path.join(sdif_input_directory_path, filename_base + '.*')\n",
    "            # print('sdif_glob_filepath ', sdif_glob_filepath)\n",
    "            sdif_filepath_list = glob.glob(sdif_glob_filepath)\n",
    "            # print('sdif_filepath_list ', sdif_filepath_list)\n",
    "            sdif_filepath = sdif_filepath_list[0] \n",
    "            # print('sdif_filepath ', sdif_filepath)\n",
    "            \n",
    "            # set winsize scalar\n",
    "            winsize = 800  # worked before, but dunno why\n",
    "            \n",
    "            # call transpose_f0\n",
    "            transpose_f0(wav_filepath, sdif_filepath, all_times_contours, wav_filename_out_path, winsize)\n"
   ]
  },
  {
   "cell_type": "code",
   "execution_count": 9,
   "metadata": {},
   "outputs": [
    {
     "name": "stdout",
     "output_type": "stream",
     "text": [
      "done\n"
     ]
    }
   ],
   "source": [
    "# copy original source files to directory to compare\n",
    "\n",
    "# path to raw WAV files directory\n",
    "raw_input_directory_path = '/Users/robinson/Downloads/data/Olivia2006/Olivia2006_AUDIO/'\n",
    "# Olivia2006.e01.p01.i00.1.wav\n",
    "\n",
    "# path to timestretched WAV files directory\n",
    "wav_input_directory_path = '/Users/robinson/Downloads/data/Olivia2006/Olivia2006_AUDIO/timestretch'\n",
    "\n",
    "# path to timestretched f0 tranformed files directory\n",
    "joy_input_directory_path = '/Users/robinson/Downloads/data/Olivia2006/Olivia2006_AUDIO/f0transpose'\n",
    "\n",
    "# define input file root - common to all filetypes\n",
    "input_file_root = 'Olivia2006'\n",
    "\n",
    "# define output directory and files\n",
    "output_directory = os.path.join(raw_input_directory_path, 'compare')\n",
    "if not os.path.exists(output_directory):\n",
    "    os.mkdir(output_directory)\n",
    "\n",
    "# define phrase range\n",
    "phrase_from = 1\n",
    "phrase_to = 10  #10\n",
    "# define source and target emotion ranges\n",
    "source_emotion_from = 1\n",
    "source_emotion_to = 8  #8\n",
    "# define source and target intensity ranges\n",
    "source_intensity_from = 0\n",
    "source_intensity_to = 0\n",
    "\n",
    "# for each wavfile that we want to treat..\n",
    "# for each phrase\n",
    "for p in range(phrase_from, phrase_to + 1):\n",
    "    # for each source emotion\n",
    "    for e_s in range(source_emotion_from, source_emotion_to + 1):\n",
    "        # for each source intensity\n",
    "        for i_s in range(source_intensity_from, source_intensity_to + 1):\n",
    "            # build the source file path\n",
    "            filename_base = ''.join([input_file_root, \n",
    "                                        '.e', format(e_s, '02d'),\n",
    "                                        '.p', format(p, '02d'),\n",
    "                                        '.i', format(i_s, '02d')])\n",
    "            \n",
    "            # build input wav file name and path - use glob to handle number           \n",
    "            wav_glob_filepath = os.path.join(raw_input_directory_path, filename_base + '.*')\n",
    "            # print('wav_glob_filepath ', wav_glob_filepath)\n",
    "            wav_filepath_list = glob.glob(wav_glob_filepath)\n",
    "            # print('wav_filepath_list ', wav_filepath_list)\n",
    "            wav_filepath = wav_filepath_list[0] \n",
    "            # print('wav_filepath ', wav_filepath)\n",
    "            _, wav_filename = os.path.split(wav_filepath)\n",
    "            \n",
    "            # copy the raw file to the output directory\n",
    "            copyfile(wav_filepath, os.path.join(output_directory, wav_filename))\n",
    "            \n",
    "            \n",
    "# copy all timestretched wav files to compare directory\n",
    "wav_input_directory = os.fsencode(wav_input_directory_path)\n",
    "# for each wav file in directory\n",
    "for file in os.listdir(wav_input_directory):\n",
    "    # get filename\n",
    "    filename = os.fsdecode(file)\n",
    "    if filename.endswith('.wav'):\n",
    "        # get filepath and decode from bytes to string\n",
    "        # filepath = os.path.abspath(file).decode(\"utf-8\") \n",
    "        filepath = os.path.join(wav_input_directory_path, filename)\n",
    "        \n",
    "        # copy the timestretched wav file to the output directory\n",
    "        #copyfile(filepath, os.path.join(output_directory, filename))\n",
    "    \n",
    "    \n",
    "# copy all f0 transformed wav files to compare directory\n",
    "joy_input_directory = os.fsencode(joy_input_directory_path)\n",
    "# for each wav file in directory\n",
    "for file in os.listdir(joy_input_directory):\n",
    "    # get filename\n",
    "    filename = os.fsdecode(file)\n",
    "    if filename.endswith('.wav'):\n",
    "        # get filepath and decode from bytes to string\n",
    "        # filepath = os.path.abspath(file).decode(\"utf-8\") \n",
    "        filepath = os.path.join(joy_input_directory_path, filename)\n",
    "        \n",
    "        # copy the timestretched wav file to the output directory\n",
    "        copyfile(filepath, os.path.join(output_directory, filename))\n",
    "\n",
    "print('done')"
   ]
  },
  {
   "cell_type": "code",
   "execution_count": null,
   "metadata": {},
   "outputs": [],
   "source": []
  }
 ],
 "metadata": {
  "kernelspec": {
   "display_name": "Python 3",
   "language": "python",
   "name": "python3"
  },
  "language_info": {
   "codemirror_mode": {
    "name": "ipython",
    "version": 3
   },
   "file_extension": ".py",
   "mimetype": "text/x-python",
   "name": "python",
   "nbconvert_exporter": "python",
   "pygments_lexer": "ipython3",
   "version": "3.6.4"
  }
 },
 "nbformat": 4,
 "nbformat_minor": 2
}
