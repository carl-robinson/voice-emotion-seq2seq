{
 "cells": [
  {
   "cell_type": "code",
   "execution_count": 235,
   "metadata": {},
   "outputs": [
    {
     "name": "stdout",
     "output_type": "stream",
     "text": [
      "['', '/Users/robinson/Dropbox/anasynth/_code', '/Users/robinson/Dropbox/anasynth/_code/as_pysrc', '/Users/robinson/Dropbox/anasynth/_code/tf_seq2seq', '/u/formes/share/packages/anaconda3/envs/DeepLearning/lib/python36.zip', '/u/formes/share/packages/anaconda3/envs/DeepLearning/lib/python3.6', '/u/formes/share/packages/anaconda3/envs/DeepLearning/lib/python3.6/lib-dynload', '/Users/robinson/Dropbox/anasynth/_code/anaconda/lib/python3.6/site-packages', '/Users/robinson/Dropbox/anasynth/_code/seq2seq', '/Users/robinson/Dropbox/anasynth/_code/anaconda/lib/python3.6/site-packages/as_pysrc_utils_poly-0.2-py3.6-macosx-10.7-x86_64.egg', '/Users/robinson/Dropbox/anasynth/_code/anaconda/lib/python3.6/site-packages/as_pysrc_utils_levinson-0.1-py3.6-macosx-10.7-x86_64.egg', '/Users/robinson/Dropbox/anasynth/_code/anaconda/lib/python3.6/site-packages/utils_bspline-1.0.0-py3.6-macosx-10.7-x86_64.egg', '/Users/robinson/Dropbox/anasynth/_code/anaconda/lib/python3.6/site-packages/opt_congrad_sc_c-1.2.2-py3.6-macosx-10.7-x86_64.egg', '/Users/robinson/Dropbox/anasynth/_code/anaconda/lib/python3.6/site-packages/dtw_c-1.1.0-py3.6-macosx-10.7-x86_64.egg', '/Users/robinson/Dropbox/anasynth/_code/anaconda/lib/python3.6/site-packages/ar_dap_conjugate_gradient_optimization_support-1.0.1-py3.6-macosx-10.7-x86_64.egg', '/Users/robinson/Dropbox/anasynth/_code/anaconda/lib/python3.6/site-packages/sig_proc_estim_harmonics-1.0.0-py3.6-macosx-10.7-x86_64.egg', '/u/formes/share/packages/anaconda3/envs/DeepLearning/lib/python3.6/site-packages', '/u/formes/share/packages/anaconda3/envs/DeepLearning/lib/python3.6/site-packages/aeosa', '/Applications/PyCharm.app/Contents/helpers/pycharm_matplotlib_backend', '/u/formes/share/packages/anaconda3/envs/DeepLearning/lib/python3.6/site-packages/IPython/extensions', '/Users/robinson/.ipython']\n"
     ]
    }
   ],
   "source": [
    "import numpy as np\n",
    "from as_pysrc.svp_cmds import alignSnds, calc_f0_swipe\n",
    "from as_pysrc.svp_cmds.transpose_f0 import transpose_f0\n",
    "import as_pysrc.fileio.sdif.FSdifLoadFile as FSdifLoadFile\n",
    "from as_pysrc.fileio.sdif.get_f0_info import get_f0_info\n",
    "from scipy.io import wavfile, loadmat\n",
    "import os\n",
    "import glob\n",
    "from shutil import copyfile\n",
    "\n",
    "import sys\n",
    "print(sys.path)"
   ]
  },
  {
   "cell_type": "code",
   "execution_count": 236,
   "metadata": {},
   "outputs": [],
   "source": [
    "# **** SETTINGS ********************************************\n",
    "\n",
    "# set harmonicity_threshold\n",
    "harmonicity_threshold = 0.3\n",
    "\n",
    "# set interpolation to True/False\n",
    "# interp = False\n",
    "interp = True\n",
    "\n",
    "# directory where phonemes are kept, as per phon_input_directory_path\n",
    "dirr = '20180829_131313_col8_subcond'\n",
    "\n",
    "# e.g. '.JOY_1' - must include .\n",
    "emotion_code = '.COL_8'\n",
    "\n",
    "# if true, calc_f0_swipe is run on original WAVs (slow)\n",
    "regen_orig_f0 = False"
   ]
  },
  {
   "cell_type": "markdown",
   "metadata": {},
   "source": [
    "<h3>Remember: Make syllable F0 CSV files for use during WAV conversion using tf_seq2seq_data_processing_test_input.ipynb"
   ]
  },
  {
   "cell_type": "code",
   "execution_count": 237,
   "metadata": {},
   "outputs": [
    {
     "data": {
      "text/plain": [
       "\"\\n# I need a way to link the transformed syllable f0 back to it's source file and position in that file, \\nso I can assemble the sequence of transformed f0 contours for a particular phrase\\n\\n# the problem with test data is that the syllables are a subset of all syllables across all files in the dataset, \\n# so not all syllables of a particular phrase will be present.. This makes it difficult to infer only on test data \\nin order to test the conversion.\\n\\n# I could 'cheat', and just infer on the whole dataset (including data i trained on), to see what the conversion is \\nlike - DONE\\n# Or I could separate off some complete phrases to test on later (random shuffle), and train on the rest. - TODO \\n# would be good to do both, to see the difference it makes! \\n\\n\\n# for each wavfile...\\n\\n# get list of syllables, and make list of true/false to indicate voiced/unvoiced\\n\\n# make list of before-times (all the start and end times of all voiced and unvoiced parts) - this is just what's in \\nthe mat file (syll_time) - you prob don't want the final value\\n\\n# make list of end-times (all the start and end times of all voiced and unvoiced parts)\\n    # make list of durations of each voiced syllable from new f0 contour, and duration of unvoiced syllable from \\n    original file (handle missing files too..):\\n    # for each syllable in a file:\\n      # if syll is voiced\\n          # if file is present:\\n            # add NEW f0 contour length to dur-list\\n          # else add original 'before-time' syll length\\n      # else if unvoiced\\n          # add before-times unvoiced syll length to dur-list\\n\\n# make a new list for the final end-times\\n# for all elements in dur-list\\n  # add end time to end-times-list as sum of all elements currently in the list, plus next duration in the list - \\n  cumsum\\n          \\n\\n\\n\""
      ]
     },
     "execution_count": 237,
     "metadata": {},
     "output_type": "execute_result"
    }
   ],
   "source": [
    "# def alignSnds(sndfile_to_be_aligned, outfile, temporal_positions,\n",
    "#               winsize,  svpcmd=svp_executable, shape=False,\n",
    "#               transients=False, oversamp=8, vudem=3, transdet_minren=None, verbose=False) :\n",
    "#     '''\n",
    "#     use supervp to align sndfile_to_be_aligned to sndfile by means of stretching\n",
    "#     the first to align to the second.\n",
    "#     '''\n",
    "    \n",
    "'''\n",
    "# I need a way to link the transformed syllable f0 back to it's source file and position in that file, \n",
    "so I can assemble the sequence of transformed f0 contours for a particular phrase\n",
    "\n",
    "# the problem with test data is that the syllables are a subset of all syllables across all files in the dataset, \n",
    "# so not all syllables of a particular phrase will be present.. This makes it difficult to infer only on test data \n",
    "in order to test the conversion.\n",
    "\n",
    "# I could 'cheat', and just infer on the whole dataset (including data i trained on), to see what the conversion is \n",
    "like - DONE\n",
    "# Or I could separate off some complete phrases to test on later (random shuffle), and train on the rest. - TODO \n",
    "# would be good to do both, to see the difference it makes! \n",
    "\n",
    "\n",
    "# for each wavfile...\n",
    "\n",
    "# get list of syllables, and make list of true/false to indicate voiced/unvoiced\n",
    "\n",
    "# make list of before-times (all the start and end times of all voiced and unvoiced parts) - this is just what's in \n",
    "the mat file (syll_time) - you prob don't want the final value\n",
    "\n",
    "# make list of end-times (all the start and end times of all voiced and unvoiced parts)\n",
    "    # make list of durations of each voiced syllable from new f0 contour, and duration of unvoiced syllable from \n",
    "    original file (handle missing files too..):\n",
    "    # for each syllable in a file:\n",
    "      # if syll is voiced\n",
    "          # if file is present:\n",
    "            # add NEW f0 contour length to dur-list\n",
    "          # else add original 'before-time' syll length\n",
    "      # else if unvoiced\n",
    "          # add before-times unvoiced syll length to dur-list\n",
    "\n",
    "# make a new list for the final end-times\n",
    "# for all elements in dur-list\n",
    "  # add end time to end-times-list as sum of all elements currently in the list, plus next duration in the list - \n",
    "  cumsum\n",
    "          \n",
    "\n",
    "\n",
    "'''"
   ]
  },
  {
   "cell_type": "markdown",
   "metadata": {},
   "source": [
    "<h3>Make SDIFs containing F0 for original WAV files"
   ]
  },
  {
   "cell_type": "code",
   "execution_count": 238,
   "metadata": {
    "collapsed": false
   },
   "outputs": [
    {
     "name": "stdout",
     "output_type": "stream",
     "text": [
      "done\n"
     ]
    }
   ],
   "source": [
    "# input directory is former output_directory\n",
    "wav_input_directory_path = '/Users/robinson/Downloads/data/Olivia2006/Olivia2006_AUDIO'\n",
    "input_directory_path = wav_input_directory_path\n",
    "input_directory = os.fsencode(input_directory_path)\n",
    "\n",
    "# define new output directory and files\n",
    "output_directory_path = os.path.join(wav_input_directory_path, 'original_f0extract')\n",
    "if not os.path.exists(output_directory_path):\n",
    "    os.mkdir(output_directory_path)\n",
    "\n",
    "if regen_orig_f0:\n",
    "    # for each wav file in directory\n",
    "    for file in os.listdir(input_directory):\n",
    "        # get filename\n",
    "        filename = os.fsdecode(file)\n",
    "        # get filepath and decode from bytes to string\n",
    "        # filepath = os.path.abspath(file).decode(\"utf-8\") \n",
    "        filepath = os.path.join(input_directory_path, filename)\n",
    "        print(filepath)\n",
    "        \n",
    "        if filename.endswith('.wav'):\n",
    "            # build outfile sdif filename\n",
    "            sdif_file_out, ext = os.path.splitext(filename)\n",
    "            sdif_file_out = sdif_file_out + '.sdif'\n",
    "            sdif_file_out_path = os.path.join(output_directory_path, sdif_file_out)\n",
    "            \n",
    "            # extract f0 and write to sdif\n",
    "            calc_f0_swipe(filepath, sdif_file_out_path)\n",
    "        \n",
    "print('done')"
   ]
  },
  {
   "cell_type": "markdown",
   "metadata": {},
   "source": [
    "<h3>Generate before and after syllable timecode csv files, and minimum F0 file"
   ]
  },
  {
   "cell_type": "code",
   "execution_count": 239,
   "metadata": {},
   "outputs": [
    {
     "name": "stdout",
     "output_type": "stream",
     "text": [
      "done\n"
     ]
    }
   ],
   "source": [
    "# path to directory for test_log.txt\n",
    "csv_input_directory_path = '/Users/robinson/Dropbox/anasynth/_data/emoVC/Olivia2006/f0_raw_phoneme'\n",
    "# Olivia2006.e01.p01.i00.s01_s e1.csv\n",
    "csv_input_file_extension = '.csv'\n",
    "\n",
    "# path to predicted F0 CSV input files directory\n",
    "phon_input_directory_path = '/Users/robinson/Downloads/data/pred/' + dirr + '/phonemes'\n",
    "# Olivia2006.e01.p01.i00.s01_s e1.csv\n",
    "phon_input_file_extension = '.csv'\n",
    "\n",
    "# path to MAT input files directory\n",
    "mat_input_directory_path = '/Users/robinson/Dropbox/anasynth/_data/emoVC/Olivia2006'\n",
    "# Olivia2006.e01.p01.i00.mat\n",
    "mat_input_file_extension = '.mat'\n",
    "\n",
    "# path to WAV input files directory\n",
    "wav_input_directory_path = '/Users/robinson/Downloads/data/Olivia2006/Olivia2006_AUDIO'\n",
    "# Olivia2006.e01.p01.i00.1.wav\n",
    "wav_input_file_extension = '.wav'\n",
    "\n",
    "# path to SDIF f0 input files directory\n",
    "sdif_input_directory_path = '/Users/robinson/Downloads/data/Olivia2006/Olivia2006_AUDIO/original_f0extract'\n",
    "# Olivia2006.e01.p01.i00.mat\n",
    "sdif_input_file_extension = '.sdif'\n",
    "\n",
    "# define input file root - common to all filetypes\n",
    "input_file_root = 'Olivia2006'\n",
    "\n",
    "# set window step time \n",
    "step_s = 0.005  # 5ms, which I assume is what was used to sample the file\n",
    "\n",
    "# define output directory and files\n",
    "output_directory = os.path.join(wav_input_directory_path, 'timestretch')\n",
    "if not os.path.exists(output_directory):\n",
    "    os.mkdir(output_directory)\n",
    "\n",
    "# define phrase range\n",
    "phrase_from = 1\n",
    "phrase_to = 10\n",
    "phrase_list = [1, 3, 5, 10]\n",
    "# define source and target emotion ranges\n",
    "source_emotion_from = 1\n",
    "source_emotion_to = 8\n",
    "# define source and target intensity ranges\n",
    "source_intensity_from = 0\n",
    "source_intensity_to = 0\n",
    "\n",
    "# open test_log.txt and split into list of lines\n",
    "f_test_log = open(os.path.join(csv_input_directory_path, 'out', 'test_log.txt'), 'r')\n",
    "test_log = f_test_log.read().split('\\n')\n",
    "# print(test_log)\n",
    "\n",
    "# output filenames\n",
    "filename_wav_files = 'wav_files.txt'\n",
    "filename_phon_time = 'phon_time.txt'\n",
    "filename_new_phon_time = 'phon_time_new.txt'\n",
    "filename_phon_vals_min = 'phon_vals_min.txt'\n",
    "# open output files in subdirectory of input files directory (must create manually)\n",
    "f_wav_files = open(os.path.join(output_directory, filename_wav_files), 'w')\n",
    "f_phon_time = open(os.path.join(output_directory, filename_phon_time), 'w')\n",
    "f_new_phon_time = open(os.path.join(output_directory, filename_new_phon_time), 'w')\n",
    "f_phon_vals_min = open(os.path.join(output_directory, filename_phon_vals_min), 'w')\n",
    "\n",
    "# for each wavfile that we want to treat..\n",
    "# for each phrase\n",
    "# for p in range(phrase_from, phrase_to + 1):\n",
    "for p in phrase_list: \n",
    "    # for each source emotion\n",
    "    for e_s in range(source_emotion_from, source_emotion_to + 1):\n",
    "        # for each source intensity\n",
    "        for i_s in range(source_intensity_from, source_intensity_to + 1):\n",
    "            # build the source file path\n",
    "            filename_base = ''.join([input_file_root, \n",
    "                                        '.e', format(e_s, '02d'),\n",
    "                                        '.p', format(p, '02d'),\n",
    "                                        '.i', format(i_s, '02d')])\n",
    "            # to handle the number at the end, get all files beginning with name (there should only be one)\n",
    "            glob_filepath = os.path.join(wav_input_directory_path, filename_base + '.*')\n",
    "            wav_filepath_list = glob.glob(glob_filepath)\n",
    "            wav_filepath = wav_filepath_list[0]\n",
    "            # print(wav_filepath)\n",
    "            _, wav_filename = os.path.split(wav_filepath)\n",
    "            # print('*********************')\n",
    "            # print('******** WAV ********')\n",
    "            # print('wav_filename) ', wav_filename)\n",
    "\n",
    "            # load corresponding mat file\n",
    "            mat_filename = ''.join([filename_base, mat_input_file_extension])\n",
    "            mat_filepath = os.path.join(mat_input_directory_path, mat_filename)\n",
    "            # print(mat_filepath)\n",
    "            mat_dict = loadmat(mat_filepath)\n",
    "            \n",
    "            syll_label = mat_dict['syll_label']\n",
    "            syll_label = syll_label.reshape((syll_label.shape[1],))        \n",
    "            # print(syll_label.shape)\n",
    "            # print(syll_label)\n",
    "            # syll_time.shape (2, 11)\n",
    "            # I want syll_time.shape (11, 2) BUT with the start and end times in different 'columns' - just transpose!\n",
    "            syll_time = mat_dict['syll_time']\n",
    "            # print('syll_time.shape', syll_time.shape)\n",
    "            syll_time = syll_time.T            \n",
    "            \n",
    "            # get list of phonemes\n",
    "            phon_label = mat_dict['phone_label']\n",
    "            phon_label = phon_label.reshape((phon_label.shape[1],))\n",
    "            \n",
    "            # make list of before-times (all the start and end times of all vowels and nonvowel parts) - this is just what's in \n",
    "            # the mat file (phon_time) - you prob don't want the final value. Also, phoneme times are not \n",
    "            # consecutive - one phoneme ends, then there's a gap, then the next begins. So you have to handle the \n",
    "            # start and end times of both\n",
    "            # get list of phoneme start/end times\n",
    "            phon_time = mat_dict['phone_time']\n",
    "            # print(phon_time.shape)\n",
    "            # print(phon_time)\n",
    "            # phon_time = phon_time.reshape((phon_time.shape[1], phon_time.shape[0]))  # wrong!\n",
    "            phon_time = phon_time.T # much better\n",
    "            # print(phon_time.shape)\n",
    "            # print(phon_time)\n",
    "            # print(phon_time.shape) # (11, 2)\n",
    "            # print('phon_time = ', phon_time)\n",
    "            # print(type(phon_time)) # <class 'numpy.ndarray'>\n",
    "            \n",
    "            # make list of true/false to indicate vowels(true)/nonvowel(false)\n",
    "            vowel_phonemes = ['e~', '9~', 'a~', 'o~', 'i', 'e', 'E', 'a', 'A', 'O', 'o', 'u', 'y', '2', '9', '@']\n",
    "            # [a if C else b for i in items]\n",
    "            vowels = [True if phon[0] in vowel_phonemes else False for i, phon in enumerate(phon_label)]\n",
    "            # print('vowels ', vowels)\n",
    "            \n",
    "            # make new_phon_time list as flattened version of original start and end times, to modify later\n",
    "            # new_phon_time = list(phon_time.flatten(order='C'))\n",
    "            # print('phon_time = ', new_phon_time)\n",
    "            new_phon_time = [0.0] + [x for x in phon_time[:, 1]]  # just get second column, plus add a 0.0 at the start\n",
    "            # print(new_phon_time)\n",
    "            \n",
    "            # create empty list to store all phon_vals, to later calculate the minimum f0 in the vowels regions\n",
    "            # phon_vals_all = []\n",
    "            # for each phoneme in the wav file\n",
    "            for all_phon_counter, phon in enumerate(phon_label):\n",
    "                # print('******** SYL ********')\n",
    "                # if phoneme is nonvowel, skip to next phoneme\n",
    "                if not vowels[all_phon_counter]:\n",
    "                    # print('!!! nonvowel')\n",
    "                    continue\n",
    "                    \n",
    "                # build the filename of the phoneme\n",
    "                filename_phon = ''.join([filename_base, '.s', format(all_phon_counter, '02d'), '_', phon[0], \n",
    "                                         str(all_phon_counter), csv_input_file_extension])\n",
    "                # print('filename_phon ', filename_phon)\n",
    "                \n",
    "                # check if phon file is in test_log.txt\n",
    "                # phon file is not empty, so:\n",
    "                if filename_phon in test_log:\n",
    "                    # get duration of original phoneme contour\n",
    "                    phon_dur_orig = phon_time[all_phon_counter, 1] - phon_time[all_phon_counter, 0]\n",
    "                    # print('phon_dur_orig = ', phon_dur_orig)\n",
    "                    \n",
    "                    # get duration of new phoneme contour\n",
    "                    # get number of lines from file\n",
    "                    fphon = open(os.path.join(phon_input_directory_path, filename_phon), 'r')\n",
    "                    phon_vals = fphon.read().strip().split('\\n')\n",
    "                    # print('phon_vals=', phon_vals)\n",
    "                    num_lines = len(phon_vals)\n",
    "                    # print('num_lines= ', num_lines)\n",
    "                    \n",
    "                    # multiply by window step size to get time, and add half a window\n",
    "                    phon_dur_new = (num_lines * step_s) + step_s\n",
    "                    # print('phon_dur_new = ', phon_dur_new)\n",
    "                    \n",
    "                    # calculate the diff (will be positive if new duration is larger)\n",
    "                    diff = phon_dur_new - phon_dur_orig\n",
    "                    # print('diff = ', diff)\n",
    "                    # print('********')\n",
    "                    \n",
    "                    # # append phon_vals to end of list, to later calculate the minimum f0 in the vowels regions\n",
    "                    # # print(phon_vals)\n",
    "                    # phon_vals_all += phon_vals\n",
    "                    # # print('phon_vals_all ', phon_vals_all)\n",
    "                    \n",
    "                # phon file is either missing or empty, so make diff = 0\n",
    "                else:\n",
    "                    diff = 0\n",
    "                    # print('!!! file missing: ', filename_phon)\n",
    "                    # print('diff = ', diff)\n",
    "                \n",
    "                # print('new_phon_time BEFORE UPDATE', new_phon_time)\n",
    "                # run through the new_phon_time list, adding the (positive/negative) diff to end time of phon, \n",
    "                # and start and end times of all subsequent phonemes\n",
    "                # new_phon_time = [time if i-1 < all_phon_counter * 2 else time + diff for i, time in enumerate(\n",
    "                #     new_phon_time)]\n",
    "                new_phon_time = [time if i-1 < all_phon_counter else time + diff for i, time in enumerate(\n",
    "                    new_phon_time)]\n",
    "                # print('new_phon_time AFTER UPDATE = ', new_phon_time)\n",
    "                \n",
    "            \n",
    "            # convert phon_time to a list\n",
    "            # phon_time = [val for i, val in enumerate(phon_time)]  \n",
    "            # phon_time = list(phon_time.flatten(order='C')) # don't need both columns, it just duplicates the times\n",
    "            phon_time = [0.0] + [x for x in phon_time[:, 1]]  # just get second column, plus add a 0.0 at the start\n",
    "            # print(phon_time)\n",
    "            # append phon_time, new_phon_time to outfiles            \n",
    "            [f_phon_time.write(str(val) + ',') if i < len(phon_time) - 1 else f_phon_time.write(str(val)) for i, \n",
    "                                                                                                          val in enumerate(phon_time)]\n",
    "            f_phon_time.write('\\n')\n",
    "            \n",
    "            \n",
    "            \n",
    "            # [f_new_phon_time.write(str(val) + ',') for val in new_phon_time]\n",
    "            [f_new_phon_time.write(str(val) + ',') if i < len(new_phon_time) - 1 else f_new_phon_time.write(str(val)) for i, \n",
    "                                                                                                          val in enumerate(new_phon_time)]\n",
    "            f_new_phon_time.write('\\n')\n",
    "            # print to stdout to check\n",
    "            # [sys.stdout.write(str(val) + ',') for val in new_phon_time]\n",
    "            # sys.stdout.write('\\n')\n",
    "            \n",
    "            # print wav file name to file\n",
    "            f_wav_files.write(wav_filename + '\\n')\n",
    "            \n",
    "            # # convert phon_vals_all to numpy array of integers, get minimum and write to text file\n",
    "            # # print(phon_vals_all)\n",
    "            # phon_vals_all = [int(x) for x in phon_vals_all]\n",
    "            # phon_vals_all = np.array(phon_vals_all)\n",
    "            # # print(phon_vals_all)\n",
    "            # phon_vals_min = phon_vals_all.min()\n",
    "            # # print(phon_vals_min) \n",
    "        \n",
    "            # build original sdif file name\n",
    "            sdif_glob_filepath = os.path.join(sdif_input_directory_path, filename_base + '.*')\n",
    "            # print('sdif_glob_filepath ', sdif_glob_filepath)\n",
    "            sdif_filepath_list = glob.glob(sdif_glob_filepath)\n",
    "            # print('sdif_filepath_list ', sdif_filepath_list)\n",
    "            sdif_filepath = sdif_filepath_list[0] \n",
    "            # print('sdif_filepath ', sdif_filepath)\n",
    "            \n",
    "            # read in time/f0/harm from corresponding sdif file - returns tuple of ndarrays\n",
    "            (f0time, f0harm, f0val) = get_f0_info(sdif_filepath)\n",
    "            # filter lines when harm >= threshold e.g. 0.3\n",
    "            f0val = f0val[(f0harm >= harmonicity_threshold).nonzero()]            \n",
    "            # get minimum f0 in remaining set and write to file\n",
    "            f0val_min = f0val.min()\n",
    "            # print(f0val_min)\n",
    "            \n",
    "            # if the value is 50 or over then write to file, otherwise default to 50 (eliminates erroneous low values)\n",
    "            if f0val_min >= 150:\n",
    "                f_phon_vals_min.write(str(f0val_min) + '\\n')\n",
    "            else:\n",
    "                f_phon_vals_min.write(str(50) + '\\n')            \n",
    "                \n",
    "\n",
    "# close the files         \n",
    "f_test_log.close()\n",
    "f_wav_files.close()\n",
    "f_phon_time.close()\n",
    "f_new_phon_time.close()\n",
    "f_phon_vals_min.close()\n",
    "\n",
    "print('done')"
   ]
  },
  {
   "cell_type": "markdown",
   "metadata": {},
   "source": [
    "<h3>Read in syllable timecode csv files and perform timestretch on WAV files"
   ]
  },
  {
   "cell_type": "code",
   "execution_count": 240,
   "metadata": {},
   "outputs": [
    {
     "name": "stderr",
     "output_type": "stream",
     "text": [
      "08/29/2018 20:31:19 : alignSnds::INFO::run: supervp -P0 -Afft -Z -sync_pc 1 -D/tmp/alignD35281.par -M0.0231279s -oversamp 8 -S /Users/robinson/Downloads/data/Olivia2006/Olivia2006_AUDIO/Olivia2006.e01.p01.i00.1.wav -shape 1 -vu_f0lim 1,5 -Vuf -4 -vu_dem 3 /Users/robinson/Downloads/data/Olivia2006/Olivia2006_AUDIO/timestretch/Olivia2006.e01.p01.i00.1.OUT.wav\n"
     ]
    },
    {
     "name": "stderr",
     "output_type": "stream",
     "text": [
      "08/29/2018 20:31:20 : alignSnds::INFO::run: supervp -P0 -Afft -Z -sync_pc 1 -D/tmp/alignD35281.par -M0.0232535s -oversamp 8 -S /Users/robinson/Downloads/data/Olivia2006/Olivia2006_AUDIO/Olivia2006.e02.p01.i00.62.wav -shape 1 -vu_f0lim 1,5 -Vuf -4 -vu_dem 3 /Users/robinson/Downloads/data/Olivia2006/Olivia2006_AUDIO/timestretch/Olivia2006.e02.p01.i00.62.OUT.wav\n"
     ]
    },
    {
     "name": "stderr",
     "output_type": "stream",
     "text": [
      "08/29/2018 20:31:21 : alignSnds::INFO::run: supervp -P0 -Afft -Z -sync_pc 1 -D/tmp/alignD35281.par -M0.0225101s -oversamp 8 -S /Users/robinson/Downloads/data/Olivia2006/Olivia2006_AUDIO/Olivia2006.e03.p01.i00.122.wav -shape 1 -vu_f0lim 1,5 -Vuf -4 -vu_dem 3 /Users/robinson/Downloads/data/Olivia2006/Olivia2006_AUDIO/timestretch/Olivia2006.e03.p01.i00.122.OUT.wav\n"
     ]
    },
    {
     "name": "stderr",
     "output_type": "stream",
     "text": [
      "08/29/2018 20:31:21 : alignSnds::INFO::run: supervp -P0 -Afft -Z -sync_pc 1 -D/tmp/alignD35281.par -M0.0207914s -oversamp 8 -S /Users/robinson/Downloads/data/Olivia2006/Olivia2006_AUDIO/Olivia2006.e04.p01.i00.182.wav -shape 1 -vu_f0lim 1,5 -Vuf -4 -vu_dem 3 /Users/robinson/Downloads/data/Olivia2006/Olivia2006_AUDIO/timestretch/Olivia2006.e04.p01.i00.182.OUT.wav\n"
     ]
    },
    {
     "name": "stderr",
     "output_type": "stream",
     "text": [
      "08/29/2018 20:31:22 : alignSnds::INFO::run: supervp -P0 -Afft -Z -sync_pc 1 -D/tmp/alignD35281.par -M0.0217512s -oversamp 8 -S /Users/robinson/Downloads/data/Olivia2006/Olivia2006_AUDIO/Olivia2006.e05.p01.i00.242.wav -shape 1 -vu_f0lim 1,5 -Vuf -4 -vu_dem 3 /Users/robinson/Downloads/data/Olivia2006/Olivia2006_AUDIO/timestretch/Olivia2006.e05.p01.i00.242.OUT.wav\n"
     ]
    },
    {
     "name": "stderr",
     "output_type": "stream",
     "text": [
      "08/29/2018 20:31:22 : alignSnds::INFO::run: supervp -P0 -Afft -Z -sync_pc 1 -D/tmp/alignD35281.par -M0.0218102s -oversamp 8 -S /Users/robinson/Downloads/data/Olivia2006/Olivia2006_AUDIO/Olivia2006.e06.p01.i00.305.wav -shape 1 -vu_f0lim 1,5 -Vuf -4 -vu_dem 3 /Users/robinson/Downloads/data/Olivia2006/Olivia2006_AUDIO/timestretch/Olivia2006.e06.p01.i00.305.OUT.wav\n"
     ]
    },
    {
     "name": "stderr",
     "output_type": "stream",
     "text": [
      "08/29/2018 20:31:23 : alignSnds::INFO::run: supervp -P0 -Afft -Z -sync_pc 1 -D/tmp/alignD35281.par -M0.0224898s -oversamp 8 -S /Users/robinson/Downloads/data/Olivia2006/Olivia2006_AUDIO/Olivia2006.e07.p01.i00.366.wav -shape 1 -vu_f0lim 1,5 -Vuf -4 -vu_dem 3 /Users/robinson/Downloads/data/Olivia2006/Olivia2006_AUDIO/timestretch/Olivia2006.e07.p01.i00.366.OUT.wav\n"
     ]
    },
    {
     "name": "stderr",
     "output_type": "stream",
     "text": [
      "08/29/2018 20:31:23 : alignSnds::INFO::run: supervp -P0 -Afft -Z -sync_pc 1 -D/tmp/alignD35281.par -M0.0218693s -oversamp 8 -S /Users/robinson/Downloads/data/Olivia2006/Olivia2006_AUDIO/Olivia2006.e08.p01.i00.427.wav -shape 1 -vu_f0lim 1,5 -Vuf -4 -vu_dem 3 /Users/robinson/Downloads/data/Olivia2006/Olivia2006_AUDIO/timestretch/Olivia2006.e08.p01.i00.427.OUT.wav\n"
     ]
    },
    {
     "name": "stderr",
     "output_type": "stream",
     "text": [
      "08/29/2018 20:31:24 : alignSnds::INFO::run: supervp -P0 -Afft -Z -sync_pc 1 -D/tmp/alignD35281.par -M0.0199639s -oversamp 8 -S /Users/robinson/Downloads/data/Olivia2006/Olivia2006_AUDIO/Olivia2006.e01.p03.i00.14.wav -shape 1 -vu_f0lim 1,5 -Vuf -4 -vu_dem 3 /Users/robinson/Downloads/data/Olivia2006/Olivia2006_AUDIO/timestretch/Olivia2006.e01.p03.i00.14.OUT.wav\n"
     ]
    },
    {
     "name": "stderr",
     "output_type": "stream",
     "text": [
      "08/29/2018 20:31:25 : alignSnds::INFO::run: supervp -P0 -Afft -Z -sync_pc 1 -D/tmp/alignD35281.par -M0.022429s -oversamp 8 -S /Users/robinson/Downloads/data/Olivia2006/Olivia2006_AUDIO/Olivia2006.e02.p03.i00.74.wav -shape 1 -vu_f0lim 1,5 -Vuf -4 -vu_dem 3 /Users/robinson/Downloads/data/Olivia2006/Olivia2006_AUDIO/timestretch/Olivia2006.e02.p03.i00.74.OUT.wav\n"
     ]
    },
    {
     "name": "stderr",
     "output_type": "stream",
     "text": [
      "08/29/2018 20:31:25 : alignSnds::INFO::run: supervp -P0 -Afft -Z -sync_pc 1 -D/tmp/alignD35281.par -M0.0243049s -oversamp 8 -S /Users/robinson/Downloads/data/Olivia2006/Olivia2006_AUDIO/Olivia2006.e03.p03.i00.134.wav -shape 1 -vu_f0lim 1,5 -Vuf -4 -vu_dem 3 /Users/robinson/Downloads/data/Olivia2006/Olivia2006_AUDIO/timestretch/Olivia2006.e03.p03.i00.134.OUT.wav\n"
     ]
    },
    {
     "name": "stderr",
     "output_type": "stream",
     "text": [
      "08/29/2018 20:31:26 : alignSnds::INFO::run: supervp -P0 -Afft -Z -sync_pc 1 -D/tmp/alignD35281.par -M0.0246807s -oversamp 8 -S /Users/robinson/Downloads/data/Olivia2006/Olivia2006_AUDIO/Olivia2006.e04.p03.i00.194.wav -shape 1 -vu_f0lim 1,5 -Vuf -4 -vu_dem 3 /Users/robinson/Downloads/data/Olivia2006/Olivia2006_AUDIO/timestretch/Olivia2006.e04.p03.i00.194.OUT.wav\n"
     ]
    },
    {
     "name": "stderr",
     "output_type": "stream",
     "text": [
      "08/29/2018 20:31:26 : alignSnds::INFO::run: supervp -P0 -Afft -Z -sync_pc 1 -D/tmp/alignD35281.par -M0.019892s -oversamp 8 -S /Users/robinson/Downloads/data/Olivia2006/Olivia2006_AUDIO/Olivia2006.e05.p03.i00.254.wav -shape 1 -vu_f0lim 1,5 -Vuf -4 -vu_dem 3 /Users/robinson/Downloads/data/Olivia2006/Olivia2006_AUDIO/timestretch/Olivia2006.e05.p03.i00.254.OUT.wav\n"
     ]
    },
    {
     "name": "stderr",
     "output_type": "stream",
     "text": [
      "08/29/2018 20:31:27 : alignSnds::INFO::run: supervp -P0 -Afft -Z -sync_pc 1 -D/tmp/alignD35281.par -M0.0243929s -oversamp 8 -S /Users/robinson/Downloads/data/Olivia2006/Olivia2006_AUDIO/Olivia2006.e06.p03.i00.318.wav -shape 1 -vu_f0lim 1,5 -Vuf -4 -vu_dem 3 /Users/robinson/Downloads/data/Olivia2006/Olivia2006_AUDIO/timestretch/Olivia2006.e06.p03.i00.318.OUT.wav\n"
     ]
    },
    {
     "name": "stderr",
     "output_type": "stream",
     "text": [
      "08/29/2018 20:31:27 : alignSnds::INFO::run: supervp -P0 -Afft -Z -sync_pc 1 -D/tmp/alignD35281.par -M0.08s -oversamp 8 -S /Users/robinson/Downloads/data/Olivia2006/Olivia2006_AUDIO/Olivia2006.e07.p03.i00.378.wav -shape 1 -vu_f0lim 1,5 -Vuf -4 -vu_dem 3 /Users/robinson/Downloads/data/Olivia2006/Olivia2006_AUDIO/timestretch/Olivia2006.e07.p03.i00.378.OUT.wav\n"
     ]
    },
    {
     "name": "stderr",
     "output_type": "stream",
     "text": [
      "08/29/2018 20:31:28 : alignSnds::INFO::run: supervp -P0 -Afft -Z -sync_pc 1 -D/tmp/alignD35281.par -M0.08s -oversamp 8 -S /Users/robinson/Downloads/data/Olivia2006/Olivia2006_AUDIO/Olivia2006.e08.p03.i00.439.wav -shape 1 -vu_f0lim 1,5 -Vuf -4 -vu_dem 3 /Users/robinson/Downloads/data/Olivia2006/Olivia2006_AUDIO/timestretch/Olivia2006.e08.p03.i00.439.OUT.wav\n"
     ]
    },
    {
     "name": "stderr",
     "output_type": "stream",
     "text": [
      "08/29/2018 20:31:28 : alignSnds::INFO::run: supervp -P0 -Afft -Z -sync_pc 1 -D/tmp/alignD35281.par -M0.0250397s -oversamp 8 -S /Users/robinson/Downloads/data/Olivia2006/Olivia2006_AUDIO/Olivia2006.e01.p05.i00.26.wav -shape 1 -vu_f0lim 1,5 -Vuf -4 -vu_dem 3 /Users/robinson/Downloads/data/Olivia2006/Olivia2006_AUDIO/timestretch/Olivia2006.e01.p05.i00.26.OUT.wav\n"
     ]
    },
    {
     "name": "stderr",
     "output_type": "stream",
     "text": [
      "08/29/2018 20:31:29 : alignSnds::INFO::run: supervp -P0 -Afft -Z -sync_pc 1 -D/tmp/alignD35281.par -M0.024283s -oversamp 8 -S /Users/robinson/Downloads/data/Olivia2006/Olivia2006_AUDIO/Olivia2006.e02.p05.i00.86.wav -shape 1 -vu_f0lim 1,5 -Vuf -4 -vu_dem 3 /Users/robinson/Downloads/data/Olivia2006/Olivia2006_AUDIO/timestretch/Olivia2006.e02.p05.i00.86.OUT.wav\n"
     ]
    },
    {
     "name": "stderr",
     "output_type": "stream",
     "text": [
      "08/29/2018 20:31:29 : alignSnds::INFO::run: supervp -P0 -Afft -Z -sync_pc 1 -D/tmp/alignD35281.par -M0.0249946s -oversamp 8 -S /Users/robinson/Downloads/data/Olivia2006/Olivia2006_AUDIO/Olivia2006.e03.p05.i00.145.wav -shape 1 -vu_f0lim 1,5 -Vuf -4 -vu_dem 3 /Users/robinson/Downloads/data/Olivia2006/Olivia2006_AUDIO/timestretch/Olivia2006.e03.p05.i00.145.OUT.wav\n"
     ]
    },
    {
     "name": "stderr",
     "output_type": "stream",
     "text": [
      "08/29/2018 20:31:30 : alignSnds::INFO::run: supervp -P0 -Afft -Z -sync_pc 1 -D/tmp/alignD35281.par -M0.0246585s -oversamp 8 -S /Users/robinson/Downloads/data/Olivia2006/Olivia2006_AUDIO/Olivia2006.e04.p05.i00.206.wav -shape 1 -vu_f0lim 1,5 -Vuf -4 -vu_dem 3 /Users/robinson/Downloads/data/Olivia2006/Olivia2006_AUDIO/timestretch/Olivia2006.e04.p05.i00.206.OUT.wav\n"
     ]
    },
    {
     "name": "stderr",
     "output_type": "stream",
     "text": [
      "08/29/2018 20:31:30 : alignSnds::INFO::run: supervp -P0 -Afft -Z -sync_pc 1 -D/tmp/alignD35281.par -M0.0203827s -oversamp 8 -S /Users/robinson/Downloads/data/Olivia2006/Olivia2006_AUDIO/Olivia2006.e05.p05.i00.266.wav -shape 1 -vu_f0lim 1,5 -Vuf -4 -vu_dem 3 /Users/robinson/Downloads/data/Olivia2006/Olivia2006_AUDIO/timestretch/Olivia2006.e05.p05.i00.266.OUT.wav\n"
     ]
    },
    {
     "name": "stderr",
     "output_type": "stream",
     "text": [
      "08/29/2018 20:31:31 : alignSnds::INFO::run: supervp -P0 -Afft -Z -sync_pc 1 -D/tmp/alignD35281.par -M0.025381s -oversamp 8 -S /Users/robinson/Downloads/data/Olivia2006/Olivia2006_AUDIO/Olivia2006.e06.p05.i00.330.wav -shape 1 -vu_f0lim 1,5 -Vuf -4 -vu_dem 3 /Users/robinson/Downloads/data/Olivia2006/Olivia2006_AUDIO/timestretch/Olivia2006.e06.p05.i00.330.OUT.wav\n"
     ]
    },
    {
     "name": "stderr",
     "output_type": "stream",
     "text": [
      "08/29/2018 20:31:31 : alignSnds::INFO::run: supervp -P0 -Afft -Z -sync_pc 1 -D/tmp/alignD35281.par -M0.08s -oversamp 8 -S /Users/robinson/Downloads/data/Olivia2006/Olivia2006_AUDIO/Olivia2006.e07.p05.i00.390.wav -shape 1 -vu_f0lim 1,5 -Vuf -4 -vu_dem 3 /Users/robinson/Downloads/data/Olivia2006/Olivia2006_AUDIO/timestretch/Olivia2006.e07.p05.i00.390.OUT.wav\n"
     ]
    },
    {
     "name": "stderr",
     "output_type": "stream",
     "text": [
      "08/29/2018 20:31:32 : alignSnds::INFO::run: supervp -P0 -Afft -Z -sync_pc 1 -D/tmp/alignD35281.par -M0.0258433s -oversamp 8 -S /Users/robinson/Downloads/data/Olivia2006/Olivia2006_AUDIO/Olivia2006.e08.p05.i00.451.wav -shape 1 -vu_f0lim 1,5 -Vuf -4 -vu_dem 3 /Users/robinson/Downloads/data/Olivia2006/Olivia2006_AUDIO/timestretch/Olivia2006.e08.p05.i00.451.OUT.wav\n"
     ]
    },
    {
     "name": "stderr",
     "output_type": "stream",
     "text": [
      "08/29/2018 20:31:32 : alignSnds::INFO::run: supervp -P0 -Afft -Z -sync_pc 1 -D/tmp/alignD35281.par -M0.08s -oversamp 8 -S /Users/robinson/Downloads/data/Olivia2006/Olivia2006_AUDIO/Olivia2006.e01.p10.i00.56.wav -shape 1 -vu_f0lim 1,5 -Vuf -4 -vu_dem 3 /Users/robinson/Downloads/data/Olivia2006/Olivia2006_AUDIO/timestretch/Olivia2006.e01.p10.i00.56.OUT.wav\n"
     ]
    },
    {
     "name": "stderr",
     "output_type": "stream",
     "text": [
      "08/29/2018 20:31:33 : alignSnds::INFO::run: supervp -P0 -Afft -Z -sync_pc 1 -D/tmp/alignD35281.par -M0.024703s -oversamp 8 -S /Users/robinson/Downloads/data/Olivia2006/Olivia2006_AUDIO/Olivia2006.e02.p10.i00.116.wav -shape 1 -vu_f0lim 1,5 -Vuf -4 -vu_dem 3 /Users/robinson/Downloads/data/Olivia2006/Olivia2006_AUDIO/timestretch/Olivia2006.e02.p10.i00.116.OUT.wav\n"
     ]
    },
    {
     "name": "stderr",
     "output_type": "stream",
     "text": [
      "08/29/2018 20:31:33 : alignSnds::INFO::run: supervp -P0 -Afft -Z -sync_pc 1 -D/tmp/alignD35281.par -M0.0252439s -oversamp 8 -S /Users/robinson/Downloads/data/Olivia2006/Olivia2006_AUDIO/Olivia2006.e03.p10.i00.175.wav -shape 1 -vu_f0lim 1,5 -Vuf -4 -vu_dem 3 /Users/robinson/Downloads/data/Olivia2006/Olivia2006_AUDIO/timestretch/Olivia2006.e03.p10.i00.175.OUT.wav\n"
     ]
    },
    {
     "name": "stderr",
     "output_type": "stream",
     "text": [
      "08/29/2018 20:31:34 : alignSnds::INFO::run: supervp -P0 -Afft -Z -sync_pc 1 -D/tmp/alignD35281.par -M0.0241519s -oversamp 8 -S /Users/robinson/Downloads/data/Olivia2006/Olivia2006_AUDIO/Olivia2006.e04.p10.i00.236.wav -shape 1 -vu_f0lim 1,5 -Vuf -4 -vu_dem 3 /Users/robinson/Downloads/data/Olivia2006/Olivia2006_AUDIO/timestretch/Olivia2006.e04.p10.i00.236.OUT.wav\n"
     ]
    },
    {
     "name": "stderr",
     "output_type": "stream",
     "text": [
      "08/29/2018 20:31:34 : alignSnds::INFO::run: supervp -P0 -Afft -Z -sync_pc 1 -D/tmp/alignD35281.par -M0.0235492s -oversamp 8 -S /Users/robinson/Downloads/data/Olivia2006/Olivia2006_AUDIO/Olivia2006.e05.p10.i00.298.wav -shape 1 -vu_f0lim 1,5 -Vuf -4 -vu_dem 3 /Users/robinson/Downloads/data/Olivia2006/Olivia2006_AUDIO/timestretch/Olivia2006.e05.p10.i00.298.OUT.wav\n"
     ]
    },
    {
     "name": "stderr",
     "output_type": "stream",
     "text": [
      "08/29/2018 20:31:35 : alignSnds::INFO::run: supervp -P0 -Afft -Z -sync_pc 1 -D/tmp/alignD35281.par -M0.0242392s -oversamp 8 -S /Users/robinson/Downloads/data/Olivia2006/Olivia2006_AUDIO/Olivia2006.e06.p10.i00.360.wav -shape 1 -vu_f0lim 1,5 -Vuf -4 -vu_dem 3 /Users/robinson/Downloads/data/Olivia2006/Olivia2006_AUDIO/timestretch/Olivia2006.e06.p10.i00.360.OUT.wav\n"
     ]
    },
    {
     "name": "stderr",
     "output_type": "stream",
     "text": [
      "08/29/2018 20:31:35 : alignSnds::INFO::run: supervp -P0 -Afft -Z -sync_pc 1 -D/tmp/alignD35281.par -M0.08s -oversamp 8 -S /Users/robinson/Downloads/data/Olivia2006/Olivia2006_AUDIO/Olivia2006.e07.p10.i00.421.wav -shape 1 -vu_f0lim 1,5 -Vuf -4 -vu_dem 3 /Users/robinson/Downloads/data/Olivia2006/Olivia2006_AUDIO/timestretch/Olivia2006.e07.p10.i00.421.OUT.wav\n"
     ]
    },
    {
     "name": "stderr",
     "output_type": "stream",
     "text": [
      "08/29/2018 20:31:36 : alignSnds::INFO::run: supervp -P0 -Afft -Z -sync_pc 1 -D/tmp/alignD35281.par -M0.0257734s -oversamp 8 -S /Users/robinson/Downloads/data/Olivia2006/Olivia2006_AUDIO/Olivia2006.e08.p10.i00.481.wav -shape 1 -vu_f0lim 1,5 -Vuf -4 -vu_dem 3 /Users/robinson/Downloads/data/Olivia2006/Olivia2006_AUDIO/timestretch/Olivia2006.e08.p10.i00.481.OUT.wav\n"
     ]
    },
    {
     "name": "stdout",
     "output_type": "stream",
     "text": [
      "done\n"
     ]
    }
   ],
   "source": [
    "'''\n",
    "# def alignSnds(sndfile_to_be_aligned, outfile, temporal_positions,\n",
    "#               winsize,  svpcmd=svp_executable, shape=False,\n",
    "#               transients=False, oversamp=8, vudem=3, transdet_minren=None, verbose=False) :\n",
    "#     use supervp to align sndfile_to_be_aligned to sndfile by means of stretching\n",
    "#     the first to align to the second.\n",
    "\n",
    "# time stretch whole source soundfile\n",
    "# param: sndfile_to_be_aligned: source soundfile from olivia2006 dataset\n",
    "# param: outfile: output file\n",
    "# param: temporal_positions: list of tuples of time before, time after\n",
    "\n",
    "shares vars with above code, so run all\n",
    "'''\n",
    "\n",
    "# bug: before times has duplicates in it.. 'phon_time.txt'\n",
    "\n",
    "# open files and split into list of lines\n",
    "f_wav_files = open(os.path.join(output_directory, filename_wav_files), 'r')\n",
    "wav_files = f_wav_files.read().split('\\n')\n",
    "f_phon_time = open(os.path.join(output_directory, filename_phon_time), 'r')\n",
    "phon_times = f_phon_time.read().split('\\n')\n",
    "f_new_phon_time = open(os.path.join(output_directory, filename_new_phon_time), 'r')\n",
    "new_phon_times = f_new_phon_time.read().split('\\n')\n",
    "f_phon_vals_min = open(os.path.join(output_directory, filename_phon_vals_min), 'r')\n",
    "phon_vals_min = f_phon_vals_min.read().split('\\n')\n",
    "\n",
    "# debug\n",
    "# wav_files = ['Olivia2006.e01.p01.i00.1.wav']\n",
    "# print(wav_files)\n",
    "\n",
    "# for each file in enumerate(wav_files)\n",
    "for i, wav_file in enumerate(wav_files):\n",
    "    # skip if wav_file is empty:\n",
    "    if not wav_file:\n",
    "        continue\n",
    "#     build the full path for sndfile_to_be_aligned\n",
    "    wav_file_path = os.path.join(wav_input_directory_path, wav_file)\n",
    "    # print('wav_file_path ', wav_file_path)\n",
    "#     get before times and after times from corresponding row of the two phon_time files, and put in lists\n",
    "    before_times = phon_times[i].split(',')\n",
    "    before_times = [float(x) for x in before_times if x]\n",
    "    # print('before_times ', before_times)\n",
    "    end_times = new_phon_times[i].split(',')\n",
    "    end_times = [float(x) for x in end_times if x]\n",
    "    # print('end_times ', end_times)\n",
    "#     make temporal_positions list of tuples from corresponding items from each list\n",
    "#     temporal_positions = list(zip(before_times, end_times))\n",
    "\n",
    "    # loop through zipped list backwards, removing any tuples that have identical elements\n",
    "    # this is to solve RuntimeError(\"do not support alignment with zero size segments.\")\n",
    "    # length = len(temporal_positions)\n",
    "    # # print(length)\n",
    "    # for j in range(length - 1, -1, -1):\n",
    "    #     print(j)\n",
    "    #     print(temporal_positions[j])\n",
    "    #     print(temporal_positions[j][0])\n",
    "    #     print(temporal_positions[j][1])\n",
    "    #     if temporal_positions[j][0] == temporal_positions[j][1]:\n",
    "    #         del temporal_positions[j]\n",
    "    #         print('del ', j)\n",
    "\n",
    "    # [del temporal_positions[i] if temporal_positions[i][0] == temporal_positions[i][1] for i, x in enumerate(temporal_positions)]\n",
    "    # print(temporal_positions)\n",
    "\n",
    "    # convert cleaned list of tuples to list of two-element arrays\n",
    "    temporal_positions = [np.array(x) for x in zip(before_times, end_times)]\n",
    "    # print('temporal_positions ', temporal_positions)\n",
    "    # print('len ', len(temporal_positions))\n",
    "\n",
    "#     make outfile name from infile name\n",
    "#     print('wav_file ', wav_file)\n",
    "    wav_file_out, ext = os.path.splitext(wav_file)\n",
    "    wav_file_out = wav_file_out + '.OUT' + ext\n",
    "    # print('wav_file_out ', wav_file_out)\n",
    "    wav_file_out_path = os.path.join(output_directory, wav_file_out)\n",
    "#     make winsize\n",
    "    winsize = 4 * (1/float(phon_vals_min[i]))\n",
    "    # winsize = 800 # works much better\n",
    "    # print('i ', i)\n",
    "    # print('winsize ', winsize)\n",
    "#     call alignSnds with above params: shape=True, winsize = 4 x f0_min of unvoiced regions of THIS (source) wav file\n",
    "    alignSnds(wav_file_path, wav_file_out_path, temporal_positions, winsize, shape=True, verbose=True)\n",
    "    # print('******************')\n",
    "\n",
    "print('done')\n"
   ]
  },
  {
   "cell_type": "markdown",
   "metadata": {},
   "source": [
    "<h3>Read in time stretched WAV files, extract f0 of each, and output result SDIF files"
   ]
  },
  {
   "cell_type": "code",
   "execution_count": 241,
   "metadata": {
    "collapsed": true
   },
   "outputs": [
    {
     "name": "stdout",
     "output_type": "stream",
     "text": [
      "/Users/robinson/Downloads/data/Olivia2006/Olivia2006_AUDIO/timestretch/.DS_Store\n/Users/robinson/Downloads/data/Olivia2006/Olivia2006_AUDIO/timestretch/Olivia2006.e01.p01.i00.1.OUT.wav\n"
     ]
    },
    {
     "name": "stdout",
     "output_type": "stream",
     "text": [
      "/Users/robinson/Downloads/data/Olivia2006/Olivia2006_AUDIO/timestretch/Olivia2006.e01.p03.i00.14.OUT.wav\n"
     ]
    },
    {
     "name": "stdout",
     "output_type": "stream",
     "text": [
      "/Users/robinson/Downloads/data/Olivia2006/Olivia2006_AUDIO/timestretch/Olivia2006.e01.p05.i00.26.OUT.wav\n"
     ]
    },
    {
     "name": "stdout",
     "output_type": "stream",
     "text": [
      "/Users/robinson/Downloads/data/Olivia2006/Olivia2006_AUDIO/timestretch/Olivia2006.e01.p10.i00.56.OUT.wav\n"
     ]
    },
    {
     "name": "stdout",
     "output_type": "stream",
     "text": [
      "/Users/robinson/Downloads/data/Olivia2006/Olivia2006_AUDIO/timestretch/Olivia2006.e02.p01.i00.62.OUT.wav\n"
     ]
    },
    {
     "name": "stdout",
     "output_type": "stream",
     "text": [
      "/Users/robinson/Downloads/data/Olivia2006/Olivia2006_AUDIO/timestretch/Olivia2006.e02.p03.i00.74.OUT.wav\n"
     ]
    },
    {
     "name": "stdout",
     "output_type": "stream",
     "text": [
      "/Users/robinson/Downloads/data/Olivia2006/Olivia2006_AUDIO/timestretch/Olivia2006.e02.p05.i00.86.OUT.wav\n"
     ]
    },
    {
     "name": "stdout",
     "output_type": "stream",
     "text": [
      "/Users/robinson/Downloads/data/Olivia2006/Olivia2006_AUDIO/timestretch/Olivia2006.e02.p10.i00.116.OUT.wav\n"
     ]
    },
    {
     "name": "stdout",
     "output_type": "stream",
     "text": [
      "/Users/robinson/Downloads/data/Olivia2006/Olivia2006_AUDIO/timestretch/Olivia2006.e03.p01.i00.122.OUT.wav\n"
     ]
    },
    {
     "name": "stdout",
     "output_type": "stream",
     "text": [
      "/Users/robinson/Downloads/data/Olivia2006/Olivia2006_AUDIO/timestretch/Olivia2006.e03.p03.i00.134.OUT.wav\n"
     ]
    },
    {
     "name": "stdout",
     "output_type": "stream",
     "text": [
      "/Users/robinson/Downloads/data/Olivia2006/Olivia2006_AUDIO/timestretch/Olivia2006.e03.p05.i00.145.OUT.wav\n"
     ]
    },
    {
     "name": "stdout",
     "output_type": "stream",
     "text": [
      "/Users/robinson/Downloads/data/Olivia2006/Olivia2006_AUDIO/timestretch/Olivia2006.e03.p10.i00.175.OUT.wav\n"
     ]
    },
    {
     "name": "stdout",
     "output_type": "stream",
     "text": [
      "/Users/robinson/Downloads/data/Olivia2006/Olivia2006_AUDIO/timestretch/Olivia2006.e04.p01.i00.182.OUT.wav\n"
     ]
    },
    {
     "name": "stdout",
     "output_type": "stream",
     "text": [
      "/Users/robinson/Downloads/data/Olivia2006/Olivia2006_AUDIO/timestretch/Olivia2006.e04.p03.i00.194.OUT.wav\n"
     ]
    },
    {
     "name": "stdout",
     "output_type": "stream",
     "text": [
      "/Users/robinson/Downloads/data/Olivia2006/Olivia2006_AUDIO/timestretch/Olivia2006.e04.p05.i00.206.OUT.wav\n"
     ]
    },
    {
     "name": "stdout",
     "output_type": "stream",
     "text": [
      "/Users/robinson/Downloads/data/Olivia2006/Olivia2006_AUDIO/timestretch/Olivia2006.e04.p10.i00.236.OUT.wav\n"
     ]
    },
    {
     "name": "stdout",
     "output_type": "stream",
     "text": [
      "/Users/robinson/Downloads/data/Olivia2006/Olivia2006_AUDIO/timestretch/Olivia2006.e05.p01.i00.242.OUT.wav\n"
     ]
    },
    {
     "name": "stdout",
     "output_type": "stream",
     "text": [
      "/Users/robinson/Downloads/data/Olivia2006/Olivia2006_AUDIO/timestretch/Olivia2006.e05.p03.i00.254.OUT.wav\n"
     ]
    },
    {
     "name": "stdout",
     "output_type": "stream",
     "text": [
      "/Users/robinson/Downloads/data/Olivia2006/Olivia2006_AUDIO/timestretch/Olivia2006.e05.p05.i00.266.OUT.wav\n"
     ]
    },
    {
     "name": "stdout",
     "output_type": "stream",
     "text": [
      "/Users/robinson/Downloads/data/Olivia2006/Olivia2006_AUDIO/timestretch/Olivia2006.e05.p10.i00.298.OUT.wav\n"
     ]
    },
    {
     "name": "stdout",
     "output_type": "stream",
     "text": [
      "/Users/robinson/Downloads/data/Olivia2006/Olivia2006_AUDIO/timestretch/Olivia2006.e06.p01.i00.305.OUT.wav\n"
     ]
    },
    {
     "name": "stdout",
     "output_type": "stream",
     "text": [
      "/Users/robinson/Downloads/data/Olivia2006/Olivia2006_AUDIO/timestretch/Olivia2006.e06.p03.i00.318.OUT.wav\n"
     ]
    },
    {
     "name": "stdout",
     "output_type": "stream",
     "text": [
      "/Users/robinson/Downloads/data/Olivia2006/Olivia2006_AUDIO/timestretch/Olivia2006.e06.p05.i00.330.OUT.wav\n"
     ]
    },
    {
     "name": "stdout",
     "output_type": "stream",
     "text": [
      "/Users/robinson/Downloads/data/Olivia2006/Olivia2006_AUDIO/timestretch/Olivia2006.e06.p10.i00.360.OUT.wav\n"
     ]
    },
    {
     "name": "stdout",
     "output_type": "stream",
     "text": [
      "/Users/robinson/Downloads/data/Olivia2006/Olivia2006_AUDIO/timestretch/Olivia2006.e07.p01.i00.366.OUT.wav\n"
     ]
    },
    {
     "name": "stdout",
     "output_type": "stream",
     "text": [
      "/Users/robinson/Downloads/data/Olivia2006/Olivia2006_AUDIO/timestretch/Olivia2006.e07.p03.i00.378.OUT.wav\n"
     ]
    },
    {
     "name": "stdout",
     "output_type": "stream",
     "text": [
      "/Users/robinson/Downloads/data/Olivia2006/Olivia2006_AUDIO/timestretch/Olivia2006.e07.p05.i00.390.OUT.wav\n"
     ]
    },
    {
     "name": "stdout",
     "output_type": "stream",
     "text": [
      "/Users/robinson/Downloads/data/Olivia2006/Olivia2006_AUDIO/timestretch/Olivia2006.e07.p10.i00.421.OUT.wav\n"
     ]
    },
    {
     "name": "stdout",
     "output_type": "stream",
     "text": [
      "/Users/robinson/Downloads/data/Olivia2006/Olivia2006_AUDIO/timestretch/Olivia2006.e08.p01.i00.427.OUT.wav\n"
     ]
    },
    {
     "name": "stdout",
     "output_type": "stream",
     "text": [
      "/Users/robinson/Downloads/data/Olivia2006/Olivia2006_AUDIO/timestretch/Olivia2006.e08.p03.i00.439.OUT.wav\n"
     ]
    },
    {
     "name": "stdout",
     "output_type": "stream",
     "text": [
      "/Users/robinson/Downloads/data/Olivia2006/Olivia2006_AUDIO/timestretch/Olivia2006.e08.p05.i00.451.OUT.wav\n"
     ]
    },
    {
     "name": "stdout",
     "output_type": "stream",
     "text": [
      "/Users/robinson/Downloads/data/Olivia2006/Olivia2006_AUDIO/timestretch/Olivia2006.e08.p10.i00.481.OUT.wav\n"
     ]
    },
    {
     "name": "stdout",
     "output_type": "stream",
     "text": [
      "/Users/robinson/Downloads/data/Olivia2006/Olivia2006_AUDIO/timestretch/phon_time.txt\n/Users/robinson/Downloads/data/Olivia2006/Olivia2006_AUDIO/timestretch/phon_time_new.txt\n/Users/robinson/Downloads/data/Olivia2006/Olivia2006_AUDIO/timestretch/phon_vals_min.txt\n/Users/robinson/Downloads/data/Olivia2006/Olivia2006_AUDIO/timestretch/wav_files.txt\n"
     ]
    }
   ],
   "source": [
    "'''\n",
    "def calc_f0_swipe(infile, outfile, f0min=50, f0max=450, time_step=0.005,\n",
    "                  harmonicity_threshold=None,\n",
    "                  use_spline_interp=False, ana_freq_limit=12500, music_mode=False,\n",
    "                   remove_low_harm_f0=True, channel=0, verbose=False):\n",
    "\n",
    "    use swipe with given parameters to create the f0 analysis of infile and store the result in an sdif file\n",
    "\n",
    "    raises RuntimeError in case of errors\n",
    "\n",
    "'''\n",
    "\n",
    "# input directory is former output_directory\n",
    "wav_input_directory_path = '/Users/robinson/Downloads/data/Olivia2006/Olivia2006_AUDIO'\n",
    "input_directory_path = os.path.join(wav_input_directory_path, 'timestretch')\n",
    "# input_directory_path = wav_input_directory_path  #debug\n",
    "input_directory = os.fsencode(input_directory_path)\n",
    "\n",
    "# define new output directory and files\n",
    "output_directory_path = os.path.join(wav_input_directory_path, 'timestretch_f0extract')\n",
    "# output_directory_path = os.path.join(wav_input_directory_path, 'original_f0extract')  #debug\n",
    "if not os.path.exists(output_directory_path):\n",
    "    os.mkdir(output_directory_path)\n",
    "\n",
    "# for each wav file in directory\n",
    "for file in os.listdir(input_directory):\n",
    "    # get filename\n",
    "    filename = os.fsdecode(file)\n",
    "    # get filepath and decode from bytes to string\n",
    "    # filepath = os.path.abspath(file).decode(\"utf-8\") \n",
    "    filepath = os.path.join(input_directory_path, filename)\n",
    "    print(filepath)\n",
    "    \n",
    "    if filename.endswith('.wav'):\n",
    "        # build outfile sdif filename\n",
    "        sdif_file_out, ext = os.path.splitext(filename)\n",
    "        sdif_file_out = sdif_file_out + '.sdif'\n",
    "        sdif_file_out_path = os.path.join(output_directory_path, sdif_file_out)\n",
    "        \n",
    "        # extract f0 and write to sdif\n",
    "        calc_f0_swipe(filepath, sdif_file_out_path)\n"
   ]
  },
  {
   "cell_type": "markdown",
   "metadata": {},
   "source": [
    "<h3>Read in timestretched wav, timestretched f0 sdif, and target f0 array, and output transposed f0 WAV file"
   ]
  },
  {
   "cell_type": "code",
   "execution_count": 245,
   "metadata": {
    "collapsed": false
   },
   "outputs": [
    {
     "name": "stdout",
     "output_type": "stream",
     "text": [
      "filename_phon Olivia2006.e01.p01.i00.s00_###0.csv\nfilename_phon Olivia2006.e01.p01.i00.s01_s1.csv\nfilename_phon Olivia2006.e01.p01.i00.s01_e2.csv\nfilename_phon Olivia2006.e01.p01.i00.s02_9~3.csv\nfilename_phon Olivia2006.e01.p01.i00.s03_s4.csv\nfilename_phon Olivia2006.e01.p01.i00.s03_O5.csv\nfilename_phon Olivia2006.e01.p01.i00.s03_l6.csv\nfilename_phon Olivia2006.e01.p01.i00.s04_d7.csv\nfilename_phon Olivia2006.e01.p01.i00.s04_a8.csv\nfilename_phon Olivia2006.e01.p01.i00.s05_#9.csv\nfilename_phon Olivia2006.e01.p01.i00.s06_a10.csv\nfilename_phon Olivia2006.e01.p01.i00.s07_S11.csv\nfilename_phon Olivia2006.e01.p01.i00.s07_212.csv\nfilename_phon Olivia2006.e01.p01.i00.s08_v13.csv\nfilename_phon Olivia2006.e01.p01.i00.s08_214.csv\nfilename_phon Olivia2006.e01.p01.i00.s09_g15.csv\nfilename_phon Olivia2006.e01.p01.i00.s09_R16.csv\nfilename_phon Olivia2006.e01.p01.i00.s09_i17.csv\nfilename_phon Olivia2006.e01.p01.i00.s10_###18.csv\n"
     ]
    },
    {
     "ename": "ValueError",
     "evalue": "array of sample points is empty",
     "traceback": [
      "\u001b[0;31m---------------------------------------------------------------------------\u001b[0m",
      "\u001b[0;31mValueError\u001b[0m                                Traceback (most recent call last)",
      "\u001b[0;32m<ipython-input-245-3b42e83153b3>\u001b[0m in \u001b[0;36m<module>\u001b[0;34m()\u001b[0m\n\u001b[1;32m    240\u001b[0m                 \u001b[0;31m# print('y',y)\u001b[0m\u001b[0;34m\u001b[0m\u001b[0;34m\u001b[0m\u001b[0m\n\u001b[1;32m    241\u001b[0m                 \u001b[0mzeroes\u001b[0m\u001b[0;34m,\u001b[0m \u001b[0mlambda_func\u001b[0m \u001b[0;34m=\u001b[0m \u001b[0mzero_helper\u001b[0m\u001b[0;34m(\u001b[0m\u001b[0my\u001b[0m\u001b[0;34m)\u001b[0m\u001b[0;34m\u001b[0m\u001b[0m\n\u001b[0;32m--> 242\u001b[0;31m                 \u001b[0my\u001b[0m\u001b[0;34m[\u001b[0m\u001b[0mzeroes\u001b[0m\u001b[0;34m]\u001b[0m \u001b[0;34m=\u001b[0m \u001b[0mnp\u001b[0m\u001b[0;34m.\u001b[0m\u001b[0minterp\u001b[0m\u001b[0;34m(\u001b[0m\u001b[0mlambda_func\u001b[0m\u001b[0;34m(\u001b[0m\u001b[0mzeroes\u001b[0m\u001b[0;34m)\u001b[0m\u001b[0;34m,\u001b[0m \u001b[0mlambda_func\u001b[0m\u001b[0;34m(\u001b[0m\u001b[0;34m~\u001b[0m\u001b[0mzeroes\u001b[0m\u001b[0;34m)\u001b[0m\u001b[0;34m,\u001b[0m \u001b[0my\u001b[0m\u001b[0;34m[\u001b[0m\u001b[0;34m~\u001b[0m\u001b[0mzeroes\u001b[0m\u001b[0;34m]\u001b[0m\u001b[0;34m)\u001b[0m\u001b[0;34m\u001b[0m\u001b[0m\n\u001b[0m\u001b[1;32m    243\u001b[0m                 \u001b[0mall_contours\u001b[0m \u001b[0;34m=\u001b[0m \u001b[0my\u001b[0m\u001b[0;34m.\u001b[0m\u001b[0mtolist\u001b[0m\u001b[0;34m(\u001b[0m\u001b[0;34m)\u001b[0m\u001b[0;34m\u001b[0m\u001b[0m\n\u001b[1;32m    244\u001b[0m             \u001b[0;31m# print('all_contours AFTER INTERP', all_contours)\u001b[0m\u001b[0;34m\u001b[0m\u001b[0;34m\u001b[0m\u001b[0m\n",
      "\u001b[0;32m~/Dropbox/anasynth/_code/anaconda/lib/python3.6/site-packages/numpy/lib/function_base.py\u001b[0m in \u001b[0;36minterp\u001b[0;34m(x, xp, fp, left, right, period)\u001b[0m\n\u001b[1;32m   2059\u001b[0m             \u001b[0;32mreturn\u001b[0m \u001b[0minterp_func\u001b[0m\u001b[0;34m(\u001b[0m\u001b[0;34m[\u001b[0m\u001b[0mx\u001b[0m\u001b[0;34m]\u001b[0m\u001b[0;34m,\u001b[0m \u001b[0mxp\u001b[0m\u001b[0;34m,\u001b[0m \u001b[0mfp\u001b[0m\u001b[0;34m,\u001b[0m \u001b[0mleft\u001b[0m\u001b[0;34m,\u001b[0m \u001b[0mright\u001b[0m\u001b[0;34m)\u001b[0m\u001b[0;34m.\u001b[0m\u001b[0mitem\u001b[0m\u001b[0;34m(\u001b[0m\u001b[0;34m)\u001b[0m\u001b[0;34m\u001b[0m\u001b[0m\n\u001b[1;32m   2060\u001b[0m         \u001b[0;32melse\u001b[0m\u001b[0;34m:\u001b[0m\u001b[0;34m\u001b[0m\u001b[0m\n\u001b[0;32m-> 2061\u001b[0;31m             \u001b[0;32mreturn\u001b[0m \u001b[0minterp_func\u001b[0m\u001b[0;34m(\u001b[0m\u001b[0mx\u001b[0m\u001b[0;34m,\u001b[0m \u001b[0mxp\u001b[0m\u001b[0;34m,\u001b[0m \u001b[0mfp\u001b[0m\u001b[0;34m,\u001b[0m \u001b[0mleft\u001b[0m\u001b[0;34m,\u001b[0m \u001b[0mright\u001b[0m\u001b[0;34m)\u001b[0m\u001b[0;34m\u001b[0m\u001b[0m\n\u001b[0m\u001b[1;32m   2062\u001b[0m     \u001b[0;32melse\u001b[0m\u001b[0;34m:\u001b[0m\u001b[0;34m\u001b[0m\u001b[0m\n\u001b[1;32m   2063\u001b[0m         \u001b[0;32mif\u001b[0m \u001b[0mperiod\u001b[0m \u001b[0;34m==\u001b[0m \u001b[0;36m0\u001b[0m\u001b[0;34m:\u001b[0m\u001b[0;34m\u001b[0m\u001b[0m\n",
      "\u001b[0;31mValueError\u001b[0m: array of sample points is empty"
     ],
     "output_type": "error"
    }
   ],
   "source": [
    "'''\n",
    "i need to:\n",
    "\n",
    "piece together all f0 phoneme files into one continuous sequence, including unvoiced sections (get durations from \n",
    "phon_time), and put into an array\n",
    "\n",
    "\n",
    "call f0_transpose to convert, passing in timestretched wav, timestretched f0 sdif, and target f0 array\n",
    "as well as outfile wav file name, and winsize scalar\n",
    "\n",
    "'''\n",
    "\n",
    "\n",
    "# *************\n",
    "# START CONFIG\n",
    "\n",
    "# for each \n",
    "# get list \n",
    "# path to CSV input files directory\n",
    "csv_input_directory_path = '/Users/robinson/Dropbox/anasynth/_data/emoVC/Olivia2006/f0_raw_phoneme'\n",
    "# Olivia2006.e01.p01.i00.s01_s e.csv\n",
    "csv_input_file_extension = '.csv'\n",
    "\n",
    "# path to predicted F0 CSV input files directory\n",
    "phon_input_directory_path = '/Users/robinson/Downloads/data/pred/' + dirr + '/phonemes'\n",
    "# Olivia2006.e01.p01.i00.s01_s e1.csv\n",
    "phon_input_file_extension = '.csv'\n",
    "\n",
    "# path to MAT input files directory\n",
    "mat_input_directory_path = '/Users/robinson/Dropbox/anasynth/_data/emoVC/Olivia2006'\n",
    "# Olivia2006.e01.p01.i00.mat\n",
    "mat_input_file_extension = '.mat'\n",
    "\n",
    "# path to WAV input files directory\n",
    "raw_input_directory_path = '/Users/robinson/Downloads/data/Olivia2006/Olivia2006_AUDIO/'\n",
    "# Olivia2006.e01.p01.i00.1.wav\n",
    "raw_input_file_extension = '.wav'\n",
    "\n",
    "# path to timestretched WAV input files directory\n",
    "wav_input_directory_path = '/Users/robinson/Downloads/data/Olivia2006/Olivia2006_AUDIO/timestretch'\n",
    "# Olivia2006.e01.p01.i00.1.wav\n",
    "wav_input_file_extension = '.wav'\n",
    "\n",
    "# path to SDIF f0 input files directory\n",
    "sdif_input_directory_path = '/Users/robinson/Downloads/data/Olivia2006/Olivia2006_AUDIO/timestretch_f0extract'\n",
    "# Olivia2006.e01.p01.i00.mat\n",
    "sdif_input_file_extension = '.sdif'\n",
    "\n",
    "# define input file root - common to all filetypes\n",
    "input_file_root = 'Olivia2006'\n",
    "\n",
    "# define output directory and files\n",
    "output_directory = os.path.join(raw_input_directory_path, 'f0transpose')\n",
    "if not os.path.exists(output_directory):\n",
    "    os.mkdir(output_directory)\n",
    "\n",
    "# delete all files in f0transpose and compare\n",
    "for folder in [output_directory, os.path.join(raw_input_directory_path, 'compare')]:\n",
    "    for the_file in os.listdir(folder):\n",
    "        file_path = os.path.join(folder, the_file)\n",
    "        try:\n",
    "            if os.path.isfile(file_path):\n",
    "                os.unlink(file_path)\n",
    "        except Exception as e:\n",
    "            print(e)\n",
    "\n",
    "# open test_log.txt and split into list of lines\n",
    "f_test_log = open(os.path.join(csv_input_directory_path, 'out', 'test_log.txt'), 'r')\n",
    "test_log = f_test_log.read().split('\\n')\n",
    "\n",
    "filename_phon_vals_min = 'phon_vals_min.txt'\n",
    "f_phon_vals_min = open(os.path.join(wav_input_directory_path, filename_phon_vals_min), 'r')\n",
    "phon_vals_min = f_phon_vals_min.read().split('\\n')\n",
    "\n",
    "# define phrase range\n",
    "phrase_from = 1\n",
    "phrase_to = 10  #10\n",
    "phrase_list = [1, 3, 5, 10]\n",
    "# define source and target emotion ranges\n",
    "source_emotion_from = 1\n",
    "source_emotion_to = 8  #8\n",
    "# define source and target intensity ranges\n",
    "source_intensity_from = 0\n",
    "source_intensity_to = 0\n",
    "\n",
    "# set sample rate \n",
    "step_s = 0.005 # 5ms, which I assume is what was used to sample the file\n",
    "\n",
    "# END CONFIG\n",
    "# *************\n",
    "\n",
    "def zero_helper(y):\n",
    "    return y == 0, lambda z: z.nonzero()[0]\n",
    "\n",
    "# file counter \n",
    "i = 0\n",
    "\n",
    "# for each wavfile that we want to treat..\n",
    "# for each phrase\n",
    "# for p in range(phrase_from, phrase_to + 1):\n",
    "for p in phrase_list: \n",
    "    # for each source emotion\n",
    "    for e_s in range(source_emotion_from, source_emotion_to + 1):\n",
    "        # for each source intensity\n",
    "        for i_s in range(source_intensity_from, source_intensity_to + 1):\n",
    "            # build the source file path\n",
    "            filename_base = ''.join([input_file_root, \n",
    "                                        '.e', format(e_s, '02d'),\n",
    "                                        '.p', format(p, '02d'),\n",
    "                                        '.i', format(i_s, '02d')])\n",
    "            \n",
    "            # open the mat file \n",
    "            mat_filename = ''.join([filename_base, mat_input_file_extension])\n",
    "            mat_filepath = os.path.join(mat_input_directory_path, mat_filename)\n",
    "            mat_dict = loadmat(mat_filepath)\n",
    "            \n",
    "            syll_label = mat_dict['syll_label']\n",
    "            syll_label = syll_label.reshape((syll_label.shape[1],))        \n",
    "            # print(syll_label.shape)\n",
    "            # print(syll_label)\n",
    "\n",
    "            # I want syll_time.shape (11, 2) BUT with the start and end times in different 'columns' - just transpose!\n",
    "            syll_time = mat_dict['syll_time']\n",
    "            # print('syll_time.shape', syll_time.shape)\n",
    "            syll_time = syll_time.T\n",
    "            # print('syll_time.shape', syll_time.shape)\n",
    "            # print(syll_time)            \n",
    "            \n",
    "            # get list of phonemes\n",
    "            phon_label = mat_dict['phone_label']\n",
    "            phon_label = phon_label.reshape((phon_label.shape[1],))\n",
    "            # print('phon_label ', phon_label)\n",
    "            \n",
    "            # get phon_time from dict and transpose to column\n",
    "            phon_time = mat_dict['phone_time'].T\n",
    "            # print('phon_time ', phon_time)\n",
    "            \n",
    "            # make list of true/false to indicate vowels(true)/nonvowel(false)\n",
    "            vowel_phonemes = ['e~', '9~', 'a~', 'o~', 'i', 'e', 'E', 'a', 'A', 'O', 'o', 'u', 'y', '2', '9', '@']\n",
    "            # [a if C else b for i in items]\n",
    "            vowels = [True if phon[0] in vowel_phonemes else False for i, phon in enumerate(phon_label)]\n",
    "            # print('vowels ', vowels)\n",
    "            \n",
    "            # create list to hold sequence of vowels and unvoiced f0 contour values\n",
    "            all_contours = []\n",
    "            \n",
    "            # for each syllable in the wav file\n",
    "            for all_syll_counter, syll in enumerate(syll_label):\n",
    "                \n",
    "                # get syll_time start and end times\n",
    "                # print('i = ', i)\n",
    "                syll_start_time = syll_time[all_syll_counter, 0]\n",
    "                syll_end_time = syll_time[all_syll_counter, 1]\n",
    "                \n",
    "                phone_id_list = []\n",
    "                # for each phone label in phon_label (this mat file)\n",
    "                for j, label in enumerate(phon_label):\n",
    "                    # get start/end times from phone_time\n",
    "                    phone_start_time = phon_time[j, 0]\n",
    "                    phone_end_time = phon_time[j, 1]\n",
    "                    # if start time => syll_start_time AND end time <= syll_end_time then this phoneme is in the syllable\n",
    "                    if phone_start_time >= syll_start_time and phone_end_time <= syll_end_time:\n",
    "                        # add phoneme label id to a list (to use to reference label and start/end times)\n",
    "                        phone_id_list.append(j)\n",
    "                        \n",
    "                # for each phoneme in the syllable file\n",
    "                for all_phon_counter in phone_id_list:\n",
    "                # for all_phon_counter, phon in enumerate(phon_label):\n",
    "                    # print('******** SYL ********')\n",
    "                    # build the filename of the phoneme (which may not exist for this syllable)\n",
    "                    filename_phon = ''.join([filename_base, '.s', format(all_syll_counter, '02d'), '_',\n",
    "                                             phon_label[all_phon_counter][0], str(all_phon_counter), \n",
    "                                             csv_input_file_extension])\n",
    "                    print('filename_phon', filename_phon)\n",
    "\n",
    "                    # if phoneme is not a vowel, or if phon file is a vowel but there's no file for it\n",
    "                    # get the length of the unvoiced phoneme and add zeroes to all_contours list                \n",
    "                    if not vowels[all_phon_counter] or not os.path.isfile(os.path.join(phon_input_directory_path, \n",
    "                                                                                       filename_phon)):\n",
    "                        # print('!!! nonvowel or file DOES NOT exist')\n",
    "                        time = phon_time[all_phon_counter, 1] - phon_time[all_phon_counter, 0]\n",
    "                        # print('time ', time)\n",
    "                        num_zeroes = int(time // step_s)\n",
    "                        # print('num_zeroes ', num_zeroes)\n",
    "                        all_contours += [0 for _ in range(num_zeroes)]\n",
    "                    # if phoneme is vowels, add its contents to the all_contours list\n",
    "                    else:\n",
    "                        # print('!!! vowel and file exists')\n",
    "                        # build the source file path\n",
    "                        source_file_path = os.path.join(phon_input_directory_path, filename_phon)\n",
    "                        # print('source_file_path',source_file_path)\n",
    "\n",
    "                        # load the source file and extract vars\n",
    "                        source_f0_raw = np.loadtxt(source_file_path, dtype='int')\n",
    "                        # print('shape ', source_f0_raw.shape)\n",
    "\n",
    "                        # iterate over the numpy array, adding items to the all_contours list\n",
    "                        all_contours += [source_f0_raw[x] for x in range(source_f0_raw.shape[0])]\n",
    "\n",
    "                        \n",
    "            # print('all_contours BEFORE INTERP', all_contours)\n",
    "            if interp:\n",
    "                # convert strings of zeroes to linearly interpolated values between neighbouring non-zero vals\n",
    "                y = np.array(all_contours)\n",
    "                # print('y',y)\n",
    "                zeroes, lambda_func = zero_helper(y)\n",
    "                y[zeroes] = np.interp(lambda_func(zeroes), lambda_func(~zeroes), y[~zeroes])\n",
    "                all_contours = y.tolist()\n",
    "            # print('all_contours AFTER INTERP', all_contours)\n",
    "                \n",
    "            # convert into a single array to pass to f0_transpose method - not sure if needed..\n",
    "            all_times = [x * step_s for x in range(len(all_contours))]\n",
    "            all_times_contours = list(zip(all_times, all_contours))\n",
    "            \n",
    "            # print(all_times_contours)\n",
    "            \n",
    "            # print('*** length = ', len(all_times_contours))\n",
    "            for j in range(len(all_times_contours) - 1, 0, -1):\n",
    "                # print(i)\n",
    "                if all_times_contours[j][1] == 0:\n",
    "                    del all_times_contours[j]\n",
    "    \n",
    "            all_times_contours = np.array(all_times_contours)\n",
    "            # .reshape(-1, 2)\n",
    "            # print(all_times_contours)\n",
    "            \n",
    "            # build timestretched input wav file name and path - use glob to handle number           \n",
    "            wav_glob_filepath = os.path.join(wav_input_directory_path, filename_base + '.*')\n",
    "            # print('wav_glob_filepath ', wav_glob_filepath)\n",
    "            wav_filepath_list = glob.glob(wav_glob_filepath)\n",
    "            # print('wav_filepath_list ', wav_filepath_list)\n",
    "            wav_filepath = wav_filepath_list[0] \n",
    "            # print('wav_filepath ', wav_filepath)\n",
    "            _, wav_filename = os.path.split(wav_filepath)\n",
    "            wav_filename_noext, _ = os.path.splitext(wav_filename)\n",
    "            \n",
    "            \n",
    "            # build outfile wav file name and path\n",
    "            wav_filename_out = ''.join([wav_filename_noext, emotion_code, wav_input_file_extension])\n",
    "            wav_filename_out_path = os.path.join(output_directory, wav_filename_out)\n",
    "            print('writing... ', wav_filename_out)\n",
    "            \n",
    "            # build sdif file name\n",
    "            sdif_glob_filepath = os.path.join(sdif_input_directory_path, filename_base + '.*')\n",
    "            # print('sdif_glob_filepath ', sdif_glob_filepath)\n",
    "            sdif_filepath_list = glob.glob(sdif_glob_filepath)\n",
    "            # print('sdif_filepath_list ', sdif_filepath_list)\n",
    "            sdif_filepath = sdif_filepath_list[0] \n",
    "            # print('sdif_filepath ', sdif_filepath)\n",
    "            \n",
    "            # set winsize scalar\n",
    "            # winsize = 800  # worked before, but dunno why\n",
    "            winsize = 4 * (1/float(phon_vals_min[i]))\n",
    "            # winsize = 2 * (1/float(phon_vals_min[i]))\n",
    "            # winsize = 4 * (1/float(50))\n",
    "            \n",
    "            # call transpose_f0\n",
    "            transpose_f0(wav_filepath, sdif_filepath, all_times_contours, wav_filename_out_path, winsize,  \n",
    "                         harmonicity_threshold=harmonicity_threshold, remove_low_harm_f0=True)\n",
    "            \n",
    "            # increment counter\n",
    "            i += 1\n",
    "            \n",
    "print('done')"
   ]
  },
  {
   "cell_type": "code",
   "execution_count": 243,
   "metadata": {},
   "outputs": [
    {
     "name": "stdout",
     "output_type": "stream",
     "text": [
      "done\n"
     ]
    }
   ],
   "source": [
    "# copy original source files to directory to compare\n",
    "\n",
    "# path to raw WAV files directory\n",
    "raw_input_directory_path = '/Users/robinson/Downloads/data/Olivia2006/Olivia2006_AUDIO/'\n",
    "# Olivia2006.e01.p01.i00.1.wav\n",
    "\n",
    "# path to timestretched WAV files directory\n",
    "wav_input_directory_path = '/Users/robinson/Downloads/data/Olivia2006/Olivia2006_AUDIO/timestretch'\n",
    "\n",
    "# path to timestretched f0 tranformed files directory\n",
    "joy_input_directory_path = '/Users/robinson/Downloads/data/Olivia2006/Olivia2006_AUDIO/f0transpose'\n",
    "\n",
    "# define input file root - common to all filetypes\n",
    "input_file_root = 'Olivia2006'\n",
    "\n",
    "# define output directory and files\n",
    "output_directory = os.path.join(raw_input_directory_path, 'compare')\n",
    "if not os.path.exists(output_directory):\n",
    "    os.mkdir(output_directory)\n",
    "\n",
    "# define phrase range\n",
    "phrase_from = 1\n",
    "phrase_to = 10  #10\n",
    "phrase_list = [1, 3, 5, 10]\n",
    "# define source and target emotion ranges\n",
    "source_emotion_from = 1\n",
    "source_emotion_to = 8  #8\n",
    "# define source and target intensity ranges\n",
    "source_intensity_from = 0\n",
    "source_intensity_to = 0\n",
    "\n",
    "# for each wavfile that we want to treat..\n",
    "# for each phrase\n",
    "# for p in range(phrase_from, phrase_to + 1):\n",
    "for p in phrase_list: \n",
    "    # for each source emotion\n",
    "    for e_s in range(source_emotion_from, source_emotion_to + 1):\n",
    "        # for each source intensity\n",
    "        for i_s in range(source_intensity_from, source_intensity_to + 1):\n",
    "            # build the source file path\n",
    "            filename_base = ''.join([input_file_root, \n",
    "                                        '.e', format(e_s, '02d'),\n",
    "                                        '.p', format(p, '02d'),\n",
    "                                        '.i', format(i_s, '02d')])\n",
    "            \n",
    "            # build input wav file name and path - use glob to handle number           \n",
    "            wav_glob_filepath = os.path.join(raw_input_directory_path, filename_base + '.*')\n",
    "            # print('wav_glob_filepath ', wav_glob_filepath)\n",
    "            wav_filepath_list = glob.glob(wav_glob_filepath)\n",
    "            # print('wav_filepath_list ', wav_filepath_list)\n",
    "            wav_filepath = wav_filepath_list[0] \n",
    "            # print('wav_filepath ', wav_filepath)\n",
    "            _, wav_filename = os.path.split(wav_filepath)\n",
    "            \n",
    "            # copy the raw file to the output directory\n",
    "            copyfile(wav_filepath, os.path.join(output_directory, wav_filename))\n",
    "            \n",
    "            \n",
    "# copy all timestretched wav files to compare directory\n",
    "wav_input_directory = os.fsencode(wav_input_directory_path)\n",
    "# for each wav file in directory\n",
    "for file in os.listdir(wav_input_directory):\n",
    "    # get filename\n",
    "    filename = os.fsdecode(file)\n",
    "    if filename.endswith('.wav'):\n",
    "        # get filepath and decode from bytes to string\n",
    "        # filepath = os.path.abspath(file).decode(\"utf-8\") \n",
    "        filepath = os.path.join(wav_input_directory_path, filename)\n",
    "        \n",
    "        # copy the timestretched wav file to the output directory\n",
    "        #copyfile(filepath, os.path.join(output_directory, filename))\n",
    "    \n",
    "    \n",
    "# copy all f0 transformed wav files to compare directory\n",
    "joy_input_directory = os.fsencode(joy_input_directory_path)\n",
    "# for each wav file in directory\n",
    "for file in os.listdir(joy_input_directory):\n",
    "    # get filename\n",
    "    filename = os.fsdecode(file)\n",
    "    if filename.endswith('.wav'):\n",
    "        # get filepath and decode from bytes to string\n",
    "        # filepath = os.path.abspath(file).decode(\"utf-8\") \n",
    "        filepath = os.path.join(joy_input_directory_path, filename)\n",
    "        \n",
    "        # copy the timestretched wav file to the output directory\n",
    "        copyfile(filepath, os.path.join(output_directory, filename))\n",
    "\n",
    "print('done')"
   ]
  },
  {
   "cell_type": "code",
   "execution_count": 244,
   "metadata": {
    "collapsed": true
   },
   "outputs": [],
   "source": [
    "# import numpy as np\n",
    "# \n",
    "# def zero_helper(y):\n",
    "#     return y == 0, lambda z: z.nonzero()[0]\n",
    "# \n",
    "# y[zeroes] = np.interp(x(zeroes), x(~zeroes), y[~zeroes])\n",
    "# \n",
    "# print(y.round(2))"
   ]
  },
  {
   "cell_type": "code",
   "execution_count": 245,
   "metadata": {
    "collapsed": true
   },
   "outputs": [],
   "source": []
  }
 ],
 "metadata": {
  "kernelspec": {
   "display_name": "Python 3",
   "language": "python",
   "name": "python3"
  },
  "language_info": {
   "codemirror_mode": {
    "name": "ipython",
    "version": 3
   },
   "file_extension": ".py",
   "mimetype": "text/x-python",
   "name": "python",
   "nbconvert_exporter": "python",
   "pygments_lexer": "ipython3",
   "version": "3.6.2"
  }
 },
 "nbformat": 4,
 "nbformat_minor": 2
}
