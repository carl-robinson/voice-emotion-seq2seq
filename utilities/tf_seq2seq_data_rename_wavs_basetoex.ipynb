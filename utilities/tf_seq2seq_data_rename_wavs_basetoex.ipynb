{
 "cells": [
  {
   "cell_type": "code",
   "execution_count": 1,
   "metadata": {
    "collapsed": true
   },
   "outputs": [
    {
     "name": "stdout",
     "output_type": "stream",
     "text": [
      "done\n"
     ]
    }
   ],
   "source": [
    "import os\n",
    "\n",
    "input_directory_path = '/Users/robinson/Downloads/data/pred/z_evaluation_final/renamed_normed_numbered'\n",
    "filename_log = 'rename_log.txt'\n",
    "\n",
    "# copy all f0 transformed wav files to compare directory\n",
    "input_directory = os.fsencode(input_directory_path)\n",
    "fo = open(os.path.join(input_directory_path, filename_log), 'w')\n",
    "\n",
    "# start count at 101\n",
    "i = 101\n",
    "# for each wav file in directory\n",
    "for file in os.listdir(input_directory):\n",
    "    # get filename\n",
    "    filename = os.fsdecode(file)\n",
    "    if filename.endswith('.wav'):\n",
    "        old_filename = str(filename)  \n",
    "        old_filepath = os.path.join(input_directory_path, filename)\n",
    "        new_filename = ''.join(['ex_', str(i), '.wav'])\n",
    "        new_filepath = os.path.join(input_directory_path, new_filename)\n",
    "        os.rename(old_filepath, new_filepath)\n",
    "        \n",
    "        # print to log file\n",
    "        print(''.join([old_filename, ',', new_filename]), file=fo)\n",
    "        \n",
    "        # increment file counter\n",
    "        i = i + 1\n",
    "\n",
    "fo.close()\n",
    "\n",
    "print('done')"
   ]
  },
  {
   "cell_type": "code",
   "execution_count": 16,
   "metadata": {},
   "outputs": [],
   "source": []
  }
 ],
 "metadata": {
  "kernelspec": {
   "display_name": "Python 3",
   "language": "python",
   "name": "python3"
  },
  "language_info": {
   "codemirror_mode": {
    "name": "ipython",
    "version": 3
   },
   "file_extension": ".py",
   "mimetype": "text/x-python",
   "name": "python",
   "nbconvert_exporter": "python",
   "pygments_lexer": "ipython3",
   "version": "3.6.2"
  }
 },
 "nbformat": 4,
 "nbformat_minor": 2
}
