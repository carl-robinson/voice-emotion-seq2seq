{
 "cells": [
  {
   "cell_type": "code",
   "execution_count": 1,
   "metadata": {
    "collapsed": true
   },
   "outputs": [],
   "source": [
    "%matplotlib inline\n",
    "from scipy.io import loadmat\n",
    "import matplotlib.pyplot as plt\n",
    "import matplotlib.colors as colors\n",
    "import matplotlib.cm as cmx\n",
    "import pandas as pd\n",
    "import numpy as np\n",
    "import os\n",
    "import seaborn as sns\n",
    "import csv\n",
    "import random"
   ]
  },
  {
   "cell_type": "markdown",
   "metadata": {},
   "source": [
    "<h2> Process Single File</h3>"
   ]
  },
  {
   "cell_type": "markdown",
   "metadata": {},
   "source": [
    "<h3>Make F0 raw csv files"
   ]
  },
  {
   "cell_type": "code",
   "execution_count": 2,
   "metadata": {},
   "outputs": [
    {
     "name": "stdout",
     "output_type": "stream",
     "text": [
      "(3110,)\n"
     ]
    }
   ],
   "source": [
    "# load the mat file\n",
    "mat_dict = loadmat('/Users/robinson/Dropbox/anasynth/_data/Olivia2006/Olivia2006.e01.p02.i00.mat')\n",
    "\n",
    "# get variables from dict\n",
    "f0_raw = mat_dict['f0_raw']\n",
    "f0_raw = f0_raw.reshape((f0_raw.shape[1],))\n",
    "print(np.shape(f0_raw))"
   ]
  },
  {
   "cell_type": "code",
   "execution_count": 3,
   "metadata": {},
   "outputs": [
    {
     "name": "stdout",
     "output_type": "stream",
     "text": [
      "[239.76754761 239.76678467 239.77609253 ... 167.793396   167.77375793\n",
      " 167.75679016]\n",
      "2510\n"
     ]
    }
   ],
   "source": [
    "# strip leading and trailing zeros\n",
    "f0_raw = np.trim_zeros(f0_raw, trim='fb')\n",
    "print(f0_raw[:])\n",
    "print(f0_raw.shape[0])"
   ]
  },
  {
   "cell_type": "code",
   "execution_count": 29,
   "metadata": {},
   "outputs": [
    {
     "name": "stdout",
     "output_type": "stream",
     "text": [
      "[239.77 239.77 239.78 ... 167.79 167.77 167.76]\n",
      "[23977. 23977. 23978. ... 16779. 16777. 16776.]\n",
      "[23977 23977 23978 ... 16779 16777 16776]\n"
     ]
    }
   ],
   "source": [
    "# quantise the values into a vocabulary of 10,000 increments\n",
    "\n",
    "# create new array to hold rounded values\n",
    "f0_raw_2dp = np.zeros(f0_raw.shape)\n",
    "# round all values to 2dp, to get vocabulary of ~10000 given f0 min/max range of 300\n",
    "np.around(f0_raw, decimals=2, out=f0_raw_2dp)\n",
    "print(f0_raw_2dp)\n",
    "# multiply by 100 to shift dp two places\n",
    "f0_raw_2dp = f0_raw_2dp * 100\n",
    "print(f0_raw_2dp)\n",
    "# cast to int to ensure precise number representation in memory\n",
    "f0_raw_2dp = f0_raw_2dp.astype(int)\n",
    "print(f0_raw_2dp)"
   ]
  },
  {
   "cell_type": "code",
   "execution_count": 30,
   "metadata": {},
   "outputs": [
    {
     "data": {
      "image/png": "[encoded data removed]",
      "text/plain": [
       "<matplotlib.figure.Figure at 0x108dd4358>"
      ]
     },
     "metadata": {},
     "output_type": "display_data"
    }
   ],
   "source": [
    "# plot \n",
    "fig = plt.figure()\n",
    "plt.title('Title')\n",
    "plt.xlabel('X value')\n",
    "plt.ylabel('Y value')\n",
    "# plt.xlim(-2.2, 2.2)\n",
    "# plt.ylim(-1.65, 1.6)\n",
    "\n",
    "plt.plot(range(f0_raw_2dp.shape[0]), f0_raw_2dp[:], color='b', label='raw')\n",
    "\n",
    "plt.legend()\n",
    "plt.tight_layout()\n",
    "plt.show()\n",
    "# fig.savefig('out.png')"
   ]
  },
  {
   "cell_type": "code",
   "execution_count": 32,
   "metadata": {
    "collapsed": true
   },
   "outputs": [],
   "source": [
    "# write out csv file of f0_raw values - specify format as %u for values to be written as int\n",
    "np.savetxt('out.csv', f0_raw_2dp, delimiter=',', fmt='%u')"
   ]
  },
  {
   "cell_type": "markdown",
   "metadata": {},
   "source": [
    "<h3> Make Single Source and Target Input Files</h3>"
   ]
  },
  {
   "cell_type": "code",
   "execution_count": 53,
   "metadata": {},
   "outputs": [
    {
     "name": "stdout",
     "output_type": "stream",
     "text": [
      "done\n"
     ]
    }
   ],
   "source": [
    "# path to input files directory - change between source/target\n",
    "directory_path = '/Users/robinson/Dropbox/anasynth/_data/Olivia2006/f0_raw/target'\n",
    "directory = os.fsencode(directory_path)\n",
    "# output filename - change between source/target\n",
    "filename_out = 'target.csv'\n",
    "\n",
    "# open output file in 'out' subdirectory of input files directory\n",
    "f = open(os.path.join(directory_path, 'out', filename_out), 'w')\n",
    "\n",
    "# for each source file in source directory\n",
    "for file in os.listdir(directory):\n",
    "    filename = os.fsdecode(file)\n",
    "    if filename.endswith('.csv'): \n",
    "        # build filepath\n",
    "        filepath = os.path.join(directory_path, filename)\n",
    "        # print(filepath)\n",
    "        \n",
    "        # load the file and extract vars\n",
    "        f0_raw = np.loadtxt(filepath, dtype='int')\n",
    "        # reshape to have two indices, the first being a constant so all values belong to the same 'row'\n",
    "        f0_raw = f0_raw.reshape((1, f0_raw.shape[0]))\n",
    "        # print(f0_raw.shape)\n",
    " \n",
    "        # append it to output file as a new row, with space delimiter between elements\n",
    "        np.savetxt(f, f0_raw, delimiter=' ', fmt='%u')\n",
    "        \n",
    "        continue\n",
    "    else:\n",
    "        continue\n",
    "\n",
    "# close the output file\n",
    "f.close()\n",
    "\n",
    "print('done')"
   ]
  },
  {
   "cell_type": "markdown",
   "metadata": {},
   "source": [
    "<h2> Process Multiple Files</h3>"
   ]
  },
  {
   "cell_type": "markdown",
   "metadata": {},
   "source": [
    "<h3>Make F0 raw csv files"
   ]
  },
  {
   "cell_type": "code",
   "execution_count": 2,
   "metadata": {},
   "outputs": [
    {
     "name": "stdout",
     "output_type": "stream",
     "text": [
      "done\n"
     ]
    }
   ],
   "source": [
    "# set number of decimal places\n",
    "dec = 0\n",
    "\n",
    "# path to input files directory\n",
    "directory_path_root = '/Users/robinson/Dropbox/anasynth/_data/emoVC/Olivia2006'\n",
    "directory = os.fsencode(directory_path_root)\n",
    "# path to output files directory\n",
    "directory_path_f0raw = '/Users/robinson/Dropbox/anasynth/_data/emoVC/Olivia2006/f0_raw'\n",
    "if not os.path.exists(directory_path_f0raw):\n",
    "    os.mkdir(directory_path_f0raw)\n",
    "\n",
    "# for each mat file in directory (each mat file has one sequence of f0 raw values in it)\n",
    "for file in os.listdir(directory):\n",
    "    filename = os.fsdecode(file)\n",
    "    if filename.endswith('.mat'): \n",
    "        # build filepath (should use file var here really)\n",
    "        filepath = os.path.join(directory_path_root, filename)\n",
    "        # print(filepath)\n",
    "        \n",
    "        # load the file and extract f0 raw var\n",
    "        mat_dict = loadmat(filepath)\n",
    "        f0_raw = mat_dict['f0_raw']\n",
    "        f0_raw = f0_raw.reshape((f0_raw.shape[1],))\n",
    "        \n",
    "        # strip leading and trailing zeros\n",
    "        f0_raw = np.trim_zeros(f0_raw, trim='fb')\n",
    "        \n",
    "        # create new array to hold rounded values\n",
    "        f0_raw_dec = np.zeros(f0_raw.shape)\n",
    "        # round all values to dec dp\n",
    "        np.around(f0_raw, decimals=dec, out=f0_raw_dec)\n",
    "        # multiply by 10^dec to shift dp dec places to the right\n",
    "        f0_raw_dec = f0_raw_dec * (10**dec)\n",
    "        # cast to int to ensure precise number representation in memory\n",
    "        f0_raw_dec = f0_raw_dec.astype(int)\n",
    "        \n",
    "        # write out csv file of f0_raw values - specify format as %u for values to be written as int\n",
    "        filename_noext, _ = os.path.splitext(filename)\n",
    "        np.savetxt(os.path.join(directory_path_f0raw, filename_noext + '.csv'), f0_raw_dec, delimiter=',', fmt='%u')\n",
    "        \n",
    "        continue\n",
    "    else:\n",
    "        continue\n",
    "        \n",
    "print('done')"
   ]
  },
  {
   "cell_type": "markdown",
   "metadata": {},
   "source": [
    "<h3> Make Combo Source and Target Input Files</h3>"
   ]
  },
  {
   "cell_type": "code",
   "execution_count": 3,
   "metadata": {},
   "outputs": [
    {
     "name": "stdout",
     "output_type": "stream",
     "text": [
      "source_len_max = 1091\n",
      "source_seg_len_max = 99\n",
      "target_len_max = 921\n",
      "target_seg_len_max = 83\n",
      "done\n"
     ]
    }
   ],
   "source": [
    "# the above code makes output files with one row per wav file\n",
    "# we can't use these as-is, as we need to read the lines in as pairs, so source and target must have equal num of rows\n",
    "# next step is to pair the files using the phrase and intensities in the filenames\n",
    "\n",
    "# source: 10 phrases of i00 intensity across e01 to e08 - each phrase is said 8 times, neutrally\n",
    "# target: 10 phrases of i01-i05 intensity for e02 - each phrase is said 5 times, expressively (5 times)\n",
    "# so for each utterance (8 of) of each 'p' source phrase (10 of), copy it 5 times, matched with i01-i05 of 'p' target\n",
    "# P(10) > E(8) > I(5)\n",
    "\n",
    "# total number of segments e.g. 6 segments + 5 overlaps = 11 total segments for source and target\n",
    "num_segments = 11\n",
    "\n",
    "# build paths and open output files\n",
    "# path to input files directories\n",
    "# input_directory_path = '/Users/robinson/Dropbox/anasynth/_data/emoVC/Olivia2006/f0_raw'\n",
    "input_directory_path = directory_path_f0raw # from previous block\n",
    "output_directory = os.path.join(input_directory_path, 'out')\n",
    "if not os.path.exists(output_directory):\n",
    "    os.mkdir(output_directory)\n",
    "# output filenames\n",
    "filename_source = 'source.txt'\n",
    "filename_target = 'target.txt'\n",
    "filename_log = 'log.txt'\n",
    "# open output files in subdirectory of input files directory (must create manually)\n",
    "fs = open(os.path.join(output_directory, filename_source), 'w')\n",
    "ft = open(os.path.join(output_directory, filename_target), 'w')\n",
    "fo = open(os.path.join(output_directory, filename_log), 'w')\n",
    "\n",
    "# define filename components\n",
    "# Olivia2006.e02.p01.i01.csv\n",
    "input_file_root = 'Olivia2006'\n",
    "input_file_extension = '.csv'\n",
    "# define phrase range\n",
    "phrase_from = 1\n",
    "phrase_to = 10\n",
    "# define source and target emotion ranges\n",
    "source_emotion_from = 1\n",
    "source_emotion_to = 8\n",
    "target_emotion_from = 2\n",
    "target_emotion_to = 2\n",
    "# define source and target intensity ranges\n",
    "source_intensity_from = 0\n",
    "source_intensity_to = 0\n",
    "target_intensity_from = 1\n",
    "target_intensity_to = 5\n",
    "\n",
    "# set source_len_max initial values\n",
    "source_len_max = 0\n",
    "source_seg_len_max = 0\n",
    "target_len_max = 0\n",
    "target_seg_len_max = 0\n",
    "\n",
    "\n",
    "# for each phrase 1-10\n",
    "#     for each source emotion 1-8\n",
    "#         for each source intensity 0\n",
    "#             for each target emotion 2\n",
    "#                 for each target intensity 1-5\n",
    "#                     write source phrase p-e_s-i_s to source output\n",
    "#                     write target phrase p-e_t-i_t to target output\n",
    "# for each phrase\n",
    "for p in range(phrase_from, phrase_to + 1):\n",
    "    # for each source emotion\n",
    "    for e_s in range(source_emotion_from, source_emotion_to + 1):\n",
    "        # for each source intensity\n",
    "        for i_s in range(source_intensity_from, source_intensity_to + 1):\n",
    "            # for each target emotion\n",
    "            for e_t in range(target_emotion_from, target_emotion_to + 1):\n",
    "                # for each target intensity\n",
    "                for i_t in range(target_intensity_from, target_intensity_to + 1):\n",
    "                    \n",
    "                    # build the source file path\n",
    "                    source_file_name = ''.join([input_file_root, \n",
    "                                                '.e', format(e_s, '02d'),\n",
    "                                                '.p', format(p, '02d'),\n",
    "                                                '.i', format(i_s, '02d'),\n",
    "                                                input_file_extension])   \n",
    "                    source_file_path = os.path.join(input_directory_path, source_file_name)\n",
    "                    # load the source file and extract vars\n",
    "                    source_f0_raw = np.loadtxt(source_file_path, dtype='int')\n",
    "#                     print(source_f0_raw.shape)\n",
    "                    \n",
    "                    # reshape to have two indices, the first being a constant so all values belong to the same 'row'\n",
    "                    source_f0_raw = source_f0_raw.reshape((1, source_f0_raw.shape[0]))                    \n",
    "                    \n",
    "                    # determine source segment/overlap segment length\n",
    "                    source_seg_len = source_f0_raw.shape[1] // num_segments\n",
    "                    # extract (num_segments + num_overlaps) sequences of source_seg_len length every source_seg_len/2\n",
    "                    for i in range(num_segments):\n",
    "                        start = i * (source_seg_len//2)\n",
    "                        end = start + source_seg_len\n",
    "                        source_f0_raw_seg = source_f0_raw[0, start:end].reshape((1, source_f0_raw[0, start:end].shape[0]))\n",
    "                        # append it to output file as a new row, with space delimiter between elements, format unsigned int\n",
    "                        np.savetxt(fs, source_f0_raw_seg, delimiter=' ', fmt='%u')\n",
    "\n",
    "                    \n",
    "                    # build the target file path\n",
    "                    target_file_name = ''.join([input_file_root, \n",
    "                                                '.e', format(e_t, '02d'),\n",
    "                                                '.p', format(p, '02d'),\n",
    "                                                '.i', format(i_t, '02d'),\n",
    "                                                input_file_extension])\n",
    "                    target_file_path = os.path.join(input_directory_path, target_file_name)\n",
    "                    # load the target file and extract vars\n",
    "                    target_f0_raw = np.loadtxt(target_file_path, dtype='int') \n",
    "                    # reshape to have two indices, the first being a constant so all values belong to the same 'row'\n",
    "                    target_f0_raw = target_f0_raw.reshape((1, target_f0_raw.shape[0]))\n",
    "                    \n",
    "                    # determine target segment/overlap segment length ()\n",
    "                    target_seg_len = target_f0_raw.shape[1] // num_segments\n",
    "                    # extract (num_segments + num_overlaps) sequences of target_seg_len length every target_seg_len/2\n",
    "                    for i in range(num_segments):\n",
    "                        start = i * (target_seg_len//2)\n",
    "                        end = start + target_seg_len\n",
    "                        target_f0_raw_seg = target_f0_raw[0, start:end].reshape((1, target_f0_raw[0, start:end].shape[0]))\n",
    "                        # append it to output file as a new row, with space delimiter between elements, format unsigned int\n",
    "                        np.savetxt(ft, target_f0_raw_seg, delimiter=' ', fmt='%u')\n",
    "\n",
    "                    # write input and output file pair to log file\n",
    "                    logstring = source_file_path + '   ' + target_file_path\n",
    "                    print(logstring, file=fo)\n",
    "                    \n",
    "                    # update max lengths if larger than stored values\n",
    "                    if source_f0_raw.shape[1] > source_len_max:\n",
    "                        source_len_max = source_f0_raw.shape[1]\n",
    "                    if source_seg_len > source_seg_len_max:\n",
    "                        source_seg_len_max = source_seg_len\n",
    "                    if target_f0_raw.shape[1] > target_len_max:\n",
    "                        target_len_max = target_f0_raw.shape[1]\n",
    "                    if target_seg_len > target_seg_len_max:\n",
    "                        target_seg_len_max = target_seg_len\n",
    "                        \n",
    "            \n",
    "# close the output files\n",
    "fs.close()\n",
    "ft.close()\n",
    "\n",
    "print('source_len_max = ' + str(source_len_max))\n",
    "print('source_seg_len_max = ' + str(source_seg_len_max))\n",
    "print('target_len_max = ' + str(target_len_max))\n",
    "print('target_seg_len_max = ' + str(target_seg_len_max))\n",
    "print('done')"
   ]
  },
  {
   "cell_type": "code",
   "execution_count": 4,
   "metadata": {},
   "outputs": [
    {
     "name": "stdout",
     "output_type": "stream",
     "text": [
      "fs_lines = 4400\n",
      "train_lines = 2639\n",
      "val_lines = 880\n",
      "test_lines = 881\n",
      "done\n"
     ]
    }
   ],
   "source": [
    "# shuffle the source/target pairs and split them out into train/val/test files\n",
    "\n",
    "# set ratios for train/val/test split e.g. 0.6, 0.2, 0.2\n",
    "train_split = 0.6\n",
    "val_split = 0.2\n",
    "test_split = 0.2\n",
    "\n",
    "# get line counts of files (source and target will be the same, so just need to check one of them)\n",
    "with open(os.path.join(output_directory, filename_source)) as f:\n",
    "    f_lines = sum(1 for _ in f)\n",
    "    # set index values for train, val and test\n",
    "    train_lines = int(f_lines // (1 / train_split))\n",
    "    val_lines = int(f_lines // (1 / val_split))\n",
    "    test_lines = f_lines - train_lines - val_lines # whatever is left\n",
    "    \n",
    "# open source and target input files to read from\n",
    "fs = open(os.path.join(output_directory, filename_source), 'r')\n",
    "ft = open(os.path.join(output_directory, filename_target), 'r')\n",
    "\n",
    "# read the source and target input files line by line, stripping all whitespace and empty lines\n",
    "source_data = fs.read().strip().split('\\n')\n",
    "target_data = ft.read().strip().split('\\n')\n",
    "# make a list of tuples, each holding a pair of source and target strings\n",
    "merged_data = list(zip(source_data, target_data))\n",
    "# shuffle the tuples (preserving the pairing) to ensure a good mix of p/e/i in each set\n",
    "random.shuffle(merged_data)\n",
    "\n",
    "# seperate the tuples into two lists of source and target lines\n",
    "train_data_source = [x[0] for x in merged_data[:train_lines]]\n",
    "train_data_target = [x[1] for x in merged_data[:train_lines]]\n",
    "val_data_source = [x[0] for x in merged_data[train_lines:(train_lines+val_lines)]]\n",
    "val_data_target = [x[1] for x in merged_data[train_lines:(train_lines+val_lines)]]\n",
    "test_data_source = [x[0] for x in merged_data[(train_lines+val_lines):]]\n",
    "test_data_target = [x[1] for x in merged_data[(train_lines+val_lines):]]\n",
    "\n",
    "# make train, test, dev, model directories\n",
    "train_dir = os.path.join(output_directory, 'train')\n",
    "dev_dir = os.path.join(output_directory, 'dev')\n",
    "test_dir = os.path.join(output_directory, 'test')\n",
    "model_dir = os.path.join(output_directory, 'model')\n",
    "if not os.path.exists(train_dir):\n",
    "    os.mkdir(train_dir)\n",
    "if not os.path.exists(dev_dir):\n",
    "    os.mkdir(dev_dir)\n",
    "if not os.path.exists(test_dir):\n",
    "    os.mkdir(test_dir)\n",
    "if not os.path.exists(model_dir):\n",
    "    os.mkdir(model_dir)\n",
    "    \n",
    "# open output files to write to\n",
    "f_train_source = open(os.path.join(train_dir, 'train_source.txt'), 'w')\n",
    "f_train_target = open(os.path.join(train_dir, 'train_target.txt'), 'w')\n",
    "f_val_source = open(os.path.join(dev_dir, 'val_source.txt'), 'w')\n",
    "f_val_target = open(os.path.join(dev_dir, 'val_target.txt'), 'w')\n",
    "f_test_source = open(os.path.join(test_dir, 'test_source.txt'), 'w')\n",
    "f_test_target = open(os.path.join(test_dir, 'test_target.txt'), 'w')\n",
    "\n",
    "# write each of the lists to the opened files\n",
    "[print(line, file=f_train_source) for line in train_data_source]\n",
    "[print(line, file=f_train_target) for line in train_data_target]\n",
    "[print(line, file=f_val_source) for line in val_data_source]\n",
    "[print(line, file=f_val_target) for line in val_data_target]\n",
    "[print(line, file=f_test_source) for line in test_data_source]\n",
    "[print(line, file=f_test_target) for line in test_data_target]\n",
    "\n",
    "# close the input source and target files\n",
    "fs.close()\n",
    "ft.close()\n",
    "\n",
    "print('fs_lines = ' + str(f_lines))\n",
    "print('train_lines = ' + str(train_lines))\n",
    "print('val_lines = ' + str(val_lines))\n",
    "print('test_lines = ' + str(test_lines))\n",
    "print('done')"
   ]
  },
  {
   "cell_type": "markdown",
   "metadata": {},
   "source": [
    "<h3> Make Vocabulary Inputs"
   ]
  },
  {
   "cell_type": "code",
   "execution_count": 5,
   "metadata": {},
   "outputs": [
    {
     "name": "stdout",
     "output_type": "stream",
     "text": [
      "[ 50  51  52  53  54  55  56  57  58  59  60  61  62  63  64  65  66  67\n",
      "  68  69  70  71  72  73  74  75  76  77  78  79  80  81  82  83  84  85\n",
      "  86  87  88  89  90  91  92  93  94  95  96  97  98  99 100 101 102 103\n",
      " 104 105 106 107 108 109 110 111 112 113 114 115 116 117 118 119 120 121\n",
      " 122 123 124 125 126 127 128 129 130 131 132 133 134 135 136 137 138 139\n",
      " 140 141 142 143 144 145 146 147 148 149 150 151 152 153 154 155 156 157\n",
      " 158 159 160 161 162 163 164 165 166 167 168 169 170 171 172 173 174 175\n",
      " 176 177 178 179 180 181 182 183 184 185 186 187 188 189 190 191 192 193\n",
      " 194 195 196 197 198 199 200 201 202 203 204 205 206 207 208 209 210 211\n",
      " 212 213 214 215 216 217 218 219 220 221 222 223 224 225 226 227 228 229\n",
      " 230 231 232 233 234 235 236 237 238 239 240 241 242 243 244 245 246 247\n",
      " 248 249 250 251 252 253 254 255 256 257 258 259 260 261 262 263 264 265\n",
      " 266 267 268 269 270 271 272 273 274 275 276 277 278 279 280 281 282 283\n",
      " 284 285 286 287 288 289 290 291 292 293 294 295 296 297 298 299 300 301\n",
      " 302 303 304 305 306 307 308 309 310 311 312 313 314 315 316 317 318 319\n",
      " 320 321 322 323 324 325 326 327 328 329 330 331 332 333 334 335 336 337\n",
      " 338 339 340 341 342 343 344 345 346 347 348 349 350 351 352 353 354 355\n",
      " 356 357 358 359 360 361 362 363 364 365 366 367 368 369 370 371 372 373\n",
      " 374 375 376 377 378 379 380 381 382 383 384 385 386 387 388 389 390 391\n",
      " 392 393 394 395 396 397 398 399 400 401 402 403 404 405 406 407 408 409\n",
      " 410 411 412 413 414 415 416 417 418 419 420 421 422 423 424 425 426 427\n",
      " 428 429 430 431 432 433 434 435 436 437 438 439 440 441 442 443 444 445\n",
      " 446 447 448 449 450 451 452 453 454 455 456 457 458 459 460 461 462 463\n",
      " 464 465 466 467 468 469 470 471 472 473 474 475 476 477 478 479 480 481\n",
      " 482 483 484 485 486 487 488 489 490 491 492 493 494 495 496 497 498 499\n",
      " 500 501 502 503 504 505 506 507 508 509 510 511 512 513 514 515 516 517\n",
      " 518 519 520 521 522 523 524 525 526 527 528 529 530 531 532 533 534 535\n",
      " 536 537 538 539 540 541 542 543 544 545 546 547 548 549 550 551 552 553\n",
      " 554 555 556 557 558 559 560 561 562 563 564 565 566 567 568 569 570 571\n",
      " 572 573 574 575 576 577 578 579 580 581 582 583 584 585 586 587 588 589\n",
      " 590 591 592 593 594 595 596 597 598 599 600 601 602 603 604 605 606 607\n",
      " 608 609 610 611 612 613 614 615 616 617 618 619 620 621 622 623 624 625\n",
      " 626 627 628 629 630 631 632 633 634 635 636 637 638 639 640 641 642 643\n",
      " 644 645 646 647 648 649 650 651 652 653 654 655 656 657 658 659 660 661\n",
      " 662 663 664 665 666 667 668 669 670 671 672 673 674 675 676 677 678 679\n",
      " 680 681 682 683 684 685 686 687 688 689 690 691 692 693 694 695 696 697\n",
      " 698 699 700 701 702 703 704 705 706 707 708 709 710 711 712 713 714 715\n",
      " 716 717 718 719 720 721 722 723 724 725 726 727 728 729 730 731 732 733\n",
      " 734 735 736 737 738]\n",
      "[ 87  88  89  90  91  92  93  94  95  96  97  98  99 100 101 102 103 104\n",
      " 105 106 107 108 109 110 111 112 113 114 115 116 117 118 119 120 121 122\n",
      " 123 124 125 126 127 128 129 130 131 132 133 134 135 136 137 138 139 140\n",
      " 141 142 143 144 145 146 147 148 149 150 151 152 153 154 155 156 157 158\n",
      " 159 160 161 162 163 164 165 166 167 168 169 170 171 172 173 174 175 176\n",
      " 177 178 179 180 181 182 183 184 185 186 187 188 189 190 191 192 193 194\n",
      " 195 196 197 198 199 200 201 202 203 204 205 206 207 208 209 210 211 212\n",
      " 213 214 215 216 217 218 219 220 221 222 223 224 225 226 227 228 229 230\n",
      " 231 232 233 234 235 236 237 238 239 240 241 242 243 244 245 246 247 248\n",
      " 249 250 251 252 253 254 255 256 257 258 259 260 261 262 263 264 265 266\n",
      " 267 268 269 270 271 272 273 274 275 276 277 278 279 280 281 282 283 284\n",
      " 285 286 287 288 289 290 291 292 293 294 295 296 297 298 299 300 301 302\n",
      " 303 304 305 306 307 308 309 310 311 312 313 314 315 316 317 318 319 320\n",
      " 321 322 323 324 325 326 327 328 329 330 331 332 333 334 335 336 337 338\n",
      " 339 340 341 342 343 344 345 346 347 348 349 350 351 352 353 354 355 356\n",
      " 357 358 359 360 361 362 363 364 365 366 367 368 369 370 371 372 373 374\n",
      " 375 376 377 378 379 380 381 382 383 384 385 386 387 388 389 390 391 392\n",
      " 393 394 395 396 397 398 399 400 401 402 403 404 405 406 407 408 409 410\n",
      " 411 412 413 414 415 416 417 418 419 420 421 422 423 424 425 426 427 428\n",
      " 429 430 431 432 433 434 435 436 437 438 439 440 441 442 443 444 445 446\n",
      " 447 448 449 450 451 452 453 454 455 456 457 458 459 460 461 462 463 464\n",
      " 465 466 467 468 469 470 471 472 473 474 475 476 477 478 479 480 481 482\n",
      " 483 484 485 486 487 488 489 490 491 492 493 494 495 496 497 498 499 500\n",
      " 501 502 503 504 505 506 507 508 509 510 511 512 513 514 515 516 517 518\n",
      " 519 520 521 522 523 524 525 526 527 528 529 530 531 532 533 534 535 536\n",
      " 537 538 539 540 541 542 543 544 545 546 547 548 549 550 551 552 553 554\n",
      " 555 556 557 558 559 560 561 562 563 564 565 566 567 568 569 570 571 572\n",
      " 573 574 575 576 577 578 579 580 581 582 583 584 585 586 587 588 589 590\n",
      " 591 592 593 594 595 596 597 598 599 600 601 602 603 604 605 606 607 608\n",
      " 609 610 611 612 613 614 615 616 617 618 619 620 621 622 623 624 625 626\n",
      " 627 628 629 630 631 632 633 634 635 636 637 638 639 640 641 642 643 644\n",
      " 645 646 647 648 649 650 651 652 653 654 655 656 657 658 659 660 661 662\n",
      " 663 664 665 666 667 668 669 670 671 672 673 674 675 676 677 678 679 680\n",
      " 681 682 683 684 685 686 687 688 689 690 691 692]\n"
     ]
    }
   ],
   "source": [
    "for file in [filename_source, filename_target]:\n",
    "\n",
    "    # open output files in subdirectory of input files directory (must create manually)\n",
    "    fs = open(os.path.join(output_directory, file), 'r')\n",
    "\n",
    "    # read the source and target input files line by line, stripping all whitespace and empty lines\n",
    "    source_data = fs.read().strip().split('\\n')\n",
    "\n",
    "    # set min and max initial values\n",
    "    source_data_min = float('Inf')\n",
    "    source_data_max = 0.0\n",
    "\n",
    "    for i in range(len(source_data)):\n",
    "        source_array = np.array([int(x) for x in source_data[i].split(' ')])\n",
    "        if source_array.max() > source_data_max:\n",
    "            source_data_max = source_array.max()\n",
    "        if np.min(source_array[np.nonzero(source_array)]) < source_data_min:\n",
    "            source_data_min = np.min(source_array[np.nonzero(source_array)])\n",
    "\n",
    "    # print range of integers from min to max found in files\n",
    "    range_size = (source_data_max - source_data_min) + 1\n",
    "    samples = np.linspace(source_data_min, source_data_max, num=range_size, endpoint=True, retstep=False, dtype=int)\n",
    "    print(samples)\n",
    "\n",
    "    # save vocabulary input files to train_dir\n",
    "    filename_noext, _ = os.path.splitext(file)\n",
    "    np.savetxt(os.path.join(train_dir, filename_noext + '_vocab_input.txt'), samples, delimiter=' ', fmt='%u')\n",
    "\n",
    "    \n",
    "# delete the input source and target files\n",
    "# os.remove(os.path.join(output_directory, filename_source))\n",
    "# os.remove(os.path.join(output_directory, filename_target))\n",
    "\n",
    "# now run the vocabulary script to make the proper vocab files"
   ]
  },
  {
   "cell_type": "code",
   "execution_count": null,
   "metadata": {
    "collapsed": true
   },
   "outputs": [],
   "source": []
  },
  {
   "cell_type": "code",
   "execution_count": null,
   "metadata": {
    "collapsed": true
   },
   "outputs": [],
   "source": []
  }
 ],
 "metadata": {
  "kernelspec": {
   "display_name": "Python 3",
   "language": "python",
   "name": "python3"
  },
  "language_info": {
   "codemirror_mode": {
    "name": "ipython",
    "version": 3
   },
   "file_extension": ".py",
   "mimetype": "text/x-python",
   "name": "python",
   "nbconvert_exporter": "python",
   "pygments_lexer": "ipython3",
   "version": "3.6.4"
  }
 },
 "nbformat": 4,
 "nbformat_minor": 2
}
